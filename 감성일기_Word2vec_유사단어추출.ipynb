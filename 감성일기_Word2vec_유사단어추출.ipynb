{
  "nbformat": 4,
  "nbformat_minor": 0,
  "metadata": {
    "colab": {
      "provenance": [],
      "authorship_tag": "ABX9TyPNXto9vHVyiVShvMJPmj3P",
      "include_colab_link": true
    },
    "kernelspec": {
      "name": "python3",
      "display_name": "Python 3"
    },
    "language_info": {
      "name": "python"
    }
  },
  "cells": [
    {
      "cell_type": "markdown",
      "metadata": {
        "id": "view-in-github",
        "colab_type": "text"
      },
      "source": [
        "<a href=\"https://colab.research.google.com/github/Ohmyprogram/Delivery-Robot-TextMining/blob/main/%EA%B0%90%EC%84%B1%EC%9D%BC%EA%B8%B0_Word2vec_%EC%9C%A0%EC%82%AC%EB%8B%A8%EC%96%B4%EC%B6%94%EC%B6%9C.ipynb\" target=\"_parent\"><img src=\"https://colab.research.google.com/assets/colab-badge.svg\" alt=\"Open In Colab\"/></a>"
      ]
    },
    {
      "cell_type": "code",
      "source": [
        "# !sudo apt-get install -y fonts-nanum\n",
        "# !sudo fc-cache -fv\n",
        "# !rm ~/.cache/matplotlib -rf"
      ],
      "metadata": {
        "colab": {
          "base_uri": "https://localhost:8080/"
        },
        "id": "Sj4Vr5e7Pr3F",
        "outputId": "61f3f4d8-1500-43ea-f3ff-c030f99de306"
      },
      "execution_count": null,
      "outputs": [
        {
          "output_type": "stream",
          "name": "stdout",
          "text": [
            "Reading package lists... Done\n",
            "Building dependency tree       \n",
            "Reading state information... Done\n",
            "fonts-nanum is already the newest version (20170925-1).\n",
            "The following package was automatically installed and is no longer required:\n",
            "  libnvidia-common-460\n",
            "Use 'sudo apt autoremove' to remove it.\n",
            "0 upgraded, 0 newly installed, 0 to remove and 20 not upgraded.\n",
            "/usr/share/fonts: caching, new cache contents: 0 fonts, 1 dirs\n",
            "/usr/share/fonts/truetype: caching, new cache contents: 0 fonts, 3 dirs\n",
            "/usr/share/fonts/truetype/humor-sans: caching, new cache contents: 1 fonts, 0 dirs\n",
            "/usr/share/fonts/truetype/liberation: caching, new cache contents: 16 fonts, 0 dirs\n",
            "/usr/share/fonts/truetype/nanum: caching, new cache contents: 10 fonts, 0 dirs\n",
            "/usr/local/share/fonts: caching, new cache contents: 0 fonts, 0 dirs\n",
            "/root/.local/share/fonts: skipping, no such directory\n",
            "/root/.fonts: skipping, no such directory\n",
            "/var/cache/fontconfig: cleaning cache directory\n",
            "/root/.cache/fontconfig: not cleaning non-existent cache directory\n",
            "/root/.fontconfig: not cleaning non-existent cache directory\n",
            "fc-cache: succeeded\n"
          ]
        }
      ]
    },
    {
      "cell_type": "markdown",
      "metadata": {
        "id": "__ABdyJIXtr_"
      },
      "source": [
        "# 1. 코랩 환경 설정"
      ]
    },
    {
      "cell_type": "code",
      "metadata": {
        "colab": {
          "base_uri": "https://localhost:8080/"
        },
        "id": "uQNJGn8UUUtw",
        "outputId": "0e464124-c9c6-42a8-d724-ab3318807526"
      },
      "source": [
        "from google.colab import drive\n",
        "drive.mount('/content/drive')"
      ],
      "execution_count": null,
      "outputs": [
        {
          "output_type": "stream",
          "name": "stdout",
          "text": [
            "Drive already mounted at /content/drive; to attempt to forcibly remount, call drive.mount(\"/content/drive\", force_remount=True).\n"
          ]
        }
      ]
    },
    {
      "cell_type": "code",
      "metadata": {
        "colab": {
          "base_uri": "https://localhost:8080/"
        },
        "id": "quZmKjGAX7Zi",
        "outputId": "166f1f50-41f5-4954-c967-13d9fddf4225"
      },
      "source": [
        "# 디렉토리 변경\n",
        "%cd drive/MyDrive/혁신기술텍스트마이닝/윤아"
      ],
      "execution_count": null,
      "outputs": [
        {
          "output_type": "stream",
          "name": "stdout",
          "text": [
            "/content/drive/MyDrive/혁신기술텍스트마이닝/윤아\n"
          ]
        }
      ]
    },
    {
      "cell_type": "code",
      "metadata": {
        "colab": {
          "base_uri": "https://localhost:8080/"
        },
        "id": "vc7VOSxOX8Qb",
        "outputId": "37f0d2c7-6ebf-45a8-d8a1-fb1a802d5a7e"
      },
      "source": [
        "# 현재 디렉토리 경로 확인\n",
        "!pwd"
      ],
      "execution_count": null,
      "outputs": [
        {
          "output_type": "stream",
          "name": "stdout",
          "text": [
            "/content/drive/MyDrive/혁신기술텍스트마이닝/윤아\n"
          ]
        }
      ]
    },
    {
      "cell_type": "markdown",
      "metadata": {
        "id": "gyJpqZQUYIld"
      },
      "source": [
        "# 2. 형태소 분석에 필요한 패키지 import"
      ]
    },
    {
      "cell_type": "code",
      "metadata": {
        "colab": {
          "base_uri": "https://localhost:8080/"
        },
        "id": "x2Fj4MeuQSU_",
        "outputId": "f665bceb-cea2-4668-f0b2-bfb6b4e3e2bd"
      },
      "source": [
        "# !pip install konlpy"
      ],
      "execution_count": null,
      "outputs": [
        {
          "output_type": "stream",
          "name": "stdout",
          "text": [
            "Looking in indexes: https://pypi.org/simple, https://us-python.pkg.dev/colab-wheels/public/simple/\n",
            "Collecting konlpy\n",
            "  Downloading konlpy-0.6.0-py2.py3-none-any.whl (19.4 MB)\n",
            "\u001b[K     |████████████████████████████████| 19.4 MB 1.4 MB/s \n",
            "\u001b[?25hRequirement already satisfied: numpy>=1.6 in /usr/local/lib/python3.7/dist-packages (from konlpy) (1.21.6)\n",
            "Requirement already satisfied: lxml>=4.1.0 in /usr/local/lib/python3.7/dist-packages (from konlpy) (4.9.1)\n",
            "Collecting JPype1>=0.7.0\n",
            "  Downloading JPype1-1.4.0-cp37-cp37m-manylinux_2_5_x86_64.manylinux1_x86_64.whl (453 kB)\n",
            "\u001b[K     |████████████████████████████████| 453 kB 51.6 MB/s \n",
            "\u001b[?25hRequirement already satisfied: typing-extensions in /usr/local/lib/python3.7/dist-packages (from JPype1>=0.7.0->konlpy) (4.1.1)\n",
            "Installing collected packages: JPype1, konlpy\n",
            "Successfully installed JPype1-1.4.0 konlpy-0.6.0\n"
          ]
        }
      ]
    },
    {
      "cell_type": "code",
      "source": [
        "import io\n",
        "import pandas as pd\n",
        "import csv\n",
        "from konlpy.tag import Komoran\n",
        "from collections import defaultdict\n",
        "import sys\n",
        "import regex\n",
        "import warnings\n",
        "import copy\n",
        "from tqdm import tqdm\n",
        "from gensim import corpora\n",
        "from gensim import models\n",
        "from wordcloud import WordCloud\n",
        "import matplotlib.pyplot as plt\n",
        "from collections import defaultdict\n",
        "\n",
        "warnings.filterwarnings('ignore')"
      ],
      "metadata": {
        "id": "LJB1flUkWZAa"
      },
      "execution_count": null,
      "outputs": []
    },
    {
      "cell_type": "markdown",
      "metadata": {
        "id": "-aSZp4o3ma7q"
      },
      "source": [
        "## 사용자 정의 사전 등록"
      ]
    },
    {
      "cell_type": "code",
      "metadata": {
        "id": "jFkdMjCARHuU"
      },
      "source": [
        "# # STABLE or EXP\n",
        "komoran = Komoran(userdic='/content/drive/MyDrive/혁신기술텍스트마이닝/윤아/dic/user_dictionary.txt') # userdic 추가\n",
        "# komoran = Komoran(\"EXP\")\n",
        "# komoran.set_user_dic(\"/content/drive/MyDrive/혁신기술텍스트마이닝/dic/user_dictionary.txt\")  #사용자 정의 사전 등록"
      ],
      "execution_count": null,
      "outputs": []
    },
    {
      "cell_type": "markdown",
      "metadata": {
        "id": "yRgDtzFyZVIB"
      },
      "source": [
        "#4. 점수 산출과정에서 필요한 함수 정의"
      ]
    },
    {
      "cell_type": "markdown",
      "metadata": {
        "id": "oeFiViL3XX7d"
      },
      "source": [
        "- Seperator_part : 한문장을 넣으면 형태소분석결과 리턴해주는 함수"
      ]
    },
    {
      "cell_type": "code",
      "metadata": {
        "id": "tZFrKKJ6nba7"
      },
      "source": [
        "## Seperator_part(한문장)\n",
        "##한 문장에 대해 형태소 분석하고 (단어, 품사) 형태로 결과를 리턴해주는 함수\n",
        "\n",
        "def Seperator_part(oneL):\n",
        "  #slash_line = komoran.get_list(oneL)\n",
        "  slash_line = komoran.pos(oneL)\n",
        "\n",
        "  # (단어,품사) 형태로 만들기\n",
        "  tagged_list = []\n",
        "  for i in range(len(slash_line)):\n",
        "      a = str(slash_line[i]).split('/')\n",
        "      tagged_list.append(a)\n",
        "\n",
        "  for j in tagged_list:\n",
        "      if len(j) != 2:\n",
        "          tagged_list.remove(j)\n",
        "\n",
        "  return tagged_list"
      ],
      "execution_count": null,
      "outputs": []
    },
    {
      "cell_type": "markdown",
      "metadata": {
        "id": "zSQG27WaM5X8"
      },
      "source": [
        "- remove_word_by_tag : 형태소 분석결과(단어,품사)를 넣으면 점수계산할 때 필요한 태그만 리턴해주는 함수"
      ]
    },
    {
      "cell_type": "code",
      "metadata": {
        "id": "U-WVSeGsQeYS"
      },
      "source": [
        "# 고려하지 않는 태그는 버리는 함수\n",
        "def remove_word_by_tag(x):\n",
        "    temp = list()\n",
        "    tag_list = ['NNG','NNP', 'VV', 'VA', 'XR'] #고려하는 태그 목록\n",
        "    for k in range(len(x)):\n",
        "        if x[k][1] in tag_list:\n",
        "            temp.append(x[k])\n",
        "        else:\n",
        "            continue\n",
        "    return temp"
      ],
      "execution_count": null,
      "outputs": []
    },
    {
      "cell_type": "markdown",
      "source": [
        "# 데이터 전처리"
      ],
      "metadata": {
        "id": "aUuXKdYCqIkl"
      }
    },
    {
      "cell_type": "code",
      "source": [
        "raw_data = pd.read_excel('/content/drive/MyDrive/혁신기술텍스트마이닝/data/raw_data.xlsx')\n",
        "raw_data.head()"
      ],
      "metadata": {
        "id": "sJQmRIcbQA92"
      },
      "execution_count": null,
      "outputs": []
    },
    {
      "cell_type": "code",
      "source": [
        "# nan값 제거,맞춤법,'\";\"등 . , 제외한 다른 기호 제거\n",
        "raw_data.isnull().sum()"
      ],
      "metadata": {
        "id": "9a3Ien2kQC7z"
      },
      "execution_count": null,
      "outputs": []
    },
    {
      "cell_type": "code",
      "source": [
        "clean_df = raw_data.dropna()\n",
        "clean_df.isnull().sum()"
      ],
      "metadata": {
        "colab": {
          "base_uri": "https://localhost:8080/"
        },
        "id": "C3zZAEkUselX",
        "outputId": "8d2b5a07-b00a-49fe-c28e-8cb7b60615e5"
      },
      "execution_count": null,
      "outputs": [
        {
          "output_type": "execute_result",
          "data": {
            "text/plain": [
              "느낀점    0\n",
              "dtype: int64"
            ]
          },
          "metadata": {},
          "execution_count": 10
        }
      ]
    },
    {
      "cell_type": "code",
      "source": [
        "# 텍스트 전처리\n",
        "def cleanText(text):\n",
        "  specialChar = '[-=+#/\\?:^$@*\\\"※~&%ㆍ!』\\\\‘|\\(\\)\\[\\]\\<\\>`\\'…》❤♥♡ㅏㅑㅓㅑㅗㅛㅜㅠㅢㅡㅣㄱㄴㄷㄹㅁㅂㅅㅇㅈㅊㅋㅌㅍㅎㄲㄸㅆㅉㅃ]'\n",
        "  text = ''.join(c for c in text if c not in specialChar)\n",
        "  only_BMP_pattern = re.compile(\"[\"\n",
        "        u\"\\U00010000-\\U0010FFFF\"  #BMP characters 이외 (이모지 제거)\n",
        "                           \"]+\", flags=re.UNICODE)\n",
        "  return only_BMP_pattern.sub(r'', text)\n",
        "\n",
        "# 맞춤법 검사\n",
        "def spell_check(comments):\n",
        "  for k in tqdm(range(len(comments))):\n",
        "    comments[k] = cleanText(comments[k])\n",
        "    spelled_sent = spell_checker.check(comments[k])\n",
        "    checked_sent = spelled_sent.checked\n",
        "    comments[k] = checked_sent\n",
        "  print(\"맞춤법 검사 완료\")\n",
        "\n",
        "  #return comments.to_csv(bank_name+'_spell_checked.csv')\n",
        "\n",
        "\n",
        "spell_check(clean_df['comment'])\n",
        "clean_df.to_csv(\"comments_spell_checked.csv\")"
      ],
      "metadata": {
        "id": "fvlBuORyqUfT"
      },
      "execution_count": null,
      "outputs": []
    },
    {
      "cell_type": "code",
      "source": [],
      "metadata": {
        "id": "z49qflHzQGzV"
      },
      "execution_count": null,
      "outputs": []
    },
    {
      "cell_type": "code",
      "source": [],
      "metadata": {
        "id": "el8_L5V7QGwx"
      },
      "execution_count": null,
      "outputs": []
    },
    {
      "cell_type": "code",
      "source": [],
      "metadata": {
        "id": "m4CBjH2vQGud"
      },
      "execution_count": null,
      "outputs": []
    },
    {
      "cell_type": "code",
      "source": [
        "df = pd.read_csv(\"/content/drive/MyDrive/혁신기술텍스트마이닝/윤아/data/comments_spell_checked.csv\")\n",
        "df = df.drop(['Unnamed: 0'], axis = \"columns\")\n",
        "df.rename(columns = {\"느낀점\":\"Content\"}, inplace = True)\n",
        "df.head()"
      ],
      "metadata": {
        "colab": {
          "base_uri": "https://localhost:8080/",
          "height": 206
        },
        "id": "_RJVULIXw_pg",
        "outputId": "a02384c2-e2df-4187-ecc5-4c75cf776d82"
      },
      "execution_count": null,
      "outputs": [
        {
          "output_type": "execute_result",
          "data": {
            "text/plain": [
              "                              Content\n",
              "0  시도한지 20분이 지나도 배차가 되지 않아서 결국 버스로 환승\n",
              "1         호출했으나 이번에도 배차가 30분 정도 되지 않음\n",
              "2    운 좋게 배차가 됐고 약 20분 후에 도착한다고 바로 알림\n",
              "3                   예상 시간과 비슷한 시간에 탑승\n",
              "4           QR코드를 기기에 태그 하기만 하면 돼서 간편"
            ],
            "text/html": [
              "\n",
              "  <div id=\"df-6430fd7e-592e-49f0-b30b-edfaf85bf027\">\n",
              "    <div class=\"colab-df-container\">\n",
              "      <div>\n",
              "<style scoped>\n",
              "    .dataframe tbody tr th:only-of-type {\n",
              "        vertical-align: middle;\n",
              "    }\n",
              "\n",
              "    .dataframe tbody tr th {\n",
              "        vertical-align: top;\n",
              "    }\n",
              "\n",
              "    .dataframe thead th {\n",
              "        text-align: right;\n",
              "    }\n",
              "</style>\n",
              "<table border=\"1\" class=\"dataframe\">\n",
              "  <thead>\n",
              "    <tr style=\"text-align: right;\">\n",
              "      <th></th>\n",
              "      <th>Content</th>\n",
              "    </tr>\n",
              "  </thead>\n",
              "  <tbody>\n",
              "    <tr>\n",
              "      <th>0</th>\n",
              "      <td>시도한지 20분이 지나도 배차가 되지 않아서 결국 버스로 환승</td>\n",
              "    </tr>\n",
              "    <tr>\n",
              "      <th>1</th>\n",
              "      <td>호출했으나 이번에도 배차가 30분 정도 되지 않음</td>\n",
              "    </tr>\n",
              "    <tr>\n",
              "      <th>2</th>\n",
              "      <td>운 좋게 배차가 됐고 약 20분 후에 도착한다고 바로 알림</td>\n",
              "    </tr>\n",
              "    <tr>\n",
              "      <th>3</th>\n",
              "      <td>예상 시간과 비슷한 시간에 탑승</td>\n",
              "    </tr>\n",
              "    <tr>\n",
              "      <th>4</th>\n",
              "      <td>QR코드를 기기에 태그 하기만 하면 돼서 간편</td>\n",
              "    </tr>\n",
              "  </tbody>\n",
              "</table>\n",
              "</div>\n",
              "      <button class=\"colab-df-convert\" onclick=\"convertToInteractive('df-6430fd7e-592e-49f0-b30b-edfaf85bf027')\"\n",
              "              title=\"Convert this dataframe to an interactive table.\"\n",
              "              style=\"display:none;\">\n",
              "        \n",
              "  <svg xmlns=\"http://www.w3.org/2000/svg\" height=\"24px\"viewBox=\"0 0 24 24\"\n",
              "       width=\"24px\">\n",
              "    <path d=\"M0 0h24v24H0V0z\" fill=\"none\"/>\n",
              "    <path d=\"M18.56 5.44l.94 2.06.94-2.06 2.06-.94-2.06-.94-.94-2.06-.94 2.06-2.06.94zm-11 1L8.5 8.5l.94-2.06 2.06-.94-2.06-.94L8.5 2.5l-.94 2.06-2.06.94zm10 10l.94 2.06.94-2.06 2.06-.94-2.06-.94-.94-2.06-.94 2.06-2.06.94z\"/><path d=\"M17.41 7.96l-1.37-1.37c-.4-.4-.92-.59-1.43-.59-.52 0-1.04.2-1.43.59L10.3 9.45l-7.72 7.72c-.78.78-.78 2.05 0 2.83L4 21.41c.39.39.9.59 1.41.59.51 0 1.02-.2 1.41-.59l7.78-7.78 2.81-2.81c.8-.78.8-2.07 0-2.86zM5.41 20L4 18.59l7.72-7.72 1.47 1.35L5.41 20z\"/>\n",
              "  </svg>\n",
              "      </button>\n",
              "      \n",
              "  <style>\n",
              "    .colab-df-container {\n",
              "      display:flex;\n",
              "      flex-wrap:wrap;\n",
              "      gap: 12px;\n",
              "    }\n",
              "\n",
              "    .colab-df-convert {\n",
              "      background-color: #E8F0FE;\n",
              "      border: none;\n",
              "      border-radius: 50%;\n",
              "      cursor: pointer;\n",
              "      display: none;\n",
              "      fill: #1967D2;\n",
              "      height: 32px;\n",
              "      padding: 0 0 0 0;\n",
              "      width: 32px;\n",
              "    }\n",
              "\n",
              "    .colab-df-convert:hover {\n",
              "      background-color: #E2EBFA;\n",
              "      box-shadow: 0px 1px 2px rgba(60, 64, 67, 0.3), 0px 1px 3px 1px rgba(60, 64, 67, 0.15);\n",
              "      fill: #174EA6;\n",
              "    }\n",
              "\n",
              "    [theme=dark] .colab-df-convert {\n",
              "      background-color: #3B4455;\n",
              "      fill: #D2E3FC;\n",
              "    }\n",
              "\n",
              "    [theme=dark] .colab-df-convert:hover {\n",
              "      background-color: #434B5C;\n",
              "      box-shadow: 0px 1px 3px 1px rgba(0, 0, 0, 0.15);\n",
              "      filter: drop-shadow(0px 1px 2px rgba(0, 0, 0, 0.3));\n",
              "      fill: #FFFFFF;\n",
              "    }\n",
              "  </style>\n",
              "\n",
              "      <script>\n",
              "        const buttonEl =\n",
              "          document.querySelector('#df-6430fd7e-592e-49f0-b30b-edfaf85bf027 button.colab-df-convert');\n",
              "        buttonEl.style.display =\n",
              "          google.colab.kernel.accessAllowed ? 'block' : 'none';\n",
              "\n",
              "        async function convertToInteractive(key) {\n",
              "          const element = document.querySelector('#df-6430fd7e-592e-49f0-b30b-edfaf85bf027');\n",
              "          const dataTable =\n",
              "            await google.colab.kernel.invokeFunction('convertToInteractive',\n",
              "                                                     [key], {});\n",
              "          if (!dataTable) return;\n",
              "\n",
              "          const docLinkHtml = 'Like what you see? Visit the ' +\n",
              "            '<a target=\"_blank\" href=https://colab.research.google.com/notebooks/data_table.ipynb>data table notebook</a>'\n",
              "            + ' to learn more about interactive tables.';\n",
              "          element.innerHTML = '';\n",
              "          dataTable['output_type'] = 'display_data';\n",
              "          await google.colab.output.renderOutput(dataTable, element);\n",
              "          const docLink = document.createElement('div');\n",
              "          docLink.innerHTML = docLinkHtml;\n",
              "          element.appendChild(docLink);\n",
              "        }\n",
              "      </script>\n",
              "    </div>\n",
              "  </div>\n",
              "  "
            ]
          },
          "metadata": {},
          "execution_count": 10
        }
      ]
    },
    {
      "cell_type": "code",
      "source": [
        "POS = [komoran.pos(s) for s in df['Content']]\n",
        "WORD = [remove_word_by_tag(p) for p in POS]\n",
        "df['POS'] = WORD\n",
        "df.head()"
      ],
      "metadata": {
        "colab": {
          "base_uri": "https://localhost:8080/",
          "height": 206
        },
        "id": "6ryUmKbpDb0Q",
        "outputId": "6cf85ec2-eb08-442a-a0ed-27385a41af6f"
      },
      "execution_count": null,
      "outputs": [
        {
          "output_type": "execute_result",
          "data": {
            "text/plain": [
              "                              Content  \\\n",
              "0  시도한지 20분이 지나도 배차가 되지 않아서 결국 버스로 환승   \n",
              "1         호출했으나 이번에도 배차가 30분 정도 되지 않음   \n",
              "2    운 좋게 배차가 됐고 약 20분 후에 도착한다고 바로 알림   \n",
              "3                   예상 시간과 비슷한 시간에 탑승   \n",
              "4           QR코드를 기기에 태그 하기만 하면 돼서 간편   \n",
              "\n",
              "                                                 POS  \n",
              "0  [(시도, NNG), (지나, VV), (배, NNG), (차, NNG), (되, ...  \n",
              "1  [(호출, NNG), (이번, NNG), (배, NNG), (차, NNG), (정도...  \n",
              "2  [(울, VV), (좋, VA), (배, NNG), (차, NNG), (되, VV)...  \n",
              "3  [(예상, NNG), (시간, NNG), (비슷, XR), (시간, NNG), (탑...  \n",
              "4  [(코드, NNP), (기기, NNG), (태그, NNP), (하, VV), (하,...  "
            ],
            "text/html": [
              "\n",
              "  <div id=\"df-f462164b-9422-4bbc-8850-47517863d8e4\">\n",
              "    <div class=\"colab-df-container\">\n",
              "      <div>\n",
              "<style scoped>\n",
              "    .dataframe tbody tr th:only-of-type {\n",
              "        vertical-align: middle;\n",
              "    }\n",
              "\n",
              "    .dataframe tbody tr th {\n",
              "        vertical-align: top;\n",
              "    }\n",
              "\n",
              "    .dataframe thead th {\n",
              "        text-align: right;\n",
              "    }\n",
              "</style>\n",
              "<table border=\"1\" class=\"dataframe\">\n",
              "  <thead>\n",
              "    <tr style=\"text-align: right;\">\n",
              "      <th></th>\n",
              "      <th>Content</th>\n",
              "      <th>POS</th>\n",
              "    </tr>\n",
              "  </thead>\n",
              "  <tbody>\n",
              "    <tr>\n",
              "      <th>0</th>\n",
              "      <td>시도한지 20분이 지나도 배차가 되지 않아서 결국 버스로 환승</td>\n",
              "      <td>[(시도, NNG), (지나, VV), (배, NNG), (차, NNG), (되, ...</td>\n",
              "    </tr>\n",
              "    <tr>\n",
              "      <th>1</th>\n",
              "      <td>호출했으나 이번에도 배차가 30분 정도 되지 않음</td>\n",
              "      <td>[(호출, NNG), (이번, NNG), (배, NNG), (차, NNG), (정도...</td>\n",
              "    </tr>\n",
              "    <tr>\n",
              "      <th>2</th>\n",
              "      <td>운 좋게 배차가 됐고 약 20분 후에 도착한다고 바로 알림</td>\n",
              "      <td>[(울, VV), (좋, VA), (배, NNG), (차, NNG), (되, VV)...</td>\n",
              "    </tr>\n",
              "    <tr>\n",
              "      <th>3</th>\n",
              "      <td>예상 시간과 비슷한 시간에 탑승</td>\n",
              "      <td>[(예상, NNG), (시간, NNG), (비슷, XR), (시간, NNG), (탑...</td>\n",
              "    </tr>\n",
              "    <tr>\n",
              "      <th>4</th>\n",
              "      <td>QR코드를 기기에 태그 하기만 하면 돼서 간편</td>\n",
              "      <td>[(코드, NNP), (기기, NNG), (태그, NNP), (하, VV), (하,...</td>\n",
              "    </tr>\n",
              "  </tbody>\n",
              "</table>\n",
              "</div>\n",
              "      <button class=\"colab-df-convert\" onclick=\"convertToInteractive('df-f462164b-9422-4bbc-8850-47517863d8e4')\"\n",
              "              title=\"Convert this dataframe to an interactive table.\"\n",
              "              style=\"display:none;\">\n",
              "        \n",
              "  <svg xmlns=\"http://www.w3.org/2000/svg\" height=\"24px\"viewBox=\"0 0 24 24\"\n",
              "       width=\"24px\">\n",
              "    <path d=\"M0 0h24v24H0V0z\" fill=\"none\"/>\n",
              "    <path d=\"M18.56 5.44l.94 2.06.94-2.06 2.06-.94-2.06-.94-.94-2.06-.94 2.06-2.06.94zm-11 1L8.5 8.5l.94-2.06 2.06-.94-2.06-.94L8.5 2.5l-.94 2.06-2.06.94zm10 10l.94 2.06.94-2.06 2.06-.94-2.06-.94-.94-2.06-.94 2.06-2.06.94z\"/><path d=\"M17.41 7.96l-1.37-1.37c-.4-.4-.92-.59-1.43-.59-.52 0-1.04.2-1.43.59L10.3 9.45l-7.72 7.72c-.78.78-.78 2.05 0 2.83L4 21.41c.39.39.9.59 1.41.59.51 0 1.02-.2 1.41-.59l7.78-7.78 2.81-2.81c.8-.78.8-2.07 0-2.86zM5.41 20L4 18.59l7.72-7.72 1.47 1.35L5.41 20z\"/>\n",
              "  </svg>\n",
              "      </button>\n",
              "      \n",
              "  <style>\n",
              "    .colab-df-container {\n",
              "      display:flex;\n",
              "      flex-wrap:wrap;\n",
              "      gap: 12px;\n",
              "    }\n",
              "\n",
              "    .colab-df-convert {\n",
              "      background-color: #E8F0FE;\n",
              "      border: none;\n",
              "      border-radius: 50%;\n",
              "      cursor: pointer;\n",
              "      display: none;\n",
              "      fill: #1967D2;\n",
              "      height: 32px;\n",
              "      padding: 0 0 0 0;\n",
              "      width: 32px;\n",
              "    }\n",
              "\n",
              "    .colab-df-convert:hover {\n",
              "      background-color: #E2EBFA;\n",
              "      box-shadow: 0px 1px 2px rgba(60, 64, 67, 0.3), 0px 1px 3px 1px rgba(60, 64, 67, 0.15);\n",
              "      fill: #174EA6;\n",
              "    }\n",
              "\n",
              "    [theme=dark] .colab-df-convert {\n",
              "      background-color: #3B4455;\n",
              "      fill: #D2E3FC;\n",
              "    }\n",
              "\n",
              "    [theme=dark] .colab-df-convert:hover {\n",
              "      background-color: #434B5C;\n",
              "      box-shadow: 0px 1px 3px 1px rgba(0, 0, 0, 0.15);\n",
              "      filter: drop-shadow(0px 1px 2px rgba(0, 0, 0, 0.3));\n",
              "      fill: #FFFFFF;\n",
              "    }\n",
              "  </style>\n",
              "\n",
              "      <script>\n",
              "        const buttonEl =\n",
              "          document.querySelector('#df-f462164b-9422-4bbc-8850-47517863d8e4 button.colab-df-convert');\n",
              "        buttonEl.style.display =\n",
              "          google.colab.kernel.accessAllowed ? 'block' : 'none';\n",
              "\n",
              "        async function convertToInteractive(key) {\n",
              "          const element = document.querySelector('#df-f462164b-9422-4bbc-8850-47517863d8e4');\n",
              "          const dataTable =\n",
              "            await google.colab.kernel.invokeFunction('convertToInteractive',\n",
              "                                                     [key], {});\n",
              "          if (!dataTable) return;\n",
              "\n",
              "          const docLinkHtml = 'Like what you see? Visit the ' +\n",
              "            '<a target=\"_blank\" href=https://colab.research.google.com/notebooks/data_table.ipynb>data table notebook</a>'\n",
              "            + ' to learn more about interactive tables.';\n",
              "          element.innerHTML = '';\n",
              "          dataTable['output_type'] = 'display_data';\n",
              "          await google.colab.output.renderOutput(dataTable, element);\n",
              "          const docLink = document.createElement('div');\n",
              "          docLink.innerHTML = docLinkHtml;\n",
              "          element.appendChild(docLink);\n",
              "        }\n",
              "      </script>\n",
              "    </div>\n",
              "  </div>\n",
              "  "
            ]
          },
          "metadata": {},
          "execution_count": 11
        }
      ]
    },
    {
      "cell_type": "code",
      "source": [
        "emo_dic = pd.read_excel(\"/content/drive/MyDrive/혁신기술텍스트마이닝/윤아/dic/emo_dic.xlsx\")\n",
        "emo_word= list(emo_dic['WORD'])"
      ],
      "metadata": {
        "id": "E21Z44QlNhFR"
      },
      "execution_count": null,
      "outputs": []
    },
    {
      "cell_type": "code",
      "source": [
        "word = []\n",
        "for p in df['POS']:\n",
        "  ls = [p[k][0] for k in range(len(p)) if len(p[k][0]) > 1 or p[k][0] in emo_dic]\n",
        "  word.append(ls)\n",
        "\n",
        "df['WORD'] = word"
      ],
      "metadata": {
        "id": "fo1X8hOlLzrE"
      },
      "execution_count": null,
      "outputs": []
    },
    {
      "cell_type": "code",
      "source": [
        "df.head()"
      ],
      "metadata": {
        "colab": {
          "base_uri": "https://localhost:8080/",
          "height": 206
        },
        "id": "8-FHuAWKODdy",
        "outputId": "96953040-bedc-4479-a147-77e629fa1788"
      },
      "execution_count": null,
      "outputs": [
        {
          "output_type": "execute_result",
          "data": {
            "text/plain": [
              "                              Content  \\\n",
              "0  시도한지 20분이 지나도 배차가 되지 않아서 결국 버스로 환승   \n",
              "1         호출했으나 이번에도 배차가 30분 정도 되지 않음   \n",
              "2    운 좋게 배차가 됐고 약 20분 후에 도착한다고 바로 알림   \n",
              "3                   예상 시간과 비슷한 시간에 탑승   \n",
              "4           QR코드를 기기에 태그 하기만 하면 돼서 간편   \n",
              "\n",
              "                                                 POS                  WORD  \n",
              "0  [(시도, NNG), (지나, VV), (배, NNG), (차, NNG), (되, ...      [시도, 지나, 버스, 환승]  \n",
              "1  [(호출, NNG), (이번, NNG), (배, NNG), (차, NNG), (정도...          [호출, 이번, 정도]  \n",
              "2  [(울, VV), (좋, VA), (배, NNG), (차, NNG), (되, VV)...              [도착, 알리]  \n",
              "3  [(예상, NNG), (시간, NNG), (비슷, XR), (시간, NNG), (탑...  [예상, 시간, 비슷, 시간, 탑승]  \n",
              "4  [(코드, NNP), (기기, NNG), (태그, NNP), (하, VV), (하,...      [코드, 기기, 태그, 간편]  "
            ],
            "text/html": [
              "\n",
              "  <div id=\"df-6023ce53-41ac-491f-8eed-220c0a76eec8\">\n",
              "    <div class=\"colab-df-container\">\n",
              "      <div>\n",
              "<style scoped>\n",
              "    .dataframe tbody tr th:only-of-type {\n",
              "        vertical-align: middle;\n",
              "    }\n",
              "\n",
              "    .dataframe tbody tr th {\n",
              "        vertical-align: top;\n",
              "    }\n",
              "\n",
              "    .dataframe thead th {\n",
              "        text-align: right;\n",
              "    }\n",
              "</style>\n",
              "<table border=\"1\" class=\"dataframe\">\n",
              "  <thead>\n",
              "    <tr style=\"text-align: right;\">\n",
              "      <th></th>\n",
              "      <th>Content</th>\n",
              "      <th>POS</th>\n",
              "      <th>WORD</th>\n",
              "    </tr>\n",
              "  </thead>\n",
              "  <tbody>\n",
              "    <tr>\n",
              "      <th>0</th>\n",
              "      <td>시도한지 20분이 지나도 배차가 되지 않아서 결국 버스로 환승</td>\n",
              "      <td>[(시도, NNG), (지나, VV), (배, NNG), (차, NNG), (되, ...</td>\n",
              "      <td>[시도, 지나, 버스, 환승]</td>\n",
              "    </tr>\n",
              "    <tr>\n",
              "      <th>1</th>\n",
              "      <td>호출했으나 이번에도 배차가 30분 정도 되지 않음</td>\n",
              "      <td>[(호출, NNG), (이번, NNG), (배, NNG), (차, NNG), (정도...</td>\n",
              "      <td>[호출, 이번, 정도]</td>\n",
              "    </tr>\n",
              "    <tr>\n",
              "      <th>2</th>\n",
              "      <td>운 좋게 배차가 됐고 약 20분 후에 도착한다고 바로 알림</td>\n",
              "      <td>[(울, VV), (좋, VA), (배, NNG), (차, NNG), (되, VV)...</td>\n",
              "      <td>[도착, 알리]</td>\n",
              "    </tr>\n",
              "    <tr>\n",
              "      <th>3</th>\n",
              "      <td>예상 시간과 비슷한 시간에 탑승</td>\n",
              "      <td>[(예상, NNG), (시간, NNG), (비슷, XR), (시간, NNG), (탑...</td>\n",
              "      <td>[예상, 시간, 비슷, 시간, 탑승]</td>\n",
              "    </tr>\n",
              "    <tr>\n",
              "      <th>4</th>\n",
              "      <td>QR코드를 기기에 태그 하기만 하면 돼서 간편</td>\n",
              "      <td>[(코드, NNP), (기기, NNG), (태그, NNP), (하, VV), (하,...</td>\n",
              "      <td>[코드, 기기, 태그, 간편]</td>\n",
              "    </tr>\n",
              "  </tbody>\n",
              "</table>\n",
              "</div>\n",
              "      <button class=\"colab-df-convert\" onclick=\"convertToInteractive('df-6023ce53-41ac-491f-8eed-220c0a76eec8')\"\n",
              "              title=\"Convert this dataframe to an interactive table.\"\n",
              "              style=\"display:none;\">\n",
              "        \n",
              "  <svg xmlns=\"http://www.w3.org/2000/svg\" height=\"24px\"viewBox=\"0 0 24 24\"\n",
              "       width=\"24px\">\n",
              "    <path d=\"M0 0h24v24H0V0z\" fill=\"none\"/>\n",
              "    <path d=\"M18.56 5.44l.94 2.06.94-2.06 2.06-.94-2.06-.94-.94-2.06-.94 2.06-2.06.94zm-11 1L8.5 8.5l.94-2.06 2.06-.94-2.06-.94L8.5 2.5l-.94 2.06-2.06.94zm10 10l.94 2.06.94-2.06 2.06-.94-2.06-.94-.94-2.06-.94 2.06-2.06.94z\"/><path d=\"M17.41 7.96l-1.37-1.37c-.4-.4-.92-.59-1.43-.59-.52 0-1.04.2-1.43.59L10.3 9.45l-7.72 7.72c-.78.78-.78 2.05 0 2.83L4 21.41c.39.39.9.59 1.41.59.51 0 1.02-.2 1.41-.59l7.78-7.78 2.81-2.81c.8-.78.8-2.07 0-2.86zM5.41 20L4 18.59l7.72-7.72 1.47 1.35L5.41 20z\"/>\n",
              "  </svg>\n",
              "      </button>\n",
              "      \n",
              "  <style>\n",
              "    .colab-df-container {\n",
              "      display:flex;\n",
              "      flex-wrap:wrap;\n",
              "      gap: 12px;\n",
              "    }\n",
              "\n",
              "    .colab-df-convert {\n",
              "      background-color: #E8F0FE;\n",
              "      border: none;\n",
              "      border-radius: 50%;\n",
              "      cursor: pointer;\n",
              "      display: none;\n",
              "      fill: #1967D2;\n",
              "      height: 32px;\n",
              "      padding: 0 0 0 0;\n",
              "      width: 32px;\n",
              "    }\n",
              "\n",
              "    .colab-df-convert:hover {\n",
              "      background-color: #E2EBFA;\n",
              "      box-shadow: 0px 1px 2px rgba(60, 64, 67, 0.3), 0px 1px 3px 1px rgba(60, 64, 67, 0.15);\n",
              "      fill: #174EA6;\n",
              "    }\n",
              "\n",
              "    [theme=dark] .colab-df-convert {\n",
              "      background-color: #3B4455;\n",
              "      fill: #D2E3FC;\n",
              "    }\n",
              "\n",
              "    [theme=dark] .colab-df-convert:hover {\n",
              "      background-color: #434B5C;\n",
              "      box-shadow: 0px 1px 3px 1px rgba(0, 0, 0, 0.15);\n",
              "      filter: drop-shadow(0px 1px 2px rgba(0, 0, 0, 0.3));\n",
              "      fill: #FFFFFF;\n",
              "    }\n",
              "  </style>\n",
              "\n",
              "      <script>\n",
              "        const buttonEl =\n",
              "          document.querySelector('#df-6023ce53-41ac-491f-8eed-220c0a76eec8 button.colab-df-convert');\n",
              "        buttonEl.style.display =\n",
              "          google.colab.kernel.accessAllowed ? 'block' : 'none';\n",
              "\n",
              "        async function convertToInteractive(key) {\n",
              "          const element = document.querySelector('#df-6023ce53-41ac-491f-8eed-220c0a76eec8');\n",
              "          const dataTable =\n",
              "            await google.colab.kernel.invokeFunction('convertToInteractive',\n",
              "                                                     [key], {});\n",
              "          if (!dataTable) return;\n",
              "\n",
              "          const docLinkHtml = 'Like what you see? Visit the ' +\n",
              "            '<a target=\"_blank\" href=https://colab.research.google.com/notebooks/data_table.ipynb>data table notebook</a>'\n",
              "            + ' to learn more about interactive tables.';\n",
              "          element.innerHTML = '';\n",
              "          dataTable['output_type'] = 'display_data';\n",
              "          await google.colab.output.renderOutput(dataTable, element);\n",
              "          const docLink = document.createElement('div');\n",
              "          docLink.innerHTML = docLinkHtml;\n",
              "          element.appendChild(docLink);\n",
              "        }\n",
              "      </script>\n",
              "    </div>\n",
              "  </div>\n",
              "  "
            ]
          },
          "metadata": {},
          "execution_count": 14
        }
      ]
    },
    {
      "cell_type": "code",
      "source": [
        "# !pip install gensim"
      ],
      "metadata": {
        "colab": {
          "base_uri": "https://localhost:8080/"
        },
        "id": "vA3dx0E9GmNA",
        "outputId": "51fbf3c2-ac4f-46d2-d99f-d2b00d62a64a"
      },
      "execution_count": null,
      "outputs": [
        {
          "output_type": "stream",
          "name": "stdout",
          "text": [
            "Looking in indexes: https://pypi.org/simple, https://us-python.pkg.dev/colab-wheels/public/simple/\n",
            "Requirement already satisfied: gensim in /usr/local/lib/python3.7/dist-packages (3.6.0)\n",
            "Requirement already satisfied: numpy>=1.11.3 in /usr/local/lib/python3.7/dist-packages (from gensim) (1.21.6)\n",
            "Requirement already satisfied: smart-open>=1.2.1 in /usr/local/lib/python3.7/dist-packages (from gensim) (5.2.1)\n",
            "Requirement already satisfied: six>=1.5.0 in /usr/local/lib/python3.7/dist-packages (from gensim) (1.15.0)\n",
            "Requirement already satisfied: scipy>=0.18.1 in /usr/local/lib/python3.7/dist-packages (from gensim) (1.7.3)\n"
          ]
        }
      ]
    },
    {
      "cell_type": "code",
      "source": [
        "# 텍스트 파일을 읽어와서, 전처리 수행 후에 model 파일로 저장하기\n",
        "from gensim.models import Word2Vec\n",
        "\n",
        "model = Word2Vec(sentences = list(df['WORD']), size = 100, window = 5, min_count = 5, workers = 4, sg = 0)\n",
        "# 완성된 임베딩 매트릭스의 크기 확인\n",
        "model.wv.vectors.shape"
      ],
      "metadata": {
        "colab": {
          "base_uri": "https://localhost:8080/"
        },
        "id": "wYRxs4cqvPUU",
        "outputId": "64cf8ccd-9fde-4a92-f743-26b644e81d2a"
      },
      "execution_count": null,
      "outputs": [
        {
          "output_type": "stream",
          "name": "stderr",
          "text": [
            "WARNING:gensim.models.base_any2vec:under 10 jobs per worker: consider setting a smaller `batch_words' for smoother alpha decay\n"
          ]
        },
        {
          "output_type": "execute_result",
          "data": {
            "text/plain": [
              "(92, 100)"
            ]
          },
          "metadata": {},
          "execution_count": 15
        }
      ]
    },
    {
      "cell_type": "code",
      "source": [
        "print(model.wv.most_similar(\"불편\"))\n",
        "similar_word = model.wv.most_similar(\"불편\")"
      ],
      "metadata": {
        "colab": {
          "base_uri": "https://localhost:8080/"
        },
        "id": "vi-f0TJ8OhS0",
        "outputId": "ec10cd41-184d-414f-e862-4fe928bc3059"
      },
      "execution_count": null,
      "outputs": [
        {
          "output_type": "stream",
          "name": "stdout",
          "text": [
            "[('서비스', 0.21263375878334045), ('하차', 0.20523323118686676), ('아이', 0.16560611128807068), ('아이들', 0.15366514027118683), ('호출', 0.15068116784095764), ('대중교통', 0.1479957550764084), ('노선', 0.13210245966911316), ('경험', 0.12940090894699097), ('빠르', 0.1292206048965454), ('이동', 0.11937612295150757)]\n"
          ]
        }
      ]
    },
    {
      "cell_type": "code",
      "source": [
        "similar_word_df = pd.DataFrame(similar_word)\n",
        "similar_word_df.columns=[\"유사단어\",\"유사도\"]\n",
        "similar_word_df"
      ],
      "metadata": {
        "colab": {
          "base_uri": "https://localhost:8080/",
          "height": 363
        },
        "id": "AwvYgSPgOmMU",
        "outputId": "7ce893a7-aa5b-45c5-8c77-4e448d061228"
      },
      "execution_count": null,
      "outputs": [
        {
          "output_type": "execute_result",
          "data": {
            "text/plain": [
              "   유사단어       유사도\n",
              "0   서비스  0.212634\n",
              "1    하차  0.205233\n",
              "2    아이  0.165606\n",
              "3   아이들  0.153665\n",
              "4    호출  0.150681\n",
              "5  대중교통  0.147996\n",
              "6    노선  0.132102\n",
              "7    경험  0.129401\n",
              "8    빠르  0.129221\n",
              "9    이동  0.119376"
            ],
            "text/html": [
              "\n",
              "  <div id=\"df-4809ad29-bd68-4f4b-9ff4-665fec851fd2\">\n",
              "    <div class=\"colab-df-container\">\n",
              "      <div>\n",
              "<style scoped>\n",
              "    .dataframe tbody tr th:only-of-type {\n",
              "        vertical-align: middle;\n",
              "    }\n",
              "\n",
              "    .dataframe tbody tr th {\n",
              "        vertical-align: top;\n",
              "    }\n",
              "\n",
              "    .dataframe thead th {\n",
              "        text-align: right;\n",
              "    }\n",
              "</style>\n",
              "<table border=\"1\" class=\"dataframe\">\n",
              "  <thead>\n",
              "    <tr style=\"text-align: right;\">\n",
              "      <th></th>\n",
              "      <th>유사단어</th>\n",
              "      <th>유사도</th>\n",
              "    </tr>\n",
              "  </thead>\n",
              "  <tbody>\n",
              "    <tr>\n",
              "      <th>0</th>\n",
              "      <td>서비스</td>\n",
              "      <td>0.212634</td>\n",
              "    </tr>\n",
              "    <tr>\n",
              "      <th>1</th>\n",
              "      <td>하차</td>\n",
              "      <td>0.205233</td>\n",
              "    </tr>\n",
              "    <tr>\n",
              "      <th>2</th>\n",
              "      <td>아이</td>\n",
              "      <td>0.165606</td>\n",
              "    </tr>\n",
              "    <tr>\n",
              "      <th>3</th>\n",
              "      <td>아이들</td>\n",
              "      <td>0.153665</td>\n",
              "    </tr>\n",
              "    <tr>\n",
              "      <th>4</th>\n",
              "      <td>호출</td>\n",
              "      <td>0.150681</td>\n",
              "    </tr>\n",
              "    <tr>\n",
              "      <th>5</th>\n",
              "      <td>대중교통</td>\n",
              "      <td>0.147996</td>\n",
              "    </tr>\n",
              "    <tr>\n",
              "      <th>6</th>\n",
              "      <td>노선</td>\n",
              "      <td>0.132102</td>\n",
              "    </tr>\n",
              "    <tr>\n",
              "      <th>7</th>\n",
              "      <td>경험</td>\n",
              "      <td>0.129401</td>\n",
              "    </tr>\n",
              "    <tr>\n",
              "      <th>8</th>\n",
              "      <td>빠르</td>\n",
              "      <td>0.129221</td>\n",
              "    </tr>\n",
              "    <tr>\n",
              "      <th>9</th>\n",
              "      <td>이동</td>\n",
              "      <td>0.119376</td>\n",
              "    </tr>\n",
              "  </tbody>\n",
              "</table>\n",
              "</div>\n",
              "      <button class=\"colab-df-convert\" onclick=\"convertToInteractive('df-4809ad29-bd68-4f4b-9ff4-665fec851fd2')\"\n",
              "              title=\"Convert this dataframe to an interactive table.\"\n",
              "              style=\"display:none;\">\n",
              "        \n",
              "  <svg xmlns=\"http://www.w3.org/2000/svg\" height=\"24px\"viewBox=\"0 0 24 24\"\n",
              "       width=\"24px\">\n",
              "    <path d=\"M0 0h24v24H0V0z\" fill=\"none\"/>\n",
              "    <path d=\"M18.56 5.44l.94 2.06.94-2.06 2.06-.94-2.06-.94-.94-2.06-.94 2.06-2.06.94zm-11 1L8.5 8.5l.94-2.06 2.06-.94-2.06-.94L8.5 2.5l-.94 2.06-2.06.94zm10 10l.94 2.06.94-2.06 2.06-.94-2.06-.94-.94-2.06-.94 2.06-2.06.94z\"/><path d=\"M17.41 7.96l-1.37-1.37c-.4-.4-.92-.59-1.43-.59-.52 0-1.04.2-1.43.59L10.3 9.45l-7.72 7.72c-.78.78-.78 2.05 0 2.83L4 21.41c.39.39.9.59 1.41.59.51 0 1.02-.2 1.41-.59l7.78-7.78 2.81-2.81c.8-.78.8-2.07 0-2.86zM5.41 20L4 18.59l7.72-7.72 1.47 1.35L5.41 20z\"/>\n",
              "  </svg>\n",
              "      </button>\n",
              "      \n",
              "  <style>\n",
              "    .colab-df-container {\n",
              "      display:flex;\n",
              "      flex-wrap:wrap;\n",
              "      gap: 12px;\n",
              "    }\n",
              "\n",
              "    .colab-df-convert {\n",
              "      background-color: #E8F0FE;\n",
              "      border: none;\n",
              "      border-radius: 50%;\n",
              "      cursor: pointer;\n",
              "      display: none;\n",
              "      fill: #1967D2;\n",
              "      height: 32px;\n",
              "      padding: 0 0 0 0;\n",
              "      width: 32px;\n",
              "    }\n",
              "\n",
              "    .colab-df-convert:hover {\n",
              "      background-color: #E2EBFA;\n",
              "      box-shadow: 0px 1px 2px rgba(60, 64, 67, 0.3), 0px 1px 3px 1px rgba(60, 64, 67, 0.15);\n",
              "      fill: #174EA6;\n",
              "    }\n",
              "\n",
              "    [theme=dark] .colab-df-convert {\n",
              "      background-color: #3B4455;\n",
              "      fill: #D2E3FC;\n",
              "    }\n",
              "\n",
              "    [theme=dark] .colab-df-convert:hover {\n",
              "      background-color: #434B5C;\n",
              "      box-shadow: 0px 1px 3px 1px rgba(0, 0, 0, 0.15);\n",
              "      filter: drop-shadow(0px 1px 2px rgba(0, 0, 0, 0.3));\n",
              "      fill: #FFFFFF;\n",
              "    }\n",
              "  </style>\n",
              "\n",
              "      <script>\n",
              "        const buttonEl =\n",
              "          document.querySelector('#df-4809ad29-bd68-4f4b-9ff4-665fec851fd2 button.colab-df-convert');\n",
              "        buttonEl.style.display =\n",
              "          google.colab.kernel.accessAllowed ? 'block' : 'none';\n",
              "\n",
              "        async function convertToInteractive(key) {\n",
              "          const element = document.querySelector('#df-4809ad29-bd68-4f4b-9ff4-665fec851fd2');\n",
              "          const dataTable =\n",
              "            await google.colab.kernel.invokeFunction('convertToInteractive',\n",
              "                                                     [key], {});\n",
              "          if (!dataTable) return;\n",
              "\n",
              "          const docLinkHtml = 'Like what you see? Visit the ' +\n",
              "            '<a target=\"_blank\" href=https://colab.research.google.com/notebooks/data_table.ipynb>data table notebook</a>'\n",
              "            + ' to learn more about interactive tables.';\n",
              "          element.innerHTML = '';\n",
              "          dataTable['output_type'] = 'display_data';\n",
              "          await google.colab.output.renderOutput(dataTable, element);\n",
              "          const docLink = document.createElement('div');\n",
              "          docLink.innerHTML = docLinkHtml;\n",
              "          element.appendChild(docLink);\n",
              "        }\n",
              "      </script>\n",
              "    </div>\n",
              "  </div>\n",
              "  "
            ]
          },
          "metadata": {},
          "execution_count": 17
        }
      ]
    },
    {
      "cell_type": "code",
      "source": [
        "import matplotlib.pyplot as plt\n",
        "\n",
        "plt.rc('font', family='NanumBarunGothic')\n",
        "\n",
        "# 바 그래프 그리기\n",
        "def showGraph(bargraph):\n",
        "     xtick = [item[0] for item in bargraph] # 단어\n",
        "     ytick = [item[1] for item in bargraph] # 유사도\n",
        "     plt.figure()\n",
        "     mycolors = ['#06c2ac', '#c79fef', '#ff796c', '#aaff32', '#0485d1', '#d648d7', '#a5a502', '#d8dcd6', '#5ca904', '#fffe7a' ]\n",
        "     plt.bar(xtick, ytick, color=mycolors)\n",
        "\n",
        "similar_word = model.wv.most_similar(\"불편\", topn=10)\n",
        "showGraph(similar_word)\n",
        "\n",
        "plt.show()"
      ],
      "metadata": {
        "colab": {
          "base_uri": "https://localhost:8080/",
          "height": 265
        },
        "id": "4WMzrH2MOpbC",
        "outputId": "c6057f79-ac72-4c5e-92c1-90027c4df586"
      },
      "execution_count": null,
      "outputs": [
        {
          "output_type": "display_data",
          "data": {
            "text/plain": [
              "<Figure size 432x288 with 1 Axes>"
            ],
            "image/png": "[encoded data removed]"
          },
          "metadata": {
            "needs_background": "light"
          }
        }
      ]
    },
    {
      "cell_type": "code",
      "source": [],
      "metadata": {
        "id": "tUBjqEGeHK7s"
      },
      "execution_count": null,
      "outputs": []
    },
    {
      "cell_type": "code",
      "source": [],
      "metadata": {
        "id": "ZBTUPm0JQ2oK"
      },
      "execution_count": null,
      "outputs": []
    },
    {
      "cell_type": "code",
      "source": [
        "word_vectors = model.wv\n",
        "vocabs = word_vectors.vocab.keys()\n",
        "word_vectors_list = [word_vectors[v] for v in vocabs]\n",
        "\n",
        "from sklearn.decomposition import PCA\n",
        "pca = PCA(n_components=2)\n",
        "xys = pca.fit_transform(word_vectors_list)\n",
        "xs = xys[:,0]\n",
        "ys=xys[:,1]"
      ],
      "metadata": {
        "id": "g8PoDnLdQ5Qo"
      },
      "execution_count": null,
      "outputs": []
    },
    {
      "cell_type": "code",
      "source": [
        "import matplotlib.pyplot as plt\n",
        "\n",
        "plt.rc('font', family='NanumBarunGothic')"
      ],
      "metadata": {
        "id": "jWn_t7PeQ5Ne"
      },
      "execution_count": null,
      "outputs": []
    },
    {
      "cell_type": "code",
      "source": [
        "import matplotlib.pyplot as plt\n",
        "\n",
        "def plot_2d_graph(vocabs, xs, ys):\n",
        "    plt.figure(figsize=(15,10))\n",
        "    plt.scatter(xs,ys,marker='o')\n",
        "    for i,v in enumerate(vocabs):\n",
        "        plt.annotate(v,xy=(xs[i], ys[i]))\n",
        "        if v in emo_word :\n",
        "          plt.scatter(xs[i], ys[i], c = 'red')\n",
        "\n",
        "plot_2d_graph(vocabs, xs,ys)"
      ],
      "metadata": {
        "colab": {
          "base_uri": "https://localhost:8080/",
          "height": 592
        },
        "id": "jvpIP324Q5K4",
        "outputId": "03753a41-84ab-4550-9134-72197f215180"
      },
      "execution_count": null,
      "outputs": [
        {
          "output_type": "display_data",
          "data": {
            "text/plain": [
              "<Figure size 1080x720 with 1 Axes>"
            ],
            "image/png": "[encoded data removed]"
          },
          "metadata": {
            "needs_background": "light"
          }
        }
      ]
    },
    {
      "cell_type": "code",
      "source": [],
      "metadata": {
        "id": "c9i7sH7cS40O"
      },
      "execution_count": null,
      "outputs": []
    },
    {
      "cell_type": "markdown",
      "source": [
        "## html로 만들기"
      ],
      "metadata": {
        "id": "tkZrA8rDS9DU"
      }
    },
    {
      "cell_type": "code",
      "source": [
        "# annotation text 만들기 (시각화할 때 벡터 말고 단어도 필요하니까)\n",
        "# vocabs = word_vectors.vocab.keys()\n",
        "\n",
        "text=[]\n",
        "for i,v in enumerate(vocabs):\n",
        "    text.append(v)"
      ],
      "metadata": {
        "id": "DsiWr0S5Q5Dl"
      },
      "execution_count": null,
      "outputs": []
    },
    {
      "cell_type": "code",
      "source": [
        "def plot_2d_graph(vocabs, xs, ys):\n",
        "    plt.figure(figsize=(15,10))\n",
        "    plt.scatter(xs,ys,marker='o')\n",
        "    for i,v in enumerate(vocabs):\n",
        "        plt.annotate(v,xy=(xs[i], ys[i]))\n",
        "        if v in emo_word :\n",
        "          plt.scatter(xs[i], ys[i], c = 'red')\n",
        "\n",
        "plot_2d_graph(vocabs, xs,ys)"
      ],
      "metadata": {
        "id": "d8qegvfkT-Mf"
      },
      "execution_count": null,
      "outputs": []
    },
    {
      "cell_type": "code",
      "source": [
        "import plotly\n",
        "import plotly.graph_objects as go\n",
        "fig = go.Figure(data=go.Scatter(x=xs,\n",
        "                                y=ys,\n",
        "                                mode='markers+text',\n",
        "                                text=text))\n",
        "\n",
        "exs = []; eys = [] ; etext = []\n",
        "for i, v in enumerate(vocabs):\n",
        "  if v in emo_word:\n",
        "    exs.append(xs[i])\n",
        "    eys.append(ys[i])\n",
        "    etext.append(v)\n",
        "\n",
        "fig.add_trace(go.Scatter(x=exs, y=eys, mode = 'markers+text',text = etext, name = \"Emotion\"))\n",
        "\n",
        "fig.update_layout(title='Delivery Word2Vec')\n",
        "fig.show()"
      ],
      "metadata": {
        "colab": {
          "base_uri": "https://localhost:8080/",
          "height": 542
        },
        "id": "G2X2ByzqQ5BR",
        "outputId": "d3b14141-c2b5-48c5-c826-bce1485a0df1"
      },
      "execution_count": null,
      "outputs": [
        {
          "output_type": "display_data",
          "data": {
            "text/html": [
              "<html>\n",
              "<head><meta charset=\"utf-8\" /></head>\n",
              "<body>\n",
              "    <div>            <script src=\"https://cdnjs.cloudflare.com/ajax/libs/mathjax/2.7.5/MathJax.js?config=TeX-AMS-MML_SVG\"></script><script type=\"text/javascript\">if (window.MathJax) {MathJax.Hub.Config({SVG: {font: \"STIX-Web\"}});}</script>                <script type=\"text/javascript\">window.PlotlyConfig = {MathJaxConfig: 'local'};</script>\n",
              "        <script src=\"https://cdn.plot.ly/plotly-2.8.3.min.js\"></script>                <div id=\"7dca39af-1521-456e-bb5c-0c4594978d92\" class=\"plotly-graph-div\" style=\"height:525px; width:100%;\"></div>            <script type=\"text/javascript\">                                    window.PLOTLYENV=window.PLOTLYENV || {};                                    if (document.getElementById(\"7dca39af-1521-456e-bb5c-0c4594978d92\")) {                    Plotly.newPlot(                        \"7dca39af-1521-456e-bb5c-0c4594978d92\",                        [{\"mode\":\"markers+text\",\"text\":[\"\\ubc84\\uc2a4\",\"\\ud658\\uc2b9\",\"\\ud638\\ucd9c\",\"\\uc815\\ub3c4\",\"\\ub3c4\\ucc29\",\"\\uc54c\\ub9ac\",\"\\uc608\\uc0c1\",\"\\uc2dc\\uac04\",\"\\ud0d1\\uc2b9\",\"\\ub0b4\\ubd80\",\"\\ucf8c\\uc801\",\"\\ud0dd\\uc2dc\",\"\\uc774\\ub3d9\",\"\\ub9cc\\uc871\",\"\\uc800\\ub834\",\"\\uac00\\uaca9\",\"\\uc218\\ub2e8\",\"\\uc5b4\\ub824\\uc6c0\",\"\\uc2dc\\ubbfc\",\"\\ud544\\uc694\",\"\\uc774\\uc6a9\",\"\\uc815\\ud655\",\"\\uc548\\ub0b4\",\"\\uae30\\ub2e4\\ub9ac\",\"\\ubaa9\\uc801\\uc9c0\",\"\\uc124\\uc815\",\"\\uae30\\uc874\",\"\\uacc4\\uc591\",\"\\uac00\\ub2a5\",\"\\uc778\\uc2dd\",\"\\uac70\\ub9ac\",\"\\uc544\\uc26c\\uc6c0\",\"\\uae30\\ub2a5\",\"\\uc758\\uacac\",\"\\uc77c\\ubc18\",\"\\ube60\\ub974\",\"\\uacbd\\uc6b0\",\"\\ub290\\ub08c\",\"\\uc704\\uce58\",\"\\uc0ac\\ub78c\",\"\\uae30\\uc0ac\",\"\\ud45c\\uc2dc\",\"\\uce5c\\uc808\",\"\\ud3b8\\uc548\",\"\\uc544\\uc774\",\"\\ubaa8\\ub4dc\",\"\\uad50\\ud1b5\",\"\\uc2e0\\ub3c4\\uc2dc\",\"\\uc1a1\\ub3c4\",\"\\ud3b8\\ub9ac\",\"\\uc694\\uae08\",\"\\uc6b4\\uc601\",\"\\uc0ac\\uc6a9\",\"\\uc815\\ub958\\uc7a5\",\"\\uc9c4\\ud589\",\"\\ubc1c\\ud310\",\"\\ud3b8\\ud558\",\"\\ucc28\\ub7c9\",\"\\uc11c\\ube44\\uc2a4\",\"\\ube44\\uc2f8\",\"\\ubaa8\\uc784\",\"\\ud558\\ucc28\",\"\\ub098\\uc624\",\"\\uac78\\ub9ac\",\"\\ubd88\\ud3b8\",\"\\ucd94\\uac00\",\"\\uc0dd\\uac01\",\"\\uacb0\\uc81c\",\"\\ub4f1\\ub85d\",\"\\ubcf4\\uc774\",\"\\uacbd\\ud5d8\",\"\\ub300\\uae30\",\"\\ud65c\\uc131\",\"\\ubc29\\ubc95\",\"\\uc18c\\uc694\",\"\\uc704\\ud558\",\"\\ub0b4\\ub9ac\",\"\\uac00\\uae5d\",\"\\uacbd\\ub85c\",\"\\ucc28\\uac10\",\"\\ub300\\uc911\\uad50\\ud1b5\",\"\\uc9c0\\ud558\\ucca0\",\"\\uad6c\\uc5ed\",\"\\uc6b4\\ud589\",\"\\uc9c0\\uc5ed\",\"\\ubd80\\ubd84\",\"\\uc548\\uc804\",\"\\ub178\\uc120\",\"\\ub290\\ub07c\",\"\\ud655\\uc778\",\"\\uc544\\uc774\\ub4e4\",\"\\uc694\\uccad\"],\"x\":[0.008311931855480856,0.005686902440796266,0.0018041669635362482,0.009285676616330854,-0.0036330672399865174,-0.005125984490279223,-0.0009159170186161717,-0.003760875119156509,-0.006208256706224974,-0.002715670734651666,-0.001194590522374448,0.0033664859428910506,-0.00562205421147277,0.0043498003047381705,-0.003594554048563247,-0.011358860696763376,0.007402922031542433,-0.006506333661551313,0.0024009467079770053,-0.001410593513965533,0.003939455818985509,0.004536267256378681,0.00097562726342797,0.0009994352014191952,-0.004378010006130961,0.005134885192249405,0.005966697292074704,-0.00553103347042793,0.005842678381000467,-0.008279983088896235,-0.003600725854489877,-0.002034878174378512,-0.011065934383264213,0.013602650618736067,0.0017715367022996837,0.00752492189915955,-0.003021734291331863,-0.010544666345752095,0.008276255584956047,0.005644363264974642,-0.0014087434869526167,0.014300890615625927,0.008973232267896099,0.005350468858639018,-0.0011052886826404772,0.002175059444891906,-0.0034478864143590703,0.004238428522185507,-0.003066402668802864,-0.0011727975676671658,0.005585476936830567,-0.002534809968778155,-0.0021191482701631583,-0.002189979830013814,-0.002567784476383274,0.0004305869598262147,-0.0013196067023156105,-0.006161083164503292,-0.0050470183330248814,0.009319339309150722,0.011652638716700829,-0.004240493317327426,0.0022574110502246994,-0.0030684274747435967,-0.0054741402238363,-0.0024761398809637833,0.0008367399032126524,0.006353420633247643,0.002978694559884006,-0.0013002033898335764,-0.011207834235983235,-0.0034067988571496446,0.0029743125408773765,0.0014901229867108378,0.00523705861657978,0.0007122329665133413,-0.0025287278321632295,0.006906982573144673,-0.011902184611956683,-0.010396024615328863,-0.00507889873724185,-0.001690384738746964,-0.00016590198112946344,0.004925216005154953,0.006420775160156743,0.0064585507999516,0.001000605373457334,0.0006583195674781572,-0.005845728866392305,-0.0003985351329746413,-0.00869756538740075,-0.007537909280241279],\"y\":[-0.00465579686395474,0.005495391514741434,-0.00040349415019201064,-0.0008282414352326004,-0.006381239589715471,-0.003142095188773888,0.011881942137545145,-0.010018876452812112,0.004410218322288565,-0.002952992168477133,0.0006912973264566078,-0.009136376539281404,0.006140857797980025,0.0041704422031527775,-0.0032132714442755735,-0.012467939762063498,0.0009619728304030815,0.0072776181545146906,0.0010821009772813276,-0.0053100262385500615,0.0015985848687758138,-0.0015162259482524084,0.007980003956232226,0.002297353865147283,0.0010375303601887422,-0.004217849880109029,-0.001964821861259874,0.0019700437558016048,-0.0001990574328221974,0.005774563512433531,-0.0081975203915553,0.00413068347270008,-0.006280257403905866,-0.009007286355917035,-0.0036142338402850856,-0.0026284853773010054,-0.008808412380845508,-0.0028673582791050346,0.007587341717827226,0.003250689985954517,-0.004731796392770317,0.0016540565854748612,0.0029003528535874435,0.003597732958756666,-0.003362295742312033,0.00749152702027131,0.0012097160840672185,-0.005783105987098963,0.0020845439297152296,0.002514091739287746,-0.00015201014616135722,-0.006200866343042163,0.006523317304374133,0.014497148175533173,0.0049280359882562744,-0.005467555241747259,0.0021941831539342795,-0.00991872036848552,0.0027463709477657506,0.0007006071550963183,-0.003132792579593158,0.0003619632351808198,-0.003536146072996507,0.005652364344269275,-0.00030329602831657255,0.012353319728564542,-0.002678316640840766,0.0033812912708192995,-0.002272827710101297,-0.004230573368070229,0.00473965133448524,-0.0037550864360617613,-0.005914220948923927,0.004664776870770668,-0.0035608097359340774,0.004591737089528799,0.0022138110872733587,0.0027812418917867554,0.0010667484168753025,0.0019683068331773426,0.011005214731728592,-0.000977633417941336,0.010507966603603558,0.005011412020199933,-0.009901802012895037,-0.0014372456045162393,0.005778384298570245,-0.0011389791466416843,-0.0007983735553028972,-0.008706868656953068,-0.006352634933782323,-0.0047326943572034525],\"type\":\"scatter\"},{\"mode\":\"markers+text\",\"name\":\"Emotion\",\"text\":[\"\\ucf8c\\uc801\",\"\\ub9cc\\uc871\",\"\\uc800\\ub834\",\"\\uc5b4\\ub824\\uc6c0\",\"\\ud544\\uc694\",\"\\uc815\\ud655\",\"\\uae30\\ub2e4\\ub9ac\",\"\\uae30\\uc874\",\"\\uac00\\ub2a5\",\"\\uc544\\uc26c\\uc6c0\",\"\\uae30\\ub2a5\",\"\\uc758\\uacac\",\"\\ube60\\ub974\",\"\\ub290\\ub08c\",\"\\uce5c\\uc808\",\"\\ud3b8\\uc548\",\"\\ud3b8\\ub9ac\",\"\\ud3b8\\ud558\",\"\\uc11c\\ube44\\uc2a4\",\"\\ube44\\uc2f8\",\"\\ubd88\\ud3b8\",\"\\uacbd\\ud5d8\",\"\\ub300\\uae30\",\"\\ud65c\\uc131\",\"\\uac00\\uae5d\",\"\\ub290\\ub07c\",\"\\uc694\\uccad\"],\"x\":[-0.001194590522374448,0.0043498003047381705,-0.003594554048563247,-0.006506333661551313,-0.001410593513965533,0.004536267256378681,0.0009994352014191952,0.005966697292074704,0.005842678381000467,-0.002034878174378512,-0.011065934383264213,0.013602650618736067,0.00752492189915955,-0.010544666345752095,0.008973232267896099,0.005350468858639018,-0.0011727975676671658,-0.0013196067023156105,-0.0050470183330248814,0.009319339309150722,-0.0054741402238363,-0.011207834235983235,-0.0034067988571496446,0.0029743125408773765,0.006906982573144673,-0.005845728866392305,-0.007537909280241279],\"y\":[0.0006912973264566078,0.0041704422031527775,-0.0032132714442755735,0.0072776181545146906,-0.0053100262385500615,-0.0015162259482524084,0.002297353865147283,-0.001964821861259874,-0.0001990574328221974,0.00413068347270008,-0.006280257403905866,-0.009007286355917035,-0.0026284853773010054,-0.0028673582791050346,0.0029003528535874435,0.003597732958756666,0.002514091739287746,0.0021941831539342795,0.0027463709477657506,0.0007006071550963183,-0.00030329602831657255,0.00473965133448524,-0.0037550864360617613,-0.005914220948923927,0.0027812418917867554,-0.0007983735553028972,-0.0047326943572034525],\"type\":\"scatter\"}],                        {\"template\":{\"data\":{\"bar\":[{\"error_x\":{\"color\":\"#2a3f5f\"},\"error_y\":{\"color\":\"#2a3f5f\"},\"marker\":{\"line\":{\"color\":\"#E5ECF6\",\"width\":0.5},\"pattern\":{\"fillmode\":\"overlay\",\"size\":10,\"solidity\":0.2}},\"type\":\"bar\"}],\"barpolar\":[{\"marker\":{\"line\":{\"color\":\"#E5ECF6\",\"width\":0.5},\"pattern\":{\"fillmode\":\"overlay\",\"size\":10,\"solidity\":0.2}},\"type\":\"barpolar\"}],\"carpet\":[{\"aaxis\":{\"endlinecolor\":\"#2a3f5f\",\"gridcolor\":\"white\",\"linecolor\":\"white\",\"minorgridcolor\":\"white\",\"startlinecolor\":\"#2a3f5f\"},\"baxis\":{\"endlinecolor\":\"#2a3f5f\",\"gridcolor\":\"white\",\"linecolor\":\"white\",\"minorgridcolor\":\"white\",\"startlinecolor\":\"#2a3f5f\"},\"type\":\"carpet\"}],\"choropleth\":[{\"colorbar\":{\"outlinewidth\":0,\"ticks\":\"\"},\"type\":\"choropleth\"}],\"contour\":[{\"colorbar\":{\"outlinewidth\":0,\"ticks\":\"\"},\"colorscale\":[[0.0,\"#0d0887\"],[0.1111111111111111,\"#46039f\"],[0.2222222222222222,\"#7201a8\"],[0.3333333333333333,\"#9c179e\"],[0.4444444444444444,\"#bd3786\"],[0.5555555555555556,\"#d8576b\"],[0.6666666666666666,\"#ed7953\"],[0.7777777777777778,\"#fb9f3a\"],[0.8888888888888888,\"#fdca26\"],[1.0,\"#f0f921\"]],\"type\":\"contour\"}],\"contourcarpet\":[{\"colorbar\":{\"outlinewidth\":0,\"ticks\":\"\"},\"type\":\"contourcarpet\"}],\"heatmap\":[{\"colorbar\":{\"outlinewidth\":0,\"ticks\":\"\"},\"colorscale\":[[0.0,\"#0d0887\"],[0.1111111111111111,\"#46039f\"],[0.2222222222222222,\"#7201a8\"],[0.3333333333333333,\"#9c179e\"],[0.4444444444444444,\"#bd3786\"],[0.5555555555555556,\"#d8576b\"],[0.6666666666666666,\"#ed7953\"],[0.7777777777777778,\"#fb9f3a\"],[0.8888888888888888,\"#fdca26\"],[1.0,\"#f0f921\"]],\"type\":\"heatmap\"}],\"heatmapgl\":[{\"colorbar\":{\"outlinewidth\":0,\"ticks\":\"\"},\"colorscale\":[[0.0,\"#0d0887\"],[0.1111111111111111,\"#46039f\"],[0.2222222222222222,\"#7201a8\"],[0.3333333333333333,\"#9c179e\"],[0.4444444444444444,\"#bd3786\"],[0.5555555555555556,\"#d8576b\"],[0.6666666666666666,\"#ed7953\"],[0.7777777777777778,\"#fb9f3a\"],[0.8888888888888888,\"#fdca26\"],[1.0,\"#f0f921\"]],\"type\":\"heatmapgl\"}],\"histogram\":[{\"marker\":{\"pattern\":{\"fillmode\":\"overlay\",\"size\":10,\"solidity\":0.2}},\"type\":\"histogram\"}],\"histogram2d\":[{\"colorbar\":{\"outlinewidth\":0,\"ticks\":\"\"},\"colorscale\":[[0.0,\"#0d0887\"],[0.1111111111111111,\"#46039f\"],[0.2222222222222222,\"#7201a8\"],[0.3333333333333333,\"#9c179e\"],[0.4444444444444444,\"#bd3786\"],[0.5555555555555556,\"#d8576b\"],[0.6666666666666666,\"#ed7953\"],[0.7777777777777778,\"#fb9f3a\"],[0.8888888888888888,\"#fdca26\"],[1.0,\"#f0f921\"]],\"type\":\"histogram2d\"}],\"histogram2dcontour\":[{\"colorbar\":{\"outlinewidth\":0,\"ticks\":\"\"},\"colorscale\":[[0.0,\"#0d0887\"],[0.1111111111111111,\"#46039f\"],[0.2222222222222222,\"#7201a8\"],[0.3333333333333333,\"#9c179e\"],[0.4444444444444444,\"#bd3786\"],[0.5555555555555556,\"#d8576b\"],[0.6666666666666666,\"#ed7953\"],[0.7777777777777778,\"#fb9f3a\"],[0.8888888888888888,\"#fdca26\"],[1.0,\"#f0f921\"]],\"type\":\"histogram2dcontour\"}],\"mesh3d\":[{\"colorbar\":{\"outlinewidth\":0,\"ticks\":\"\"},\"type\":\"mesh3d\"}],\"parcoords\":[{\"line\":{\"colorbar\":{\"outlinewidth\":0,\"ticks\":\"\"}},\"type\":\"parcoords\"}],\"pie\":[{\"automargin\":true,\"type\":\"pie\"}],\"scatter\":[{\"marker\":{\"colorbar\":{\"outlinewidth\":0,\"ticks\":\"\"}},\"type\":\"scatter\"}],\"scatter3d\":[{\"line\":{\"colorbar\":{\"outlinewidth\":0,\"ticks\":\"\"}},\"marker\":{\"colorbar\":{\"outlinewidth\":0,\"ticks\":\"\"}},\"type\":\"scatter3d\"}],\"scattercarpet\":[{\"marker\":{\"colorbar\":{\"outlinewidth\":0,\"ticks\":\"\"}},\"type\":\"scattercarpet\"}],\"scattergeo\":[{\"marker\":{\"colorbar\":{\"outlinewidth\":0,\"ticks\":\"\"}},\"type\":\"scattergeo\"}],\"scattergl\":[{\"marker\":{\"colorbar\":{\"outlinewidth\":0,\"ticks\":\"\"}},\"type\":\"scattergl\"}],\"scattermapbox\":[{\"marker\":{\"colorbar\":{\"outlinewidth\":0,\"ticks\":\"\"}},\"type\":\"scattermapbox\"}],\"scatterpolar\":[{\"marker\":{\"colorbar\":{\"outlinewidth\":0,\"ticks\":\"\"}},\"type\":\"scatterpolar\"}],\"scatterpolargl\":[{\"marker\":{\"colorbar\":{\"outlinewidth\":0,\"ticks\":\"\"}},\"type\":\"scatterpolargl\"}],\"scatterternary\":[{\"marker\":{\"colorbar\":{\"outlinewidth\":0,\"ticks\":\"\"}},\"type\":\"scatterternary\"}],\"surface\":[{\"colorbar\":{\"outlinewidth\":0,\"ticks\":\"\"},\"colorscale\":[[0.0,\"#0d0887\"],[0.1111111111111111,\"#46039f\"],[0.2222222222222222,\"#7201a8\"],[0.3333333333333333,\"#9c179e\"],[0.4444444444444444,\"#bd3786\"],[0.5555555555555556,\"#d8576b\"],[0.6666666666666666,\"#ed7953\"],[0.7777777777777778,\"#fb9f3a\"],[0.8888888888888888,\"#fdca26\"],[1.0,\"#f0f921\"]],\"type\":\"surface\"}],\"table\":[{\"cells\":{\"fill\":{\"color\":\"#EBF0F8\"},\"line\":{\"color\":\"white\"}},\"header\":{\"fill\":{\"color\":\"#C8D4E3\"},\"line\":{\"color\":\"white\"}},\"type\":\"table\"}]},\"layout\":{\"annotationdefaults\":{\"arrowcolor\":\"#2a3f5f\",\"arrowhead\":0,\"arrowwidth\":1},\"autotypenumbers\":\"strict\",\"coloraxis\":{\"colorbar\":{\"outlinewidth\":0,\"ticks\":\"\"}},\"colorscale\":{\"diverging\":[[0,\"#8e0152\"],[0.1,\"#c51b7d\"],[0.2,\"#de77ae\"],[0.3,\"#f1b6da\"],[0.4,\"#fde0ef\"],[0.5,\"#f7f7f7\"],[0.6,\"#e6f5d0\"],[0.7,\"#b8e186\"],[0.8,\"#7fbc41\"],[0.9,\"#4d9221\"],[1,\"#276419\"]],\"sequential\":[[0.0,\"#0d0887\"],[0.1111111111111111,\"#46039f\"],[0.2222222222222222,\"#7201a8\"],[0.3333333333333333,\"#9c179e\"],[0.4444444444444444,\"#bd3786\"],[0.5555555555555556,\"#d8576b\"],[0.6666666666666666,\"#ed7953\"],[0.7777777777777778,\"#fb9f3a\"],[0.8888888888888888,\"#fdca26\"],[1.0,\"#f0f921\"]],\"sequentialminus\":[[0.0,\"#0d0887\"],[0.1111111111111111,\"#46039f\"],[0.2222222222222222,\"#7201a8\"],[0.3333333333333333,\"#9c179e\"],[0.4444444444444444,\"#bd3786\"],[0.5555555555555556,\"#d8576b\"],[0.6666666666666666,\"#ed7953\"],[0.7777777777777778,\"#fb9f3a\"],[0.8888888888888888,\"#fdca26\"],[1.0,\"#f0f921\"]]},\"colorway\":[\"#636efa\",\"#EF553B\",\"#00cc96\",\"#ab63fa\",\"#FFA15A\",\"#19d3f3\",\"#FF6692\",\"#B6E880\",\"#FF97FF\",\"#FECB52\"],\"font\":{\"color\":\"#2a3f5f\"},\"geo\":{\"bgcolor\":\"white\",\"lakecolor\":\"white\",\"landcolor\":\"#E5ECF6\",\"showlakes\":true,\"showland\":true,\"subunitcolor\":\"white\"},\"hoverlabel\":{\"align\":\"left\"},\"hovermode\":\"closest\",\"mapbox\":{\"style\":\"light\"},\"paper_bgcolor\":\"white\",\"plot_bgcolor\":\"#E5ECF6\",\"polar\":{\"angularaxis\":{\"gridcolor\":\"white\",\"linecolor\":\"white\",\"ticks\":\"\"},\"bgcolor\":\"#E5ECF6\",\"radialaxis\":{\"gridcolor\":\"white\",\"linecolor\":\"white\",\"ticks\":\"\"}},\"scene\":{\"xaxis\":{\"backgroundcolor\":\"#E5ECF6\",\"gridcolor\":\"white\",\"gridwidth\":2,\"linecolor\":\"white\",\"showbackground\":true,\"ticks\":\"\",\"zerolinecolor\":\"white\"},\"yaxis\":{\"backgroundcolor\":\"#E5ECF6\",\"gridcolor\":\"white\",\"gridwidth\":2,\"linecolor\":\"white\",\"showbackground\":true,\"ticks\":\"\",\"zerolinecolor\":\"white\"},\"zaxis\":{\"backgroundcolor\":\"#E5ECF6\",\"gridcolor\":\"white\",\"gridwidth\":2,\"linecolor\":\"white\",\"showbackground\":true,\"ticks\":\"\",\"zerolinecolor\":\"white\"}},\"shapedefaults\":{\"line\":{\"color\":\"#2a3f5f\"}},\"ternary\":{\"aaxis\":{\"gridcolor\":\"white\",\"linecolor\":\"white\",\"ticks\":\"\"},\"baxis\":{\"gridcolor\":\"white\",\"linecolor\":\"white\",\"ticks\":\"\"},\"bgcolor\":\"#E5ECF6\",\"caxis\":{\"gridcolor\":\"white\",\"linecolor\":\"white\",\"ticks\":\"\"}},\"title\":{\"x\":0.05},\"xaxis\":{\"automargin\":true,\"gridcolor\":\"white\",\"linecolor\":\"white\",\"ticks\":\"\",\"title\":{\"standoff\":15},\"zerolinecolor\":\"white\",\"zerolinewidth\":2},\"yaxis\":{\"automargin\":true,\"gridcolor\":\"white\",\"linecolor\":\"white\",\"ticks\":\"\",\"title\":{\"standoff\":15},\"zerolinecolor\":\"white\",\"zerolinewidth\":2}}},\"title\":{\"text\":\"Delivery Word2Vec\"}},                        {\"responsive\": true}                    ).then(function(){\n",
              "                            \n",
              "var gd = document.getElementById('7dca39af-1521-456e-bb5c-0c4594978d92');\n",
              "var x = new MutationObserver(function (mutations, observer) {{\n",
              "        var display = window.getComputedStyle(gd).display;\n",
              "        if (!display || display === 'none') {{\n",
              "            console.log([gd, 'removed!']);\n",
              "            Plotly.purge(gd);\n",
              "            observer.disconnect();\n",
              "        }}\n",
              "}});\n",
              "\n",
              "// Listen for the removal of the full notebook cells\n",
              "var notebookContainer = gd.closest('#notebook-container');\n",
              "if (notebookContainer) {{\n",
              "    x.observe(notebookContainer, {childList: true});\n",
              "}}\n",
              "\n",
              "// Listen for the clearing of the current output cell\n",
              "var outputEl = gd.closest('.output');\n",
              "if (outputEl) {{\n",
              "    x.observe(outputEl, {childList: true});\n",
              "}}\n",
              "\n",
              "                        })                };                            </script>        </div>\n",
              "</body>\n",
              "</html>"
            ]
          },
          "metadata": {}
        }
      ]
    },
    {
      "cell_type": "code",
      "source": [
        "plotly.offline.plot(\n",
        "fig, filename='Delivery_word2vec.html'\n",
        ")"
      ],
      "metadata": {
        "colab": {
          "base_uri": "https://localhost:8080/",
          "height": 35
        },
        "id": "Ghcj01GWTKPW",
        "outputId": "7ccd32ec-86c5-4b94-ceb7-8be9c21f2c2e"
      },
      "execution_count": null,
      "outputs": [
        {
          "output_type": "execute_result",
          "data": {
            "text/plain": [
              "'Delivery_word2vec.html'"
            ],
            "application/vnd.google.colaboratory.intrinsic+json": {
              "type": "string"
            }
          },
          "metadata": {},
          "execution_count": 34
        }
      ]
    },
    {
      "cell_type": "code",
      "source": [],
      "metadata": {
        "id": "aeNlWPhPV96f"
      },
      "execution_count": null,
      "outputs": []
    }
  ]
}