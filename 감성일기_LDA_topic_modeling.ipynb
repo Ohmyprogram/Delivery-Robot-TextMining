{
  "nbformat": 4,
  "nbformat_minor": 0,
  "metadata": {
    "colab": {
      "provenance": [],
      "include_colab_link": true
    },
    "kernelspec": {
      "name": "python3",
      "display_name": "Python 3"
    },
    "language_info": {
      "name": "python"
    }
  },
  "cells": [
    {
      "cell_type": "markdown",
      "metadata": {
        "id": "view-in-github",
        "colab_type": "text"
      },
      "source": [
        "<a href=\"https://colab.research.google.com/github/Ohmyprogram/Delivery-Robot-TextMining/blob/main/%EA%B0%90%EC%84%B1%EC%9D%BC%EA%B8%B0_LDA_topic_modeling.ipynb\" target=\"_parent\"><img src=\"https://colab.research.google.com/assets/colab-badge.svg\" alt=\"Open In Colab\"/></a>"
      ]
    },
    {
      "cell_type": "markdown",
      "metadata": {
        "id": "__ABdyJIXtr_"
      },
      "source": [
        "# 1. 코랩 환경 설정"
      ]
    },
    {
      "cell_type": "code",
      "metadata": {
        "colab": {
          "base_uri": "https://localhost:8080/"
        },
        "id": "uQNJGn8UUUtw",
        "outputId": "192e9f14-1f2b-4c03-ab24-c251ff2ed283"
      },
      "source": [
        "from google.colab import drive\n",
        "drive.mount('/content/drive')"
      ],
      "execution_count": null,
      "outputs": [
        {
          "output_type": "stream",
          "name": "stdout",
          "text": [
            "Drive already mounted at /content/drive; to attempt to forcibly remount, call drive.mount(\"/content/drive\", force_remount=True).\n"
          ]
        }
      ]
    },
    {
      "cell_type": "code",
      "metadata": {
        "colab": {
          "base_uri": "https://localhost:8080/"
        },
        "id": "quZmKjGAX7Zi",
        "outputId": "e67aad22-2978-4d43-e286-6c102adbcb75"
      },
      "source": [
        "# 디렉토리 변경\n",
        "%cd drive/MyDrive/혁신기술텍스트마이닝"
      ],
      "execution_count": null,
      "outputs": [
        {
          "output_type": "stream",
          "name": "stdout",
          "text": [
            "/content/drive/MyDrive/혁신기술텍스트마이닝\n"
          ]
        }
      ]
    },
    {
      "cell_type": "code",
      "metadata": {
        "colab": {
          "base_uri": "https://localhost:8080/"
        },
        "id": "vc7VOSxOX8Qb",
        "outputId": "18d63b60-30b4-4eee-e6b5-ad0537b35ffc"
      },
      "source": [
        "# 현재 디렉토리 경로 확인\n",
        "!pwd"
      ],
      "execution_count": null,
      "outputs": [
        {
          "output_type": "stream",
          "name": "stdout",
          "text": [
            "/content/drive/MyDrive/혁신기술텍스트마이닝\n"
          ]
        }
      ]
    },
    {
      "cell_type": "markdown",
      "source": [
        "# 라이브러리"
      ],
      "metadata": {
        "id": "O8WtpehsTxZc"
      }
    },
    {
      "cell_type": "code",
      "source": [
        "# !pip install PyKomoran"
      ],
      "metadata": {
        "colab": {
          "base_uri": "https://localhost:8080/"
        },
        "id": "tQFMREXsikCt",
        "outputId": "124f529f-eb34-48c3-c077-b699007b7034"
      },
      "execution_count": null,
      "outputs": [
        {
          "output_type": "stream",
          "name": "stdout",
          "text": [
            "Looking in indexes: https://pypi.org/simple, https://us-python.pkg.dev/colab-wheels/public/simple/\n",
            "Requirement already satisfied: PyKomoran in /usr/local/lib/python3.7/dist-packages (0.1.6.post1)\n",
            "Requirement already satisfied: py4j==0.10.9.2 in /usr/local/lib/python3.7/dist-packages (from PyKomoran) (0.10.9.2)\n"
          ]
        }
      ]
    },
    {
      "cell_type": "code",
      "source": [
        "# !pip install git+https://github.com/ssut/py-hanspell.git\n",
        "# !pip install tqdm"
      ],
      "metadata": {
        "colab": {
          "base_uri": "https://localhost:8080/"
        },
        "id": "FNgW301Mqw3K",
        "outputId": "1aa716ed-834c-49bd-c58b-a33c466cd864"
      },
      "execution_count": null,
      "outputs": [
        {
          "output_type": "stream",
          "name": "stdout",
          "text": [
            "Looking in indexes: https://pypi.org/simple, https://us-python.pkg.dev/colab-wheels/public/simple/\n",
            "Collecting git+https://github.com/ssut/py-hanspell.git\n",
            "  Cloning https://github.com/ssut/py-hanspell.git to /tmp/pip-req-build-boq6m10t\n",
            "  Running command git clone -q https://github.com/ssut/py-hanspell.git /tmp/pip-req-build-boq6m10t\n",
            "Requirement already satisfied: requests in /usr/local/lib/python3.7/dist-packages (from py-hanspell==1.1) (2.23.0)\n",
            "Requirement already satisfied: idna<3,>=2.5 in /usr/local/lib/python3.7/dist-packages (from requests->py-hanspell==1.1) (2.10)\n",
            "Requirement already satisfied: certifi>=2017.4.17 in /usr/local/lib/python3.7/dist-packages (from requests->py-hanspell==1.1) (2022.6.15)\n",
            "Requirement already satisfied: chardet<4,>=3.0.2 in /usr/local/lib/python3.7/dist-packages (from requests->py-hanspell==1.1) (3.0.4)\n",
            "Requirement already satisfied: urllib3!=1.25.0,!=1.25.1,<1.26,>=1.21.1 in /usr/local/lib/python3.7/dist-packages (from requests->py-hanspell==1.1) (1.24.3)\n",
            "Building wheels for collected packages: py-hanspell\n",
            "  Building wheel for py-hanspell (setup.py) ... \u001b[?25l\u001b[?25hdone\n",
            "  Created wheel for py-hanspell: filename=py_hanspell-1.1-py3-none-any.whl size=4868 sha256=7410839c411853a2879b24b71bf920807b66025d21ba3868eaa59209e256956d\n",
            "  Stored in directory: /tmp/pip-ephem-wheel-cache-pdqy32p3/wheels/ab/f5/7b/d4124bb329c905301baed80e2ae45aa14e824f62ebc3ec2cc4\n",
            "Successfully built py-hanspell\n",
            "Installing collected packages: py-hanspell\n",
            "Successfully installed py-hanspell-1.1\n",
            "Looking in indexes: https://pypi.org/simple, https://us-python.pkg.dev/colab-wheels/public/simple/\n",
            "Requirement already satisfied: tqdm in /usr/local/lib/python3.7/dist-packages (4.64.0)\n"
          ]
        }
      ]
    },
    {
      "cell_type": "code",
      "source": [
        "import io\n",
        "import pandas as pd\n",
        "from wordcloud import WordCloud\n",
        "from collections import Counter\n",
        "from PyKomoran import *\n",
        "import matplotlib.pyplot as plt\n",
        "from PIL import Image\n",
        "import numpy as np\n",
        "import regex\n",
        "import platform\n",
        "import matplotlib.font_manager as fm\n",
        "import re\n",
        "from hanspell import spell_checker\n",
        "from tqdm import tqdm"
      ],
      "metadata": {
        "id": "LtzX0vp3TgyX"
      },
      "execution_count": null,
      "outputs": []
    },
    {
      "cell_type": "markdown",
      "source": [
        "# 데이터 전처리"
      ],
      "metadata": {
        "id": "aUuXKdYCqIkl"
      }
    },
    {
      "cell_type": "code",
      "source": [
        "raw_data = pd.read_excel('/content/drive/MyDrive/혁신기술텍스트마이닝/data/raw_data.xlsx')\n",
        "raw_data.head()"
      ],
      "metadata": {
        "colab": {
          "base_uri": "https://localhost:8080/",
          "height": 206
        },
        "id": "gNTp43qOqIRx",
        "outputId": "f8e878cb-bdfe-42ea-f962-06c88b5ee272"
      },
      "execution_count": null,
      "outputs": [
        {
          "output_type": "execute_result",
          "data": {
            "text/plain": [
              "                                  느낀점\n",
              "0  시도한지 20분이 지나도 배차가 되지 않아서 결국 버스로 환승\n",
              "1         호출했으나 이번에도 배차가 30분 정도 되지 않음\n",
              "2     운좋게 배차가 됐고 약 20분 후에 도착한다고 바로 알림\n",
              "3                   예상 시간과 비슷한 시간에 탑승\n",
              "4            QR코드를 기기에 태그하기만 하면 돼서 간편"
            ],
            "text/html": [
              "\n",
              "  <div id=\"df-c5058996-3b41-4477-a5b2-64966054372d\">\n",
              "    <div class=\"colab-df-container\">\n",
              "      <div>\n",
              "<style scoped>\n",
              "    .dataframe tbody tr th:only-of-type {\n",
              "        vertical-align: middle;\n",
              "    }\n",
              "\n",
              "    .dataframe tbody tr th {\n",
              "        vertical-align: top;\n",
              "    }\n",
              "\n",
              "    .dataframe thead th {\n",
              "        text-align: right;\n",
              "    }\n",
              "</style>\n",
              "<table border=\"1\" class=\"dataframe\">\n",
              "  <thead>\n",
              "    <tr style=\"text-align: right;\">\n",
              "      <th></th>\n",
              "      <th>느낀점</th>\n",
              "    </tr>\n",
              "  </thead>\n",
              "  <tbody>\n",
              "    <tr>\n",
              "      <th>0</th>\n",
              "      <td>시도한지 20분이 지나도 배차가 되지 않아서 결국 버스로 환승</td>\n",
              "    </tr>\n",
              "    <tr>\n",
              "      <th>1</th>\n",
              "      <td>호출했으나 이번에도 배차가 30분 정도 되지 않음</td>\n",
              "    </tr>\n",
              "    <tr>\n",
              "      <th>2</th>\n",
              "      <td>운좋게 배차가 됐고 약 20분 후에 도착한다고 바로 알림</td>\n",
              "    </tr>\n",
              "    <tr>\n",
              "      <th>3</th>\n",
              "      <td>예상 시간과 비슷한 시간에 탑승</td>\n",
              "    </tr>\n",
              "    <tr>\n",
              "      <th>4</th>\n",
              "      <td>QR코드를 기기에 태그하기만 하면 돼서 간편</td>\n",
              "    </tr>\n",
              "  </tbody>\n",
              "</table>\n",
              "</div>\n",
              "      <button class=\"colab-df-convert\" onclick=\"convertToInteractive('df-c5058996-3b41-4477-a5b2-64966054372d')\"\n",
              "              title=\"Convert this dataframe to an interactive table.\"\n",
              "              style=\"display:none;\">\n",
              "        \n",
              "  <svg xmlns=\"http://www.w3.org/2000/svg\" height=\"24px\"viewBox=\"0 0 24 24\"\n",
              "       width=\"24px\">\n",
              "    <path d=\"M0 0h24v24H0V0z\" fill=\"none\"/>\n",
              "    <path d=\"M18.56 5.44l.94 2.06.94-2.06 2.06-.94-2.06-.94-.94-2.06-.94 2.06-2.06.94zm-11 1L8.5 8.5l.94-2.06 2.06-.94-2.06-.94L8.5 2.5l-.94 2.06-2.06.94zm10 10l.94 2.06.94-2.06 2.06-.94-2.06-.94-.94-2.06-.94 2.06-2.06.94z\"/><path d=\"M17.41 7.96l-1.37-1.37c-.4-.4-.92-.59-1.43-.59-.52 0-1.04.2-1.43.59L10.3 9.45l-7.72 7.72c-.78.78-.78 2.05 0 2.83L4 21.41c.39.39.9.59 1.41.59.51 0 1.02-.2 1.41-.59l7.78-7.78 2.81-2.81c.8-.78.8-2.07 0-2.86zM5.41 20L4 18.59l7.72-7.72 1.47 1.35L5.41 20z\"/>\n",
              "  </svg>\n",
              "      </button>\n",
              "      \n",
              "  <style>\n",
              "    .colab-df-container {\n",
              "      display:flex;\n",
              "      flex-wrap:wrap;\n",
              "      gap: 12px;\n",
              "    }\n",
              "\n",
              "    .colab-df-convert {\n",
              "      background-color: #E8F0FE;\n",
              "      border: none;\n",
              "      border-radius: 50%;\n",
              "      cursor: pointer;\n",
              "      display: none;\n",
              "      fill: #1967D2;\n",
              "      height: 32px;\n",
              "      padding: 0 0 0 0;\n",
              "      width: 32px;\n",
              "    }\n",
              "\n",
              "    .colab-df-convert:hover {\n",
              "      background-color: #E2EBFA;\n",
              "      box-shadow: 0px 1px 2px rgba(60, 64, 67, 0.3), 0px 1px 3px 1px rgba(60, 64, 67, 0.15);\n",
              "      fill: #174EA6;\n",
              "    }\n",
              "\n",
              "    [theme=dark] .colab-df-convert {\n",
              "      background-color: #3B4455;\n",
              "      fill: #D2E3FC;\n",
              "    }\n",
              "\n",
              "    [theme=dark] .colab-df-convert:hover {\n",
              "      background-color: #434B5C;\n",
              "      box-shadow: 0px 1px 3px 1px rgba(0, 0, 0, 0.15);\n",
              "      filter: drop-shadow(0px 1px 2px rgba(0, 0, 0, 0.3));\n",
              "      fill: #FFFFFF;\n",
              "    }\n",
              "  </style>\n",
              "\n",
              "      <script>\n",
              "        const buttonEl =\n",
              "          document.querySelector('#df-c5058996-3b41-4477-a5b2-64966054372d button.colab-df-convert');\n",
              "        buttonEl.style.display =\n",
              "          google.colab.kernel.accessAllowed ? 'block' : 'none';\n",
              "\n",
              "        async function convertToInteractive(key) {\n",
              "          const element = document.querySelector('#df-c5058996-3b41-4477-a5b2-64966054372d');\n",
              "          const dataTable =\n",
              "            await google.colab.kernel.invokeFunction('convertToInteractive',\n",
              "                                                     [key], {});\n",
              "          if (!dataTable) return;\n",
              "\n",
              "          const docLinkHtml = 'Like what you see? Visit the ' +\n",
              "            '<a target=\"_blank\" href=https://colab.research.google.com/notebooks/data_table.ipynb>data table notebook</a>'\n",
              "            + ' to learn more about interactive tables.';\n",
              "          element.innerHTML = '';\n",
              "          dataTable['output_type'] = 'display_data';\n",
              "          await google.colab.output.renderOutput(dataTable, element);\n",
              "          const docLink = document.createElement('div');\n",
              "          docLink.innerHTML = docLinkHtml;\n",
              "          element.appendChild(docLink);\n",
              "        }\n",
              "      </script>\n",
              "    </div>\n",
              "  </div>\n",
              "  "
            ]
          },
          "metadata": {},
          "execution_count": 6
        }
      ]
    },
    {
      "cell_type": "code",
      "source": [
        "# nan값 제거,맞춤법,'\";\"등 . , 제외한 다른 기호 제거\n",
        "raw_data.isnull().sum()"
      ],
      "metadata": {
        "colab": {
          "base_uri": "https://localhost:8080/"
        },
        "id": "Xl6E2v4kq8Lb",
        "outputId": "61ba67b6-218f-4e73-bc1a-af182bd02af7"
      },
      "execution_count": null,
      "outputs": [
        {
          "output_type": "execute_result",
          "data": {
            "text/plain": [
              "느낀점    7\n",
              "dtype: int64"
            ]
          },
          "metadata": {},
          "execution_count": 9
        }
      ]
    },
    {
      "cell_type": "code",
      "source": [
        "clean_df = raw_data.dropna()\n",
        "clean_df.isnull().sum()"
      ],
      "metadata": {
        "colab": {
          "base_uri": "https://localhost:8080/"
        },
        "id": "C3zZAEkUselX",
        "outputId": "8d2b5a07-b00a-49fe-c28e-8cb7b60615e5"
      },
      "execution_count": null,
      "outputs": [
        {
          "output_type": "execute_result",
          "data": {
            "text/plain": [
              "느낀점    0\n",
              "dtype: int64"
            ]
          },
          "metadata": {},
          "execution_count": 10
        }
      ]
    },
    {
      "cell_type": "code",
      "source": [
        "# 텍스트 전처리\n",
        "def cleanText(text):\n",
        "  specialChar = '[-=+#/\\?:^$@*\\\"※~&%ㆍ!』\\\\‘|\\(\\)\\[\\]\\<\\>`\\'…》❤♥♡ㅏㅑㅓㅑㅗㅛㅜㅠㅢㅡㅣㄱㄴㄷㄹㅁㅂㅅㅇㅈㅊㅋㅌㅍㅎㄲㄸㅆㅉㅃ]'\n",
        "  text = ''.join(c for c in text if c not in specialChar)\n",
        "  only_BMP_pattern = re.compile(\"[\"\n",
        "        u\"\\U00010000-\\U0010FFFF\"  #BMP characters 이외 (이모지 제거)\n",
        "                           \"]+\", flags=re.UNICODE)\n",
        "  return only_BMP_pattern.sub(r'', text)\n",
        "\n",
        "# 맞춤법 검사\n",
        "def spell_check(comments):\n",
        "  for k in tqdm(range(len(comments))):\n",
        "    comments[k] = cleanText(comments[k])\n",
        "    spelled_sent = spell_checker.check(comments[k])\n",
        "    checked_sent = spelled_sent.checked\n",
        "    comments[k] = checked_sent\n",
        "  print(\"맞춤법 검사 완료\")\n",
        "\n",
        "  #return comments.to_csv(bank_name+'_spell_checked.csv')\n",
        "\n",
        "\n",
        "spell_check(clean_df['comment'])\n",
        "clean_df.to_csv(\"comments_spell_checked.csv\")"
      ],
      "metadata": {
        "id": "fvlBuORyqUfT"
      },
      "execution_count": null,
      "outputs": []
    },
    {
      "cell_type": "code",
      "source": [
        "# documents=[\n",
        "#     '점심을 주문하기 위해 요기요에 들어가서 메뉴를 보고 짜장면과 탕수육을 대연각에서 주문하였다. 대연각은 로봇과 연계 배송을 하는지 기존 주문 프로세스와 다르게 라이더 배정 및 로봇 배차 정보가 전송되었다. 로봇이 어떻게 배송을 해주는 것인지에 대해 자세한 설명이 없어 주문이 잘 된 것인지, 잘못 된 것인지 모호했고, 기존 프로세스와 조금 상이하여 음식이 잘못 올 수도 있겠다는 우려가 조금 있었다. 우선 처음 경험하는 로봇 배달이었기에 생소하여 이에 대한 자세한 설명과 프로세스에 대한 정보를 팝업 혹은 안내 형태로 알려주었으면 좋겠다는 생각이 들었다.',\n",
        "#     '라이더가 물품을 픽업 후 배달을 시작했다는 알림을 받았고, 기존 주문 배달 프로세스와 동일하게 라이더의 배달 이동경로 확인이 가능하여 이 단계에서는 크게 불편한 부분을 느끼지 못하였다. 하지만 로봇 배송이 시작되었는지 로봇의 배송 도착 안내에 대한 문자를 받았을 때, 조금 불편함을 느꼈다. 라이더가 물품을 픽업하는 부분에 대해서는 카카오톡으로 알림이 오고 이것이 요기요 앱과 연동되어 버튼 하나로 바로 앱으로 연동되지만 로봇 배달에 대한 안내는 문자로 수신받아 카카오톡, 요기요, 문자 창까지 삼중으로 켜놓아야 했다. 로봇 배달에 대한 안내 또한 요기요 앱 혹은 카카오톡으로 수신받으면 좋을 듯 하다. 또한 로봇의 도착 소요시간과 이동경로 확인이 어려워 라이더가 배달하는 프로세스보다 훨씬 불편했다.',\n",
        "#     '로봇이 도착했다는 전화가 왔었는데, 당시에 내가 화장실에 가있어 전화를 받지 못하였다. 로봇의 대략적인 도착시간 또한 안내 받지 못하였기 때문에 언제쯤 도착할 것이라는 시간대를 전혀 몰라 로봇의 도착 전화를 15분 후에 확인할 수 있었다. 물품을 수령하러 로봇 도착 포인트로 가 문자로 수신받았던 본인인증 번호를 입력하였고 로봇 물품칸이 열려 음식을 수령하였다.',\n",
        "#     '전화를 못받았던 터라 음식이 다 식었고, 불어있었다. 로봇이 도착했다고 안내 전화가 왔었는데 내가 전화를 받지 못하여 음식 상태가 안좋은 것 같아 반품 요청을 하기가 애매하여 우선 수령완료를 로봇 터치패드에서 눌렀다. 주문 물품 및 음식에 대한 반품 기준이 필요할 듯 하였다. 과실이 누구인지가 애매하여 이러한 부분은 명확한 기준이 필요할 것으로 보인다. 또한, 로봇 배송의 이점은 배달 소요시간인 듯 한데, 소요시간이 오히려 오래걸린 듯 하고, 서비스 프로세스 자체가 너무 생소하여 이에 대한 정확한 안내가 필요해보인다. 로봇의 경로 표시 또한 해주어야 할 듯 하다.'\n",
        "# ]\n",
        "\n",
        "# sentences = []                                                                                #단문들 담을 리스트\n",
        "# for doc in documents:\n",
        "#   sen = doc.split('.')\n",
        "#   sen.pop()\n",
        "#   sentences = sentences+sen\n",
        "\n",
        "# df = pd.DataFrame({'Content' : sentences})\n",
        "\n",
        "# df"
      ],
      "metadata": {
        "colab": {
          "base_uri": "https://localhost:8080/",
          "height": 613
        },
        "id": "PvEAFXGoTy7M",
        "outputId": "e5cfaa67-6d4d-41b2-de8f-2aa15cf56a73"
      },
      "execution_count": null,
      "outputs": [
        {
          "output_type": "execute_result",
          "data": {
            "text/plain": [
              "                                              Content\n",
              "0   점심을 주문하기 위해 요기요에 들어가서 메뉴를 보고 짜장면과 탕수육을 대연각에서 주...\n",
              "1    대연각은 로봇과 연계 배송을 하는지 기존 주문 프로세스와 다르게 라이더 배정 및 ...\n",
              "2    로봇이 어떻게 배송을 해주는 것인지에 대해 자세한 설명이 없어 주문이 잘 된 것인...\n",
              "3    우선 처음 경험하는 로봇 배달이었기에 생소하여 이에 대한 자세한 설명과 프로세스에...\n",
              "4   라이더가 물품을 픽업 후 배달을 시작했다는 알림을 받았고, 기존 주문 배달 프로세스...\n",
              "5    하지만 로봇 배송이 시작되었는지 로봇의 배송 도착 안내에 대한 문자를 받았을 때,...\n",
              "6    라이더가 물품을 픽업하는 부분에 대해서는 카카오톡으로 알림이 오고 이것이 요기요 ...\n",
              "7       로봇 배달에 대한 안내 또한 요기요 앱 혹은 카카오톡으로 수신받으면 좋을 듯 하다\n",
              "8    또한 로봇의 도착 소요시간과 이동경로 확인이 어려워 라이더가 배달하는 프로세스보다...\n",
              "9     로봇이 도착했다는 전화가 왔었는데, 당시에 내가 화장실에 가있어 전화를 받지 못하였다\n",
              "10   로봇의 대략적인 도착시간 또한 안내 받지 못하였기 때문에 언제쯤 도착할 것이라는 ...\n",
              "11   물품을 수령하러 로봇 도착 포인트로 가 문자로 수신받았던 본인인증 번호를 입력하였...\n",
              "12                       전화를 못받았던 터라 음식이 다 식었고, 불어있었다\n",
              "13   로봇이 도착했다고 안내 전화가 왔었는데 내가 전화를 받지 못하여 음식 상태가 안좋...\n",
              "14                    주문 물품 및 음식에 대한 반품 기준이 필요할 듯 하였다\n",
              "15         과실이 누구인지가 애매하여 이러한 부분은 명확한 기준이 필요할 것으로 보인다\n",
              "16   또한, 로봇 배송의 이점은 배달 소요시간인 듯 한데, 소요시간이 오히려 오래걸린 ...\n",
              "17                           로봇의 경로 표시 또한 해주어야 할 듯 하다"
            ],
            "text/html": [
              "\n",
              "  <div id=\"df-895bac3d-f982-4d14-a430-9cfd6a58014b\">\n",
              "    <div class=\"colab-df-container\">\n",
              "      <div>\n",
              "<style scoped>\n",
              "    .dataframe tbody tr th:only-of-type {\n",
              "        vertical-align: middle;\n",
              "    }\n",
              "\n",
              "    .dataframe tbody tr th {\n",
              "        vertical-align: top;\n",
              "    }\n",
              "\n",
              "    .dataframe thead th {\n",
              "        text-align: right;\n",
              "    }\n",
              "</style>\n",
              "<table border=\"1\" class=\"dataframe\">\n",
              "  <thead>\n",
              "    <tr style=\"text-align: right;\">\n",
              "      <th></th>\n",
              "      <th>Content</th>\n",
              "    </tr>\n",
              "  </thead>\n",
              "  <tbody>\n",
              "    <tr>\n",
              "      <th>0</th>\n",
              "      <td>점심을 주문하기 위해 요기요에 들어가서 메뉴를 보고 짜장면과 탕수육을 대연각에서 주...</td>\n",
              "    </tr>\n",
              "    <tr>\n",
              "      <th>1</th>\n",
              "      <td>대연각은 로봇과 연계 배송을 하는지 기존 주문 프로세스와 다르게 라이더 배정 및 ...</td>\n",
              "    </tr>\n",
              "    <tr>\n",
              "      <th>2</th>\n",
              "      <td>로봇이 어떻게 배송을 해주는 것인지에 대해 자세한 설명이 없어 주문이 잘 된 것인...</td>\n",
              "    </tr>\n",
              "    <tr>\n",
              "      <th>3</th>\n",
              "      <td>우선 처음 경험하는 로봇 배달이었기에 생소하여 이에 대한 자세한 설명과 프로세스에...</td>\n",
              "    </tr>\n",
              "    <tr>\n",
              "      <th>4</th>\n",
              "      <td>라이더가 물품을 픽업 후 배달을 시작했다는 알림을 받았고, 기존 주문 배달 프로세스...</td>\n",
              "    </tr>\n",
              "    <tr>\n",
              "      <th>5</th>\n",
              "      <td>하지만 로봇 배송이 시작되었는지 로봇의 배송 도착 안내에 대한 문자를 받았을 때,...</td>\n",
              "    </tr>\n",
              "    <tr>\n",
              "      <th>6</th>\n",
              "      <td>라이더가 물품을 픽업하는 부분에 대해서는 카카오톡으로 알림이 오고 이것이 요기요 ...</td>\n",
              "    </tr>\n",
              "    <tr>\n",
              "      <th>7</th>\n",
              "      <td>로봇 배달에 대한 안내 또한 요기요 앱 혹은 카카오톡으로 수신받으면 좋을 듯 하다</td>\n",
              "    </tr>\n",
              "    <tr>\n",
              "      <th>8</th>\n",
              "      <td>또한 로봇의 도착 소요시간과 이동경로 확인이 어려워 라이더가 배달하는 프로세스보다...</td>\n",
              "    </tr>\n",
              "    <tr>\n",
              "      <th>9</th>\n",
              "      <td>로봇이 도착했다는 전화가 왔었는데, 당시에 내가 화장실에 가있어 전화를 받지 못하였다</td>\n",
              "    </tr>\n",
              "    <tr>\n",
              "      <th>10</th>\n",
              "      <td>로봇의 대략적인 도착시간 또한 안내 받지 못하였기 때문에 언제쯤 도착할 것이라는 ...</td>\n",
              "    </tr>\n",
              "    <tr>\n",
              "      <th>11</th>\n",
              "      <td>물품을 수령하러 로봇 도착 포인트로 가 문자로 수신받았던 본인인증 번호를 입력하였...</td>\n",
              "    </tr>\n",
              "    <tr>\n",
              "      <th>12</th>\n",
              "      <td>전화를 못받았던 터라 음식이 다 식었고, 불어있었다</td>\n",
              "    </tr>\n",
              "    <tr>\n",
              "      <th>13</th>\n",
              "      <td>로봇이 도착했다고 안내 전화가 왔었는데 내가 전화를 받지 못하여 음식 상태가 안좋...</td>\n",
              "    </tr>\n",
              "    <tr>\n",
              "      <th>14</th>\n",
              "      <td>주문 물품 및 음식에 대한 반품 기준이 필요할 듯 하였다</td>\n",
              "    </tr>\n",
              "    <tr>\n",
              "      <th>15</th>\n",
              "      <td>과실이 누구인지가 애매하여 이러한 부분은 명확한 기준이 필요할 것으로 보인다</td>\n",
              "    </tr>\n",
              "    <tr>\n",
              "      <th>16</th>\n",
              "      <td>또한, 로봇 배송의 이점은 배달 소요시간인 듯 한데, 소요시간이 오히려 오래걸린 ...</td>\n",
              "    </tr>\n",
              "    <tr>\n",
              "      <th>17</th>\n",
              "      <td>로봇의 경로 표시 또한 해주어야 할 듯 하다</td>\n",
              "    </tr>\n",
              "  </tbody>\n",
              "</table>\n",
              "</div>\n",
              "      <button class=\"colab-df-convert\" onclick=\"convertToInteractive('df-895bac3d-f982-4d14-a430-9cfd6a58014b')\"\n",
              "              title=\"Convert this dataframe to an interactive table.\"\n",
              "              style=\"display:none;\">\n",
              "        \n",
              "  <svg xmlns=\"http://www.w3.org/2000/svg\" height=\"24px\"viewBox=\"0 0 24 24\"\n",
              "       width=\"24px\">\n",
              "    <path d=\"M0 0h24v24H0V0z\" fill=\"none\"/>\n",
              "    <path d=\"M18.56 5.44l.94 2.06.94-2.06 2.06-.94-2.06-.94-.94-2.06-.94 2.06-2.06.94zm-11 1L8.5 8.5l.94-2.06 2.06-.94-2.06-.94L8.5 2.5l-.94 2.06-2.06.94zm10 10l.94 2.06.94-2.06 2.06-.94-2.06-.94-.94-2.06-.94 2.06-2.06.94z\"/><path d=\"M17.41 7.96l-1.37-1.37c-.4-.4-.92-.59-1.43-.59-.52 0-1.04.2-1.43.59L10.3 9.45l-7.72 7.72c-.78.78-.78 2.05 0 2.83L4 21.41c.39.39.9.59 1.41.59.51 0 1.02-.2 1.41-.59l7.78-7.78 2.81-2.81c.8-.78.8-2.07 0-2.86zM5.41 20L4 18.59l7.72-7.72 1.47 1.35L5.41 20z\"/>\n",
              "  </svg>\n",
              "      </button>\n",
              "      \n",
              "  <style>\n",
              "    .colab-df-container {\n",
              "      display:flex;\n",
              "      flex-wrap:wrap;\n",
              "      gap: 12px;\n",
              "    }\n",
              "\n",
              "    .colab-df-convert {\n",
              "      background-color: #E8F0FE;\n",
              "      border: none;\n",
              "      border-radius: 50%;\n",
              "      cursor: pointer;\n",
              "      display: none;\n",
              "      fill: #1967D2;\n",
              "      height: 32px;\n",
              "      padding: 0 0 0 0;\n",
              "      width: 32px;\n",
              "    }\n",
              "\n",
              "    .colab-df-convert:hover {\n",
              "      background-color: #E2EBFA;\n",
              "      box-shadow: 0px 1px 2px rgba(60, 64, 67, 0.3), 0px 1px 3px 1px rgba(60, 64, 67, 0.15);\n",
              "      fill: #174EA6;\n",
              "    }\n",
              "\n",
              "    [theme=dark] .colab-df-convert {\n",
              "      background-color: #3B4455;\n",
              "      fill: #D2E3FC;\n",
              "    }\n",
              "\n",
              "    [theme=dark] .colab-df-convert:hover {\n",
              "      background-color: #434B5C;\n",
              "      box-shadow: 0px 1px 3px 1px rgba(0, 0, 0, 0.15);\n",
              "      filter: drop-shadow(0px 1px 2px rgba(0, 0, 0, 0.3));\n",
              "      fill: #FFFFFF;\n",
              "    }\n",
              "  </style>\n",
              "\n",
              "      <script>\n",
              "        const buttonEl =\n",
              "          document.querySelector('#df-895bac3d-f982-4d14-a430-9cfd6a58014b button.colab-df-convert');\n",
              "        buttonEl.style.display =\n",
              "          google.colab.kernel.accessAllowed ? 'block' : 'none';\n",
              "\n",
              "        async function convertToInteractive(key) {\n",
              "          const element = document.querySelector('#df-895bac3d-f982-4d14-a430-9cfd6a58014b');\n",
              "          const dataTable =\n",
              "            await google.colab.kernel.invokeFunction('convertToInteractive',\n",
              "                                                     [key], {});\n",
              "          if (!dataTable) return;\n",
              "\n",
              "          const docLinkHtml = 'Like what you see? Visit the ' +\n",
              "            '<a target=\"_blank\" href=https://colab.research.google.com/notebooks/data_table.ipynb>data table notebook</a>'\n",
              "            + ' to learn more about interactive tables.';\n",
              "          element.innerHTML = '';\n",
              "          dataTable['output_type'] = 'display_data';\n",
              "          await google.colab.output.renderOutput(dataTable, element);\n",
              "          const docLink = document.createElement('div');\n",
              "          docLink.innerHTML = docLinkHtml;\n",
              "          element.appendChild(docLink);\n",
              "        }\n",
              "      </script>\n",
              "    </div>\n",
              "  </div>\n",
              "  "
            ]
          },
          "metadata": {},
          "execution_count": 14
        }
      ]
    },
    {
      "cell_type": "code",
      "source": [
        "df = pd.read_csv(\"/content/drive/MyDrive/혁신기술텍스트마이닝/data/comments_spell_checked.csv\")\n",
        "df = df.drop(['Unnamed: 0'], axis = \"columns\")\n",
        "df.rename(columns = {\"느낀점\":\"Content\"}, inplace = True)\n",
        "df.head()"
      ],
      "metadata": {
        "colab": {
          "base_uri": "https://localhost:8080/",
          "height": 206
        },
        "id": "OTgyxk-EuB9U",
        "outputId": "0b58c405-e559-44d6-cc67-36d75e9fe814"
      },
      "execution_count": null,
      "outputs": [
        {
          "output_type": "execute_result",
          "data": {
            "text/plain": [
              "                              Content\n",
              "0  시도한지 20분이 지나도 배차가 되지 않아서 결국 버스로 환승\n",
              "1         호출했으나 이번에도 배차가 30분 정도 되지 않음\n",
              "2    운 좋게 배차가 됐고 약 20분 후에 도착한다고 바로 알림\n",
              "3                   예상 시간과 비슷한 시간에 탑승\n",
              "4           QR코드를 기기에 태그 하기만 하면 돼서 간편"
            ],
            "text/html": [
              "\n",
              "  <div id=\"df-fdace0ef-cd3b-464b-9db6-7bfa56d0e861\">\n",
              "    <div class=\"colab-df-container\">\n",
              "      <div>\n",
              "<style scoped>\n",
              "    .dataframe tbody tr th:only-of-type {\n",
              "        vertical-align: middle;\n",
              "    }\n",
              "\n",
              "    .dataframe tbody tr th {\n",
              "        vertical-align: top;\n",
              "    }\n",
              "\n",
              "    .dataframe thead th {\n",
              "        text-align: right;\n",
              "    }\n",
              "</style>\n",
              "<table border=\"1\" class=\"dataframe\">\n",
              "  <thead>\n",
              "    <tr style=\"text-align: right;\">\n",
              "      <th></th>\n",
              "      <th>Content</th>\n",
              "    </tr>\n",
              "  </thead>\n",
              "  <tbody>\n",
              "    <tr>\n",
              "      <th>0</th>\n",
              "      <td>시도한지 20분이 지나도 배차가 되지 않아서 결국 버스로 환승</td>\n",
              "    </tr>\n",
              "    <tr>\n",
              "      <th>1</th>\n",
              "      <td>호출했으나 이번에도 배차가 30분 정도 되지 않음</td>\n",
              "    </tr>\n",
              "    <tr>\n",
              "      <th>2</th>\n",
              "      <td>운 좋게 배차가 됐고 약 20분 후에 도착한다고 바로 알림</td>\n",
              "    </tr>\n",
              "    <tr>\n",
              "      <th>3</th>\n",
              "      <td>예상 시간과 비슷한 시간에 탑승</td>\n",
              "    </tr>\n",
              "    <tr>\n",
              "      <th>4</th>\n",
              "      <td>QR코드를 기기에 태그 하기만 하면 돼서 간편</td>\n",
              "    </tr>\n",
              "  </tbody>\n",
              "</table>\n",
              "</div>\n",
              "      <button class=\"colab-df-convert\" onclick=\"convertToInteractive('df-fdace0ef-cd3b-464b-9db6-7bfa56d0e861')\"\n",
              "              title=\"Convert this dataframe to an interactive table.\"\n",
              "              style=\"display:none;\">\n",
              "        \n",
              "  <svg xmlns=\"http://www.w3.org/2000/svg\" height=\"24px\"viewBox=\"0 0 24 24\"\n",
              "       width=\"24px\">\n",
              "    <path d=\"M0 0h24v24H0V0z\" fill=\"none\"/>\n",
              "    <path d=\"M18.56 5.44l.94 2.06.94-2.06 2.06-.94-2.06-.94-.94-2.06-.94 2.06-2.06.94zm-11 1L8.5 8.5l.94-2.06 2.06-.94-2.06-.94L8.5 2.5l-.94 2.06-2.06.94zm10 10l.94 2.06.94-2.06 2.06-.94-2.06-.94-.94-2.06-.94 2.06-2.06.94z\"/><path d=\"M17.41 7.96l-1.37-1.37c-.4-.4-.92-.59-1.43-.59-.52 0-1.04.2-1.43.59L10.3 9.45l-7.72 7.72c-.78.78-.78 2.05 0 2.83L4 21.41c.39.39.9.59 1.41.59.51 0 1.02-.2 1.41-.59l7.78-7.78 2.81-2.81c.8-.78.8-2.07 0-2.86zM5.41 20L4 18.59l7.72-7.72 1.47 1.35L5.41 20z\"/>\n",
              "  </svg>\n",
              "      </button>\n",
              "      \n",
              "  <style>\n",
              "    .colab-df-container {\n",
              "      display:flex;\n",
              "      flex-wrap:wrap;\n",
              "      gap: 12px;\n",
              "    }\n",
              "\n",
              "    .colab-df-convert {\n",
              "      background-color: #E8F0FE;\n",
              "      border: none;\n",
              "      border-radius: 50%;\n",
              "      cursor: pointer;\n",
              "      display: none;\n",
              "      fill: #1967D2;\n",
              "      height: 32px;\n",
              "      padding: 0 0 0 0;\n",
              "      width: 32px;\n",
              "    }\n",
              "\n",
              "    .colab-df-convert:hover {\n",
              "      background-color: #E2EBFA;\n",
              "      box-shadow: 0px 1px 2px rgba(60, 64, 67, 0.3), 0px 1px 3px 1px rgba(60, 64, 67, 0.15);\n",
              "      fill: #174EA6;\n",
              "    }\n",
              "\n",
              "    [theme=dark] .colab-df-convert {\n",
              "      background-color: #3B4455;\n",
              "      fill: #D2E3FC;\n",
              "    }\n",
              "\n",
              "    [theme=dark] .colab-df-convert:hover {\n",
              "      background-color: #434B5C;\n",
              "      box-shadow: 0px 1px 3px 1px rgba(0, 0, 0, 0.15);\n",
              "      filter: drop-shadow(0px 1px 2px rgba(0, 0, 0, 0.3));\n",
              "      fill: #FFFFFF;\n",
              "    }\n",
              "  </style>\n",
              "\n",
              "      <script>\n",
              "        const buttonEl =\n",
              "          document.querySelector('#df-fdace0ef-cd3b-464b-9db6-7bfa56d0e861 button.colab-df-convert');\n",
              "        buttonEl.style.display =\n",
              "          google.colab.kernel.accessAllowed ? 'block' : 'none';\n",
              "\n",
              "        async function convertToInteractive(key) {\n",
              "          const element = document.querySelector('#df-fdace0ef-cd3b-464b-9db6-7bfa56d0e861');\n",
              "          const dataTable =\n",
              "            await google.colab.kernel.invokeFunction('convertToInteractive',\n",
              "                                                     [key], {});\n",
              "          if (!dataTable) return;\n",
              "\n",
              "          const docLinkHtml = 'Like what you see? Visit the ' +\n",
              "            '<a target=\"_blank\" href=https://colab.research.google.com/notebooks/data_table.ipynb>data table notebook</a>'\n",
              "            + ' to learn more about interactive tables.';\n",
              "          element.innerHTML = '';\n",
              "          dataTable['output_type'] = 'display_data';\n",
              "          await google.colab.output.renderOutput(dataTable, element);\n",
              "          const docLink = document.createElement('div');\n",
              "          docLink.innerHTML = docLinkHtml;\n",
              "          element.appendChild(docLink);\n",
              "        }\n",
              "      </script>\n",
              "    </div>\n",
              "  </div>\n",
              "  "
            ]
          },
          "metadata": {},
          "execution_count": 18
        }
      ]
    },
    {
      "cell_type": "code",
      "source": [
        "# !pip install konlpy"
      ],
      "metadata": {
        "colab": {
          "base_uri": "https://localhost:8080/"
        },
        "id": "RT_GYIZIUuZb",
        "outputId": "746b1ef2-56e7-45b0-8ac4-ee4df9f29b10"
      },
      "execution_count": null,
      "outputs": [
        {
          "output_type": "stream",
          "name": "stdout",
          "text": [
            "Looking in indexes: https://pypi.org/simple, https://us-python.pkg.dev/colab-wheels/public/simple/\n",
            "Requirement already satisfied: konlpy in /usr/local/lib/python3.7/dist-packages (0.6.0)\n",
            "Requirement already satisfied: JPype1>=0.7.0 in /usr/local/lib/python3.7/dist-packages (from konlpy) (1.4.0)\n",
            "Requirement already satisfied: lxml>=4.1.0 in /usr/local/lib/python3.7/dist-packages (from konlpy) (4.9.1)\n",
            "Requirement already satisfied: numpy>=1.6 in /usr/local/lib/python3.7/dist-packages (from konlpy) (1.21.6)\n",
            "Requirement already satisfied: typing-extensions in /usr/local/lib/python3.7/dist-packages (from JPype1>=0.7.0->konlpy) (4.1.1)\n"
          ]
        }
      ]
    },
    {
      "cell_type": "code",
      "source": [
        "import konlpy\n",
        "import re\n",
        "\n",
        "# tokenization 함수를 만들어둠\n",
        "def tokenize_korean_text(text):\n",
        "    text = re.sub(r'[^,.?!\\w\\s]','', text)  ## ,.?!와 문자+숫자+_(\\w)와 공백(\\s)만 남김  # 앞에 r을 붙여주면 deprecation warning이 안뜸 (raw string으로 declare)\n",
        "\n",
        "    okt = konlpy.tag.Okt()\n",
        "    Okt_morphs = okt.pos(text)   # stem=True로 설정하면 동사원형으로 바꿔서 return\n",
        "\n",
        "    words = []\n",
        "    for word, pos in Okt_morphs:\n",
        "        if pos == 'Adjective' or pos == 'Verb' or pos == 'Noun':  # 이 경우에는 형용사, 동사, 명사만 남김\n",
        "            words.append(word)\n",
        "\n",
        "    words_str = ' '.join(words)\n",
        "    return words_str\n",
        "\n",
        "\n",
        "# df['Content']를 하나씩 tokenize해서 list로 저장\n",
        "tokenized_list = []\n",
        "\n",
        "for text in df['Content']:\n",
        "    tokenized_list.append(tokenize_korean_text(text))\n",
        "\n",
        "print(len(tokenized_list))\n",
        "print(tokenized_list[0])"
      ],
      "metadata": {
        "colab": {
          "base_uri": "https://localhost:8080/"
        },
        "id": "eKKqI4z8Ty03",
        "outputId": "8b995ddf-396b-4b8d-b65f-4fc35324ec1d"
      },
      "execution_count": null,
      "outputs": [
        {
          "output_type": "stream",
          "name": "stdout",
          "text": [
            "366\n",
            "시도 한지 지나도 배차 되지 않아서 버스 환승\n"
          ]
        }
      ]
    },
    {
      "cell_type": "code",
      "source": [
        "drop_corpus = []\n",
        "\n",
        "for index in range(len(tokenized_list)):\n",
        "    corpus = tokenized_list[index]\n",
        "    if len(set(corpus.split())) < 3:   # 같은 단어 1-2개만 반복되는 corpus도 지우기 위해 set()을 사용\n",
        "        df.drop(index, axis='index', inplace=True)\n",
        "        drop_corpus.append(corpus)\n",
        "\n",
        "for corpus in drop_corpus:\n",
        "    tokenized_list.remove(corpus)\n",
        "\n",
        "df.reset_index(drop=True, inplace=True)\n",
        "\n",
        "print(len(tokenized_list))\n",
        "print(len(df))"
      ],
      "metadata": {
        "colab": {
          "base_uri": "https://localhost:8080/"
        },
        "id": "0Wai0_uoVILn",
        "outputId": "7edbbdd0-b293-41ef-a1bb-580834790120"
      },
      "execution_count": null,
      "outputs": [
        {
          "output_type": "stream",
          "name": "stdout",
          "text": [
            "360\n",
            "360\n"
          ]
        }
      ]
    },
    {
      "cell_type": "code",
      "source": [
        "from sklearn.feature_extraction.text import CountVectorizer\n",
        "from sklearn.decomposition import LatentDirichletAllocation"
      ],
      "metadata": {
        "id": "CaxIlmfPVaou"
      },
      "execution_count": null,
      "outputs": []
    },
    {
      "cell_type": "code",
      "source": [
        "#LDA 는 Count기반의 Vectorizer만 적용\n",
        "count_vectorizer = CountVectorizer(ngram_range=(1,2))\n",
        "    # 2개의 문서 미만으로 등장하는 단어는 제외, 전체의 10% 이상으로 자주 등장하는 단어는 제외\n",
        "    # bigram도 포함\n",
        "\n",
        "feat_vect = count_vectorizer.fit_transform(tokenized_list)\n",
        "print('CountVectorizer Shape:', feat_vect.shape)"
      ],
      "metadata": {
        "colab": {
          "base_uri": "https://localhost:8080/"
        },
        "id": "OAUF3Lg1Vde2",
        "outputId": "3756dee3-7134-4ec5-ad40-c9696389f5b7"
      },
      "execution_count": null,
      "outputs": [
        {
          "output_type": "stream",
          "name": "stdout",
          "text": [
            "CountVectorizer Shape: (360, 3236)\n"
          ]
        }
      ]
    },
    {
      "cell_type": "code",
      "source": [
        "lda = LatentDirichletAllocation(batch_size=128, doc_topic_prior=None,\n",
        "             evaluate_every=-1, learning_decay=0.7,\n",
        "             learning_method='batch', learning_offset=10.0,\n",
        "             max_doc_update_iter=100, max_iter=10, mean_change_tol=0.001,\n",
        "             n_jobs=None, perp_tol=0.1,\n",
        "             random_state=None, topic_word_prior=None,\n",
        "             total_samples=1000000.0, verbose=0, n_components=4)  # 토픽 수는 4개로 설정\n",
        "lda.fit(feat_vect)"
      ],
      "metadata": {
        "colab": {
          "base_uri": "https://localhost:8080/"
        },
        "id": "3JJDt6RExRD5",
        "outputId": "61f23a08-e2a0-463a-dd0b-a1d863952594"
      },
      "execution_count": null,
      "outputs": [
        {
          "output_type": "execute_result",
          "data": {
            "text/plain": [
              "LatentDirichletAllocation(n_components=4)"
            ]
          },
          "metadata": {},
          "execution_count": 41
        }
      ]
    },
    {
      "cell_type": "code",
      "source": [
        "def display_topics(model, feature_names, num_top_words):\n",
        "    for topic_index, topic in enumerate(model.components_):\n",
        "        print('Topic #', topic_index)\n",
        "\n",
        "        # components_ array에서 가장 값이 큰 순으로 정렬했을 때, 그 값의 array index를 반환.\n",
        "        topic_word_indexes = topic.argsort()[::-1]\n",
        "        top_indexes=topic_word_indexes[:num_top_words]\n",
        "\n",
        "        # top_indexes대상인 index별로 feature_names에 해당하는 word feature 추출 후 join으로 concat\n",
        "        feature_concat = ' '.join([feature_names[i] for i in top_indexes])\n",
        "        print(feature_concat)\n",
        "\n",
        "# CountVectorizer객체내의 전체 word들의 명칭을 get_features_names( )를 통해 추출\n",
        "feature_names = count_vectorizer.get_feature_names()\n",
        "\n",
        "# Topic별 가장 연관도가 높은 word를 10개만 추출\n",
        "display_topics(lda, feature_names, 10)"
      ],
      "metadata": {
        "colab": {
          "base_uri": "https://localhost:8080/"
        },
        "id": "cVezObw9WbQj",
        "outputId": "0dd2764e-374e-46ce-c12c-68eda05e0009"
      },
      "execution_count": null,
      "outputs": [
        {
          "output_type": "stream",
          "name": "stdout",
          "text": [
            "Topic # 0\n",
            "시간 버스 기사 이용 도착 예상 택시 예상 시간 호출 아쉬움\n",
            "Topic # 1\n",
            "버스 탑승 도착 목적지 시간 이동 필요 차량 안내 아이\n",
            "Topic # 2\n",
            "이용 배차 버스 호출 되지 느낌 택시 시간 정류장 도착\n",
            "Topic # 3\n",
            "시간 하는 이동 이용 서비스 정류장 버스 없어 목적지 경로\n"
          ]
        },
        {
          "output_type": "stream",
          "name": "stderr",
          "text": [
            "/usr/local/lib/python3.7/dist-packages/sklearn/utils/deprecation.py:87: FutureWarning: Function get_feature_names is deprecated; get_feature_names is deprecated in 1.0 and will be removed in 1.2. Please use get_feature_names_out instead.\n",
            "  warnings.warn(msg, category=FutureWarning)\n"
          ]
        }
      ]
    },
    {
      "cell_type": "code",
      "source": [
        "# !pip install pyLDAvis"
      ],
      "metadata": {
        "colab": {
          "base_uri": "https://localhost:8080/"
        },
        "id": "z2oiaZ4EW6ZW",
        "outputId": "85de2940-c14f-4a5b-c972-9f123a45298e"
      },
      "execution_count": null,
      "outputs": [
        {
          "output_type": "stream",
          "name": "stdout",
          "text": [
            "Looking in indexes: https://pypi.org/simple, https://us-python.pkg.dev/colab-wheels/public/simple/\n",
            "Requirement already satisfied: pyLDAvis in /usr/local/lib/python3.7/dist-packages (3.3.1)\n",
            "Requirement already satisfied: numexpr in /usr/local/lib/python3.7/dist-packages (from pyLDAvis) (2.8.3)\n",
            "Requirement already satisfied: gensim in /usr/local/lib/python3.7/dist-packages (from pyLDAvis) (3.6.0)\n",
            "Requirement already satisfied: joblib in /usr/local/lib/python3.7/dist-packages (from pyLDAvis) (1.1.0)\n",
            "Requirement already satisfied: scikit-learn in /usr/local/lib/python3.7/dist-packages (from pyLDAvis) (1.0.2)\n",
            "Requirement already satisfied: future in /usr/local/lib/python3.7/dist-packages (from pyLDAvis) (0.16.0)\n",
            "Requirement already satisfied: pandas>=1.2.0 in /usr/local/lib/python3.7/dist-packages (from pyLDAvis) (1.3.5)\n",
            "Requirement already satisfied: jinja2 in /usr/local/lib/python3.7/dist-packages (from pyLDAvis) (2.11.3)\n",
            "Requirement already satisfied: scipy in /usr/local/lib/python3.7/dist-packages (from pyLDAvis) (1.7.3)\n",
            "Requirement already satisfied: sklearn in /usr/local/lib/python3.7/dist-packages (from pyLDAvis) (0.0)\n",
            "Requirement already satisfied: setuptools in /usr/local/lib/python3.7/dist-packages (from pyLDAvis) (57.4.0)\n",
            "Requirement already satisfied: numpy>=1.20.0 in /usr/local/lib/python3.7/dist-packages (from pyLDAvis) (1.21.6)\n",
            "Requirement already satisfied: funcy in /usr/local/lib/python3.7/dist-packages (from pyLDAvis) (1.17)\n",
            "Requirement already satisfied: python-dateutil>=2.7.3 in /usr/local/lib/python3.7/dist-packages (from pandas>=1.2.0->pyLDAvis) (2.8.2)\n",
            "Requirement already satisfied: pytz>=2017.3 in /usr/local/lib/python3.7/dist-packages (from pandas>=1.2.0->pyLDAvis) (2022.2.1)\n",
            "Requirement already satisfied: six>=1.5 in /usr/local/lib/python3.7/dist-packages (from python-dateutil>=2.7.3->pandas>=1.2.0->pyLDAvis) (1.15.0)\n",
            "Requirement already satisfied: smart-open>=1.2.1 in /usr/local/lib/python3.7/dist-packages (from gensim->pyLDAvis) (5.2.1)\n",
            "Requirement already satisfied: MarkupSafe>=0.23 in /usr/local/lib/python3.7/dist-packages (from jinja2->pyLDAvis) (2.0.1)\n",
            "Requirement already satisfied: packaging in /usr/local/lib/python3.7/dist-packages (from numexpr->pyLDAvis) (21.3)\n",
            "Requirement already satisfied: pyparsing!=3.0.5,>=2.0.2 in /usr/local/lib/python3.7/dist-packages (from packaging->numexpr->pyLDAvis) (3.0.9)\n",
            "Requirement already satisfied: threadpoolctl>=2.0.0 in /usr/local/lib/python3.7/dist-packages (from scikit-learn->pyLDAvis) (3.1.0)\n"
          ]
        }
      ]
    },
    {
      "cell_type": "code",
      "source": [
        "import pyLDAvis.sklearn  # sklearn의 ldamodel에 최적화된 라이브러리\n",
        "\n",
        "pyLDAvis.enable_notebook()\n",
        "vis = pyLDAvis.sklearn.prepare(lda, feat_vect, count_vectorizer)\n",
        "pyLDAvis.display(vis)"
      ],
      "metadata": {
        "colab": {
          "base_uri": "https://localhost:8080/",
          "height": 895
        },
        "id": "Hbf-02MMWyrB",
        "outputId": "46a17087-f625-489a-b6bb-63af5b8850ae"
      },
      "execution_count": null,
      "outputs": [
        {
          "output_type": "stream",
          "name": "stderr",
          "text": [
            "/usr/local/lib/python3.7/dist-packages/pyLDAvis/_prepare.py:247: FutureWarning: In a future version of pandas all arguments of DataFrame.drop except for the argument 'labels' will be keyword-only\n",
            "  by='saliency', ascending=False).head(R).drop('saliency', 1)\n"
          ]
        },
        {
          "output_type": "execute_result",
          "data": {
            "text/plain": [
              "<IPython.core.display.HTML object>"
            ],
            "text/html": [
              "\n",
              "<link rel=\"stylesheet\" type=\"text/css\" href=\"https://cdn.jsdelivr.net/gh/bmabey/pyLDAvis@3.3.1/pyLDAvis/js/ldavis.v1.0.0.css\">\n",
              "\n",
              "\n",
              "<div id=\"ldavis_el9741405233295048484930205844\"></div>\n",
              "<script type=\"text/javascript\">\n",
              "\n",
              "var ldavis_el9741405233295048484930205844_data = {\"mdsDat\": {\"x\": [0.09083314426379999, -0.0793342684223848, 0.029405691026331837, -0.04090456686774712], \"y\": [0.0408127344824004, -0.025872352753781566, -0.09061043454246298, 0.07567005281384409], \"topics\": [1, 2, 3, 4], \"cluster\": [1, 1, 1, 1], \"Freq\": [30.11128335595644, 24.406935854609728, 23.461709314871015, 22.020071474562826]}, \"tinfo\": {\"Term\": [\"\\uc608\\uc0c1\", \"\\ud0d1\\uc2b9\", \"\\uc608\\uc0c1 \\uc2dc\\uac04\", \"\\uc774\\uc6a9\", \"\\ub418\\uc9c0\", \"\\uc2dc\\uac04\", \"\\ub178\\uc120\", \"\\uc544\\uc26c\\uc6c0\", \"\\uc11c\\ube44\\uc2a4\", \"\\uc548\\ub0b4\", \"\\ub290\\ub08c\", \"\\ud558\\ub294\", \"\\ucc28\\uac10\", \"\\ub418\\uc9c0 \\uc54a\\uc544\", \"\\uacc4\\uc591\", \"\\uc88b\\uaca0\\uc74c\", \"\\uc2dc\\ubbfc\", \"\\uc0dd\\uac01\", \"\\uc5c6\\uc5b4\", \"\\ubc30\\ucc28\", \"\\uc758\\uacac \\ub4e4\\uc74c\", \"\\ub4e4\\uc74c\", \"\\ud45c\\uc9c0\\ud310\", \"\\ub9c8\\uc744 \\ubc84\\uc2a4\", \"\\ub9c8\\uc744\", \"\\uce5c\\uc808\\ud558\\uac8c\", \"\\uae30\\uc0ac \\uce5c\\uc808\\ud558\\uac8c\", \"\\ubb38\\uad6c\", \"\\ub3c4\\ucc29\", \"\\uc758\\uacac\", \"\\ub418\\uc9c0 \\uc54a\\uc544\", \"\\uacc4\\uc591\", \"\\uc9c4\\ud589\", \"\\ub418\\uc9c0\", \"\\ubc30\\ucc28 \\ub418\\uc9c0\", \"\\uc2dc\\ub2c8\\uc5b4\", \"\\uc788\\uc5b4 \\uc88b\\uc74c\", \"\\uad49\\uc7a5\\ud788\", \"\\uae30\\uc0ac \\uce5c\\uc808\\ud558\", \"\\uce5c\\uc808\\ud558\", \"\\uc774\\ubbf8\\uc9c0\", \"\\uacc4\\uc591 \\uac80\\ub2e8\", \"\\uac80\\ub2e8 \\uacc4\\uc591\", \"\\uc774\\uc6a9 \\uac80\\ub2e8\", \"\\uc704\\ud574 \\uc774\\uc6a9\", \"\\uc6b4\\ud589 \\uc911\\uc774\", \"\\ub3d9\\uc548 \\ubc30\\ucc28\", \"\\ud61c\\ud0dd\", \"\\ub9ce\\uc544\\uc9c8\", \"\\uc815\\ubcf4\", \"\\uc774\\ubc88\", \"\\ubc30\\ucc28 \\uc9c4\\ud589\", \"\\uc9c4\\ud589 \\ub418\\uc9c0\", \"\\uad50\\ud1b5\\uce74\\ub4dc\", \"\\uc774\\uc0c1\", \"\\ub418\\uc9c0 \\uc54a\\uc74c\", \"\\ub3d9\\uc77c\", \"\\uc54a\\uc744\\uae4c\", \"\\uc54a\\uc744\\uae4c \\uc0dd\\uac01\", \"\\uc54a\\uc544 \\ubc84\\uc2a4\", \"\\uc774\\uc6a9\", \"\\uc774\\uc6a9 \\ud558\\ub294\", \"\\uac80\\ub2e8\", \"\\ubc30\\ucc28\", \"\\ud638\\ucd9c\", \"\\ud558\\uba74\", \"\\ub290\\ub08c\", \"\\uc0dd\\uac01\", \"\\uc54a\\uc544\", \"\\uc778\\uc2dd\", \"\\ud3b8\\ud558\\uac8c\", \"\\ud64d\\ubcf4\", \"\\ud0dd\\uc2dc\", \"\\uc9c0\\uc778\", \"\\uc704\\uce58\", \"\\ubc84\\uc2a4\", \"\\uae30\\ub2a5\", \"\\uc1a1\\ub3c4\", \"\\uc6b4\\ud589\", \"\\ud558\\uc5ec\", \"\\uc815\\ub958\\uc7a5\", \"\\uc2dc\\uac04\", \"\\ub3c4\\ucc29\", \"\\uc11c\\ube44\\uc2a4\", \"\\ub418\\uc5b4\", \"\\ud558\\ub294\", \"\\uac70\\ub9ac\", \"\\uae30\\uc0ac\", \"\\ub0b4\\ubd80\", \"\\uc788\\uc5b4\", \"\\uc774\\ub3d9\", \"\\ud0d1\\uc2b9\", \"\\ud544\\uc694\", \"\\ud658\\uc2b9\", \"\\ucc28\\uac10\", \"\\ubb38\\uad6c\", \"\\uae30\\ub2e4\\ub9b0\", \"\\uce74\\ud398 \\ubaa8\\uc784\", \"\\uc785\\ub2c8\\ub2e4\\ub77c\\ub294\", \"\\uae30\\uc874 \\ub300\\uc911\\uad50\\ud1b5\", \"\\uc788\\uc744 \\uac83\\uc784\", \"\\ud544\\uc694 \\uc5c6\\uc5b4\", \"\\ub3c4\\ucc29 \\ucc28\\ub7c9\", \"\\uacbd\\uc6b0 \\ub2e4\\uc218\", \"\\uadfc\\uac70\\ub9ac \\uc774\\ub3d9\", \"\\ub2e4\\uc218\", \"\\ub2e4\\uc218 \\ud0c0\\ub294\", \"\\ube44\\ubcf4\", \"\\ube44\\ubcf4 \\ube44\\uc2fc\", \"\\ube44\\uc2fc \\uc788\\uc74c\", \"\\uc774\\ub3d9 \\uacbd\\uc6b0\", \"\\ud0c0\\ub294 \\ud0dd\\uc2dc\", \"\\ud0dd\\uc2dc \\ube44\\ubcf4\", \"\\uae30\\uc0ac \\uce5c\\uc808\\ud55c\", \"\\ub3c4\\ucc29 \\uc548\\ub0b4\", \"\\ub9d0\\uc500\", \"\\ub9d0\\uc500 \\ud3b8\\uc548\\ud558\\uac8c\", \"\\uc548\\ub0b4 \\ub9d0\\uc500\", \"\\uce5c\\uc808\\ud55c\", \"\\uce5c\\uc808\\ud55c \\ub3c4\\ucc29\", \"\\ud3b8\\uc548\\ud558\\uac8c \\ud558\\ucc28\", \"\\ud558\\ucc28 \\uac00\\ub2a5\", \"\\ubaa8\\ub974\\uace0\", \"\\uace0\\ubbfc\", \"\\uc548\\ub0b4\", \"\\uc88b\\uc558\\uc74c\", \"\\ubaa8\\uc784\", \"\\ud0d1\\uc2b9\", \"\\ub3c4\\ucc29\", \"\\ubaa9\\uc801\\uc9c0\", \"\\ucc28\\ub7c9\", \"\\ubc84\\uc2a4\", \"\\uc544\\uc774\", \"\\uacb0\\uc81c\", \"\\ud0c0\\uace0\", \"\\uc774\\ub3d9\", \"\\ud558\\uc5ec\", \"\\ud544\\uc694\", \"\\uc88b\\uaca0\\uc74c\", \"\\uc544\\uc774\\ubaa8\\ub4dc\", \"\\uacbd\\ub85c\", \"\\ud558\\ucc28\", \"\\uc788\\uc744\", \"\\ube44\\uc2fc\", \"\\uc6b4\\ud589\", \"\\uc2dc\\uac04\", \"\\uae30\\uc874\", \"\\uae30\\uc0ac\", \"\\uc788\\uc5b4\", \"\\uc815\\ub958\\uc7a5\", \"\\ubb34\\ucc99\", \"\\ubc30\\ucc28\", \"\\uc774\\uc6a9\", \"\\ud0dd\\uc2dc\", \"\\ud638\\ucd9c\", \"\\uc608\\uc0c1\", \"\\uc608\\uc0c1 \\uc2dc\\uac04\", \"\\ub9c8\\uc744\", \"\\ub9c8\\uc744 \\ubc84\\uc2a4\", \"\\uae30\\uc0ac \\uce5c\\uc808\\ud558\\uac8c\", \"\\uce5c\\uc808\\ud558\\uac8c\", \"\\uc54a\\uc544 \\uc544\\uc26c\\uc6c0\", \"\\ud638\\ucd9c \\uc608\\uc0c1\", \"\\ub2a6\\uc740\", \"\\ud558\\uc9c0 \\uc54a\\uc544\", \"\\uace0\\ub824 \\ud558\\uc9c0\", \"\\ubcf4\\ub2e4\", \"\\ube60\\ub978 \\uc2dc\\uac04\", \"\\ucd9c\\uad6c\", \"\\uc815\\ub958\\uc7a5 \\ud45c\\uc2dc\", \"\\uac78\\ub9ac\\uace0\", \"\\uac78\\ub9ac\\uace0 \\uace0\\uc0dd\", \"\\uace0\\uc0dd\", \"\\uc2dc\\uac04 \\uac78\\ub9ac\\uace0\", \"\\uc5c6\\uc5c8\\ub2e4\\uba74\", \"\\uc5c6\\uc5c8\\ub2e4\\uba74 \\uc2dc\\uac04\", \"\\ub0c4\\uc0c8\", \"\\ud658\\uae30 \\ud544\\uc694\", \"\\uc778\\uc0ac\", \"\\uc124\\uba85\", \"\\ub3c4\\ucc29 \\uc608\\uc0c1\", \"\\uc544\\uc26c\\uc6c0\", \"\\ubc29\\ubc95\", \"\\ub77c\\uba74\", \"\\ud658\\uae30\", \"\\uc2dc\\uac04\", \"\\ub9ce\\uc740\", \"\\ud558\\uc9c0\", \"\\uae30\\uc0ac\", \"\\ubc84\\uc2a4\", \"\\ube60\\ub978\", \"\\uace0\\ub824\", \"\\ub178\\uc120\", \"\\uc54a\\uc740\", \"\\ub290\\ub08c\", \"\\ud0dd\\uc2dc\", \"\\ub3c4\\ucc29\", \"\\uc774\\uc6a9\", \"\\ubd80\\ubd84\", \"\\uc11c\\ube44\\uc2a4\", \"\\uc77c\\ubc18\", \"\\ub300\\uae30\", \"\\ud638\\ucd9c\", \"\\uc815\\ub958\\uc7a5\", \"\\ud544\\uc694\", \"\\uc54a\\uc544\", \"\\ud0d1\\uc2b9\", \"\\ubc30\\ucc28\", \"\\uc0dd\\uac01\", \"\\uac70\\ub9ac\", \"\\uac19\\uc74c\", \"\\uc544\\uc774\", \"\\ub4e4\\uc74c\", \"\\uc758\\uacac \\ub4e4\\uc74c\", \"\\ud45c\\uc9c0\\ud310\", \"\\ub3c4\\ucc29 \\uc2dc\\uac04\", \"\\ud45c\\uc9c0\\ud310 \\uc5c6\\uc5b4\", \"\\ub3d9\\ub124\", \"\\uc815\\ub958\\uc7a5 \\ud45c\\uc9c0\\ud310\", \"\\ub3c4\\uc2ec\", \"\\uc2b9\\uc6a9\\ucc28\", \"\\ucd9c\\ud1f4\\uadfc\", \"\\ud0d1\\uc2b9\\uac1d\", \"\\ud0d1\\uc2b9\\uac1d \\uc758\\uacac\", \"\\uae30\\uc0ac \\uc758\\uacac\", \"\\ud558\\uba74\\uc11c\", \"\\ub2e4\\ud589\\ud788\", \"\\ud65c\\uc131\\ud654 \\ud544\\uc694\", \"\\uc774\\ub3d9 \\uac00\\ub2a5\", \"\\uc5ec\\ub7ec\", \"\\uc5c6\\uc5b4 \\uc704\\uce58\", \"\\ucc28\\ub77c\\ub9ac\", \"\\ud6c4\\ud68c\", \"\\uc5b4\\ub824\\uc6c0 \\uc5c6\\uace0\", \"\\uc5c6\\uace0\", \"\\uc5c6\\uace0 \\uacb0\\uc81c\", \"\\ud638\\ucd9c \\uc5b4\\ub824\\uc6c0\", \"\\uc6d0\\ud558\\ub294\", \"\\uc6d0\\ud558\\ub294 \\uc9c0\\uc810\", \"\\uac04\\ud3b8\", \"\\uc544\\uc26c\\uc6e0\\uc74c\", \"\\uc758\\uacac\", \"\\ud558\\ub294\", \"\\uad50\\ud1b5\", \"\\uc2dc\\ubbfc\", \"\\ub418\\uba74\", \"\\uc5c6\\uc5b4\", \"\\uc57d\\uac04\", \"\\ub418\\uba74 \\uc88b\\uaca0\\uc74c\", \"\\ucd9c\\ubc1c\", \"\\uc774\\ub3d9\", \"\\uc11c\\ube44\\uc2a4\", \"\\ub178\\uc120\", \"\\uc88b\\uaca0\\uc74c\", \"\\uc788\\uc5b4\\uc11c\", \"\\uc2dc\\uac04\", \"\\uc815\\ub958\\uc7a5\", \"\\uacbd\\ub85c\", \"\\uac19\\uc74c\", \"\\ub2e4\\ub978\", \"\\uac19\\uc740\", \"\\uac00\\ub2a5\", \"\\ub54c\\ubb38\", \"\\ubaa9\\uc801\\uc9c0\", \"\\uc774\\uc6a9\", \"\\uc788\\ub294\", \"\\ubc84\\uc2a4\", \"\\uc704\\uce58\", \"\\ud558\\ucc28\", \"\\ub3c4\\ucc29\", \"\\uc788\\uc5b4\", \"\\ud544\\uc694\", \"\\ud0dd\\uc2dc\"], \"Freq\": [6.0, 19.0, 5.0, 39.0, 9.0, 35.0, 6.0, 6.0, 12.0, 6.0, 13.0, 14.0, 3.0, 4.0, 4.0, 7.0, 5.0, 6.0, 7.0, 23.0, 2.0, 2.0, 2.0, 3.0, 3.0, 3.0, 3.0, 3.0, 25.0, 3.0, 4.082576003287965, 4.080360816663848, 2.7761349542905456, 8.02810435228882, 2.122921502249648, 2.122918348890155, 2.1229149867679578, 2.122889362910242, 2.1227789401242223, 2.1227789401242223, 1.469726394782952, 1.469724130882171, 1.469721998375645, 1.4697195979098623, 1.4697169477693799, 1.469716546565667, 1.4697119398867229, 1.4697098546631084, 1.4697069683675836, 1.4697055949513054, 1.4697055484020247, 1.4697052304000773, 1.4697052304000773, 1.469705090579426, 1.4697039357573698, 1.4697030297556408, 1.469701676878772, 1.4697016602558992, 1.4697016602558992, 1.469698772142982, 23.634191122611387, 2.776875942308746, 4.740319929404787, 13.910856929387124, 11.117100384282338, 5.401525517670931, 7.36482496840441, 4.0841763020475685, 5.395300376825781, 2.7858161504188503, 2.1283063233065826, 2.125742305507685, 7.358156090120463, 2.123882821503983, 4.08821033791839, 11.256797919303787, 3.440030990395339, 2.7738744666276087, 4.085032136892709, 4.086816912922603, 6.0439799514149835, 6.857271242163413, 5.709925928526943, 4.07720607236463, 3.435668135846777, 4.080695019562661, 3.43469500935699, 4.044026756383626, 2.775721169592162, 3.4276717212618335, 4.077034357828742, 4.07035868770959, 3.426052829623407, 2.786244864210709, 3.1929032067815575, 2.5847647947904675, 1.9765580076776703, 1.3684047682292528, 1.3684036927974357, 1.368394338640293, 1.3683926015602064, 1.36839250585523, 1.3683924673439922, 1.3683897241507132, 1.3683897241507132, 1.3683897241507132, 1.3683897241507132, 1.3683897241507132, 1.3683897241507132, 1.3683897241507132, 1.3683897241507132, 1.3683897241507132, 1.3683897241507132, 1.368388265216398, 1.368388265216398, 1.368388265216398, 1.368388265216398, 1.368388265216398, 1.368388265216398, 1.368388265216398, 1.368388265216398, 1.368388265216398, 1.3683881177036377, 1.3683861592837763, 4.4232033473436605, 2.58651156026619, 2.5875038878545054, 10.852125834834043, 10.520894518914, 6.245660091870728, 4.4257960796202545, 12.320473378757828, 3.8131746861696856, 3.8084449365389355, 3.195247850506163, 6.237728142191017, 3.8097037326754086, 5.024860168281822, 3.1985950512978647, 2.586895778277131, 3.1974774213682045, 3.2016346191159126, 1.9765718274835467, 1.9810509506639882, 3.196309438322947, 6.2453096675069935, 2.5876984037404793, 3.8095829646311445, 3.1959769550461052, 3.79613116751297, 1.9817818772718194, 3.1818597556449633, 3.2573546996700773, 2.584151033917497, 2.571729827321275, 5.539783071725986, 4.938745472781883, 2.5476218864908193, 2.5476218864908193, 2.5475871914864503, 2.5475871914864503, 1.9481665384864777, 1.9481641519593929, 1.9444567638069745, 1.348731166086013, 1.3487285237600422, 1.3487271587050618, 1.3487219436157822, 1.3487156606404793, 1.3487119092534003, 1.3487083930704697, 1.3487083930704697, 1.3487083930704697, 1.3487083930704697, 1.3487083930704697, 1.3487083930704697, 1.348707957368402, 1.348707957368402, 1.3486975694781902, 1.3486874924021615, 1.3414871841627305, 4.370524991325109, 2.5518652734824556, 2.5495404260089387, 1.9489023785302944, 15.569818614080878, 3.159976344845971, 3.15248114829106, 6.774575961011031, 12.153911529752255, 1.9504156643697477, 1.9490283862643516, 3.1461406561158456, 2.5609149310666317, 4.351155762667565, 4.9412875674951975, 5.84352289744941, 6.728640211727182, 1.9502405696177303, 3.7454505809491137, 2.551178895605952, 2.5512861569813787, 4.507947740484934, 4.3448276434821755, 3.7442125480832673, 3.149456558817041, 4.017975954818639, 3.7429674038802947, 2.5461653034657243, 2.5504109660038985, 2.5502744984173202, 2.548620363101839, 2.5058404146431568, 2.5058404146431568, 2.5058264279422895, 1.9162197665235385, 1.9162192159170488, 1.9162174252834812, 1.9162040839057883, 1.3266194053591556, 1.3266159914300002, 1.3266150377436436, 1.3266113660023056, 1.3266113660023056, 1.3266104159590177, 1.326607376975791, 1.3266051599581712, 1.3266040356751267, 1.3266038820721493, 1.3266009091218909, 1.3265962600904355, 1.326596166202217, 1.326596166202217, 1.3265941247859638, 1.3265941247859638, 1.3265941247859638, 1.3265941247859638, 1.3265926699536643, 1.3265926699536643, 1.3265857492860549, 1.3263682697304435, 2.5096002220859925, 6.654602173976289, 3.0986546430988677, 3.0975944785578804, 2.5117085912342687, 3.6919475759228946, 1.9196902138725023, 1.9193036514363924, 1.9188075029139477, 6.643731375647968, 4.8702336425659665, 3.096382493086827, 3.100423120280296, 2.5149352003667618, 7.228591488844784, 4.86877794911934, 3.107781284216731, 3.1020468683968336, 3.1021472565683097, 1.9221511562321316, 1.9165486448870717, 2.512518807668296, 3.691123017386086, 5.4469689698215245, 2.5084654477610897, 4.26535949024785, 2.5064387357342772, 2.5063675209268053, 3.0729138221061985, 2.507550265953063, 2.5040546213661075, 2.50201433558633], \"Total\": [6.0, 19.0, 5.0, 39.0, 9.0, 35.0, 6.0, 6.0, 12.0, 6.0, 13.0, 14.0, 3.0, 4.0, 4.0, 7.0, 5.0, 6.0, 7.0, 23.0, 2.0, 2.0, 2.0, 3.0, 3.0, 3.0, 3.0, 3.0, 25.0, 3.0, 4.531919748740606, 4.5317669371773786, 3.225483671213763, 9.651013864459127, 2.572266214669757, 2.5722659540175576, 2.5722656876805026, 2.5722635586547185, 2.572254414387132, 2.572254414387132, 1.9190502841698238, 1.9190500951618545, 1.9190499180490201, 1.9190497255805736, 1.9190495020302234, 1.9190494542947094, 1.9190490816047059, 1.9190488993093933, 1.9190486662205386, 1.9190485546177343, 1.9190485507744681, 1.9190485277933278, 1.9190485277933278, 1.9190485186800519, 1.919048417165765, 1.9190483377720082, 1.919048218214616, 1.9190482250325829, 1.9190482250325829, 1.919047985923768, 39.06715500383017, 3.8151701928521446, 6.991526010072516, 23.328769228669234, 20.102586671499107, 8.835586843073445, 13.193456924826123, 6.929833981305857, 10.033876465044564, 4.424065285239562, 3.172155082500309, 3.17194400978202, 17.38560902711949, 3.1805173829575804, 8.098407004135336, 39.99654231806173, 6.8934450378847325, 5.01388096695776, 9.35177858809438, 9.370607211138708, 19.05371671152947, 35.900991012596066, 25.14725716699655, 12.844966576221122, 8.671433525574804, 14.031731914320776, 9.28083683669872, 15.951171868059209, 5.62208905687851, 11.076299416165226, 19.496736140166192, 19.66125917803243, 14.699180167354603, 8.028533643754994, 3.653544045704451, 3.045358154548971, 2.43717275059129, 1.828986971154711, 1.8289870052811759, 1.8289870507515873, 1.8289870684961242, 1.8289870215504413, 1.8289870495553406, 1.82898705538512, 1.82898705538512, 1.82898705538512, 1.82898705538512, 1.82898705538512, 1.82898705538512, 1.82898705538512, 1.82898705538512, 1.82898705538512, 1.82898705538512, 1.828987053024517, 1.828987053024517, 1.828987053024517, 1.828987053024517, 1.828987053024517, 1.828987053024517, 1.828987053024517, 1.828987053024517, 1.828987053024517, 1.828987104049148, 1.8289871220842153, 6.059309723279696, 3.6350272654976745, 3.644843501049892, 19.66125917803243, 25.14725716699655, 13.989240245853633, 9.142783974341626, 39.99654231806173, 8.490974927918923, 8.643542763461527, 6.792442856299697, 19.496736140166192, 9.370607211138708, 14.699180167354603, 7.253878861007807, 5.496713334103875, 8.50693711435336, 8.570981014304499, 3.636064140009727, 3.689540774529262, 9.35177858809438, 35.900991012596066, 6.793514553236789, 15.951171868059209, 11.076299416165226, 19.05371671152947, 4.268959752095618, 23.328769228669234, 39.06715500383017, 17.38560902711949, 20.102586671499107, 6.007791109099099, 5.408381043668399, 3.0103988848236582, 3.0103988848236582, 3.010399764231539, 3.010399764231539, 2.4109535594277585, 2.410953579730831, 2.4110078580065704, 1.81150762931487, 1.811507655497461, 1.8115077177691974, 1.811507822289148, 1.8115079719711602, 1.8115080834230588, 1.8115081819398586, 1.8115081819398586, 1.8115081819398586, 1.8115081819398586, 1.8115081819398586, 1.8115081819398586, 1.811508189302927, 1.811508189302927, 1.8115084619494337, 1.811508766086937, 1.8121554202557866, 6.069496529015556, 3.618523074812272, 3.618556712821368, 3.0191285838436257, 35.900991012596066, 5.50415554477514, 5.505656250694789, 15.951171868059209, 39.99654231806173, 3.063967205756956, 3.0640935062558357, 6.557900896137434, 4.841333930980506, 13.193456924826123, 17.38560902711949, 25.14725716699655, 39.06715500383017, 3.6536202757601446, 12.844966576221122, 6.140976285358804, 6.186103634822297, 20.102586671499107, 19.05371671152947, 14.699180167354603, 10.033876465044564, 19.66125917803243, 23.328769228669234, 6.929833981305857, 9.28083683669872, 8.480561819462718, 8.490974927918923, 2.9710734115538626, 2.9710734115538626, 2.9710740963547035, 2.381459595835809, 2.3814595999975627, 2.3814597025585793, 2.3814603421185954, 1.7918447238986503, 1.7918448958956403, 1.791844979158105, 1.7918451157963569, 1.7918451157963569, 1.791845181847484, 1.7918453106813108, 1.7918454065206868, 1.7918455119119407, 1.7918454912126558, 1.791845660408071, 1.7918458819013998, 1.7918458641567223, 1.7918458641567223, 1.7918460948290318, 1.7918460948290318, 1.7918460948290318, 1.7918460948290318, 1.7918460460459182, 1.7918460460459182, 1.7918464889858967, 1.7918570823331228, 3.579141293475103, 14.031731914320776, 5.466395433336853, 5.520108730403265, 4.223184431365789, 7.164864105057177, 3.0343000253163455, 3.034341124502692, 3.0343960620352948, 19.496736140166192, 12.844966576221122, 6.557900896137434, 7.253878861007807, 5.484711570385958, 35.900991012596066, 19.05371671152947, 8.50693711435336, 8.480561819462718, 8.489613363871, 3.5889738598183154, 3.5978210899745786, 6.092970637605001, 13.989240245853633, 39.06715500383017, 7.4083899331517555, 39.99654231806173, 8.098407004135336, 8.570981014304499, 25.14725716699655, 11.076299416165226, 14.699180167354603, 17.38560902711949], \"Category\": [\"Default\", \"Default\", \"Default\", \"Default\", \"Default\", \"Default\", \"Default\", \"Default\", \"Default\", \"Default\", \"Default\", \"Default\", \"Default\", \"Default\", \"Default\", \"Default\", \"Default\", \"Default\", \"Default\", \"Default\", \"Default\", \"Default\", \"Default\", \"Default\", \"Default\", \"Default\", \"Default\", \"Default\", \"Default\", \"Default\", \"Topic1\", \"Topic1\", \"Topic1\", \"Topic1\", \"Topic1\", \"Topic1\", \"Topic1\", \"Topic1\", \"Topic1\", \"Topic1\", \"Topic1\", \"Topic1\", \"Topic1\", \"Topic1\", \"Topic1\", \"Topic1\", \"Topic1\", \"Topic1\", \"Topic1\", \"Topic1\", \"Topic1\", \"Topic1\", \"Topic1\", \"Topic1\", \"Topic1\", \"Topic1\", \"Topic1\", \"Topic1\", \"Topic1\", \"Topic1\", \"Topic1\", \"Topic1\", \"Topic1\", \"Topic1\", \"Topic1\", \"Topic1\", \"Topic1\", \"Topic1\", \"Topic1\", \"Topic1\", \"Topic1\", \"Topic1\", \"Topic1\", \"Topic1\", \"Topic1\", \"Topic1\", \"Topic1\", \"Topic1\", \"Topic1\", \"Topic1\", \"Topic1\", \"Topic1\", \"Topic1\", \"Topic1\", \"Topic1\", \"Topic1\", \"Topic1\", \"Topic1\", \"Topic1\", \"Topic1\", \"Topic1\", \"Topic1\", \"Topic1\", \"Topic1\", \"Topic2\", \"Topic2\", \"Topic2\", \"Topic2\", \"Topic2\", \"Topic2\", \"Topic2\", \"Topic2\", \"Topic2\", \"Topic2\", \"Topic2\", \"Topic2\", \"Topic2\", \"Topic2\", \"Topic2\", \"Topic2\", \"Topic2\", \"Topic2\", \"Topic2\", \"Topic2\", \"Topic2\", \"Topic2\", \"Topic2\", \"Topic2\", \"Topic2\", \"Topic2\", \"Topic2\", \"Topic2\", \"Topic2\", \"Topic2\", \"Topic2\", \"Topic2\", \"Topic2\", \"Topic2\", \"Topic2\", \"Topic2\", \"Topic2\", \"Topic2\", \"Topic2\", \"Topic2\", \"Topic2\", \"Topic2\", \"Topic2\", \"Topic2\", \"Topic2\", \"Topic2\", \"Topic2\", \"Topic2\", \"Topic2\", \"Topic2\", \"Topic2\", \"Topic2\", \"Topic2\", \"Topic2\", \"Topic2\", \"Topic2\", \"Topic2\", \"Topic2\", \"Topic2\", \"Topic2\", \"Topic2\", \"Topic3\", \"Topic3\", \"Topic3\", \"Topic3\", \"Topic3\", \"Topic3\", \"Topic3\", \"Topic3\", \"Topic3\", \"Topic3\", \"Topic3\", \"Topic3\", \"Topic3\", \"Topic3\", \"Topic3\", \"Topic3\", \"Topic3\", \"Topic3\", \"Topic3\", \"Topic3\", \"Topic3\", \"Topic3\", \"Topic3\", \"Topic3\", \"Topic3\", \"Topic3\", \"Topic3\", \"Topic3\", \"Topic3\", \"Topic3\", \"Topic3\", \"Topic3\", \"Topic3\", \"Topic3\", \"Topic3\", \"Topic3\", \"Topic3\", \"Topic3\", \"Topic3\", \"Topic3\", \"Topic3\", \"Topic3\", \"Topic3\", \"Topic3\", \"Topic3\", \"Topic3\", \"Topic3\", \"Topic3\", \"Topic3\", \"Topic3\", \"Topic3\", \"Topic3\", \"Topic3\", \"Topic3\", \"Topic3\", \"Topic3\", \"Topic3\", \"Topic4\", \"Topic4\", \"Topic4\", \"Topic4\", \"Topic4\", \"Topic4\", \"Topic4\", \"Topic4\", \"Topic4\", \"Topic4\", \"Topic4\", \"Topic4\", \"Topic4\", \"Topic4\", \"Topic4\", \"Topic4\", \"Topic4\", \"Topic4\", \"Topic4\", \"Topic4\", \"Topic4\", \"Topic4\", \"Topic4\", \"Topic4\", \"Topic4\", \"Topic4\", \"Topic4\", \"Topic4\", \"Topic4\", \"Topic4\", \"Topic4\", \"Topic4\", \"Topic4\", \"Topic4\", \"Topic4\", \"Topic4\", \"Topic4\", \"Topic4\", \"Topic4\", \"Topic4\", \"Topic4\", \"Topic4\", \"Topic4\", \"Topic4\", \"Topic4\", \"Topic4\", \"Topic4\", \"Topic4\", \"Topic4\", \"Topic4\", \"Topic4\", \"Topic4\", \"Topic4\", \"Topic4\", \"Topic4\", \"Topic4\", \"Topic4\", \"Topic4\", \"Topic4\", \"Topic4\", \"Topic4\"], \"logprob\": [30.0, 29.0, 28.0, 27.0, 26.0, 25.0, 24.0, 23.0, 22.0, 21.0, 20.0, 19.0, 18.0, 17.0, 16.0, 15.0, 14.0, 13.0, 12.0, 11.0, 10.0, 9.0, 8.0, 7.0, 6.0, 5.0, 4.0, 3.0, 2.0, 1.0, -5.9417, -5.9422, -6.3274, -5.2655, -6.5956, -6.5956, -6.5956, -6.5956, -6.5957, -6.5957, -6.9633, -6.9633, -6.9633, -6.9634, -6.9634, -6.9634, -6.9634, -6.9634, -6.9634, -6.9634, -6.9634, -6.9634, -6.9634, -6.9634, -6.9634, -6.9634, -6.9634, -6.9634, -6.9634, -6.9634, -4.1857, -6.3271, -5.7923, -4.7158, -4.9399, -5.6617, -5.3517, -5.9413, -5.6629, -6.3239, -6.5931, -6.5943, -5.3526, -6.5952, -5.9403, -4.9274, -6.1129, -6.3282, -5.9411, -5.9407, -5.5494, -5.4231, -5.6062, -5.943, -6.1142, -5.9422, -6.1145, -5.9512, -6.3275, -6.1165, -5.9431, -5.9447, -6.117, -6.3237, -5.9775, -6.1888, -6.457, -6.8247, -6.8247, -6.8248, -6.8248, -6.8248, -6.8248, -6.8248, -6.8248, -6.8248, -6.8248, -6.8248, -6.8248, -6.8248, -6.8248, -6.8248, -6.8248, -6.8248, -6.8248, -6.8248, -6.8248, -6.8248, -6.8248, -6.8248, -6.8248, -6.8248, -6.8248, -6.8248, -5.6515, -6.1881, -6.1877, -4.754, -4.785, -5.3065, -5.6509, -4.6271, -5.7999, -5.8012, -5.9767, -5.3078, -5.8008, -5.524, -5.9757, -6.1879, -5.976, -5.9747, -6.457, -6.4548, -5.9764, -5.3066, -6.1876, -5.8009, -5.9765, -5.8044, -6.4544, -5.9809, -5.9575, -6.189, -6.1938, -5.3869, -5.5018, -6.1637, -6.1637, -6.1637, -6.1637, -6.432, -6.432, -6.4339, -6.7997, -6.7997, -6.7997, -6.7997, -6.7997, -6.7997, -6.7997, -6.7997, -6.7997, -6.7997, -6.7997, -6.7997, -6.7997, -6.7997, -6.7998, -6.7998, -6.8051, -5.624, -6.1621, -6.163, -6.4316, -4.3536, -5.9483, -5.9507, -5.1857, -4.6012, -6.4308, -6.4316, -5.9527, -6.1585, -5.6284, -5.5013, -5.3336, -5.1925, -6.4309, -5.7783, -6.1623, -6.1623, -5.593, -5.6299, -5.7787, -5.9517, -5.7081, -5.779, -6.1643, -6.1626, -6.1627, -6.1633, -6.1169, -6.1169, -6.1169, -6.3851, -6.3851, -6.3851, -6.3851, -6.7528, -6.7528, -6.7528, -6.7528, -6.7528, -6.7528, -6.7529, -6.7529, -6.7529, -6.7529, -6.7529, -6.7529, -6.7529, -6.7529, -6.7529, -6.7529, -6.7529, -6.7529, -6.7529, -6.7529, -6.7529, -6.753, -6.1154, -5.1402, -5.9045, -5.9049, -6.1145, -5.7293, -6.3833, -6.3835, -6.3838, -5.1418, -5.4523, -5.9052, -5.9039, -6.1132, -5.0574, -5.4526, -5.9016, -5.9034, -5.9034, -6.382, -6.385, -6.1142, -5.7295, -5.3404, -6.1158, -5.5849, -6.1166, -6.1166, -5.9128, -6.1162, -6.1176, -6.1184], \"loglift\": [30.0, 29.0, 28.0, 27.0, 26.0, 25.0, 24.0, 23.0, 22.0, 21.0, 20.0, 19.0, 18.0, 17.0, 16.0, 15.0, 14.0, 13.0, 12.0, 11.0, 10.0, 9.0, 8.0, 7.0, 6.0, 5.0, 4.0, 3.0, 2.0, 1.0, 1.0959, 1.0953, 1.0502, 1.0162, 1.0083, 1.0083, 1.0083, 1.0083, 1.0082, 1.0082, 0.9335, 0.9335, 0.9335, 0.9335, 0.9335, 0.9335, 0.9335, 0.9335, 0.9335, 0.9335, 0.9335, 0.9335, 0.9335, 0.9335, 0.9335, 0.9335, 0.9335, 0.9335, 0.9335, 0.9335, 0.6977, 0.8826, 0.8117, 0.6833, 0.6079, 0.7082, 0.6173, 0.6716, 0.5798, 0.7378, 0.8012, 0.8, 0.3404, 0.7965, 0.5167, -0.0676, 0.5052, 0.6083, 0.372, 0.3705, 0.0521, -0.4552, -0.2823, 0.0527, 0.2744, -0.0348, 0.2062, -0.172, 0.4945, 0.0273, -0.3646, -0.3746, -0.2561, 0.142, 1.2755, 1.2463, 1.2008, 1.1202, 1.1202, 1.1202, 1.1202, 1.1202, 1.1202, 1.1202, 1.1202, 1.1202, 1.1202, 1.1202, 1.1202, 1.1202, 1.1202, 1.1202, 1.1202, 1.1202, 1.1202, 1.1202, 1.1202, 1.1202, 1.1202, 1.1202, 1.1202, 1.1202, 1.1202, 1.1202, 1.0956, 1.07, 1.0677, 0.816, 0.5389, 0.6039, 0.6848, 0.2328, 0.6098, 0.5907, 0.6562, 0.2707, 0.5103, 0.3369, 0.5915, 0.6566, 0.4318, 0.4256, 0.8008, 0.7884, 0.3367, -0.3386, 0.4451, -0.0217, 0.1674, -0.203, 0.6429, -0.5819, -1.0741, -0.4959, -0.646, 1.3687, 1.359, 1.2829, 1.2829, 1.2829, 1.2829, 1.2367, 1.2367, 1.2347, 1.1548, 1.1548, 1.1548, 1.1548, 1.1548, 1.1548, 1.1548, 1.1548, 1.1548, 1.1548, 1.1548, 1.1548, 1.1548, 1.1548, 1.1548, 1.1548, 1.1491, 1.1214, 1.1006, 1.0996, 1.0121, 0.6144, 0.8949, 0.8922, 0.5934, 0.2587, 0.9981, 0.9974, 0.7153, 0.813, 0.3405, 0.1918, -0.0096, -0.3091, 0.822, 0.2174, 0.5714, 0.5641, -0.0452, -0.0285, 0.0822, 0.2911, -0.1381, -0.38, 0.4486, 0.1581, 0.2482, 0.2463, 1.3429, 1.3429, 1.3429, 1.2959, 1.2959, 1.2959, 1.2958, 1.2126, 1.2126, 1.2126, 1.2126, 1.2126, 1.2126, 1.2126, 1.2126, 1.2126, 1.2126, 1.2126, 1.2126, 1.2126, 1.2126, 1.2126, 1.2126, 1.2126, 1.2126, 1.2126, 1.2126, 1.2126, 1.2124, 1.1582, 0.7672, 0.9456, 0.9354, 0.9936, 0.8502, 1.0554, 1.0552, 1.0549, 0.4366, 0.5434, 0.7628, 0.6632, 0.7335, -0.0895, 0.1488, 0.5062, 0.5075, 0.5065, 0.8888, 0.8834, 0.6274, 0.1809, -0.457, 0.4303, -0.7251, 0.3404, 0.2837, -0.5889, 0.0277, -0.2567, -0.4253]}, \"token.table\": {\"Topic\": [2, 4, 4, 2, 3, 4, 1, 2, 3, 4, 1, 2, 3, 4, 3, 3, 1, 2, 4, 1, 1, 2, 4, 1, 2, 3, 4, 2, 1, 1, 1, 3, 3, 2, 3, 1, 1, 3, 4, 1, 2, 1, 2, 3, 4, 2, 1, 2, 3, 4, 4, 1, 3, 2, 1, 2, 3, 4, 2, 1, 2, 3, 4, 3, 3, 4, 1, 2, 3, 4, 3, 1, 2, 3, 4, 2, 2, 4, 1, 2, 3, 4, 1, 2, 3, 4, 4, 2, 3, 2, 4, 1, 1, 1, 3, 4, 1, 4, 1, 2, 3, 4, 1, 2, 4, 1, 1, 4, 1, 2, 3, 4, 2, 3, 3, 3, 1, 1, 3, 4, 2, 2, 2, 2, 3, 1, 2, 3, 4, 1, 2, 4, 2, 2, 3, 1, 2, 3, 4, 1, 1, 1, 2, 3, 4, 3, 1, 3, 4, 2, 2, 1, 2, 3, 2, 1, 3, 3, 1, 3, 1, 3, 4, 3, 1, 3, 4, 4, 1, 2, 3, 4, 3, 1, 1, 4, 1, 2, 3, 4, 1, 2, 3, 4, 1, 2, 3, 2, 3, 4, 2, 1, 2, 3, 4, 1, 3, 1, 3, 4, 1, 1, 1, 4, 4, 4, 4, 2, 3, 4, 4, 3, 3, 4, 3, 3, 1, 2, 3, 4, 1, 4, 4, 1, 2, 3, 4, 1, 2, 4, 4, 1, 2, 3, 4, 4, 2, 1, 1, 1, 1, 2, 3, 4, 1, 1, 4, 3, 1, 2, 4, 1, 2, 3, 2, 1, 2, 4, 1, 2, 3, 4, 1, 1, 2, 3, 4, 2, 3, 2, 1, 2, 3, 4, 3, 4, 1, 1, 2, 4, 2, 4, 1, 2, 1, 1, 2, 4, 1, 2, 3, 4, 3, 1, 4, 4, 1, 3, 2, 2, 2, 1, 2, 4, 2, 1, 2, 3, 4, 4, 4, 1, 2, 3, 4, 2, 2, 1, 3, 4, 4, 1, 2, 3, 4, 2, 1, 2, 3, 4, 1, 2, 3, 4, 4, 1, 2, 3, 4, 1, 3, 4, 3, 1, 2, 3, 4, 2, 1, 1, 2, 3, 4, 4, 3, 1, 3, 2, 3, 3, 1, 2, 3, 4, 4, 4], \"Freq\": [0.2779460053715639, 0.5558920107431278, 0.5580835223032719, 0.27863117399540577, 0.27863117399540577, 0.5572623479908115, 0.11791671604881415, 0.11791671604881415, 0.35375014814644246, 0.35375014814644246, 0.3232467128543042, 0.21549780856953613, 0.3232467128543042, 0.10774890428476806, 0.5520262121748449, 0.5520262121748449, 0.7151514551753975, 0.1430302910350795, 0.1430302910350795, 0.5210911871519415, 0.3470799048605127, 0.46277320648068365, 0.23138660324034183, 0.11755112169722597, 0.3526533650916779, 0.11755112169722597, 0.3526533650916779, 0.5467507257941939, 0.8826579247015314, 0.5210911390594308, 0.3263607973967963, 0.6527215947935926, 0.5520263725992306, 0.5467507058554102, 0.5520262121748449, 0.777525301896354, 0.18293590578930544, 0.18293590578930544, 0.5488077173679163, 0.5210915671313062, 0.5467507257941939, 0.43519604254660976, 0.2901306950310732, 0.1450653475155366, 0.1450653475155366, 0.82062299421113, 0.25076527499585416, 0.25076527499585416, 0.43883923124274477, 0.06269131874896354, 0.5580839294212622, 0.777528065969525, 0.9965453876408359, 0.546750726499864, 0.2943984272539895, 0.4415976408809843, 0.14719921362699476, 0.14719921362699476, 0.5467507271793254, 0.5336094767708388, 0.17786982559027958, 0.17786982559027958, 0.17786982559027958, 0.5520262099310754, 0.45746345477208766, 0.45746345477208766, 0.5305660252566636, 0.07579514646523766, 0.30318058586095065, 0.07579514646523766, 0.8295286111815525, 0.1177909943762187, 0.2355819887524374, 0.2355819887524374, 0.3533729831286561, 0.5467507257941939, 0.5467507257941939, 0.5580838594450782, 0.32330528521083407, 0.16165264260541704, 0.4849579278162511, 0.5580840720529764, 0.23859460935065496, 0.4374234504762008, 0.23859460935065496, 0.11929730467532748, 0.8398210927017932, 0.546750726499864, 0.5518290477860058, 0.546750727536927, 0.8398210550660383, 0.521091414276805, 0.5210916487186282, 0.23678814322503963, 0.23678814322503963, 0.7103644296751189, 0.32956083675789527, 0.6591216735157905, 0.345963558522596, 0.23064237234839738, 0.11532118617419869, 0.23064237234839738, 0.8289284537721825, 0.10361605672152281, 0.10361605672152281, 0.8826281624054744, 0.5210916162544336, 1.0097360732769671, 0.16412355474489465, 0.16412355474489465, 0.16412355474489465, 0.49237066423468395, 0.27635327545282706, 0.8290598263584812, 0.9965456787550373, 0.9965456787550373, 0.5210915270686935, 0.18168091215177548, 0.5450427364553264, 0.18168091215177548, 0.546750726499864, 0.546750726499864, 0.5467507112467471, 0.8230806066531675, 0.2743602022177225, 0.1429670207138514, 0.4289010621415542, 0.1429670207138514, 0.2859340414277028, 0.23424910471669433, 0.46849820943338866, 0.23424910471669433, 0.9851058061984539, 0.27635584444957, 0.82906753334871, 0.6001173856525227, 0.1285965826398263, 0.17146211018643506, 0.08573105509321753, 0.777524499056087, 0.5210915646567199, 0.2750237736183659, 0.30002593485639917, 0.30002593485639917, 0.10000864495213305, 0.5520263536229709, 0.2737011305292112, 0.5474022610584224, 0.2737011305292112, 0.5467507257941939, 0.5467507257941939, 0.27103644087727613, 0.5420728817545523, 0.27103644087727613, 0.5467507257941939, 0.32637425039049955, 0.6527485007809991, 0.5520263217722847, 0.577214405249899, 0.4329108039374242, 0.31140602634224723, 0.31140602634224723, 0.38925753292780907, 0.5520260341660465, 0.59833889551237, 0.19944629850412332, 0.19944629850412332, 0.558084018483172, 0.19498069001894713, 0.16712630573052611, 0.44567014861473625, 0.19498069001894713, 0.5520262121748449, 0.7775245778440018, 0.3623117039315804, 0.5434675558973706, 0.16475831153695303, 0.16475831153695303, 0.6590332461478121, 0.5580802229483226, 0.11777210608783328, 0.47108842435133313, 0.35331631826349985, 0.11777210608783328, 0.18192689689593014, 0.5457806906877903, 0.3638537937918603, 0.6601412013371941, 0.16503530033429853, 0.16503530033429853, 0.546750726499864, 0.4983118954492523, 0.09966237908985046, 0.2989871372695514, 0.09966237908985046, 0.5210917117940812, 0.8295472935093372, 0.20655464263698745, 0.6196639279109624, 0.20655464263698745, 0.5210916468673013, 0.5210916468673013, 0.3295653006151702, 0.6591306012303404, 0.5580836450662994, 0.5580836450662994, 0.5580836450662994, 0.13956998839575616, 0.2791399767915123, 0.5582799535830246, 0.5580837113841843, 0.5520262121748449, 0.5520262121748449, 0.5580837803699356, 0.9987031657796326, 0.9244910740624513, 0.4277261231454244, 0.3207945923590683, 0.1069315307863561, 0.1069315307863561, 0.5210913130779742, 0.5580836602601593, 0.5580836602601593, 0.49392429868706983, 0.12348107467176746, 0.12348107467176746, 0.3704432240153024, 0.5210913001160565, 0.2793966256160477, 0.8381898768481431, 1.0097360732769671, 0.20516254470713188, 0.3077438170606978, 0.1538719085303489, 0.3590344532374808, 0.5580838330671225, 0.5467507257941939, 0.5210910877369727, 0.5210915584165035, 0.5210915946961339, 0.6143267918446332, 0.07679084898057915, 0.17917864762135136, 0.12798474830096526, 0.5210912394140638, 0.7863345141510608, 0.26211150471702027, 0.5520261268467174, 0.6781093421042386, 0.2260364473680795, 0.2260364473680795, 0.16284055719025986, 0.3256811143805197, 0.48852167157077964, 0.5467507407720849, 0.40494628752940226, 0.2699641916862682, 0.40494628752940226, 0.27084858284181734, 0.27084858284181734, 0.1805657218945449, 0.27084858284181734, 0.7775246583503069, 0.1823249932410995, 0.1823249932410995, 0.1823249932410995, 0.5469749797232984, 0.5500453025547151, 0.27502265127735753, 0.5467507218748382, 0.31489919215443035, 0.20993279476962023, 0.20993279476962023, 0.2624159934620253, 0.5520262421961605, 0.8398208295254497, 0.5210915573729167, 0.1378572787278483, 0.4135718361835449, 0.4135718361835449, 0.82530330060379, 0.2751011002012633, 0.6288285078134643, 0.31441425390673217, 0.9300930669015254, 0.5210915646567199, 0.8211205236535094, 0.558083716910896, 0.10937587531395329, 0.43750350125581317, 0.10937587531395329, 0.21875175062790658, 0.5520262761592309, 0.3295548700815472, 0.6591097401630944, 0.5580839925504315, 0.777528065969525, 0.9965453876408359, 0.546750726499864, 0.546750726499864, 0.5467507509737266, 0.29444487680085324, 0.44166731520127983, 0.14722243840042662, 0.5467507257941939, 0.20344576935688885, 0.5594758657314444, 0.20344576935688885, 0.05086144233922221, 0.5580839499933933, 0.5580839499933933, 0.40263185425835984, 0.1725565089678685, 0.2875941816131142, 0.1725565089678685, 0.5467507257941939, 0.546750726499864, 0.6304861988095455, 0.31524309940477274, 1.0097358405435888, 0.8398210912341519, 0.20409301510996494, 0.3401550251832749, 0.2721240201466199, 0.20409301510996494, 0.5467507359086097, 0.2850681601119818, 0.07126704002799546, 0.1425340800559909, 0.49886928019596816, 0.5658933683527418, 0.11317867367054836, 0.22635734734109672, 0.11317867367054836, 0.5580838892949813, 0.426866681088207, 0.426866681088207, 0.10671667027205176, 0.10671667027205176, 0.1816313904221326, 0.5448941712663978, 0.1816313904221326, 0.5520263805779332, 0.2333455174690166, 0.3500182762035249, 0.1166727587345083, 0.3500182762035249, 0.546750726499864, 0.5210914637765975, 0.547193263222961, 0.14923452633353484, 0.2487242105558914, 0.09948968422235656, 0.5580836450662994, 0.8295472865235707, 0.6305281536597623, 0.31526407682988117, 0.3312214012186619, 0.6624428024373238, 0.5520262099310754, 0.3736672390148797, 0.24911149267658644, 0.24911149267658644, 0.12455574633829322, 0.5580838266201738, 0.558083716910896], \"Term\": [\"\\uac00\\ub2a5\", \"\\uac00\\ub2a5\", \"\\uac04\\ud3b8\", \"\\uac19\\uc740\", \"\\uac19\\uc740\", \"\\uac19\\uc740\", \"\\uac19\\uc74c\", \"\\uac19\\uc74c\", \"\\uac19\\uc74c\", \"\\uac19\\uc74c\", \"\\uac70\\ub9ac\", \"\\uac70\\ub9ac\", \"\\uac70\\ub9ac\", \"\\uac70\\ub9ac\", \"\\uac78\\ub9ac\\uace0\", \"\\uac78\\ub9ac\\uace0 \\uace0\\uc0dd\", \"\\uac80\\ub2e8\", \"\\uac80\\ub2e8\", \"\\uac80\\ub2e8\", \"\\uac80\\ub2e8 \\uacc4\\uc591\", \"\\uacb0\\uc81c\", \"\\uacb0\\uc81c\", \"\\uacb0\\uc81c\", \"\\uacbd\\ub85c\", \"\\uacbd\\ub85c\", \"\\uacbd\\ub85c\", \"\\uacbd\\ub85c\", \"\\uacbd\\uc6b0 \\ub2e4\\uc218\", \"\\uacc4\\uc591\", \"\\uacc4\\uc591 \\uac80\\ub2e8\", \"\\uace0\\ub824\", \"\\uace0\\ub824\", \"\\uace0\\ub824 \\ud558\\uc9c0\", \"\\uace0\\ubbfc\", \"\\uace0\\uc0dd\", \"\\uad49\\uc7a5\\ud788\", \"\\uad50\\ud1b5\", \"\\uad50\\ud1b5\", \"\\uad50\\ud1b5\", \"\\uad50\\ud1b5\\uce74\\ub4dc\", \"\\uadfc\\uac70\\ub9ac \\uc774\\ub3d9\", \"\\uae30\\ub2a5\", \"\\uae30\\ub2a5\", \"\\uae30\\ub2a5\", \"\\uae30\\ub2a5\", \"\\uae30\\ub2e4\\ub9b0\", \"\\uae30\\uc0ac\", \"\\uae30\\uc0ac\", \"\\uae30\\uc0ac\", \"\\uae30\\uc0ac\", \"\\uae30\\uc0ac \\uc758\\uacac\", \"\\uae30\\uc0ac \\uce5c\\uc808\\ud558\", \"\\uae30\\uc0ac \\uce5c\\uc808\\ud558\\uac8c\", \"\\uae30\\uc0ac \\uce5c\\uc808\\ud55c\", \"\\uae30\\uc874\", \"\\uae30\\uc874\", \"\\uae30\\uc874\", \"\\uae30\\uc874\", \"\\uae30\\uc874 \\ub300\\uc911\\uad50\\ud1b5\", \"\\ub0b4\\ubd80\", \"\\ub0b4\\ubd80\", \"\\ub0b4\\ubd80\", \"\\ub0b4\\ubd80\", \"\\ub0c4\\uc0c8\", \"\\ub178\\uc120\", \"\\ub178\\uc120\", \"\\ub290\\ub08c\", \"\\ub290\\ub08c\", \"\\ub290\\ub08c\", \"\\ub290\\ub08c\", \"\\ub2a6\\uc740\", \"\\ub2e4\\ub978\", \"\\ub2e4\\ub978\", \"\\ub2e4\\ub978\", \"\\ub2e4\\ub978\", \"\\ub2e4\\uc218\", \"\\ub2e4\\uc218 \\ud0c0\\ub294\", \"\\ub2e4\\ud589\\ud788\", \"\\ub300\\uae30\", \"\\ub300\\uae30\", \"\\ub300\\uae30\", \"\\ub3c4\\uc2ec\", \"\\ub3c4\\ucc29\", \"\\ub3c4\\ucc29\", \"\\ub3c4\\ucc29\", \"\\ub3c4\\ucc29\", \"\\ub3c4\\ucc29 \\uc2dc\\uac04\", \"\\ub3c4\\ucc29 \\uc548\\ub0b4\", \"\\ub3c4\\ucc29 \\uc608\\uc0c1\", \"\\ub3c4\\ucc29 \\ucc28\\ub7c9\", \"\\ub3d9\\ub124\", \"\\ub3d9\\uc548 \\ubc30\\ucc28\", \"\\ub3d9\\uc77c\", \"\\ub418\\uba74\", \"\\ub418\\uba74\", \"\\ub418\\uba74\", \"\\ub418\\uba74 \\uc88b\\uaca0\\uc74c\", \"\\ub418\\uba74 \\uc88b\\uaca0\\uc74c\", \"\\ub418\\uc5b4\", \"\\ub418\\uc5b4\", \"\\ub418\\uc5b4\", \"\\ub418\\uc5b4\", \"\\ub418\\uc9c0\", \"\\ub418\\uc9c0\", \"\\ub418\\uc9c0\", \"\\ub418\\uc9c0 \\uc54a\\uc544\", \"\\ub418\\uc9c0 \\uc54a\\uc74c\", \"\\ub4e4\\uc74c\", \"\\ub54c\\ubb38\", \"\\ub54c\\ubb38\", \"\\ub54c\\ubb38\", \"\\ub54c\\ubb38\", \"\\ub77c\\uba74\", \"\\ub77c\\uba74\", \"\\ub9c8\\uc744\", \"\\ub9c8\\uc744 \\ubc84\\uc2a4\", \"\\ub9ce\\uc544\\uc9c8\", \"\\ub9ce\\uc740\", \"\\ub9ce\\uc740\", \"\\ub9ce\\uc740\", \"\\ub9d0\\uc500\", \"\\ub9d0\\uc500 \\ud3b8\\uc548\\ud558\\uac8c\", \"\\ubaa8\\ub974\\uace0\", \"\\ubaa8\\uc784\", \"\\ubaa8\\uc784\", \"\\ubaa9\\uc801\\uc9c0\", \"\\ubaa9\\uc801\\uc9c0\", \"\\ubaa9\\uc801\\uc9c0\", \"\\ubaa9\\uc801\\uc9c0\", \"\\ubb34\\ucc99\", \"\\ubb34\\ucc99\", \"\\ubb34\\ucc99\", \"\\ubb38\\uad6c\", \"\\ubc29\\ubc95\", \"\\ubc29\\ubc95\", \"\\ubc30\\ucc28\", \"\\ubc30\\ucc28\", \"\\ubc30\\ucc28\", \"\\ubc30\\ucc28\", \"\\ubc30\\ucc28 \\ub418\\uc9c0\", \"\\ubc30\\ucc28 \\uc9c4\\ud589\", \"\\ubc84\\uc2a4\", \"\\ubc84\\uc2a4\", \"\\ubc84\\uc2a4\", \"\\ubc84\\uc2a4\", \"\\ubcf4\\ub2e4\", \"\\ubd80\\ubd84\", \"\\ubd80\\ubd84\", \"\\ubd80\\ubd84\", \"\\ube44\\ubcf4\", \"\\ube44\\ubcf4 \\ube44\\uc2fc\", \"\\ube44\\uc2fc\", \"\\ube44\\uc2fc\", \"\\ube44\\uc2fc\", \"\\ube44\\uc2fc \\uc788\\uc74c\", \"\\ube60\\ub978\", \"\\ube60\\ub978\", \"\\ube60\\ub978 \\uc2dc\\uac04\", \"\\uc0dd\\uac01\", \"\\uc0dd\\uac01\", \"\\uc11c\\ube44\\uc2a4\", \"\\uc11c\\ube44\\uc2a4\", \"\\uc11c\\ube44\\uc2a4\", \"\\uc124\\uba85\", \"\\uc1a1\\ub3c4\", \"\\uc1a1\\ub3c4\", \"\\uc1a1\\ub3c4\", \"\\uc2b9\\uc6a9\\ucc28\", \"\\uc2dc\\uac04\", \"\\uc2dc\\uac04\", \"\\uc2dc\\uac04\", \"\\uc2dc\\uac04\", \"\\uc2dc\\uac04 \\uac78\\ub9ac\\uace0\", \"\\uc2dc\\ub2c8\\uc5b4\", \"\\uc2dc\\ubbfc\", \"\\uc2dc\\ubbfc\", \"\\uc544\\uc26c\\uc6c0\", \"\\uc544\\uc26c\\uc6c0\", \"\\uc544\\uc26c\\uc6c0\", \"\\uc544\\uc26c\\uc6e0\\uc74c\", \"\\uc544\\uc774\", \"\\uc544\\uc774\", \"\\uc544\\uc774\", \"\\uc544\\uc774\", \"\\uc544\\uc774\\ubaa8\\ub4dc\", \"\\uc544\\uc774\\ubaa8\\ub4dc\", \"\\uc544\\uc774\\ubaa8\\ub4dc\", \"\\uc548\\ub0b4\", \"\\uc548\\ub0b4\", \"\\uc548\\ub0b4\", \"\\uc548\\ub0b4 \\ub9d0\\uc500\", \"\\uc54a\\uc544\", \"\\uc54a\\uc544\", \"\\uc54a\\uc544\", \"\\uc54a\\uc544\", \"\\uc54a\\uc544 \\ubc84\\uc2a4\", \"\\uc54a\\uc544 \\uc544\\uc26c\\uc6c0\", \"\\uc54a\\uc740\", \"\\uc54a\\uc740\", \"\\uc54a\\uc740\", \"\\uc54a\\uc744\\uae4c\", \"\\uc54a\\uc744\\uae4c \\uc0dd\\uac01\", \"\\uc57d\\uac04\", \"\\uc57d\\uac04\", \"\\uc5b4\\ub824\\uc6c0 \\uc5c6\\uace0\", \"\\uc5c6\\uace0\", \"\\uc5c6\\uace0 \\uacb0\\uc81c\", \"\\uc5c6\\uc5b4\", \"\\uc5c6\\uc5b4\", \"\\uc5c6\\uc5b4\", \"\\uc5c6\\uc5b4 \\uc704\\uce58\", \"\\uc5c6\\uc5c8\\ub2e4\\uba74\", \"\\uc5c6\\uc5c8\\ub2e4\\uba74 \\uc2dc\\uac04\", \"\\uc5ec\\ub7ec\", \"\\uc608\\uc0c1\", \"\\uc608\\uc0c1 \\uc2dc\\uac04\", \"\\uc6b4\\ud589\", \"\\uc6b4\\ud589\", \"\\uc6b4\\ud589\", \"\\uc6b4\\ud589\", \"\\uc6b4\\ud589 \\uc911\\uc774\", \"\\uc6d0\\ud558\\ub294\", \"\\uc6d0\\ud558\\ub294 \\uc9c0\\uc810\", \"\\uc704\\uce58\", \"\\uc704\\uce58\", \"\\uc704\\uce58\", \"\\uc704\\uce58\", \"\\uc704\\ud574 \\uc774\\uc6a9\", \"\\uc758\\uacac\", \"\\uc758\\uacac\", \"\\uc758\\uacac \\ub4e4\\uc74c\", \"\\uc774\\ub3d9\", \"\\uc774\\ub3d9\", \"\\uc774\\ub3d9\", \"\\uc774\\ub3d9\", \"\\uc774\\ub3d9 \\uac00\\ub2a5\", \"\\uc774\\ub3d9 \\uacbd\\uc6b0\", \"\\uc774\\ubbf8\\uc9c0\", \"\\uc774\\ubc88\", \"\\uc774\\uc0c1\", \"\\uc774\\uc6a9\", \"\\uc774\\uc6a9\", \"\\uc774\\uc6a9\", \"\\uc774\\uc6a9\", \"\\uc774\\uc6a9 \\uac80\\ub2e8\", \"\\uc774\\uc6a9 \\ud558\\ub294\", \"\\uc774\\uc6a9 \\ud558\\ub294\", \"\\uc778\\uc0ac\", \"\\uc778\\uc2dd\", \"\\uc778\\uc2dd\", \"\\uc778\\uc2dd\", \"\\uc77c\\ubc18\", \"\\uc77c\\ubc18\", \"\\uc77c\\ubc18\", \"\\uc785\\ub2c8\\ub2e4\\ub77c\\ub294\", \"\\uc788\\ub294\", \"\\uc788\\ub294\", \"\\uc788\\ub294\", \"\\uc788\\uc5b4\", \"\\uc788\\uc5b4\", \"\\uc788\\uc5b4\", \"\\uc788\\uc5b4\", \"\\uc788\\uc5b4 \\uc88b\\uc74c\", \"\\uc788\\uc5b4\\uc11c\", \"\\uc788\\uc5b4\\uc11c\", \"\\uc788\\uc5b4\\uc11c\", \"\\uc788\\uc5b4\\uc11c\", \"\\uc788\\uc744\", \"\\uc788\\uc744\", \"\\uc788\\uc744 \\uac83\\uc784\", \"\\uc815\\ub958\\uc7a5\", \"\\uc815\\ub958\\uc7a5\", \"\\uc815\\ub958\\uc7a5\", \"\\uc815\\ub958\\uc7a5\", \"\\uc815\\ub958\\uc7a5 \\ud45c\\uc2dc\", \"\\uc815\\ub958\\uc7a5 \\ud45c\\uc9c0\\ud310\", \"\\uc815\\ubcf4\", \"\\uc88b\\uaca0\\uc74c\", \"\\uc88b\\uaca0\\uc74c\", \"\\uc88b\\uaca0\\uc74c\", \"\\uc88b\\uc558\\uc74c\", \"\\uc88b\\uc558\\uc74c\", \"\\uc9c0\\uc778\", \"\\uc9c0\\uc778\", \"\\uc9c4\\ud589\", \"\\uc9c4\\ud589 \\ub418\\uc9c0\", \"\\ucc28\\uac10\", \"\\ucc28\\ub77c\\ub9ac\", \"\\ucc28\\ub7c9\", \"\\ucc28\\ub7c9\", \"\\ucc28\\ub7c9\", \"\\ucc28\\ub7c9\", \"\\ucd9c\\uad6c\", \"\\ucd9c\\ubc1c\", \"\\ucd9c\\ubc1c\", \"\\ucd9c\\ud1f4\\uadfc\", \"\\uce5c\\uc808\\ud558\", \"\\uce5c\\uc808\\ud558\\uac8c\", \"\\uce5c\\uc808\\ud55c\", \"\\uce5c\\uc808\\ud55c \\ub3c4\\ucc29\", \"\\uce74\\ud398 \\ubaa8\\uc784\", \"\\ud0c0\\uace0\", \"\\ud0c0\\uace0\", \"\\ud0c0\\uace0\", \"\\ud0c0\\ub294 \\ud0dd\\uc2dc\", \"\\ud0d1\\uc2b9\", \"\\ud0d1\\uc2b9\", \"\\ud0d1\\uc2b9\", \"\\ud0d1\\uc2b9\", \"\\ud0d1\\uc2b9\\uac1d\", \"\\ud0d1\\uc2b9\\uac1d \\uc758\\uacac\", \"\\ud0dd\\uc2dc\", \"\\ud0dd\\uc2dc\", \"\\ud0dd\\uc2dc\", \"\\ud0dd\\uc2dc\", \"\\ud0dd\\uc2dc \\ube44\\ubcf4\", \"\\ud3b8\\uc548\\ud558\\uac8c \\ud558\\ucc28\", \"\\ud3b8\\ud558\\uac8c\", \"\\ud3b8\\ud558\\uac8c\", \"\\ud45c\\uc9c0\\ud310\", \"\\ud45c\\uc9c0\\ud310 \\uc5c6\\uc5b4\", \"\\ud544\\uc694\", \"\\ud544\\uc694\", \"\\ud544\\uc694\", \"\\ud544\\uc694\", \"\\ud544\\uc694 \\uc5c6\\uc5b4\", \"\\ud558\\ub294\", \"\\ud558\\ub294\", \"\\ud558\\ub294\", \"\\ud558\\ub294\", \"\\ud558\\uba74\", \"\\ud558\\uba74\", \"\\ud558\\uba74\", \"\\ud558\\uba74\", \"\\ud558\\uba74\\uc11c\", \"\\ud558\\uc5ec\", \"\\ud558\\uc5ec\", \"\\ud558\\uc5ec\", \"\\ud558\\uc5ec\", \"\\ud558\\uc9c0\", \"\\ud558\\uc9c0\", \"\\ud558\\uc9c0\", \"\\ud558\\uc9c0 \\uc54a\\uc544\", \"\\ud558\\ucc28\", \"\\ud558\\ucc28\", \"\\ud558\\ucc28\", \"\\ud558\\ucc28\", \"\\ud558\\ucc28 \\uac00\\ub2a5\", \"\\ud61c\\ud0dd\", \"\\ud638\\ucd9c\", \"\\ud638\\ucd9c\", \"\\ud638\\ucd9c\", \"\\ud638\\ucd9c\", \"\\ud638\\ucd9c \\uc5b4\\ub824\\uc6c0\", \"\\ud638\\ucd9c \\uc608\\uc0c1\", \"\\ud64d\\ubcf4\", \"\\ud64d\\ubcf4\", \"\\ud658\\uae30\", \"\\ud658\\uae30\", \"\\ud658\\uae30 \\ud544\\uc694\", \"\\ud658\\uc2b9\", \"\\ud658\\uc2b9\", \"\\ud658\\uc2b9\", \"\\ud658\\uc2b9\", \"\\ud65c\\uc131\\ud654 \\ud544\\uc694\", \"\\ud6c4\\ud68c\"]}, \"R\": 30, \"lambda.step\": 0.01, \"plot.opts\": {\"xlab\": \"PC1\", \"ylab\": \"PC2\"}, \"topic.order\": [3, 2, 1, 4]};\n",
              "\n",
              "function LDAvis_load_lib(url, callback){\n",
              "  var s = document.createElement('script');\n",
              "  s.src = url;\n",
              "  s.async = true;\n",
              "  s.onreadystatechange = s.onload = callback;\n",
              "  s.onerror = function(){console.warn(\"failed to load library \" + url);};\n",
              "  document.getElementsByTagName(\"head\")[0].appendChild(s);\n",
              "}\n",
              "\n",
              "if(typeof(LDAvis) !== \"undefined\"){\n",
              "   // already loaded: just create the visualization\n",
              "   !function(LDAvis){\n",
              "       new LDAvis(\"#\" + \"ldavis_el9741405233295048484930205844\", ldavis_el9741405233295048484930205844_data);\n",
              "   }(LDAvis);\n",
              "}else if(typeof define === \"function\" && define.amd){\n",
              "   // require.js is available: use it to load d3/LDAvis\n",
              "   require.config({paths: {d3: \"https://d3js.org/d3.v5\"}});\n",
              "   require([\"d3\"], function(d3){\n",
              "      window.d3 = d3;\n",
              "      LDAvis_load_lib(\"https://cdn.jsdelivr.net/gh/bmabey/pyLDAvis@3.3.1/pyLDAvis/js/ldavis.v3.0.0.js\", function(){\n",
              "        new LDAvis(\"#\" + \"ldavis_el9741405233295048484930205844\", ldavis_el9741405233295048484930205844_data);\n",
              "      });\n",
              "    });\n",
              "}else{\n",
              "    // require.js not available: dynamically load d3 & LDAvis\n",
              "    LDAvis_load_lib(\"https://d3js.org/d3.v5.js\", function(){\n",
              "         LDAvis_load_lib(\"https://cdn.jsdelivr.net/gh/bmabey/pyLDAvis@3.3.1/pyLDAvis/js/ldavis.v3.0.0.js\", function(){\n",
              "                 new LDAvis(\"#\" + \"ldavis_el9741405233295048484930205844\", ldavis_el9741405233295048484930205844_data);\n",
              "            })\n",
              "         });\n",
              "}\n",
              "</script>"
            ]
          },
          "metadata": {},
          "execution_count": 43
        }
      ]
    },
    {
      "cell_type": "code",
      "source": [
        "# # html로 저장\n",
        "# pyLDAvis.save_html(vis, '감성일기예시_lda.html')"
      ],
      "metadata": {
        "id": "jefzY4xxXbWK"
      },
      "execution_count": null,
      "outputs": []
    },
    {
      "cell_type": "code",
      "source": [
        "# 문서별로, 가장 확률이 높은 topic으로 할당해줌\n",
        "\n",
        "doc_topic = lda.transform(feat_vect)\n",
        "\n",
        "doc_per_topic_list = []\n",
        "for n in range(doc_topic.shape[0]):\n",
        "    topic_most_pr = doc_topic[n].argmax()\n",
        "    topic_pr = doc_topic[n].max()\n",
        "    doc_per_topic_list.append([n, topic_most_pr, topic_pr])\n",
        "\n",
        "doc_topic_df = pd.DataFrame(doc_per_topic_list, columns=['Doc_Num', 'Topic', 'Percentage'])\n",
        "\n",
        "doc_topic_df.head()"
      ],
      "metadata": {
        "colab": {
          "base_uri": "https://localhost:8080/",
          "height": 206
        },
        "id": "ZQ-sHJEEZBOJ",
        "outputId": "f59a1c2d-60c1-4010-802d-662eac353bd4"
      },
      "execution_count": null,
      "outputs": [
        {
          "output_type": "execute_result",
          "data": {
            "text/plain": [
              "   Doc_Num  Topic  Percentage\n",
              "0        0      2    0.952581\n",
              "1        1      2    0.945735\n",
              "2        2      2    0.945166\n",
              "3        3      1    0.579524\n",
              "4        4      3    0.945146"
            ],
            "text/html": [
              "\n",
              "  <div id=\"df-3806f4da-b320-49e3-8c43-a06775b43b48\">\n",
              "    <div class=\"colab-df-container\">\n",
              "      <div>\n",
              "<style scoped>\n",
              "    .dataframe tbody tr th:only-of-type {\n",
              "        vertical-align: middle;\n",
              "    }\n",
              "\n",
              "    .dataframe tbody tr th {\n",
              "        vertical-align: top;\n",
              "    }\n",
              "\n",
              "    .dataframe thead th {\n",
              "        text-align: right;\n",
              "    }\n",
              "</style>\n",
              "<table border=\"1\" class=\"dataframe\">\n",
              "  <thead>\n",
              "    <tr style=\"text-align: right;\">\n",
              "      <th></th>\n",
              "      <th>Doc_Num</th>\n",
              "      <th>Topic</th>\n",
              "      <th>Percentage</th>\n",
              "    </tr>\n",
              "  </thead>\n",
              "  <tbody>\n",
              "    <tr>\n",
              "      <th>0</th>\n",
              "      <td>0</td>\n",
              "      <td>2</td>\n",
              "      <td>0.952581</td>\n",
              "    </tr>\n",
              "    <tr>\n",
              "      <th>1</th>\n",
              "      <td>1</td>\n",
              "      <td>2</td>\n",
              "      <td>0.945735</td>\n",
              "    </tr>\n",
              "    <tr>\n",
              "      <th>2</th>\n",
              "      <td>2</td>\n",
              "      <td>2</td>\n",
              "      <td>0.945166</td>\n",
              "    </tr>\n",
              "    <tr>\n",
              "      <th>3</th>\n",
              "      <td>3</td>\n",
              "      <td>1</td>\n",
              "      <td>0.579524</td>\n",
              "    </tr>\n",
              "    <tr>\n",
              "      <th>4</th>\n",
              "      <td>4</td>\n",
              "      <td>3</td>\n",
              "      <td>0.945146</td>\n",
              "    </tr>\n",
              "  </tbody>\n",
              "</table>\n",
              "</div>\n",
              "      <button class=\"colab-df-convert\" onclick=\"convertToInteractive('df-3806f4da-b320-49e3-8c43-a06775b43b48')\"\n",
              "              title=\"Convert this dataframe to an interactive table.\"\n",
              "              style=\"display:none;\">\n",
              "        \n",
              "  <svg xmlns=\"http://www.w3.org/2000/svg\" height=\"24px\"viewBox=\"0 0 24 24\"\n",
              "       width=\"24px\">\n",
              "    <path d=\"M0 0h24v24H0V0z\" fill=\"none\"/>\n",
              "    <path d=\"M18.56 5.44l.94 2.06.94-2.06 2.06-.94-2.06-.94-.94-2.06-.94 2.06-2.06.94zm-11 1L8.5 8.5l.94-2.06 2.06-.94-2.06-.94L8.5 2.5l-.94 2.06-2.06.94zm10 10l.94 2.06.94-2.06 2.06-.94-2.06-.94-.94-2.06-.94 2.06-2.06.94z\"/><path d=\"M17.41 7.96l-1.37-1.37c-.4-.4-.92-.59-1.43-.59-.52 0-1.04.2-1.43.59L10.3 9.45l-7.72 7.72c-.78.78-.78 2.05 0 2.83L4 21.41c.39.39.9.59 1.41.59.51 0 1.02-.2 1.41-.59l7.78-7.78 2.81-2.81c.8-.78.8-2.07 0-2.86zM5.41 20L4 18.59l7.72-7.72 1.47 1.35L5.41 20z\"/>\n",
              "  </svg>\n",
              "      </button>\n",
              "      \n",
              "  <style>\n",
              "    .colab-df-container {\n",
              "      display:flex;\n",
              "      flex-wrap:wrap;\n",
              "      gap: 12px;\n",
              "    }\n",
              "\n",
              "    .colab-df-convert {\n",
              "      background-color: #E8F0FE;\n",
              "      border: none;\n",
              "      border-radius: 50%;\n",
              "      cursor: pointer;\n",
              "      display: none;\n",
              "      fill: #1967D2;\n",
              "      height: 32px;\n",
              "      padding: 0 0 0 0;\n",
              "      width: 32px;\n",
              "    }\n",
              "\n",
              "    .colab-df-convert:hover {\n",
              "      background-color: #E2EBFA;\n",
              "      box-shadow: 0px 1px 2px rgba(60, 64, 67, 0.3), 0px 1px 3px 1px rgba(60, 64, 67, 0.15);\n",
              "      fill: #174EA6;\n",
              "    }\n",
              "\n",
              "    [theme=dark] .colab-df-convert {\n",
              "      background-color: #3B4455;\n",
              "      fill: #D2E3FC;\n",
              "    }\n",
              "\n",
              "    [theme=dark] .colab-df-convert:hover {\n",
              "      background-color: #434B5C;\n",
              "      box-shadow: 0px 1px 3px 1px rgba(0, 0, 0, 0.15);\n",
              "      filter: drop-shadow(0px 1px 2px rgba(0, 0, 0, 0.3));\n",
              "      fill: #FFFFFF;\n",
              "    }\n",
              "  </style>\n",
              "\n",
              "      <script>\n",
              "        const buttonEl =\n",
              "          document.querySelector('#df-3806f4da-b320-49e3-8c43-a06775b43b48 button.colab-df-convert');\n",
              "        buttonEl.style.display =\n",
              "          google.colab.kernel.accessAllowed ? 'block' : 'none';\n",
              "\n",
              "        async function convertToInteractive(key) {\n",
              "          const element = document.querySelector('#df-3806f4da-b320-49e3-8c43-a06775b43b48');\n",
              "          const dataTable =\n",
              "            await google.colab.kernel.invokeFunction('convertToInteractive',\n",
              "                                                     [key], {});\n",
              "          if (!dataTable) return;\n",
              "\n",
              "          const docLinkHtml = 'Like what you see? Visit the ' +\n",
              "            '<a target=\"_blank\" href=https://colab.research.google.com/notebooks/data_table.ipynb>data table notebook</a>'\n",
              "            + ' to learn more about interactive tables.';\n",
              "          element.innerHTML = '';\n",
              "          dataTable['output_type'] = 'display_data';\n",
              "          await google.colab.output.renderOutput(dataTable, element);\n",
              "          const docLink = document.createElement('div');\n",
              "          docLink.innerHTML = docLinkHtml;\n",
              "          element.appendChild(docLink);\n",
              "        }\n",
              "      </script>\n",
              "    </div>\n",
              "  </div>\n",
              "  "
            ]
          },
          "metadata": {},
          "execution_count": 44
        }
      ]
    },
    {
      "cell_type": "code",
      "source": [
        "doc_topic_df = doc_topic_df.join(df)\n",
        "doc_topic_df"
      ],
      "metadata": {
        "colab": {
          "base_uri": "https://localhost:8080/",
          "height": 423
        },
        "id": "u4Qsdfs1ZpMR",
        "outputId": "f969886d-f89a-4a37-fcbe-4b54b897e501"
      },
      "execution_count": null,
      "outputs": [
        {
          "output_type": "execute_result",
          "data": {
            "text/plain": [
              "     Doc_Num  Topic  Percentage                                Content\n",
              "0          0      2    0.952581     시도한지 20분이 지나도 배차가 되지 않아서 결국 버스로 환승\n",
              "1          1      2    0.945735            호출했으나 이번에도 배차가 30분 정도 되지 않음\n",
              "2          2      2    0.945166       운 좋게 배차가 됐고 약 20분 후에 도착한다고 바로 알림\n",
              "3          3      1    0.579524                      예상 시간과 비슷한 시간에 탑승\n",
              "4          4      3    0.945146              QR코드를 기기에 태그 하기만 하면 돼서 간편\n",
              "..       ...    ...         ...                                    ...\n",
              "355      355      1    0.906035                         멀미가 난다 승차감이 별로\n",
              "356      356      1    0.945264             호출 대시 기간이 15분 일반 버스를 탈까 고민\n",
              "357      357      1    0.924390                       아쉬운 승차감에 계속해서 멀미\n",
              "358      358      3    0.923420                  멀미 때문에 차라리 택시를 탈 걸 후회\n",
              "359      359      0    0.965006  가까운 직선거리 버스 노선이라면 기존 버스를 이용을 고려할 것 같다\n",
              "\n",
              "[360 rows x 4 columns]"
            ],
            "text/html": [
              "\n",
              "  <div id=\"df-7075bb28-ea3e-4c18-9aeb-f2e6e44337cf\">\n",
              "    <div class=\"colab-df-container\">\n",
              "      <div>\n",
              "<style scoped>\n",
              "    .dataframe tbody tr th:only-of-type {\n",
              "        vertical-align: middle;\n",
              "    }\n",
              "\n",
              "    .dataframe tbody tr th {\n",
              "        vertical-align: top;\n",
              "    }\n",
              "\n",
              "    .dataframe thead th {\n",
              "        text-align: right;\n",
              "    }\n",
              "</style>\n",
              "<table border=\"1\" class=\"dataframe\">\n",
              "  <thead>\n",
              "    <tr style=\"text-align: right;\">\n",
              "      <th></th>\n",
              "      <th>Doc_Num</th>\n",
              "      <th>Topic</th>\n",
              "      <th>Percentage</th>\n",
              "      <th>Content</th>\n",
              "    </tr>\n",
              "  </thead>\n",
              "  <tbody>\n",
              "    <tr>\n",
              "      <th>0</th>\n",
              "      <td>0</td>\n",
              "      <td>2</td>\n",
              "      <td>0.952581</td>\n",
              "      <td>시도한지 20분이 지나도 배차가 되지 않아서 결국 버스로 환승</td>\n",
              "    </tr>\n",
              "    <tr>\n",
              "      <th>1</th>\n",
              "      <td>1</td>\n",
              "      <td>2</td>\n",
              "      <td>0.945735</td>\n",
              "      <td>호출했으나 이번에도 배차가 30분 정도 되지 않음</td>\n",
              "    </tr>\n",
              "    <tr>\n",
              "      <th>2</th>\n",
              "      <td>2</td>\n",
              "      <td>2</td>\n",
              "      <td>0.945166</td>\n",
              "      <td>운 좋게 배차가 됐고 약 20분 후에 도착한다고 바로 알림</td>\n",
              "    </tr>\n",
              "    <tr>\n",
              "      <th>3</th>\n",
              "      <td>3</td>\n",
              "      <td>1</td>\n",
              "      <td>0.579524</td>\n",
              "      <td>예상 시간과 비슷한 시간에 탑승</td>\n",
              "    </tr>\n",
              "    <tr>\n",
              "      <th>4</th>\n",
              "      <td>4</td>\n",
              "      <td>3</td>\n",
              "      <td>0.945146</td>\n",
              "      <td>QR코드를 기기에 태그 하기만 하면 돼서 간편</td>\n",
              "    </tr>\n",
              "    <tr>\n",
              "      <th>...</th>\n",
              "      <td>...</td>\n",
              "      <td>...</td>\n",
              "      <td>...</td>\n",
              "      <td>...</td>\n",
              "    </tr>\n",
              "    <tr>\n",
              "      <th>355</th>\n",
              "      <td>355</td>\n",
              "      <td>1</td>\n",
              "      <td>0.906035</td>\n",
              "      <td>멀미가 난다 승차감이 별로</td>\n",
              "    </tr>\n",
              "    <tr>\n",
              "      <th>356</th>\n",
              "      <td>356</td>\n",
              "      <td>1</td>\n",
              "      <td>0.945264</td>\n",
              "      <td>호출 대시 기간이 15분 일반 버스를 탈까 고민</td>\n",
              "    </tr>\n",
              "    <tr>\n",
              "      <th>357</th>\n",
              "      <td>357</td>\n",
              "      <td>1</td>\n",
              "      <td>0.924390</td>\n",
              "      <td>아쉬운 승차감에 계속해서 멀미</td>\n",
              "    </tr>\n",
              "    <tr>\n",
              "      <th>358</th>\n",
              "      <td>358</td>\n",
              "      <td>3</td>\n",
              "      <td>0.923420</td>\n",
              "      <td>멀미 때문에 차라리 택시를 탈 걸 후회</td>\n",
              "    </tr>\n",
              "    <tr>\n",
              "      <th>359</th>\n",
              "      <td>359</td>\n",
              "      <td>0</td>\n",
              "      <td>0.965006</td>\n",
              "      <td>가까운 직선거리 버스 노선이라면 기존 버스를 이용을 고려할 것 같다</td>\n",
              "    </tr>\n",
              "  </tbody>\n",
              "</table>\n",
              "<p>360 rows × 4 columns</p>\n",
              "</div>\n",
              "      <button class=\"colab-df-convert\" onclick=\"convertToInteractive('df-7075bb28-ea3e-4c18-9aeb-f2e6e44337cf')\"\n",
              "              title=\"Convert this dataframe to an interactive table.\"\n",
              "              style=\"display:none;\">\n",
              "        \n",
              "  <svg xmlns=\"http://www.w3.org/2000/svg\" height=\"24px\"viewBox=\"0 0 24 24\"\n",
              "       width=\"24px\">\n",
              "    <path d=\"M0 0h24v24H0V0z\" fill=\"none\"/>\n",
              "    <path d=\"M18.56 5.44l.94 2.06.94-2.06 2.06-.94-2.06-.94-.94-2.06-.94 2.06-2.06.94zm-11 1L8.5 8.5l.94-2.06 2.06-.94-2.06-.94L8.5 2.5l-.94 2.06-2.06.94zm10 10l.94 2.06.94-2.06 2.06-.94-2.06-.94-.94-2.06-.94 2.06-2.06.94z\"/><path d=\"M17.41 7.96l-1.37-1.37c-.4-.4-.92-.59-1.43-.59-.52 0-1.04.2-1.43.59L10.3 9.45l-7.72 7.72c-.78.78-.78 2.05 0 2.83L4 21.41c.39.39.9.59 1.41.59.51 0 1.02-.2 1.41-.59l7.78-7.78 2.81-2.81c.8-.78.8-2.07 0-2.86zM5.41 20L4 18.59l7.72-7.72 1.47 1.35L5.41 20z\"/>\n",
              "  </svg>\n",
              "      </button>\n",
              "      \n",
              "  <style>\n",
              "    .colab-df-container {\n",
              "      display:flex;\n",
              "      flex-wrap:wrap;\n",
              "      gap: 12px;\n",
              "    }\n",
              "\n",
              "    .colab-df-convert {\n",
              "      background-color: #E8F0FE;\n",
              "      border: none;\n",
              "      border-radius: 50%;\n",
              "      cursor: pointer;\n",
              "      display: none;\n",
              "      fill: #1967D2;\n",
              "      height: 32px;\n",
              "      padding: 0 0 0 0;\n",
              "      width: 32px;\n",
              "    }\n",
              "\n",
              "    .colab-df-convert:hover {\n",
              "      background-color: #E2EBFA;\n",
              "      box-shadow: 0px 1px 2px rgba(60, 64, 67, 0.3), 0px 1px 3px 1px rgba(60, 64, 67, 0.15);\n",
              "      fill: #174EA6;\n",
              "    }\n",
              "\n",
              "    [theme=dark] .colab-df-convert {\n",
              "      background-color: #3B4455;\n",
              "      fill: #D2E3FC;\n",
              "    }\n",
              "\n",
              "    [theme=dark] .colab-df-convert:hover {\n",
              "      background-color: #434B5C;\n",
              "      box-shadow: 0px 1px 3px 1px rgba(0, 0, 0, 0.15);\n",
              "      filter: drop-shadow(0px 1px 2px rgba(0, 0, 0, 0.3));\n",
              "      fill: #FFFFFF;\n",
              "    }\n",
              "  </style>\n",
              "\n",
              "      <script>\n",
              "        const buttonEl =\n",
              "          document.querySelector('#df-7075bb28-ea3e-4c18-9aeb-f2e6e44337cf button.colab-df-convert');\n",
              "        buttonEl.style.display =\n",
              "          google.colab.kernel.accessAllowed ? 'block' : 'none';\n",
              "\n",
              "        async function convertToInteractive(key) {\n",
              "          const element = document.querySelector('#df-7075bb28-ea3e-4c18-9aeb-f2e6e44337cf');\n",
              "          const dataTable =\n",
              "            await google.colab.kernel.invokeFunction('convertToInteractive',\n",
              "                                                     [key], {});\n",
              "          if (!dataTable) return;\n",
              "\n",
              "          const docLinkHtml = 'Like what you see? Visit the ' +\n",
              "            '<a target=\"_blank\" href=https://colab.research.google.com/notebooks/data_table.ipynb>data table notebook</a>'\n",
              "            + ' to learn more about interactive tables.';\n",
              "          element.innerHTML = '';\n",
              "          dataTable['output_type'] = 'display_data';\n",
              "          await google.colab.output.renderOutput(dataTable, element);\n",
              "          const docLink = document.createElement('div');\n",
              "          docLink.innerHTML = docLinkHtml;\n",
              "          element.appendChild(docLink);\n",
              "        }\n",
              "      </script>\n",
              "    </div>\n",
              "  </div>\n",
              "  "
            ]
          },
          "metadata": {},
          "execution_count": 45
        }
      ]
    },
    {
      "cell_type": "code",
      "source": [
        "# ⁣2. 토픽별 문서 수 계산\n",
        "doc_topic_df.groupby('Topic')[['Doc_Num']].count()"
      ],
      "metadata": {
        "colab": {
          "base_uri": "https://localhost:8080/",
          "height": 206
        },
        "id": "5Yjbt53TaTkr",
        "outputId": "3494ee8d-4af4-4eb8-8fde-3c59d59668e7"
      },
      "execution_count": null,
      "outputs": [
        {
          "output_type": "execute_result",
          "data": {
            "text/plain": [
              "       Doc_Num\n",
              "Topic         \n",
              "0           90\n",
              "1           93\n",
              "2          107\n",
              "3           70"
            ],
            "text/html": [
              "\n",
              "  <div id=\"df-7dbaa116-a65b-4b66-a876-f7d3ee95ab89\">\n",
              "    <div class=\"colab-df-container\">\n",
              "      <div>\n",
              "<style scoped>\n",
              "    .dataframe tbody tr th:only-of-type {\n",
              "        vertical-align: middle;\n",
              "    }\n",
              "\n",
              "    .dataframe tbody tr th {\n",
              "        vertical-align: top;\n",
              "    }\n",
              "\n",
              "    .dataframe thead th {\n",
              "        text-align: right;\n",
              "    }\n",
              "</style>\n",
              "<table border=\"1\" class=\"dataframe\">\n",
              "  <thead>\n",
              "    <tr style=\"text-align: right;\">\n",
              "      <th></th>\n",
              "      <th>Doc_Num</th>\n",
              "    </tr>\n",
              "    <tr>\n",
              "      <th>Topic</th>\n",
              "      <th></th>\n",
              "    </tr>\n",
              "  </thead>\n",
              "  <tbody>\n",
              "    <tr>\n",
              "      <th>0</th>\n",
              "      <td>90</td>\n",
              "    </tr>\n",
              "    <tr>\n",
              "      <th>1</th>\n",
              "      <td>93</td>\n",
              "    </tr>\n",
              "    <tr>\n",
              "      <th>2</th>\n",
              "      <td>107</td>\n",
              "    </tr>\n",
              "    <tr>\n",
              "      <th>3</th>\n",
              "      <td>70</td>\n",
              "    </tr>\n",
              "  </tbody>\n",
              "</table>\n",
              "</div>\n",
              "      <button class=\"colab-df-convert\" onclick=\"convertToInteractive('df-7dbaa116-a65b-4b66-a876-f7d3ee95ab89')\"\n",
              "              title=\"Convert this dataframe to an interactive table.\"\n",
              "              style=\"display:none;\">\n",
              "        \n",
              "  <svg xmlns=\"http://www.w3.org/2000/svg\" height=\"24px\"viewBox=\"0 0 24 24\"\n",
              "       width=\"24px\">\n",
              "    <path d=\"M0 0h24v24H0V0z\" fill=\"none\"/>\n",
              "    <path d=\"M18.56 5.44l.94 2.06.94-2.06 2.06-.94-2.06-.94-.94-2.06-.94 2.06-2.06.94zm-11 1L8.5 8.5l.94-2.06 2.06-.94-2.06-.94L8.5 2.5l-.94 2.06-2.06.94zm10 10l.94 2.06.94-2.06 2.06-.94-2.06-.94-.94-2.06-.94 2.06-2.06.94z\"/><path d=\"M17.41 7.96l-1.37-1.37c-.4-.4-.92-.59-1.43-.59-.52 0-1.04.2-1.43.59L10.3 9.45l-7.72 7.72c-.78.78-.78 2.05 0 2.83L4 21.41c.39.39.9.59 1.41.59.51 0 1.02-.2 1.41-.59l7.78-7.78 2.81-2.81c.8-.78.8-2.07 0-2.86zM5.41 20L4 18.59l7.72-7.72 1.47 1.35L5.41 20z\"/>\n",
              "  </svg>\n",
              "      </button>\n",
              "      \n",
              "  <style>\n",
              "    .colab-df-container {\n",
              "      display:flex;\n",
              "      flex-wrap:wrap;\n",
              "      gap: 12px;\n",
              "    }\n",
              "\n",
              "    .colab-df-convert {\n",
              "      background-color: #E8F0FE;\n",
              "      border: none;\n",
              "      border-radius: 50%;\n",
              "      cursor: pointer;\n",
              "      display: none;\n",
              "      fill: #1967D2;\n",
              "      height: 32px;\n",
              "      padding: 0 0 0 0;\n",
              "      width: 32px;\n",
              "    }\n",
              "\n",
              "    .colab-df-convert:hover {\n",
              "      background-color: #E2EBFA;\n",
              "      box-shadow: 0px 1px 2px rgba(60, 64, 67, 0.3), 0px 1px 3px 1px rgba(60, 64, 67, 0.15);\n",
              "      fill: #174EA6;\n",
              "    }\n",
              "\n",
              "    [theme=dark] .colab-df-convert {\n",
              "      background-color: #3B4455;\n",
              "      fill: #D2E3FC;\n",
              "    }\n",
              "\n",
              "    [theme=dark] .colab-df-convert:hover {\n",
              "      background-color: #434B5C;\n",
              "      box-shadow: 0px 1px 3px 1px rgba(0, 0, 0, 0.15);\n",
              "      filter: drop-shadow(0px 1px 2px rgba(0, 0, 0, 0.3));\n",
              "      fill: #FFFFFF;\n",
              "    }\n",
              "  </style>\n",
              "\n",
              "      <script>\n",
              "        const buttonEl =\n",
              "          document.querySelector('#df-7dbaa116-a65b-4b66-a876-f7d3ee95ab89 button.colab-df-convert');\n",
              "        buttonEl.style.display =\n",
              "          google.colab.kernel.accessAllowed ? 'block' : 'none';\n",
              "\n",
              "        async function convertToInteractive(key) {\n",
              "          const element = document.querySelector('#df-7dbaa116-a65b-4b66-a876-f7d3ee95ab89');\n",
              "          const dataTable =\n",
              "            await google.colab.kernel.invokeFunction('convertToInteractive',\n",
              "                                                     [key], {});\n",
              "          if (!dataTable) return;\n",
              "\n",
              "          const docLinkHtml = 'Like what you see? Visit the ' +\n",
              "            '<a target=\"_blank\" href=https://colab.research.google.com/notebooks/data_table.ipynb>data table notebook</a>'\n",
              "            + ' to learn more about interactive tables.';\n",
              "          element.innerHTML = '';\n",
              "          dataTable['output_type'] = 'display_data';\n",
              "          await google.colab.output.renderOutput(dataTable, element);\n",
              "          const docLink = document.createElement('div');\n",
              "          docLink.innerHTML = docLinkHtml;\n",
              "          element.appendChild(docLink);\n",
              "        }\n",
              "      </script>\n",
              "    </div>\n",
              "  </div>\n",
              "  "
            ]
          },
          "metadata": {},
          "execution_count": 46
        }
      ]
    },
    {
      "cell_type": "code",
      "source": [
        "len(doc_topic_df['Topic'].unique())"
      ],
      "metadata": {
        "colab": {
          "base_uri": "https://localhost:8080/"
        },
        "id": "OohTbR9Ga2H9",
        "outputId": "79ab9c59-2b16-4557-f7a8-a77f154e87f2"
      },
      "execution_count": null,
      "outputs": [
        {
          "output_type": "execute_result",
          "data": {
            "text/plain": [
              "4"
            ]
          },
          "metadata": {},
          "execution_count": 47
        }
      ]
    },
    {
      "cell_type": "code",
      "source": [
        "# 토픽별로, 가장 높은 확률로 할당된 문서 top 3 확인\n",
        "for topic in range(len(doc_topic_df['Topic'].unique())):\n",
        "    print('Topic #', topic, '-----------------------------')\n",
        "    top_pr_topics = doc_topic_df[doc_topic_df['Topic'] == topic].sort_values(by='Percentage', ascending=False)\n",
        "    n = 0\n",
        "    for i in range(len(top_pr_topics['Content'])):\n",
        "      print(top_pr_topics['Content'].iloc[i])\n",
        "      n += 1\n",
        "      if n == 3 :\n",
        "        break;\n",
        "    print('\\n')"
      ],
      "metadata": {
        "colab": {
          "base_uri": "https://localhost:8080/"
        },
        "id": "QzYlvKULaaTh",
        "outputId": "28c4f0df-0dde-471b-8947-13d36d4c8cd6"
      },
      "execution_count": null,
      "outputs": [
        {
          "output_type": "stream",
          "name": "stdout",
          "text": [
            "Topic # 0 -----------------------------\n",
            "노선의 방법이나 위치 등 특이점을 찾아 합리적인 노선과 운용 방법이 있을 텐데 전혀 고려하지 않은 운영의 방법\n",
            "목적지까지 정해진 시간에 무조건 도착해야 하는 상황이라면 IMOD는 좋지 않은 선택일 수도 있겠다는 생각이 들었음\n",
            "입주한 가구가 많지 않아 교통이 원활하게 활성화되어있지 않은데 IMOD를 통해 가까운 거리를 편안하게 이동 가능해서 좋음\n",
            "\n",
            "\n",
            "Topic # 1 -----------------------------\n",
            "친목도모를 위한 아이모드 운영 산행 브런치 카페 모임 키즈카페 모임 운동모임 문화시설 모임 도 가능할 것 같다\n",
            "운행이 불가능한 지역이면 모든 차량이 운행 중입니다’라는 문구 대신 운행이 불가능한 지역입니다’라는 느낌으로 문구를 바꾸는 것이 좋을듯함\n",
            "완정 역에 도착하여 가방이 2개 있어 버스 타기도 애매하고 택시요금도 너무 부담되어 검단에서 운영 중인 IMOD를 호출하여 사용\n",
            "\n",
            "\n",
            "Topic # 2 -----------------------------\n",
            "배차 잡기 힘든 이용수단이라는 이미지가 각인되어 있는데 이용 구역을 벗어난 곳 선택해도 운행 중이라고 나오면 그 이미지가 더욱 단단히 박힐 것임\n",
            "기존 교통수단 트래픽 이용해 검단 계양 or 계양 검단으로의 이동이 어느 정도 되는지 파악해 계양과 검단같이 붙어있는 도시들은 IMOD로 이용이 가능했으면 함 \n",
            "버스 대기시간 이동시간 등을 고려하면 걷는 것이 더 빠를 수도 있고 비용적인 측면에서도 이득입니다만 홍보를 위해 이용\n",
            "\n",
            "\n",
            "Topic # 3 -----------------------------\n",
            "목상동 솔밭 정류소는 버스 시내버스 배차시간이 20분인데 도착시간 알려주는 LED 표지판도 없어 짜증을 내며 무작정 기다리는 시민도 있었음\n",
            "코로나 시대에 다른 사람과 합승하는 것이 좀 걸리지만 내부에 손소독기 체온계가 있어 코로나로부터 보호받는 것 같았음\n",
            " 기존 상권이 형성되어 있는 원도심 구도심으로 이동하였음 해당 노선을 이동하는 부분에선 특이사항 없음\n",
            "\n",
            "\n"
          ]
        }
      ]
    },
    {
      "cell_type": "code",
      "source": [],
      "metadata": {
        "id": "MrQ2VFYYalnN"
      },
      "execution_count": null,
      "outputs": []
    }
  ]
}