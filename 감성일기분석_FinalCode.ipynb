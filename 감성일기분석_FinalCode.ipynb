{
  "nbformat": 4,
  "nbformat_minor": 0,
  "metadata": {
    "colab": {
      "provenance": [],
      "authorship_tag": "ABX9TyMzlrmB5Zp1MKP4r3BE9Gc6",
      "include_colab_link": true
    },
    "kernelspec": {
      "name": "python3",
      "display_name": "Python 3"
    },
    "language_info": {
      "name": "python"
    }
  },
  "cells": [
    {
      "cell_type": "markdown",
      "metadata": {
        "id": "view-in-github",
        "colab_type": "text"
      },
      "source": [
        "<a href=\"https://colab.research.google.com/github/Ohmyprogram/Delivery-Robot-TextMining/blob/main/%EA%B0%90%EC%84%B1%EC%9D%BC%EA%B8%B0%EB%B6%84%EC%84%9D_FinalCode.ipynb\" target=\"_parent\"><img src=\"https://colab.research.google.com/assets/colab-badge.svg\" alt=\"Open In Colab\"/></a>"
      ]
    },
    {
      "cell_type": "markdown",
      "source": [
        "### 그래프 한글표현"
      ],
      "metadata": {
        "id": "oTD8RQ6Vf2b7"
      }
    },
    {
      "cell_type": "code",
      "source": [
        "!sudo apt-get install -y fonts-nanum\n",
        "!sudo fc-cache -fv\n",
        "!rm ~/.cache/matplotlib -rf"
      ],
      "metadata": {
        "colab": {
          "base_uri": "https://localhost:8080/"
        },
        "id": "Lty_25Onf1Bu",
        "outputId": "65bb1554-9733-4b2f-fd3f-2b955cef09c9"
      },
      "execution_count": null,
      "outputs": [
        {
          "output_type": "stream",
          "name": "stdout",
          "text": [
            "Reading package lists... Done\n",
            "Building dependency tree       \n",
            "Reading state information... Done\n",
            "The following package was automatically installed and is no longer required:\n",
            "  libnvidia-common-460\n",
            "Use 'sudo apt autoremove' to remove it.\n",
            "The following NEW packages will be installed:\n",
            "  fonts-nanum\n",
            "0 upgraded, 1 newly installed, 0 to remove and 32 not upgraded.\n",
            "Need to get 9,604 kB of archives.\n",
            "After this operation, 29.5 MB of additional disk space will be used.\n",
            "Get:1 http://archive.ubuntu.com/ubuntu bionic/universe amd64 fonts-nanum all 20170925-1 [9,604 kB]\n",
            "Fetched 9,604 kB in 1s (9,883 kB/s)\n",
            "debconf: unable to initialize frontend: Dialog\n",
            "debconf: (No usable dialog-like program is installed, so the dialog based frontend cannot be used. at /usr/share/perl5/Debconf/FrontEnd/Dialog.pm line 76, <> line 1.)\n",
            "debconf: falling back to frontend: Readline\n",
            "debconf: unable to initialize frontend: Readline\n",
            "debconf: (This frontend requires a controlling tty.)\n",
            "debconf: falling back to frontend: Teletype\n",
            "dpkg-preconfigure: unable to re-open stdin: \n",
            "Selecting previously unselected package fonts-nanum.\n",
            "(Reading database ... 155685 files and directories currently installed.)\n",
            "Preparing to unpack .../fonts-nanum_20170925-1_all.deb ...\n",
            "Unpacking fonts-nanum (20170925-1) ...\n",
            "Setting up fonts-nanum (20170925-1) ...\n",
            "Processing triggers for fontconfig (2.12.6-0ubuntu2) ...\n",
            "/usr/share/fonts: caching, new cache contents: 0 fonts, 1 dirs\n",
            "/usr/share/fonts/truetype: caching, new cache contents: 0 fonts, 3 dirs\n",
            "/usr/share/fonts/truetype/humor-sans: caching, new cache contents: 1 fonts, 0 dirs\n",
            "/usr/share/fonts/truetype/liberation: caching, new cache contents: 16 fonts, 0 dirs\n",
            "/usr/share/fonts/truetype/nanum: caching, new cache contents: 10 fonts, 0 dirs\n",
            "/usr/local/share/fonts: caching, new cache contents: 0 fonts, 0 dirs\n",
            "/root/.local/share/fonts: skipping, no such directory\n",
            "/root/.fonts: skipping, no such directory\n",
            "/var/cache/fontconfig: cleaning cache directory\n",
            "/root/.cache/fontconfig: not cleaning non-existent cache directory\n",
            "/root/.fontconfig: not cleaning non-existent cache directory\n",
            "fc-cache: succeeded\n"
          ]
        }
      ]
    },
    {
      "cell_type": "markdown",
      "metadata": {
        "id": "__ABdyJIXtr_"
      },
      "source": [
        "# 1. 코랩 환경 설정"
      ]
    },
    {
      "cell_type": "code",
      "metadata": {
        "colab": {
          "base_uri": "https://localhost:8080/"
        },
        "id": "uQNJGn8UUUtw",
        "outputId": "4ebf4318-e2c8-4fa8-d083-af5ea9f86883"
      },
      "source": [
        "from google.colab import drive\n",
        "drive.mount('/content/drive')"
      ],
      "execution_count": null,
      "outputs": [
        {
          "output_type": "stream",
          "name": "stdout",
          "text": [
            "Mounted at /content/drive\n"
          ]
        }
      ]
    },
    {
      "cell_type": "code",
      "metadata": {
        "colab": {
          "base_uri": "https://localhost:8080/"
        },
        "id": "quZmKjGAX7Zi",
        "outputId": "824ef3bc-2069-42d6-cba9-28aad4bd6690"
      },
      "source": [
        "# 디렉토리 변경\n",
        "%cd drive/MyDrive/혁신기술텍스트마이닝"
      ],
      "execution_count": null,
      "outputs": [
        {
          "output_type": "stream",
          "name": "stdout",
          "text": [
            "/content/drive/MyDrive/혁신기술텍스트마이닝\n"
          ]
        }
      ]
    },
    {
      "cell_type": "code",
      "metadata": {
        "colab": {
          "base_uri": "https://localhost:8080/"
        },
        "id": "vc7VOSxOX8Qb",
        "outputId": "08362030-ae99-4a0f-e50e-8ae2e7422b52"
      },
      "source": [
        "# 현재 디렉토리 경로 확인\n",
        "!pwd"
      ],
      "execution_count": null,
      "outputs": [
        {
          "output_type": "stream",
          "name": "stdout",
          "text": [
            "/content/drive/MyDrive/혁신기술텍스트마이닝\n"
          ]
        }
      ]
    },
    {
      "cell_type": "code",
      "source": [
        "!pip install git+https://github.com/ssut/py-hanspell.git\n",
        "!pip install tqdm"
      ],
      "metadata": {
        "colab": {
          "base_uri": "https://localhost:8080/"
        },
        "id": "hxBZ09TtzAEt",
        "outputId": "e3422689-4be9-4017-e5b5-84aef734b094"
      },
      "execution_count": null,
      "outputs": [
        {
          "output_type": "stream",
          "name": "stdout",
          "text": [
            "Looking in indexes: https://pypi.org/simple, https://us-python.pkg.dev/colab-wheels/public/simple/\n",
            "Collecting git+https://github.com/ssut/py-hanspell.git\n",
            "  Cloning https://github.com/ssut/py-hanspell.git to /tmp/pip-req-build-elsz0pw2\n",
            "  Running command git clone -q https://github.com/ssut/py-hanspell.git /tmp/pip-req-build-elsz0pw2\n",
            "Requirement already satisfied: requests in /usr/local/lib/python3.7/dist-packages (from py-hanspell==1.1) (2.23.0)\n",
            "Requirement already satisfied: chardet<4,>=3.0.2 in /usr/local/lib/python3.7/dist-packages (from requests->py-hanspell==1.1) (3.0.4)\n",
            "Requirement already satisfied: idna<3,>=2.5 in /usr/local/lib/python3.7/dist-packages (from requests->py-hanspell==1.1) (2.10)\n",
            "Requirement already satisfied: urllib3!=1.25.0,!=1.25.1,<1.26,>=1.21.1 in /usr/local/lib/python3.7/dist-packages (from requests->py-hanspell==1.1) (1.24.3)\n",
            "Requirement already satisfied: certifi>=2017.4.17 in /usr/local/lib/python3.7/dist-packages (from requests->py-hanspell==1.1) (2022.6.15)\n",
            "Building wheels for collected packages: py-hanspell\n",
            "  Building wheel for py-hanspell (setup.py) ... \u001b[?25l\u001b[?25hdone\n",
            "  Created wheel for py-hanspell: filename=py_hanspell-1.1-py3-none-any.whl size=4868 sha256=1dacea48bb3508856143677277339f98401173335fae3356b6b481ad6540e4d3\n",
            "  Stored in directory: /tmp/pip-ephem-wheel-cache-zy5dwvga/wheels/ab/f5/7b/d4124bb329c905301baed80e2ae45aa14e824f62ebc3ec2cc4\n",
            "Successfully built py-hanspell\n",
            "Installing collected packages: py-hanspell\n",
            "Successfully installed py-hanspell-1.1\n",
            "Looking in indexes: https://pypi.org/simple, https://us-python.pkg.dev/colab-wheels/public/simple/\n",
            "Requirement already satisfied: tqdm in /usr/local/lib/python3.7/dist-packages (4.64.1)\n"
          ]
        }
      ]
    },
    {
      "cell_type": "markdown",
      "source": [
        "# 데이터 전처리"
      ],
      "metadata": {
        "id": "8M5EFb1b4It0"
      }
    },
    {
      "cell_type": "markdown",
      "source": [
        "## 필요한 라이브러리"
      ],
      "metadata": {
        "id": "JJWNlyiW8rlL"
      }
    },
    {
      "cell_type": "code",
      "source": [
        "!pip install PyKomoran"
      ],
      "metadata": {
        "colab": {
          "base_uri": "https://localhost:8080/"
        },
        "id": "e-823wmP5ULN",
        "outputId": "a8aa26e4-84c0-4323-bc9d-06262227e9b8"
      },
      "execution_count": null,
      "outputs": [
        {
          "output_type": "stream",
          "name": "stdout",
          "text": [
            "Looking in indexes: https://pypi.org/simple, https://us-python.pkg.dev/colab-wheels/public/simple/\n",
            "Collecting PyKomoran\n",
            "  Downloading PyKomoran-0.1.6.post1-py3-none-any.whl (6.4 MB)\n",
            "\u001b[K     |████████████████████████████████| 6.4 MB 7.3 MB/s \n",
            "\u001b[?25hCollecting py4j==0.10.9.2\n",
            "  Downloading py4j-0.10.9.2-py2.py3-none-any.whl (198 kB)\n",
            "\u001b[K     |████████████████████████████████| 198 kB 55.9 MB/s \n",
            "\u001b[?25hInstalling collected packages: py4j, PyKomoran\n",
            "Successfully installed PyKomoran-0.1.6.post1 py4j-0.10.9.2\n"
          ]
        }
      ]
    },
    {
      "cell_type": "code",
      "source": [
        "import io\n",
        "import pandas as pd\n",
        "import csv\n",
        "import re\n",
        "from hanspell import spell_checker\n",
        "from tqdm import tqdm\n",
        "import numpy as np\n",
        "from collections import Counter\n",
        "import matplotlib.pyplot as plt\n",
        "from PyKomoran import *\n",
        "from collections import defaultdict\n",
        "import itertools\n",
        "from wordcloud import WordCloud"
      ],
      "metadata": {
        "id": "JviwEgCztmix"
      },
      "execution_count": null,
      "outputs": []
    },
    {
      "cell_type": "markdown",
      "source": [
        "## 엑셀파일 불러오기"
      ],
      "metadata": {
        "id": "_HazPdqiiF75"
      }
    },
    {
      "cell_type": "code",
      "source": [
        "file_name = \"/content/drive/MyDrive/혁신기술텍스트마이닝/감성일기RAWDATA(혁신기술리빙랩_스타트업파크)_ver0.2.xlsx\"\n",
        "team = int(input('팀을 입력하세요: '))\n",
        "df_diary = pd.read_excel(file_name, sheet_name = team-1)\n",
        "df_diary.head()"
      ],
      "metadata": {
        "colab": {
          "base_uri": "https://localhost:8080/",
          "height": 458
        },
        "id": "EzO6mnerm48l",
        "outputId": "cb3c2e41-f68d-4a15-e008-34133fdd8827"
      },
      "execution_count": null,
      "outputs": [
        {
          "name": "stdout",
          "output_type": "stream",
          "text": [
            "팀을 입력하세요: 1\n"
          ]
        },
        {
          "output_type": "execute_result",
          "data": {
            "text/plain": [
              "    ID   이름    팀   구분                                               물품주문  \\\n",
              "0  1.0  김원미  1.0  1.0  주문은 일반 배달 앱 주문과 다르지 않았으나, 주소를 입력하는 것에서 오류(ex. ...   \n",
              "1  2.0  김원미  1.0  1.0  그리고 배달 상점 리스트에 적혀 있는 업체들이 “리빙랩＂에 대한 인지가 있는 지도 ...   \n",
              "2  3.0  김원미  1.0  1.0                                                NaN   \n",
              "3  4.0  김원미  1.0  1.0                                                NaN   \n",
              "4  5.0  김원미  1.0  2.0  지난 번 실증에서 로봇을 전혀 이용하지 못한 경험을 바탕으로 주문할 때 “리빙랩 참...   \n",
              "\n",
              "                                                물품배송  \\\n",
              "0          배달 로봇 실증은 배달원과 비대면으로 이루어지는 것이 원칙이라고 생각했다.   \n",
              "1                     (그래서 공지사항으로 대면결제가 불가능하다고 했다.)    \n",
              "2  하지만 배달원은 인천스타트업파크의 출입문 부터 찾지 못하여 연락이 왔고, 결국 로봇...   \n",
              "3                      심지어 외국인배달원이라 의사소통 조차 되지 못했다.​   \n",
              "4  배달 도착이 언제 되려나 하고 기다리고 있었는데 리빙랩 안내하시는 분이 사무실로 찾...   \n",
              "\n",
              "                                                물품수령  \\\n",
              "0  대면으로 받았음에도 로봇을 이용해보고 싶어 배달원에게 로봇에라도 넣어 달라고 했는데...   \n",
              "1  스타트업파크 로비에서 운영을 담당하고 계시는 분에게 물어봤는데 인증번호가 있어야 한...   \n",
              "2  \\n배달상점리스트에 있는 업체 및 배달원들의 “리빙랩“ 사업에 대한 인식이 꼭 필요...   \n",
              "3  시민단만 참여한다고 해서 이루어지는 실증이 아니라 공급해주는 업체에서 같이 이 실증...   \n",
              "4  전화를 못 받은(당연하다. 왜냐하면 애초에 전화가 오지 않았기 때문) 문제를 내 탓...   \n",
              "\n",
              "                                            물품확인  \n",
              "0                        첫번째 실증에서는 만족스러운점이 없었다.​  \n",
              "1                         로봇을 이용해 볼 수 없었기 때문이다.​  \n",
              "2     그래도 로비에서 안내해주시는 분이 문제점을 바로 찾아 알려주셔서 괜찮았다.​  \n",
              "3             앞으로 개선점을 해결하기 위해 많은 노력이 필요할 듯 싶다.​  \n",
              "4  처음으로 로봇을 통해 받아 보았지만 정상적으로 이루어진 것이 아니라서 아쉬웠다.​  "
            ],
            "text/html": [
              "\n",
              "  <div id=\"df-1ab253a3-aec1-46ce-bdab-26b694d0317f\">\n",
              "    <div class=\"colab-df-container\">\n",
              "      <div>\n",
              "<style scoped>\n",
              "    .dataframe tbody tr th:only-of-type {\n",
              "        vertical-align: middle;\n",
              "    }\n",
              "\n",
              "    .dataframe tbody tr th {\n",
              "        vertical-align: top;\n",
              "    }\n",
              "\n",
              "    .dataframe thead th {\n",
              "        text-align: right;\n",
              "    }\n",
              "</style>\n",
              "<table border=\"1\" class=\"dataframe\">\n",
              "  <thead>\n",
              "    <tr style=\"text-align: right;\">\n",
              "      <th></th>\n",
              "      <th>ID</th>\n",
              "      <th>이름</th>\n",
              "      <th>팀</th>\n",
              "      <th>구분</th>\n",
              "      <th>물품주문</th>\n",
              "      <th>물품배송</th>\n",
              "      <th>물품수령</th>\n",
              "      <th>물품확인</th>\n",
              "    </tr>\n",
              "  </thead>\n",
              "  <tbody>\n",
              "    <tr>\n",
              "      <th>0</th>\n",
              "      <td>1.0</td>\n",
              "      <td>김원미</td>\n",
              "      <td>1.0</td>\n",
              "      <td>1.0</td>\n",
              "      <td>주문은 일반 배달 앱 주문과 다르지 않았으나, 주소를 입력하는 것에서 오류(ex. ...</td>\n",
              "      <td>배달 로봇 실증은 배달원과 비대면으로 이루어지는 것이 원칙이라고 생각했다.</td>\n",
              "      <td>대면으로 받았음에도 로봇을 이용해보고 싶어 배달원에게 로봇에라도 넣어 달라고 했는데...</td>\n",
              "      <td>첫번째 실증에서는 만족스러운점이 없었다.​</td>\n",
              "    </tr>\n",
              "    <tr>\n",
              "      <th>1</th>\n",
              "      <td>2.0</td>\n",
              "      <td>김원미</td>\n",
              "      <td>1.0</td>\n",
              "      <td>1.0</td>\n",
              "      <td>그리고 배달 상점 리스트에 적혀 있는 업체들이 “리빙랩＂에 대한 인지가 있는 지도 ...</td>\n",
              "      <td>(그래서 공지사항으로 대면결제가 불가능하다고 했다.)</td>\n",
              "      <td>스타트업파크 로비에서 운영을 담당하고 계시는 분에게 물어봤는데 인증번호가 있어야 한...</td>\n",
              "      <td>로봇을 이용해 볼 수 없었기 때문이다.​</td>\n",
              "    </tr>\n",
              "    <tr>\n",
              "      <th>2</th>\n",
              "      <td>3.0</td>\n",
              "      <td>김원미</td>\n",
              "      <td>1.0</td>\n",
              "      <td>1.0</td>\n",
              "      <td>NaN</td>\n",
              "      <td>하지만 배달원은 인천스타트업파크의 출입문 부터 찾지 못하여 연락이 왔고, 결국 로봇...</td>\n",
              "      <td>\\n배달상점리스트에 있는 업체 및 배달원들의 “리빙랩“ 사업에 대한 인식이 꼭 필요...</td>\n",
              "      <td>그래도 로비에서 안내해주시는 분이 문제점을 바로 찾아 알려주셔서 괜찮았다.​</td>\n",
              "    </tr>\n",
              "    <tr>\n",
              "      <th>3</th>\n",
              "      <td>4.0</td>\n",
              "      <td>김원미</td>\n",
              "      <td>1.0</td>\n",
              "      <td>1.0</td>\n",
              "      <td>NaN</td>\n",
              "      <td>심지어 외국인배달원이라 의사소통 조차 되지 못했다.​</td>\n",
              "      <td>시민단만 참여한다고 해서 이루어지는 실증이 아니라 공급해주는 업체에서 같이 이 실증...</td>\n",
              "      <td>앞으로 개선점을 해결하기 위해 많은 노력이 필요할 듯 싶다.​</td>\n",
              "    </tr>\n",
              "    <tr>\n",
              "      <th>4</th>\n",
              "      <td>5.0</td>\n",
              "      <td>김원미</td>\n",
              "      <td>1.0</td>\n",
              "      <td>2.0</td>\n",
              "      <td>지난 번 실증에서 로봇을 전혀 이용하지 못한 경험을 바탕으로 주문할 때 “리빙랩 참...</td>\n",
              "      <td>배달 도착이 언제 되려나 하고 기다리고 있었는데 리빙랩 안내하시는 분이 사무실로 찾...</td>\n",
              "      <td>전화를 못 받은(당연하다. 왜냐하면 애초에 전화가 오지 않았기 때문) 문제를 내 탓...</td>\n",
              "      <td>처음으로 로봇을 통해 받아 보았지만 정상적으로 이루어진 것이 아니라서 아쉬웠다.​</td>\n",
              "    </tr>\n",
              "  </tbody>\n",
              "</table>\n",
              "</div>\n",
              "      <button class=\"colab-df-convert\" onclick=\"convertToInteractive('df-1ab253a3-aec1-46ce-bdab-26b694d0317f')\"\n",
              "              title=\"Convert this dataframe to an interactive table.\"\n",
              "              style=\"display:none;\">\n",
              "        \n",
              "  <svg xmlns=\"http://www.w3.org/2000/svg\" height=\"24px\"viewBox=\"0 0 24 24\"\n",
              "       width=\"24px\">\n",
              "    <path d=\"M0 0h24v24H0V0z\" fill=\"none\"/>\n",
              "    <path d=\"M18.56 5.44l.94 2.06.94-2.06 2.06-.94-2.06-.94-.94-2.06-.94 2.06-2.06.94zm-11 1L8.5 8.5l.94-2.06 2.06-.94-2.06-.94L8.5 2.5l-.94 2.06-2.06.94zm10 10l.94 2.06.94-2.06 2.06-.94-2.06-.94-.94-2.06-.94 2.06-2.06.94z\"/><path d=\"M17.41 7.96l-1.37-1.37c-.4-.4-.92-.59-1.43-.59-.52 0-1.04.2-1.43.59L10.3 9.45l-7.72 7.72c-.78.78-.78 2.05 0 2.83L4 21.41c.39.39.9.59 1.41.59.51 0 1.02-.2 1.41-.59l7.78-7.78 2.81-2.81c.8-.78.8-2.07 0-2.86zM5.41 20L4 18.59l7.72-7.72 1.47 1.35L5.41 20z\"/>\n",
              "  </svg>\n",
              "      </button>\n",
              "      \n",
              "  <style>\n",
              "    .colab-df-container {\n",
              "      display:flex;\n",
              "      flex-wrap:wrap;\n",
              "      gap: 12px;\n",
              "    }\n",
              "\n",
              "    .colab-df-convert {\n",
              "      background-color: #E8F0FE;\n",
              "      border: none;\n",
              "      border-radius: 50%;\n",
              "      cursor: pointer;\n",
              "      display: none;\n",
              "      fill: #1967D2;\n",
              "      height: 32px;\n",
              "      padding: 0 0 0 0;\n",
              "      width: 32px;\n",
              "    }\n",
              "\n",
              "    .colab-df-convert:hover {\n",
              "      background-color: #E2EBFA;\n",
              "      box-shadow: 0px 1px 2px rgba(60, 64, 67, 0.3), 0px 1px 3px 1px rgba(60, 64, 67, 0.15);\n",
              "      fill: #174EA6;\n",
              "    }\n",
              "\n",
              "    [theme=dark] .colab-df-convert {\n",
              "      background-color: #3B4455;\n",
              "      fill: #D2E3FC;\n",
              "    }\n",
              "\n",
              "    [theme=dark] .colab-df-convert:hover {\n",
              "      background-color: #434B5C;\n",
              "      box-shadow: 0px 1px 3px 1px rgba(0, 0, 0, 0.15);\n",
              "      filter: drop-shadow(0px 1px 2px rgba(0, 0, 0, 0.3));\n",
              "      fill: #FFFFFF;\n",
              "    }\n",
              "  </style>\n",
              "\n",
              "      <script>\n",
              "        const buttonEl =\n",
              "          document.querySelector('#df-1ab253a3-aec1-46ce-bdab-26b694d0317f button.colab-df-convert');\n",
              "        buttonEl.style.display =\n",
              "          google.colab.kernel.accessAllowed ? 'block' : 'none';\n",
              "\n",
              "        async function convertToInteractive(key) {\n",
              "          const element = document.querySelector('#df-1ab253a3-aec1-46ce-bdab-26b694d0317f');\n",
              "          const dataTable =\n",
              "            await google.colab.kernel.invokeFunction('convertToInteractive',\n",
              "                                                     [key], {});\n",
              "          if (!dataTable) return;\n",
              "\n",
              "          const docLinkHtml = 'Like what you see? Visit the ' +\n",
              "            '<a target=\"_blank\" href=https://colab.research.google.com/notebooks/data_table.ipynb>data table notebook</a>'\n",
              "            + ' to learn more about interactive tables.';\n",
              "          element.innerHTML = '';\n",
              "          dataTable['output_type'] = 'display_data';\n",
              "          await google.colab.output.renderOutput(dataTable, element);\n",
              "          const docLink = document.createElement('div');\n",
              "          docLink.innerHTML = docLinkHtml;\n",
              "          element.appendChild(docLink);\n",
              "        }\n",
              "      </script>\n",
              "    </div>\n",
              "  </div>\n",
              "  "
            ]
          },
          "metadata": {},
          "execution_count": 227
        }
      ]
    },
    {
      "cell_type": "markdown",
      "source": [
        "## 이모지처리 및 맞춤법 검사"
      ],
      "metadata": {
        "id": "DJ8TpO08iI_6"
      }
    },
    {
      "cell_type": "code",
      "source": [
        "# 텍스트 전처리\n",
        "def cleanText(text):\n",
        "  specialChar = '[-=+,#/\\?:^$.@*\\\"※~&%ㆍ!』\\\\‘|\\(\\)\\[\\]\\<\\>`\\'…》❤♥♡ㅏㅑㅓㅑㅗㅛㅜㅠㅢㅡㅣㄱㄴㄷㄹㅁㅂㅅㅇㅈㅊㅋㅌㅍㅎㄲㄸㅆㅉㅃ]'\n",
        "  text = ''.join(c for c in text if c not in specialChar)\n",
        "  only_BMP_pattern = re.compile(\"[\"\n",
        "        u\"\\U00010000-\\U0010FFFF\"  #BMP characters 이외 (이모지 제거)\n",
        "                           \"]+\", flags=re.UNICODE)\n",
        "  return only_BMP_pattern.sub(r'', text)\n",
        "\n",
        "# 맞춤법 검사\n",
        "def spell_check(comments):\n",
        "  for k in tqdm(range(len(comments))):\n",
        "    comments[k] = cleanText(comments[k])\n",
        "    spelled_sent = spell_checker.check(comments[k])\n",
        "    checked_sent = spelled_sent.checked\n",
        "    comments[k] = checked_sent\n",
        "  print(\"맞춤법 검사 완료\")"
      ],
      "metadata": {
        "id": "1VCaDfCOy5fM"
      },
      "execution_count": null,
      "outputs": []
    },
    {
      "cell_type": "markdown",
      "source": [
        "## 단문파일생성"
      ],
      "metadata": {
        "id": "gEKHdnZn83NB"
      }
    },
    {
      "cell_type": "code",
      "source": [
        "# ## 물품주문/배송/수령/확인-단문 매트릭스 생성\n",
        "# comments = df_diary.loc[:,['물품주문', '물품배송', '물품수령', '물품확인']]\n",
        "# id = df_diary.loc[:,['ID']]\n",
        "\n",
        "# for name in list(comments.columns) :\n",
        "#   df_comments = pd.DataFrame({'ID':[]})\n",
        "#   co = list(comments[name])\n",
        "#   sentences = []\n",
        "#   num = []\n",
        "#   n = 0\n",
        "#   for c in range(len(co)):\n",
        "#     sen = co[c].split('.')\n",
        "#     sen.pop()\n",
        "#     sentences += sen\n",
        "#     num += [n] * len(sen)\n",
        "#     n += 1\n",
        "#     print(sentences)\n",
        "#     print(num)\n",
        "\n",
        "#   df_comments[name] = sentences\n",
        "#   df_comments['ID'] = num\n",
        "\n",
        "#   # csv 파일로 저장\n",
        "#   spell_check(df_comments[name])\n",
        "#   df_comments.to_csv(name+\"_spell_checked.csv\")"
      ],
      "metadata": {
        "id": "wOc9u706qKF8"
      },
      "execution_count": null,
      "outputs": []
    },
    {
      "cell_type": "markdown",
      "source": [
        "# 단문처리 된 데이터 전처리"
      ],
      "metadata": {
        "id": "cxRrMQumQERx"
      }
    },
    {
      "cell_type": "code",
      "source": [
        "# senario1 = df_diary.loc[:,['물품주문']]\n",
        "# senario2 = df_diary.loc[:,['물품배송']]\n",
        "# senario3 = df_diary.loc[:,['물품수령']]\n",
        "# senario4 = df_diary.loc[:,['물품확인']]\n",
        "\n",
        "# senario1 = senario1.dropna()\n",
        "# senario1 = senario1.reset_index()\n",
        "# spell_check(senario1['물품주문'])\n",
        "# senario1.to_csv(\"물품주문_spell_checked.csv\")\n",
        "\n",
        "# senario2 = senario2.dropna()\n",
        "# senario2 = senario2.reset_index()\n",
        "# spell_check(senario2['물품배송'])\n",
        "# senario2.to_csv(\"물품배송_spell_checked.csv\")\n",
        "\n",
        "# senario3 = senario3.dropna()\n",
        "# senario3 = senario3.reset_index()\n",
        "# spell_check(senario3['물품수령'])\n",
        "# senario3.to_csv(\"물품수령_spell_checked.csv\")\n",
        "\n",
        "# senario4 = senario4.dropna()\n",
        "# senario4 = senario4.reset_index()\n",
        "# spell_check(senario4['물품확인'])\n",
        "# senario4.to_csv(\"물품확인_spell_checked.csv\")"
      ],
      "metadata": {
        "colab": {
          "base_uri": "https://localhost:8080/"
        },
        "id": "R3EaVTmvQNxC",
        "outputId": "0580da04-d81d-4ec2-cb14-e7144024aa7f"
      },
      "execution_count": null,
      "outputs": [
        {
          "output_type": "stream",
          "name": "stderr",
          "text": [
            "  0%|          | 0/56 [00:00<?, ?it/s]/usr/local/lib/python3.7/dist-packages/ipykernel_launcher.py:13: SettingWithCopyWarning: \n",
            "A value is trying to be set on a copy of a slice from a DataFrame\n",
            "\n",
            "See the caveats in the documentation: https://pandas.pydata.org/pandas-docs/stable/user_guide/indexing.html#returning-a-view-versus-a-copy\n",
            "  del sys.path[0]\n",
            "/usr/local/lib/python3.7/dist-packages/ipykernel_launcher.py:16: SettingWithCopyWarning: \n",
            "A value is trying to be set on a copy of a slice from a DataFrame\n",
            "\n",
            "See the caveats in the documentation: https://pandas.pydata.org/pandas-docs/stable/user_guide/indexing.html#returning-a-view-versus-a-copy\n",
            "  app.launch_new_instance()\n",
            "100%|██████████| 56/56 [00:11<00:00,  4.92it/s]\n"
          ]
        },
        {
          "output_type": "stream",
          "name": "stdout",
          "text": [
            "맞춤법 검사 완료\n"
          ]
        },
        {
          "output_type": "stream",
          "name": "stderr",
          "text": [
            "100%|██████████| 55/55 [00:10<00:00,  5.20it/s]\n"
          ]
        },
        {
          "output_type": "stream",
          "name": "stdout",
          "text": [
            "맞춤법 검사 완료\n"
          ]
        },
        {
          "output_type": "stream",
          "name": "stderr",
          "text": [
            "100%|██████████| 50/50 [00:09<00:00,  5.37it/s]\n"
          ]
        },
        {
          "output_type": "stream",
          "name": "stdout",
          "text": [
            "맞춤법 검사 완료\n"
          ]
        },
        {
          "output_type": "stream",
          "name": "stderr",
          "text": [
            "100%|██████████| 40/40 [00:07<00:00,  5.25it/s]"
          ]
        },
        {
          "output_type": "stream",
          "name": "stdout",
          "text": [
            "맞춤법 검사 완료\n"
          ]
        },
        {
          "output_type": "stream",
          "name": "stderr",
          "text": [
            "\n"
          ]
        }
      ]
    },
    {
      "cell_type": "code",
      "source": [],
      "metadata": {
        "id": "ZHUwacFFQNtJ"
      },
      "execution_count": null,
      "outputs": []
    },
    {
      "cell_type": "code",
      "source": [],
      "metadata": {
        "id": "1urBhggnQNqj"
      },
      "execution_count": null,
      "outputs": []
    },
    {
      "cell_type": "code",
      "source": [],
      "metadata": {
        "id": "R5hRMdpmQNn2"
      },
      "execution_count": null,
      "outputs": []
    },
    {
      "cell_type": "code",
      "source": [],
      "metadata": {
        "id": "paGGJVgFQNld"
      },
      "execution_count": null,
      "outputs": []
    },
    {
      "cell_type": "markdown",
      "source": [
        "전처리한 데이터로 감정태깅"
      ],
      "metadata": {
        "id": "i6RwmD7d4duf"
      }
    },
    {
      "cell_type": "code",
      "source": [
        "# 감정태깅 끝난 전처리 데이터를 넣어서, 토큰화한 내용 담은 열과, 토큰화된 단어 담는 열을 포함하는 데이터 프레임 반환하는 함수\n",
        "\n",
        "def komoran_comments():\n",
        "  team = int(input(\"팀을 입력하세요 :\"))\n",
        "  senario = input(\"시나리오 단계를 입력하세요 : \")\n",
        "  df_comments1 = pd.read_excel(\"/content/drive/MyDrive/혁신기술텍스트마이닝/\"+str(team)+\"팀감성일기/\"+senario+\"_spell_checked.xlsx\")\n",
        "  df_comments1.drop(['Unnamed: 0'], axis = 1, inplace = True)\n",
        "  df_comments1_emo = df_comments1\n",
        "\n",
        "  # df_comments1_emo = df_comments1[df_comments1['Unnamed: 3'] != 0]      # 긍정/부정 문장들만 추출(중성 문장들은 다 제외)\n",
        "  df_comments1_emo = df_comments1[df_comments1['EMO'] != 0]\n",
        "  df_comments1_emo = df_comments1_emo.reset_index(drop=True)  # 인덱스 리셋\n",
        "\n",
        "  komoran = Komoran(\"EXP\")\n",
        "# komoran.set_user_dic(\"user_dictionary.txt\")  #사용자 정의 사전 등록\n",
        "\n",
        "  df_comments1_emo['tokens'] = df_comments1_emo[senario].map(lambda s: komoran.get_plain_text(s).split('\\s'))\n",
        "\n",
        "  tag_list = ['NNG','NNP','VA','XR']\n",
        "  df_comments1_emo['specific_tokens'] = df_comments1_emo[senario].map(lambda s: komoran.get_morphes_by_tags(s, tag_list= tag_list))\n",
        "\n",
        "  return df_comments1_emo"
      ],
      "metadata": {
        "id": "LFL8hQpA4mzO",
        "colab": {
          "base_uri": "https://localhost:8080/"
        },
        "outputId": "cee6829a-3721-4b2f-aa40-76b64f928f4b"
      },
      "execution_count": null,
      "outputs": [
        {
          "output_type": "stream",
          "name": "stderr",
          "text": [
            "<>:17: DeprecationWarning: invalid escape sequence \\s\n",
            "<>:17: DeprecationWarning: invalid escape sequence \\s\n",
            "<>:17: DeprecationWarning: invalid escape sequence \\s\n",
            "<ipython-input-418-16a31fd38325>:17: DeprecationWarning: invalid escape sequence \\s\n",
            "  df_comments1_emo['tokens'] = df_comments1_emo[senario].map(lambda s: komoran.get_plain_text(s).split('\\s'))\n"
          ]
        }
      ]
    },
    {
      "cell_type": "code",
      "source": [
        "df1 = komoran_comments()\n",
        "df1.head()"
      ],
      "metadata": {
        "colab": {
          "base_uri": "https://localhost:8080/",
          "height": 354
        },
        "id": "ciqn3U2X5MBI",
        "outputId": "1cb56363-39e0-4d64-c3c7-e0fd35040ac0"
      },
      "execution_count": null,
      "outputs": [
        {
          "name": "stdout",
          "output_type": "stream",
          "text": [
            "팀을 입력하세요 :1\n",
            "시나리오 단계를 입력하세요 : 물품확인\n"
          ]
        },
        {
          "output_type": "execute_result",
          "data": {
            "text/plain": [
              "   index                                          물품확인  EMO  \\\n",
              "0    0.0                      첫 번째 실증에서는 만족스러운 점이 없었다​ -1.0   \n",
              "1    1.0                         로봇을 이용해 볼 수 없었기 때문이다​ -1.0   \n",
              "2    2.0     그래도 로비에서 안내해주시는 분이 문제점을 바로 찾아 알려주셔서 괜찮았다​  1.0   \n",
              "3    3.0              앞으로 개선점을 해결하기 위해 많은 노력이 필요할 듯싶다​ -1.0   \n",
              "4    4.0  처음으로 로봇을 통해 받아 보았지만 정상적으로 이루어진 것이 아니라서 아쉬웠다​ -1.0   \n",
              "\n",
              "                                              tokens  \\\n",
              "0  [첫/MM 번째/NNB 실증/NNG 에서/JKB 는/JX 만족스럽/VA ㄴ/ETM ...   \n",
              "1  [로봇/NNG 을/JKO 이용/NNG 하/XSV 아/EC 보/VV ㄹ/ETM 수/N...   \n",
              "2  [그래도/MAJ 로비/NNG 에서/JKB 안내/NNG 해주시/NNP 는/JX 분/N...   \n",
              "3  [앞/NNG 으로/JKB 개선/NNG 점/NNG 을/JKO 해결/NNG 하/XSV ...   \n",
              "4  [처음/NNG 으로/JKB 로봇/NNG 을/JKO 통하/VV 아/EC 받/VV 아/...   \n",
              "\n",
              "             specific_tokens  \n",
              "0           [실증, 만족스럽, 점, 없]  \n",
              "1                [로봇, 이용, 없]  \n",
              "2     [로비, 안내, 해주시, 문제점, 괜찮]  \n",
              "3  [앞, 개선, 점, 해결, 많, 노력, 필요]  \n",
              "4           [처음, 로봇, 정상, 아쉽]  "
            ],
            "text/html": [
              "\n",
              "  <div id=\"df-771e93d9-3d32-4418-95b9-88da0c7a4efa\">\n",
              "    <div class=\"colab-df-container\">\n",
              "      <div>\n",
              "<style scoped>\n",
              "    .dataframe tbody tr th:only-of-type {\n",
              "        vertical-align: middle;\n",
              "    }\n",
              "\n",
              "    .dataframe tbody tr th {\n",
              "        vertical-align: top;\n",
              "    }\n",
              "\n",
              "    .dataframe thead th {\n",
              "        text-align: right;\n",
              "    }\n",
              "</style>\n",
              "<table border=\"1\" class=\"dataframe\">\n",
              "  <thead>\n",
              "    <tr style=\"text-align: right;\">\n",
              "      <th></th>\n",
              "      <th>index</th>\n",
              "      <th>물품확인</th>\n",
              "      <th>EMO</th>\n",
              "      <th>tokens</th>\n",
              "      <th>specific_tokens</th>\n",
              "    </tr>\n",
              "  </thead>\n",
              "  <tbody>\n",
              "    <tr>\n",
              "      <th>0</th>\n",
              "      <td>0.0</td>\n",
              "      <td>첫 번째 실증에서는 만족스러운 점이 없었다​</td>\n",
              "      <td>-1.0</td>\n",
              "      <td>[첫/MM 번째/NNB 실증/NNG 에서/JKB 는/JX 만족스럽/VA ㄴ/ETM ...</td>\n",
              "      <td>[실증, 만족스럽, 점, 없]</td>\n",
              "    </tr>\n",
              "    <tr>\n",
              "      <th>1</th>\n",
              "      <td>1.0</td>\n",
              "      <td>로봇을 이용해 볼 수 없었기 때문이다​</td>\n",
              "      <td>-1.0</td>\n",
              "      <td>[로봇/NNG 을/JKO 이용/NNG 하/XSV 아/EC 보/VV ㄹ/ETM 수/N...</td>\n",
              "      <td>[로봇, 이용, 없]</td>\n",
              "    </tr>\n",
              "    <tr>\n",
              "      <th>2</th>\n",
              "      <td>2.0</td>\n",
              "      <td>그래도 로비에서 안내해주시는 분이 문제점을 바로 찾아 알려주셔서 괜찮았다​</td>\n",
              "      <td>1.0</td>\n",
              "      <td>[그래도/MAJ 로비/NNG 에서/JKB 안내/NNG 해주시/NNP 는/JX 분/N...</td>\n",
              "      <td>[로비, 안내, 해주시, 문제점, 괜찮]</td>\n",
              "    </tr>\n",
              "    <tr>\n",
              "      <th>3</th>\n",
              "      <td>3.0</td>\n",
              "      <td>앞으로 개선점을 해결하기 위해 많은 노력이 필요할 듯싶다​</td>\n",
              "      <td>-1.0</td>\n",
              "      <td>[앞/NNG 으로/JKB 개선/NNG 점/NNG 을/JKO 해결/NNG 하/XSV ...</td>\n",
              "      <td>[앞, 개선, 점, 해결, 많, 노력, 필요]</td>\n",
              "    </tr>\n",
              "    <tr>\n",
              "      <th>4</th>\n",
              "      <td>4.0</td>\n",
              "      <td>처음으로 로봇을 통해 받아 보았지만 정상적으로 이루어진 것이 아니라서 아쉬웠다​</td>\n",
              "      <td>-1.0</td>\n",
              "      <td>[처음/NNG 으로/JKB 로봇/NNG 을/JKO 통하/VV 아/EC 받/VV 아/...</td>\n",
              "      <td>[처음, 로봇, 정상, 아쉽]</td>\n",
              "    </tr>\n",
              "  </tbody>\n",
              "</table>\n",
              "</div>\n",
              "      <button class=\"colab-df-convert\" onclick=\"convertToInteractive('df-771e93d9-3d32-4418-95b9-88da0c7a4efa')\"\n",
              "              title=\"Convert this dataframe to an interactive table.\"\n",
              "              style=\"display:none;\">\n",
              "        \n",
              "  <svg xmlns=\"http://www.w3.org/2000/svg\" height=\"24px\"viewBox=\"0 0 24 24\"\n",
              "       width=\"24px\">\n",
              "    <path d=\"M0 0h24v24H0V0z\" fill=\"none\"/>\n",
              "    <path d=\"M18.56 5.44l.94 2.06.94-2.06 2.06-.94-2.06-.94-.94-2.06-.94 2.06-2.06.94zm-11 1L8.5 8.5l.94-2.06 2.06-.94-2.06-.94L8.5 2.5l-.94 2.06-2.06.94zm10 10l.94 2.06.94-2.06 2.06-.94-2.06-.94-.94-2.06-.94 2.06-2.06.94z\"/><path d=\"M17.41 7.96l-1.37-1.37c-.4-.4-.92-.59-1.43-.59-.52 0-1.04.2-1.43.59L10.3 9.45l-7.72 7.72c-.78.78-.78 2.05 0 2.83L4 21.41c.39.39.9.59 1.41.59.51 0 1.02-.2 1.41-.59l7.78-7.78 2.81-2.81c.8-.78.8-2.07 0-2.86zM5.41 20L4 18.59l7.72-7.72 1.47 1.35L5.41 20z\"/>\n",
              "  </svg>\n",
              "      </button>\n",
              "      \n",
              "  <style>\n",
              "    .colab-df-container {\n",
              "      display:flex;\n",
              "      flex-wrap:wrap;\n",
              "      gap: 12px;\n",
              "    }\n",
              "\n",
              "    .colab-df-convert {\n",
              "      background-color: #E8F0FE;\n",
              "      border: none;\n",
              "      border-radius: 50%;\n",
              "      cursor: pointer;\n",
              "      display: none;\n",
              "      fill: #1967D2;\n",
              "      height: 32px;\n",
              "      padding: 0 0 0 0;\n",
              "      width: 32px;\n",
              "    }\n",
              "\n",
              "    .colab-df-convert:hover {\n",
              "      background-color: #E2EBFA;\n",
              "      box-shadow: 0px 1px 2px rgba(60, 64, 67, 0.3), 0px 1px 3px 1px rgba(60, 64, 67, 0.15);\n",
              "      fill: #174EA6;\n",
              "    }\n",
              "\n",
              "    [theme=dark] .colab-df-convert {\n",
              "      background-color: #3B4455;\n",
              "      fill: #D2E3FC;\n",
              "    }\n",
              "\n",
              "    [theme=dark] .colab-df-convert:hover {\n",
              "      background-color: #434B5C;\n",
              "      box-shadow: 0px 1px 3px 1px rgba(0, 0, 0, 0.15);\n",
              "      filter: drop-shadow(0px 1px 2px rgba(0, 0, 0, 0.3));\n",
              "      fill: #FFFFFF;\n",
              "    }\n",
              "  </style>\n",
              "\n",
              "      <script>\n",
              "        const buttonEl =\n",
              "          document.querySelector('#df-771e93d9-3d32-4418-95b9-88da0c7a4efa button.colab-df-convert');\n",
              "        buttonEl.style.display =\n",
              "          google.colab.kernel.accessAllowed ? 'block' : 'none';\n",
              "\n",
              "        async function convertToInteractive(key) {\n",
              "          const element = document.querySelector('#df-771e93d9-3d32-4418-95b9-88da0c7a4efa');\n",
              "          const dataTable =\n",
              "            await google.colab.kernel.invokeFunction('convertToInteractive',\n",
              "                                                     [key], {});\n",
              "          if (!dataTable) return;\n",
              "\n",
              "          const docLinkHtml = 'Like what you see? Visit the ' +\n",
              "            '<a target=\"_blank\" href=https://colab.research.google.com/notebooks/data_table.ipynb>data table notebook</a>'\n",
              "            + ' to learn more about interactive tables.';\n",
              "          element.innerHTML = '';\n",
              "          dataTable['output_type'] = 'display_data';\n",
              "          await google.colab.output.renderOutput(dataTable, element);\n",
              "          const docLink = document.createElement('div');\n",
              "          docLink.innerHTML = docLinkHtml;\n",
              "          element.appendChild(docLink);\n",
              "        }\n",
              "      </script>\n",
              "    </div>\n",
              "  </div>\n",
              "  "
            ]
          },
          "metadata": {},
          "execution_count": 419
        }
      ]
    },
    {
      "cell_type": "code",
      "source": [
        "# df1 : 긍정+부정 문장\n",
        "df1_positive = df1[df1['EMO'] == 1]    # 긍정문장\n",
        "df1_negative = df1[df1['EMO'] == -1]   # 부정문장\n",
        "\n",
        "# df1_positive = df1[df1['Unnamed: 3'] == 1]    # 긍정문장\n",
        "# df1_negative = df1[df1['Unnamed: 3'] == -1]   # 부정문장"
      ],
      "metadata": {
        "id": "1hsRoBzf72aV"
      },
      "execution_count": null,
      "outputs": []
    },
    {
      "cell_type": "code",
      "source": [
        "# word, count 로 구성된 단어 빈도수 데이터 프레임 리턴하는 함수\n",
        "def Word_DF(DF, tag_ls):\n",
        "  tokens = list(itertools.chain.from_iterable(DF['specific_tokens']))\n",
        "  word_df = pd.DataFrame.from_dict(Counter(tokens),orient='index').reset_index()\n",
        "  word_df = word_df.rename(columns = {'index':'WORD', 0 : 'count'})\n",
        "  word_df = word_df.sort_values('count', ascending = False).reset_index(drop = True)\n",
        "\n",
        "  return word_df"
      ],
      "metadata": {
        "id": "8Hnxzedk72YE"
      },
      "execution_count": null,
      "outputs": []
    },
    {
      "cell_type": "markdown",
      "source": [
        "# 감정문장에서 단어 빈도분석 및 시각화"
      ],
      "metadata": {
        "id": "tMYwIkn0UhP5"
      }
    },
    {
      "cell_type": "markdown",
      "source": [
        "## 감정 문장에서 단어 빈도분석"
      ],
      "metadata": {
        "id": "Jzkas9ynUpfr"
      }
    },
    {
      "cell_type": "code",
      "source": [
        "# 긍정+부정 문장에서 명사, 형용사,어근 빈도수 출력\n",
        "tag_list = ['NNG','NNP','VA','XR']\n",
        "df_word = Word_DF(df1, tag_list)\n",
        "df_word.head()"
      ],
      "metadata": {
        "colab": {
          "base_uri": "https://localhost:8080/",
          "height": 206
        },
        "id": "TQ9iWzOc72Vm",
        "outputId": "13315432-c651-43f3-fc87-42156f219eea"
      },
      "execution_count": null,
      "outputs": [
        {
          "output_type": "execute_result",
          "data": {
            "text/plain": [
              "  WORD  count\n",
              "0   배달     10\n",
              "1   로봇      9\n",
              "2   음식      7\n",
              "3   사용      5\n",
              "4   물품      5"
            ],
            "text/html": [
              "\n",
              "  <div id=\"df-518752fe-b346-48c6-916a-1a371854e07b\">\n",
              "    <div class=\"colab-df-container\">\n",
              "      <div>\n",
              "<style scoped>\n",
              "    .dataframe tbody tr th:only-of-type {\n",
              "        vertical-align: middle;\n",
              "    }\n",
              "\n",
              "    .dataframe tbody tr th {\n",
              "        vertical-align: top;\n",
              "    }\n",
              "\n",
              "    .dataframe thead th {\n",
              "        text-align: right;\n",
              "    }\n",
              "</style>\n",
              "<table border=\"1\" class=\"dataframe\">\n",
              "  <thead>\n",
              "    <tr style=\"text-align: right;\">\n",
              "      <th></th>\n",
              "      <th>WORD</th>\n",
              "      <th>count</th>\n",
              "    </tr>\n",
              "  </thead>\n",
              "  <tbody>\n",
              "    <tr>\n",
              "      <th>0</th>\n",
              "      <td>배달</td>\n",
              "      <td>10</td>\n",
              "    </tr>\n",
              "    <tr>\n",
              "      <th>1</th>\n",
              "      <td>로봇</td>\n",
              "      <td>9</td>\n",
              "    </tr>\n",
              "    <tr>\n",
              "      <th>2</th>\n",
              "      <td>음식</td>\n",
              "      <td>7</td>\n",
              "    </tr>\n",
              "    <tr>\n",
              "      <th>3</th>\n",
              "      <td>사용</td>\n",
              "      <td>5</td>\n",
              "    </tr>\n",
              "    <tr>\n",
              "      <th>4</th>\n",
              "      <td>물품</td>\n",
              "      <td>5</td>\n",
              "    </tr>\n",
              "  </tbody>\n",
              "</table>\n",
              "</div>\n",
              "      <button class=\"colab-df-convert\" onclick=\"convertToInteractive('df-518752fe-b346-48c6-916a-1a371854e07b')\"\n",
              "              title=\"Convert this dataframe to an interactive table.\"\n",
              "              style=\"display:none;\">\n",
              "        \n",
              "  <svg xmlns=\"http://www.w3.org/2000/svg\" height=\"24px\"viewBox=\"0 0 24 24\"\n",
              "       width=\"24px\">\n",
              "    <path d=\"M0 0h24v24H0V0z\" fill=\"none\"/>\n",
              "    <path d=\"M18.56 5.44l.94 2.06.94-2.06 2.06-.94-2.06-.94-.94-2.06-.94 2.06-2.06.94zm-11 1L8.5 8.5l.94-2.06 2.06-.94-2.06-.94L8.5 2.5l-.94 2.06-2.06.94zm10 10l.94 2.06.94-2.06 2.06-.94-2.06-.94-.94-2.06-.94 2.06-2.06.94z\"/><path d=\"M17.41 7.96l-1.37-1.37c-.4-.4-.92-.59-1.43-.59-.52 0-1.04.2-1.43.59L10.3 9.45l-7.72 7.72c-.78.78-.78 2.05 0 2.83L4 21.41c.39.39.9.59 1.41.59.51 0 1.02-.2 1.41-.59l7.78-7.78 2.81-2.81c.8-.78.8-2.07 0-2.86zM5.41 20L4 18.59l7.72-7.72 1.47 1.35L5.41 20z\"/>\n",
              "  </svg>\n",
              "      </button>\n",
              "      \n",
              "  <style>\n",
              "    .colab-df-container {\n",
              "      display:flex;\n",
              "      flex-wrap:wrap;\n",
              "      gap: 12px;\n",
              "    }\n",
              "\n",
              "    .colab-df-convert {\n",
              "      background-color: #E8F0FE;\n",
              "      border: none;\n",
              "      border-radius: 50%;\n",
              "      cursor: pointer;\n",
              "      display: none;\n",
              "      fill: #1967D2;\n",
              "      height: 32px;\n",
              "      padding: 0 0 0 0;\n",
              "      width: 32px;\n",
              "    }\n",
              "\n",
              "    .colab-df-convert:hover {\n",
              "      background-color: #E2EBFA;\n",
              "      box-shadow: 0px 1px 2px rgba(60, 64, 67, 0.3), 0px 1px 3px 1px rgba(60, 64, 67, 0.15);\n",
              "      fill: #174EA6;\n",
              "    }\n",
              "\n",
              "    [theme=dark] .colab-df-convert {\n",
              "      background-color: #3B4455;\n",
              "      fill: #D2E3FC;\n",
              "    }\n",
              "\n",
              "    [theme=dark] .colab-df-convert:hover {\n",
              "      background-color: #434B5C;\n",
              "      box-shadow: 0px 1px 3px 1px rgba(0, 0, 0, 0.15);\n",
              "      filter: drop-shadow(0px 1px 2px rgba(0, 0, 0, 0.3));\n",
              "      fill: #FFFFFF;\n",
              "    }\n",
              "  </style>\n",
              "\n",
              "      <script>\n",
              "        const buttonEl =\n",
              "          document.querySelector('#df-518752fe-b346-48c6-916a-1a371854e07b button.colab-df-convert');\n",
              "        buttonEl.style.display =\n",
              "          google.colab.kernel.accessAllowed ? 'block' : 'none';\n",
              "\n",
              "        async function convertToInteractive(key) {\n",
              "          const element = document.querySelector('#df-518752fe-b346-48c6-916a-1a371854e07b');\n",
              "          const dataTable =\n",
              "            await google.colab.kernel.invokeFunction('convertToInteractive',\n",
              "                                                     [key], {});\n",
              "          if (!dataTable) return;\n",
              "\n",
              "          const docLinkHtml = 'Like what you see? Visit the ' +\n",
              "            '<a target=\"_blank\" href=https://colab.research.google.com/notebooks/data_table.ipynb>data table notebook</a>'\n",
              "            + ' to learn more about interactive tables.';\n",
              "          element.innerHTML = '';\n",
              "          dataTable['output_type'] = 'display_data';\n",
              "          await google.colab.output.renderOutput(dataTable, element);\n",
              "          const docLink = document.createElement('div');\n",
              "          docLink.innerHTML = docLinkHtml;\n",
              "          element.appendChild(docLink);\n",
              "        }\n",
              "      </script>\n",
              "    </div>\n",
              "  </div>\n",
              "  "
            ]
          },
          "metadata": {},
          "execution_count": 191
        }
      ]
    },
    {
      "cell_type": "code",
      "source": [
        "df_word.to_csv(\"4팀_물품확인_단어빈도.csv\", encoding = 'cp949')"
      ],
      "metadata": {
        "id": "W3q9YgzXs0yx"
      },
      "execution_count": null,
      "outputs": []
    },
    {
      "cell_type": "code",
      "source": [
        "import matplotlib.pyplot as plt\n",
        "\n",
        "plt.rc('font', family='NanumBarunGothic')\n",
        "\n",
        "# 빈도수 바 그래프 그리기(상위 10개)\n",
        "def showGraph(bargraph, num = 10):\n",
        "     xtick = bargraph['WORD'][:num] # 단어\n",
        "     ytick = bargraph['count'][:num] # 빈도수\n",
        "     plt.figure()\n",
        "    #  mycolors = ['#06c2ac', '#c79fef', '#ff796c', '#aaff32', '#0485d1', '#d648d7', '#a5a502', '#d8dcd6', '#5ca904', '#fffe7a' ]\n",
        "     plt.bar(xtick, ytick)\n",
        "\n",
        "\n",
        "showGraph(df_word)            # 명사, 형용사, 어근에 대해 빈도수 가장 많은 top 10 출력\n",
        "\n",
        "plt.show()"
      ],
      "metadata": {
        "colab": {
          "base_uri": "https://localhost:8080/",
          "height": 265
        },
        "id": "kLoYR8Ea72TH",
        "outputId": "0770b6a4-ea98-4623-d36a-e8d509e143a3"
      },
      "execution_count": null,
      "outputs": [
        {
          "output_type": "display_data",
          "data": {
            "text/plain": [
              "<Figure size 432x288 with 1 Axes>"
            ],
            "image/png": "[encoded data removed]"
          },
          "metadata": {
            "needs_background": "light"
          }
        }
      ]
    },
    {
      "cell_type": "markdown",
      "source": [
        "## 감정 문장에서 감정단어 빈도분석"
      ],
      "metadata": {
        "id": "ZN4blnuPU7Ph"
      }
    },
    {
      "cell_type": "code",
      "source": [
        "import copy\n",
        "\n",
        "# 단어들 중 감정 단어 빈도 출력 및 시각화\n",
        "df_emo_dic = pd.read_excel(\"/content/drive/MyDrive/혁신기술텍스트마이닝/윤아/dic/emo_dic.xlsx\")\n",
        "emo_dic = df_emo_dic['WORD']\n",
        "df_word_emo = copy.deepcopy(df_word)\n",
        "\n",
        "for w in range(len(df_word['WORD'])):\n",
        "  if df_word['WORD'][w] not in list(emo_dic):\n",
        "    df_word_emo.loc[w, 'WORD'] = np.nan\n",
        "\n",
        "df_word_emo = df_word_emo.dropna()\n",
        "df_word_emo = df_word_emo.reset_index(drop = True)\n",
        "\n",
        "showGraph(df_word_emo)      # 감성단어에서 가장 많은 top 10 출력\n",
        "\n",
        "plt.show()"
      ],
      "metadata": {
        "colab": {
          "base_uri": "https://localhost:8080/",
          "height": 265
        },
        "id": "Yry3Sn8894g0",
        "outputId": "90a8c401-df25-440f-ed4a-3707309b6bcc"
      },
      "execution_count": null,
      "outputs": [
        {
          "output_type": "display_data",
          "data": {
            "text/plain": [
              "<Figure size 432x288 with 1 Axes>"
            ],
            "image/png": "[encoded data removed]"
          },
          "metadata": {
            "needs_background": "light"
          }
        }
      ]
    },
    {
      "cell_type": "markdown",
      "source": [
        "## 워드 클라우드"
      ],
      "metadata": {
        "id": "Bj_lloThVCXV"
      }
    },
    {
      "cell_type": "code",
      "source": [
        "# word_list 리턴하는 함수\n",
        "def make_word_ls(spe_token):\n",
        "  word_ls = []\n",
        "  for t in spe_token:\n",
        "    word_ls += t\n",
        "\n",
        "  return word_ls"
      ],
      "metadata": {
        "id": "me1qW6FBIIll"
      },
      "execution_count": null,
      "outputs": []
    },
    {
      "cell_type": "code",
      "source": [
        "# df_emo_dic = pd.read_excel(\"/content/drive/MyDrive/혁신기술텍스트마이닝/윤아/dic/emo_dic.xlsx\")\n",
        "# emo_dic = list(df_emo_dic['WORD'])\n",
        "\n",
        "wl = make_word_ls(df1_positive['specific_tokens'])  # 모든 단어 있는 ver\n",
        "# wl_notin_emo = [w for w in wl if w not in emo_dic and len(w) > 1]  #감정단어 제외 ver\n",
        "# wl_in_emo = [w for w in wl if w in emo_dic]  #감정단어만 있는 ver\n",
        "\n",
        "# 뺄 단어 빼기\n",
        "wl = [x for x in wl if x not in ['로봇', '배송', '배달', '주문', '수령', '생각']]\n",
        "wl = [x for x in wl if len(x) > 1]  # 길이가 1인 건 제외\n",
        "for w in range(len(wl)):\n",
        "  if wl[w] == '어프':\n",
        "    wl[w] = '어플'"
      ],
      "metadata": {
        "id": "ukbhnbt1IIj5"
      },
      "execution_count": null,
      "outputs": []
    },
    {
      "cell_type": "code",
      "source": [
        "from PIL import Image\n",
        "\n",
        "def wordcloud_mk(word_ls):\n",
        "  im = Image.open('circle.png') # 이미지 파일 읽어오기\n",
        "  mask_arr = np.array(im) # 픽셀 값 배열 형태 변환\n",
        "\n",
        "  font_path = '/usr/share/fonts/truetype/nanum/NanumBarunGothic.ttf'\n",
        "  wordcloud = WordCloud(\n",
        "  font_path = font_path,\n",
        "  width = 800,\n",
        "  height = 800,\n",
        "  colormap = 'Dark2',\n",
        "  background_color=\"white\",\n",
        "  mask = mask_arr,\n",
        "  prefer_horizontal = True\n",
        "  )\n",
        "\n",
        "  count = Counter(word_ls)\n",
        "  wordcloud = wordcloud.generate_from_frequencies(count)\n",
        "  array = wordcloud.to_array()\n",
        "\n",
        "  plt.rc('font', family='NanumBarunGothic')\n",
        "  fig = plt.figure(figsize=(10, 10))\n",
        "  plt.imshow(array, interpolation=\"bilinear\")\n",
        "\n",
        "  plt.axis('off')\n",
        "\n",
        "  plt.show()"
      ],
      "metadata": {
        "id": "sP7OHMqdETgZ"
      },
      "execution_count": null,
      "outputs": []
    },
    {
      "cell_type": "code",
      "source": [
        "wordcloud_mk(wl)"
      ],
      "metadata": {
        "colab": {
          "base_uri": "https://localhost:8080/",
          "height": 342
        },
        "id": "hVBELsOyEzhk",
        "outputId": "03316ea2-cc1f-4ee3-9a55-47ed2b136dae"
      },
      "execution_count": null,
      "outputs": [
        {
          "output_type": "display_data",
          "data": {
            "text/plain": [
              "<Figure size 720x720 with 1 Axes>"
            ],
            "image/png": "[encoded data removed]"
          },
          "metadata": {
            "needs_background": "light"
          }
        }
      ]
    },
    {
      "cell_type": "code",
      "source": [
        "wordcloud_mk(wl)"
      ],
      "metadata": {
        "colab": {
          "base_uri": "https://localhost:8080/",
          "height": 342
        },
        "id": "0rznIUl3y_sw",
        "outputId": "eb48bb7c-6866-4077-efc0-ae02e8094ba7"
      },
      "execution_count": null,
      "outputs": [
        {
          "output_type": "display_data",
          "data": {
            "text/plain": [
              "<Figure size 720x720 with 1 Axes>"
            ],
            "image/png": "[encoded data removed]"
          },
          "metadata": {
            "needs_background": "light"
          }
        }
      ]
    },
    {
      "cell_type": "markdown",
      "source": [
        "# 긍정/부정 문장에서 감정단어 제외한 워드클라우드"
      ],
      "metadata": {
        "id": "XMQ1l3bbVcr5"
      }
    },
    {
      "cell_type": "markdown",
      "source": [
        "## 긍정문장"
      ],
      "metadata": {
        "id": "f-E8Kyi7WxU1"
      }
    },
    {
      "cell_type": "code",
      "source": [
        "# df1_positive = df1[df1['EMO'] == 1]    # 긍정문장\n",
        "# df1_negative = df1[df1['EMO'] == -1]   # 부정문장"
      ],
      "metadata": {
        "id": "71e75ZNIVcFj"
      },
      "execution_count": null,
      "outputs": []
    },
    {
      "cell_type": "code",
      "source": [
        "# 긍정 문장에서 명사, 형용사,어근 빈도수 출력\n",
        "# tag_list = ['NNG','NNP','VA','XR']\n",
        "df_word = Word_DF(df1_positive, tag_list)\n",
        "df_word.head()"
      ],
      "metadata": {
        "id": "-7rpqb8SXVwc"
      },
      "execution_count": null,
      "outputs": []
    },
    {
      "cell_type": "code",
      "source": [
        "import copy\n",
        "\n",
        "# 긍정 문장에서 단어들 중 감정 단어 빈도 출력 및 시각화\n",
        "# df_emo_dic = pd.read_excel(\"/content/drive/MyDrive/혁신기술텍스트마이닝/윤아/dic/emo_dic.xlsx\")\n",
        "# emo_dic = df_emo_dic['WORD']\n",
        "df_word_emo = copy.deepcopy(df_word)\n",
        "\n",
        "for w in range(len(df_word['WORD'])):\n",
        "  if df_word['WORD'][w] not in list(emo_dic):\n",
        "    df_word_emo.loc[w, 'WORD'] = np.nan\n",
        "\n",
        "df_word_emo = df_word_emo.dropna()\n",
        "df_word_emo = df_word_emo.reset_index(drop = True)\n",
        "\n",
        "showGraph(df_word_emo)      # 감성단어에서 가장 많은 top 10 출력\n",
        "\n",
        "plt.show()"
      ],
      "metadata": {
        "id": "Zlek3uTJXOiX"
      },
      "execution_count": null,
      "outputs": []
    },
    {
      "cell_type": "code",
      "source": [
        "# 긍정 문장에서 감정단어 제외한 워드클라우드 출력\n",
        "# tag_list = ['NNG','NNP','VA','XR']\n",
        "wl = make_word_ls(df1_positive['specific_tokens'])  # 모든 단어 있는 ver\n",
        "wl_notin_emo = [w for w in wl if w not in emo_dic and len(w) > 1]  #감정단어 제외 ver\n",
        "wl_in_emo = [w for w in wl if w in emo_dic]  #감정단어만 있는 ver\n",
        "\n",
        "wordcloud_mk(wl_notin_emo)"
      ],
      "metadata": {
        "id": "7l00wpAHVcDe"
      },
      "execution_count": null,
      "outputs": []
    },
    {
      "cell_type": "markdown",
      "source": [
        "## 부정문장"
      ],
      "metadata": {
        "id": "gvjYwl6XW0sb"
      }
    },
    {
      "cell_type": "code",
      "source": [
        "# 부정 문장에서 명사, 형용사,어근 빈도수 출력\n",
        "# tag_list = ['NNG','NNP','VA','XR']\n",
        "df_word = Word_DF(df1_negative, tag_list)\n",
        "df_word.head()"
      ],
      "metadata": {
        "id": "UbIEgtgNYS4p"
      },
      "execution_count": null,
      "outputs": []
    },
    {
      "cell_type": "code",
      "source": [
        "import copy\n",
        "\n",
        "# 부정 문장에서 단어들 중 감정 단어 빈도 출력 및 시각화\n",
        "# df_emo_dic = pd.read_excel(\"/content/drive/MyDrive/혁신기술텍스트마이닝/윤아/dic/emo_dic.xlsx\")\n",
        "# emo_dic = df_emo_dic['WORD']\n",
        "df_word_emo = copy.deepcopy(df_word)\n",
        "\n",
        "for w in range(len(df_word['WORD'])):\n",
        "  if df_word['WORD'][w] not in list(emo_dic):\n",
        "    df_word_emo.loc[w, 'WORD'] = np.nan\n",
        "\n",
        "df_word_emo = df_word_emo.dropna()\n",
        "df_word_emo = df_word_emo.reset_index(drop = True)\n",
        "\n",
        "showGraph(df_word_emo)      # 감성단어에서 가장 많은 top 10 출력\n",
        "\n",
        "plt.show()"
      ],
      "metadata": {
        "id": "YOX-3x5CYS4q"
      },
      "execution_count": null,
      "outputs": []
    },
    {
      "cell_type": "code",
      "source": [
        "# 부정 문장에서 감정단어 제외한 워드클라우드 출력\n",
        "# tag_list = ['NNG','NNP','VA','XR']\n",
        "wl = make_word_ls(df1_negative['specific_tokens'])  # 모든 단어 있는 ver\n",
        "wl_notin_emo = [w for w in wl if w not in emo_dic and len(w) > 1]  #감정단어 제외 ver\n",
        "wl_in_emo = [w for w in wl if w in emo_dic]  #감정단어만 있는 ver\n",
        "\n",
        "wordcloud_mk(wl_notin_emo)"
      ],
      "metadata": {
        "id": "4O5RcFX_Vb-6"
      },
      "execution_count": null,
      "outputs": []
    },
    {
      "cell_type": "code",
      "source": [],
      "metadata": {
        "id": "sSmjdjs-Vb8b"
      },
      "execution_count": null,
      "outputs": []
    },
    {
      "cell_type": "code",
      "source": [],
      "metadata": {
        "id": "CCWbGTBNvUob"
      },
      "execution_count": null,
      "outputs": []
    },
    {
      "cell_type": "code",
      "source": [],
      "metadata": {
        "id": "XpNglfdwvUkz"
      },
      "execution_count": null,
      "outputs": []
    },
    {
      "cell_type": "code",
      "source": [],
      "metadata": {
        "id": "rH-4QJvhvUiS"
      },
      "execution_count": null,
      "outputs": []
    },
    {
      "cell_type": "code",
      "source": [],
      "metadata": {
        "id": "RgTpLbeXvUfz"
      },
      "execution_count": null,
      "outputs": []
    },
    {
      "cell_type": "markdown",
      "source": [
        "# LDA(토픽모델링)"
      ],
      "metadata": {
        "id": "7hXGcUoRvX6Q"
      }
    },
    {
      "cell_type": "code",
      "source": [
        "# !pip install konlpy"
      ],
      "metadata": {
        "colab": {
          "base_uri": "https://localhost:8080/"
        },
        "id": "RT_GYIZIUuZb",
        "outputId": "6bbe2f09-6876-4544-b595-effb7bbcfa37"
      },
      "execution_count": null,
      "outputs": [
        {
          "output_type": "stream",
          "name": "stdout",
          "text": [
            "Looking in indexes: https://pypi.org/simple, https://us-python.pkg.dev/colab-wheels/public/simple/\n",
            "Collecting konlpy\n",
            "  Downloading konlpy-0.6.0-py2.py3-none-any.whl (19.4 MB)\n",
            "\u001b[K     |████████████████████████████████| 19.4 MB 1.2 MB/s \n",
            "\u001b[?25hRequirement already satisfied: lxml>=4.1.0 in /usr/local/lib/python3.7/dist-packages (from konlpy) (4.9.1)\n",
            "Collecting JPype1>=0.7.0\n",
            "  Downloading JPype1-1.4.0-cp37-cp37m-manylinux_2_5_x86_64.manylinux1_x86_64.whl (453 kB)\n",
            "\u001b[K     |████████████████████████████████| 453 kB 50.6 MB/s \n",
            "\u001b[?25hRequirement already satisfied: numpy>=1.6 in /usr/local/lib/python3.7/dist-packages (from konlpy) (1.21.6)\n",
            "Requirement already satisfied: typing-extensions in /usr/local/lib/python3.7/dist-packages (from JPype1>=0.7.0->konlpy) (4.1.1)\n",
            "Installing collected packages: JPype1, konlpy\n",
            "Successfully installed JPype1-1.4.0 konlpy-0.6.0\n"
          ]
        }
      ]
    },
    {
      "cell_type": "code",
      "source": [
        "import konlpy\n",
        "import re\n",
        "\n",
        "# tokenization 함수를 만들어둠\n",
        "def tokenize_korean_text(text):\n",
        "    text = re.sub(r'[^,.?!\\w\\s]','', text)  ## ,.?!와 문자+숫자+_(\\w)와 공백(\\s)만 남김  # 앞에 r을 붙여주면 deprecation warning이 안뜸 (raw string으로 declare)\n",
        "\n",
        "    okt = konlpy.tag.Okt()\n",
        "    Okt_morphs = okt.pos(text)   # stem=True로 설정하면 동사원형으로 바꿔서 return\n",
        "\n",
        "    words = []\n",
        "    for word, pos in Okt_morphs:\n",
        "        if pos == 'Adjective' or pos == 'Verb' or pos == 'Noun':  # 이 경우에는 형용사, 동사, 명사만 남김\n",
        "            words.append(word)\n",
        "\n",
        "    words_str = ' '.join(words)\n",
        "    return words_str"
      ],
      "metadata": {
        "id": "eKKqI4z8Ty03"
      },
      "execution_count": null,
      "outputs": []
    },
    {
      "cell_type": "code",
      "source": [
        "# 감정태깅 끝난 전처리 데이터를 넣어서, 토큰화한 내용 담은 열과, 토큰화된 단어 담는 열을 포함하는 데이터 프레임 반환하는 함수\n",
        "\n",
        "def komoran_comments(senario):\n",
        "  team = int(input(\"팀을 입력하세요 :\"))\n",
        "  df_comments1 = pd.read_excel(\"/content/drive/MyDrive/혁신기술텍스트마이닝/\"+str(team)+\"팀감성일기/\"+senario+\"_spell_checked.xlsx\")\n",
        "  df_comments1.drop(['Unnamed: 0'], axis = 1, inplace = True)\n",
        "  df_comments1_emo = df_comments1\n",
        "\n",
        "  df_comments1_emo = df_comments1[df_comments1['Unnamed: 3'] != 0]      # 긍정/부정 문장들만 추출(중성 문장들은 다 제외)\n",
        "  # df_comments1_emo = df_comments1[df_comments1['EMO'] != 0]\n",
        "  df_comments1_emo = df_comments1_emo.reset_index(drop=True)  # 인덱스 리셋\n",
        "\n",
        "  komoran = Komoran(\"EXP\")\n",
        "# komoran.set_user_dic(\"user_dictionary.txt\")  #사용자 정의 사전 등록\n",
        "\n",
        "  df_comments1_emo['tokens'] = df_comments1_emo[senario].map(lambda s: komoran.get_plain_text(s).split('\\s'))\n",
        "\n",
        "  tag_list = ['NNG','NNP','VA','XR']\n",
        "  df_comments1_emo['specific_tokens'] = df_comments1_emo[senario].map(lambda s: komoran.get_morphes_by_tags(s, tag_list= tag_list))\n",
        "\n",
        "  return df_comments1_emo"
      ],
      "metadata": {
        "colab": {
          "base_uri": "https://localhost:8080/"
        },
        "id": "CYKVDH0HOKG0",
        "outputId": "f2066dd6-9ead-4fea-d064-6cd61e7852f9"
      },
      "execution_count": null,
      "outputs": [
        {
          "output_type": "stream",
          "name": "stderr",
          "text": [
            "<>:16: DeprecationWarning: invalid escape sequence \\s\n",
            "<>:16: DeprecationWarning: invalid escape sequence \\s\n",
            "<>:16: DeprecationWarning: invalid escape sequence \\s\n",
            "<ipython-input-427-5c864856fbd2>:16: DeprecationWarning: invalid escape sequence \\s\n",
            "  df_comments1_emo['tokens'] = df_comments1_emo[senario].map(lambda s: komoran.get_plain_text(s).split('\\s'))\n"
          ]
        }
      ]
    },
    {
      "cell_type": "code",
      "source": [
        "senario = input(\"시나리오 단계를 입력하세요 :\")\n",
        "df1 = komoran_comments(senario)\n",
        "df1.head()"
      ],
      "metadata": {
        "colab": {
          "base_uri": "https://localhost:8080/",
          "height": 389
        },
        "id": "Yd5exn5TN27y",
        "outputId": "85c92fbe-c98d-43e2-a8d5-d237458b6eae"
      },
      "execution_count": null,
      "outputs": [
        {
          "name": "stdout",
          "output_type": "stream",
          "text": [
            "시나리오 단계를 입력하세요 :물품주문\n",
            "팀을 입력하세요 :1\n"
          ]
        },
        {
          "output_type": "execute_result",
          "data": {
            "text/plain": [
              "   index                                               물품주문  Unnamed: 3  \\\n",
              "0    0.0  주문은 일반 배달 앱 주문과 다르지 않았으나 주소를 입력하는 것에서 오류 ex 도로...        -1.0   \n",
              "1    1.0  그리고 배달 상점 리스트에 적혀 있는 업체들이 “리빙랩＂에 대한 인지가 있는 지도 ...        -1.0   \n",
              "2   41.0         어떤 방식으로 배달 주문이 되는지에 대해 첫 주문이라 그런지 아직은 헷갈렸다        -1.0   \n",
              "3   42.0                        내가 특정 장소로 가야 하는 것도 익숙지가 않았다        -1.0   \n",
              "4   43.0            또한 주문을 10개 이상할 수 없어 단체 주문을 하기는 힘들 것 같다​        -1.0   \n",
              "\n",
              "                                              tokens  \\\n",
              "0  [주문/NNG 은/JX 일반/NNG 배달/NNG 앱/NNG 주문/NNG 과/JC 다...   \n",
              "1  [그리고/MAJ 배달/NNG 상점/NNG 리스트/NNG 에/JKB 적히/VV 어/E...   \n",
              "2  [어떤/MM 방식/NNG 으로/JKB 배달/NNG 주문/NNG 이/JKS 되/VV ...   \n",
              "3  [내/NP 가/JKS 특정/NNG 장소/NNG 로/JKB 가/VV 아야/EC 하/V...   \n",
              "4  [또한/MAG 주문/NNG 을/JKO 10/SN 개/NNB 이상/NNG 하/XSV ...   \n",
              "\n",
              "                                     specific_tokens  \n",
              "0  [주문, 일반, 배달, 앱, 주문, 다르, 주소, 입력, 오류, 도로명, 주소, 지...  \n",
              "1               [배달, 상점, 리스트, 업체, 리빙, 랩, 인지, 지도, 의문]  \n",
              "2                               [방식, 배달, 주문, 주문, 그렇]  \n",
              "3                                       [특정, 장소, 익숙]  \n",
              "4                         [주문, 이상, 없, 단체, 주문, 힘들, 같]  "
            ],
            "text/html": [
              "\n",
              "  <div id=\"df-31102afc-c706-46da-a094-a2624883a92c\">\n",
              "    <div class=\"colab-df-container\">\n",
              "      <div>\n",
              "<style scoped>\n",
              "    .dataframe tbody tr th:only-of-type {\n",
              "        vertical-align: middle;\n",
              "    }\n",
              "\n",
              "    .dataframe tbody tr th {\n",
              "        vertical-align: top;\n",
              "    }\n",
              "\n",
              "    .dataframe thead th {\n",
              "        text-align: right;\n",
              "    }\n",
              "</style>\n",
              "<table border=\"1\" class=\"dataframe\">\n",
              "  <thead>\n",
              "    <tr style=\"text-align: right;\">\n",
              "      <th></th>\n",
              "      <th>index</th>\n",
              "      <th>물품주문</th>\n",
              "      <th>Unnamed: 3</th>\n",
              "      <th>tokens</th>\n",
              "      <th>specific_tokens</th>\n",
              "    </tr>\n",
              "  </thead>\n",
              "  <tbody>\n",
              "    <tr>\n",
              "      <th>0</th>\n",
              "      <td>0.0</td>\n",
              "      <td>주문은 일반 배달 앱 주문과 다르지 않았으나 주소를 입력하는 것에서 오류 ex 도로...</td>\n",
              "      <td>-1.0</td>\n",
              "      <td>[주문/NNG 은/JX 일반/NNG 배달/NNG 앱/NNG 주문/NNG 과/JC 다...</td>\n",
              "      <td>[주문, 일반, 배달, 앱, 주문, 다르, 주소, 입력, 오류, 도로명, 주소, 지...</td>\n",
              "    </tr>\n",
              "    <tr>\n",
              "      <th>1</th>\n",
              "      <td>1.0</td>\n",
              "      <td>그리고 배달 상점 리스트에 적혀 있는 업체들이 “리빙랩＂에 대한 인지가 있는 지도 ...</td>\n",
              "      <td>-1.0</td>\n",
              "      <td>[그리고/MAJ 배달/NNG 상점/NNG 리스트/NNG 에/JKB 적히/VV 어/E...</td>\n",
              "      <td>[배달, 상점, 리스트, 업체, 리빙, 랩, 인지, 지도, 의문]</td>\n",
              "    </tr>\n",
              "    <tr>\n",
              "      <th>2</th>\n",
              "      <td>41.0</td>\n",
              "      <td>어떤 방식으로 배달 주문이 되는지에 대해 첫 주문이라 그런지 아직은 헷갈렸다</td>\n",
              "      <td>-1.0</td>\n",
              "      <td>[어떤/MM 방식/NNG 으로/JKB 배달/NNG 주문/NNG 이/JKS 되/VV ...</td>\n",
              "      <td>[방식, 배달, 주문, 주문, 그렇]</td>\n",
              "    </tr>\n",
              "    <tr>\n",
              "      <th>3</th>\n",
              "      <td>42.0</td>\n",
              "      <td>내가 특정 장소로 가야 하는 것도 익숙지가 않았다</td>\n",
              "      <td>-1.0</td>\n",
              "      <td>[내/NP 가/JKS 특정/NNG 장소/NNG 로/JKB 가/VV 아야/EC 하/V...</td>\n",
              "      <td>[특정, 장소, 익숙]</td>\n",
              "    </tr>\n",
              "    <tr>\n",
              "      <th>4</th>\n",
              "      <td>43.0</td>\n",
              "      <td>또한 주문을 10개 이상할 수 없어 단체 주문을 하기는 힘들 것 같다​</td>\n",
              "      <td>-1.0</td>\n",
              "      <td>[또한/MAG 주문/NNG 을/JKO 10/SN 개/NNB 이상/NNG 하/XSV ...</td>\n",
              "      <td>[주문, 이상, 없, 단체, 주문, 힘들, 같]</td>\n",
              "    </tr>\n",
              "  </tbody>\n",
              "</table>\n",
              "</div>\n",
              "      <button class=\"colab-df-convert\" onclick=\"convertToInteractive('df-31102afc-c706-46da-a094-a2624883a92c')\"\n",
              "              title=\"Convert this dataframe to an interactive table.\"\n",
              "              style=\"display:none;\">\n",
              "        \n",
              "  <svg xmlns=\"http://www.w3.org/2000/svg\" height=\"24px\"viewBox=\"0 0 24 24\"\n",
              "       width=\"24px\">\n",
              "    <path d=\"M0 0h24v24H0V0z\" fill=\"none\"/>\n",
              "    <path d=\"M18.56 5.44l.94 2.06.94-2.06 2.06-.94-2.06-.94-.94-2.06-.94 2.06-2.06.94zm-11 1L8.5 8.5l.94-2.06 2.06-.94-2.06-.94L8.5 2.5l-.94 2.06-2.06.94zm10 10l.94 2.06.94-2.06 2.06-.94-2.06-.94-.94-2.06-.94 2.06-2.06.94z\"/><path d=\"M17.41 7.96l-1.37-1.37c-.4-.4-.92-.59-1.43-.59-.52 0-1.04.2-1.43.59L10.3 9.45l-7.72 7.72c-.78.78-.78 2.05 0 2.83L4 21.41c.39.39.9.59 1.41.59.51 0 1.02-.2 1.41-.59l7.78-7.78 2.81-2.81c.8-.78.8-2.07 0-2.86zM5.41 20L4 18.59l7.72-7.72 1.47 1.35L5.41 20z\"/>\n",
              "  </svg>\n",
              "      </button>\n",
              "      \n",
              "  <style>\n",
              "    .colab-df-container {\n",
              "      display:flex;\n",
              "      flex-wrap:wrap;\n",
              "      gap: 12px;\n",
              "    }\n",
              "\n",
              "    .colab-df-convert {\n",
              "      background-color: #E8F0FE;\n",
              "      border: none;\n",
              "      border-radius: 50%;\n",
              "      cursor: pointer;\n",
              "      display: none;\n",
              "      fill: #1967D2;\n",
              "      height: 32px;\n",
              "      padding: 0 0 0 0;\n",
              "      width: 32px;\n",
              "    }\n",
              "\n",
              "    .colab-df-convert:hover {\n",
              "      background-color: #E2EBFA;\n",
              "      box-shadow: 0px 1px 2px rgba(60, 64, 67, 0.3), 0px 1px 3px 1px rgba(60, 64, 67, 0.15);\n",
              "      fill: #174EA6;\n",
              "    }\n",
              "\n",
              "    [theme=dark] .colab-df-convert {\n",
              "      background-color: #3B4455;\n",
              "      fill: #D2E3FC;\n",
              "    }\n",
              "\n",
              "    [theme=dark] .colab-df-convert:hover {\n",
              "      background-color: #434B5C;\n",
              "      box-shadow: 0px 1px 3px 1px rgba(0, 0, 0, 0.15);\n",
              "      filter: drop-shadow(0px 1px 2px rgba(0, 0, 0, 0.3));\n",
              "      fill: #FFFFFF;\n",
              "    }\n",
              "  </style>\n",
              "\n",
              "      <script>\n",
              "        const buttonEl =\n",
              "          document.querySelector('#df-31102afc-c706-46da-a094-a2624883a92c button.colab-df-convert');\n",
              "        buttonEl.style.display =\n",
              "          google.colab.kernel.accessAllowed ? 'block' : 'none';\n",
              "\n",
              "        async function convertToInteractive(key) {\n",
              "          const element = document.querySelector('#df-31102afc-c706-46da-a094-a2624883a92c');\n",
              "          const dataTable =\n",
              "            await google.colab.kernel.invokeFunction('convertToInteractive',\n",
              "                                                     [key], {});\n",
              "          if (!dataTable) return;\n",
              "\n",
              "          const docLinkHtml = 'Like what you see? Visit the ' +\n",
              "            '<a target=\"_blank\" href=https://colab.research.google.com/notebooks/data_table.ipynb>data table notebook</a>'\n",
              "            + ' to learn more about interactive tables.';\n",
              "          element.innerHTML = '';\n",
              "          dataTable['output_type'] = 'display_data';\n",
              "          await google.colab.output.renderOutput(dataTable, element);\n",
              "          const docLink = document.createElement('div');\n",
              "          docLink.innerHTML = docLinkHtml;\n",
              "          element.appendChild(docLink);\n",
              "        }\n",
              "      </script>\n",
              "    </div>\n",
              "  </div>\n",
              "  "
            ]
          },
          "metadata": {},
          "execution_count": 443
        }
      ]
    },
    {
      "cell_type": "code",
      "source": [
        "# df['Content']를 하나씩 tokenize해서 list로 저장\n",
        "tokenized_list = []\n",
        "\n",
        "for text in df1[senario]:\n",
        "    tokenized_list.append(tokenize_korean_text(text))\n",
        "\n",
        "print(len(tokenized_list))\n",
        "print(tokenized_list[0])"
      ],
      "metadata": {
        "colab": {
          "base_uri": "https://localhost:8080/"
        },
        "id": "5H6fxALgwFF3",
        "outputId": "2b322aea-0145-4166-dae8-e160d6e759f2"
      },
      "execution_count": null,
      "outputs": [
        {
          "output_type": "stream",
          "name": "stdout",
          "text": [
            "26\n",
            "주문 일반 배달 앱 주문 다르지 않았으나 주소 입력 하는 것 오류 도로명 주소 지번 주소 인식 함 등 자주 발생 하여 주소 정확하게 봐야 하는 문제점 있었다\n"
          ]
        }
      ]
    },
    {
      "cell_type": "code",
      "source": [
        "df = copy.deepcopy(df1)\n",
        "drop_corpus = []\n",
        "\n",
        "for index in range(len(tokenized_list)):\n",
        "    corpus = tokenized_list[index]\n",
        "    if len(set(corpus.split())) < 3:   # 같은 단어 1-2개만 반복되는 corpus도 지우기 위해 set()을 사용\n",
        "        df.drop(index, axis='index', inplace=True)\n",
        "        drop_corpus.append(corpus)\n",
        "\n",
        "for corpus in drop_corpus:\n",
        "    tokenized_list.remove(corpus)\n",
        "\n",
        "df.reset_index(drop=True, inplace=True)\n",
        "\n",
        "print(len(tokenized_list))\n",
        "print(len(df))"
      ],
      "metadata": {
        "colab": {
          "base_uri": "https://localhost:8080/"
        },
        "id": "0Wai0_uoVILn",
        "outputId": "033ad41b-f9f0-4667-838d-c357f5d98306"
      },
      "execution_count": null,
      "outputs": [
        {
          "output_type": "stream",
          "name": "stdout",
          "text": [
            "26\n",
            "26\n"
          ]
        }
      ]
    },
    {
      "cell_type": "code",
      "source": [
        "from sklearn.feature_extraction.text import CountVectorizer\n",
        "from sklearn.decomposition import LatentDirichletAllocation"
      ],
      "metadata": {
        "id": "CaxIlmfPVaou"
      },
      "execution_count": null,
      "outputs": []
    },
    {
      "cell_type": "code",
      "source": [
        "#LDA 는 Count기반의 Vectorizer만 적용\n",
        "count_vectorizer = CountVectorizer(ngram_range=(1,2))\n",
        "    # 2개의 문서 미만으로 등장하는 단어는 제외, 전체의 10% 이상으로 자주 등장하는 단어는 제외\n",
        "    # bigram도 포함\n",
        "\n",
        "feat_vect = count_vectorizer.fit_transform(tokenized_list)\n",
        "print('CountVectorizer Shape:', feat_vect.shape)"
      ],
      "metadata": {
        "colab": {
          "base_uri": "https://localhost:8080/"
        },
        "id": "OAUF3Lg1Vde2",
        "outputId": "cc37d7db-4df0-4d2b-d566-068c254682ce"
      },
      "execution_count": null,
      "outputs": [
        {
          "output_type": "stream",
          "name": "stdout",
          "text": [
            "CountVectorizer Shape: (26, 452)\n"
          ]
        }
      ]
    },
    {
      "cell_type": "code",
      "source": [
        "lda = LatentDirichletAllocation(batch_size=128, doc_topic_prior=None,\n",
        "             evaluate_every=-1, learning_decay=0.7,\n",
        "             learning_method='batch', learning_offset=10.0,\n",
        "             max_doc_update_iter=100, max_iter=10, mean_change_tol=0.001,\n",
        "             n_jobs=None, perp_tol=0.1,\n",
        "             random_state=None, topic_word_prior=None,\n",
        "             total_samples=1000000.0, verbose=0, n_components=2)  # 토픽 수는 2개로 설정\n",
        "lda.fit(feat_vect)"
      ],
      "metadata": {
        "colab": {
          "base_uri": "https://localhost:8080/"
        },
        "id": "3JJDt6RExRD5",
        "outputId": "830a766a-e5c1-43fb-e030-b51a28cd6800"
      },
      "execution_count": null,
      "outputs": [
        {
          "output_type": "execute_result",
          "data": {
            "text/plain": [
              "LatentDirichletAllocation(n_components=2)"
            ]
          },
          "metadata": {},
          "execution_count": 448
        }
      ]
    },
    {
      "cell_type": "code",
      "source": [
        "def display_topics(model, feature_names, num_top_words):\n",
        "    for topic_index, topic in enumerate(model.components_):\n",
        "        print('Topic #', topic_index)\n",
        "\n",
        "        # components_ array에서 가장 값이 큰 순으로 정렬했을 때, 그 값의 array index를 반환.\n",
        "        topic_word_indexes = topic.argsort()[::-1]\n",
        "        top_indexes=topic_word_indexes[:num_top_words]\n",
        "\n",
        "        # top_indexes대상인 index별로 feature_names에 해당하는 word feature 추출 후 join으로 concat\n",
        "        feature_concat = ' '.join([feature_names[i] for i in top_indexes])\n",
        "        print(feature_concat)"
      ],
      "metadata": {
        "id": "WJw_ev6Ixb5C"
      },
      "execution_count": null,
      "outputs": []
    },
    {
      "cell_type": "code",
      "source": [
        "# CountVectorizer객체내의 전체 word들의 명칭을 get_features_names( )를 통해 추출\n",
        "feature_names = count_vectorizer.get_feature_names()\n",
        "\n",
        "# Topic별 가장 연관도가 높은 word를 3개만 추출\n",
        "display_topics(lda, feature_names, 3)"
      ],
      "metadata": {
        "colab": {
          "base_uri": "https://localhost:8080/"
        },
        "id": "cVezObw9WbQj",
        "outputId": "7a6e4a3f-f94d-45a9-8d99-bf7f2c18a025"
      },
      "execution_count": null,
      "outputs": [
        {
          "output_type": "stream",
          "name": "stdout",
          "text": [
            "Topic # 0\n",
            "주문 주소 해당\n",
            "Topic # 1\n",
            "주문 배달 주소\n"
          ]
        },
        {
          "output_type": "stream",
          "name": "stderr",
          "text": [
            "/usr/local/lib/python3.7/dist-packages/sklearn/utils/deprecation.py:87: FutureWarning: Function get_feature_names is deprecated; get_feature_names is deprecated in 1.0 and will be removed in 1.2. Please use get_feature_names_out instead.\n",
            "  warnings.warn(msg, category=FutureWarning)\n"
          ]
        }
      ]
    },
    {
      "cell_type": "code",
      "source": [
        "# !pip install pyLDAvis"
      ],
      "metadata": {
        "id": "z2oiaZ4EW6ZW"
      },
      "execution_count": null,
      "outputs": []
    },
    {
      "cell_type": "code",
      "source": [
        "import pyLDAvis.sklearn  # sklearn의 ldamodel에 최적화된 라이브러리\n",
        "\n",
        "pyLDAvis.enable_notebook()\n",
        "vis = pyLDAvis.sklearn.prepare(lda, feat_vect, count_vectorizer)\n",
        "pyLDAvis.display(vis)"
      ],
      "metadata": {
        "colab": {
          "base_uri": "https://localhost:8080/",
          "height": 916
        },
        "id": "Hbf-02MMWyrB",
        "outputId": "5bdffcf8-502c-42f3-9cd8-a752bc126bb3"
      },
      "execution_count": null,
      "outputs": [
        {
          "output_type": "stream",
          "name": "stderr",
          "text": [
            "/usr/local/lib/python3.7/dist-packages/pyLDAvis/_prepare.py:247: FutureWarning: In a future version of pandas all arguments of DataFrame.drop except for the argument 'labels' will be keyword-only\n",
            "  by='saliency', ascending=False).head(R).drop('saliency', 1)\n"
          ]
        },
        {
          "output_type": "execute_result",
          "data": {
            "text/plain": [
              "<IPython.core.display.HTML object>"
            ],
            "text/html": [
              "\n",
              "<link rel=\"stylesheet\" type=\"text/css\" href=\"https://cdn.jsdelivr.net/gh/bmabey/pyLDAvis@3.3.1/pyLDAvis/js/ldavis.v1.0.0.css\">\n",
              "\n",
              "\n",
              "<div id=\"ldavis_el1691406285649429289667043340\"></div>\n",
              "<script type=\"text/javascript\">\n",
              "\n",
              "var ldavis_el1691406285649429289667043340_data = {\"mdsDat\": {\"x\": [0.06425688198409318, -0.06425688198409318], \"y\": [0.0, 0.0], \"topics\": [1, 2], \"cluster\": [1, 1], \"Freq\": [54.661917846992935, 45.33808215300707]}, \"tinfo\": {\"Term\": [\"\\ubc30\\ub2ec\", \"\\ud574\\ub2f9\", \"\\ud615\\uc2dd\", \"\\ubc30\\ub2ec \\uc8fc\\ubb38\", \"\\ub300\\ud574 \\ubb38\\uc758\", \"\\ubb38\\uc758\", \"\\uac00\\uac8c\", \"\\uac00\\uac8c \\uc8fc\\ubb38\", \"\\uc5b4\\ub5bb\\uac8c\", \"\\ud588\\ub294\\ub370\", \"\\uc8fc\\uc18c \\ud615\\uc2dd\", \"\\ubd80\\ubd84\", \"\\uc788\\ub294\", \"\\ub2e4\\ub974\\uc9c0\", \"\\uc8fc\\ubb38 \\ub2e4\\ub974\\uc9c0\", \"\\ubc29\\uc2dd\", \"\\uc2dc\\uac04\", \"\\uc77c\\ubc18\", \"\\uc77c\\ubc18 \\ubc30\\ub2ec\", \"\\uc624\\ub294\", \"\\uae30\\uc0ac\", \"\\ubc30\\ub2ec \\uae30\\uc0ac\", \"\\uc5c5\\uccb4\", \"\\ub300\\ud55c\", \"\\uc788\\ub294\\uc9c0\", \"\\uc788\\uc5c8\\ub2e4\", \"\\uc0dd\\uac01\", \"\\uc788\\uc73c\\uba74\", \"\\uc788\\uc73c\\uba74 \\uc88b\\uaca0\\ub2e4\\ub294\", \"\\uc88b\\uaca0\\ub2e4\\ub294 \\uc0dd\\uac01\", \"\\ubc30\\ub2ec \\uc8fc\\ubb38\", \"\\ubc30\\ub2ec\", \"\\uc788\\ub294\", \"\\ub2e4\\ub974\\uc9c0\", \"\\uc8fc\\ubb38 \\ub2e4\\ub974\\uc9c0\", \"\\ubc29\\uc2dd\", \"\\uc2dc\\uac04\", \"\\uc77c\\ubc18\", \"\\uc77c\\ubc18 \\ubc30\\ub2ec\", \"\\uc624\\ub294\", \"\\uae30\\uc0ac\", \"\\ubc30\\ub2ec \\uae30\\uc0ac\", \"\\ub300\\ud55c\", \"\\uc5c5\\uccb4\", \"\\uc788\\ub294\\uc9c0\", \"\\uc788\\uc5c8\\ub2e4\", \"\\uc0dd\\uac01\", \"\\uc788\\uc73c\\uba74\", \"\\uc788\\uc73c\\uba74 \\uc88b\\uaca0\\ub2e4\\ub294\", \"\\uc88b\\uaca0\\ub2e4\\ub294\", \"\\uc88b\\uaca0\\ub2e4\\ub294 \\uc0dd\\uac01\", \"\\uc5c6\\uc5b4\", \"\\ub2e4\\ub974\\uc9c0 \\uc54a\\uc558\\uc73c\\ub098\", \"\\ub3c4\\ub85c\\uba85\", \"\\ub3c4\\ub85c\\uba85 \\uc8fc\\uc18c\", \"\\ubb38\\uc81c\\uc810\", \"\\ubb38\\uc81c\\uc810 \\uc788\\uc5c8\\ub2e4\", \"\\ubc1c\\uc0dd\", \"\\ubc1c\\uc0dd \\ud558\\uc5ec\", \"\\ubd10\\uc57c\", \"\\ub85c\\ubd07\", \"\\uc8fc\\ubb38\", \"\\uc8fc\\uc18c\", \"\\ud5f7\\uac08\\ub838\\ub2e4\", \"\\ud588\\ub2e4\", \"\\ub85c\\ubd07 \\ubc30\\ub2ec\", \"\\uc5b4\\ud50c\", \"\\ud558\\ub294\", \"\\ud558\\uc5ec\", \"\\ud574\\ub2f9\", \"\\ud615\\uc2dd\", \"\\ub300\\ud574 \\ubb38\\uc758\", \"\\ubb38\\uc758\", \"\\uac00\\uac8c\", \"\\uac00\\uac8c \\uc8fc\\ubb38\", \"\\uc5b4\\ub5bb\\uac8c\", \"\\uc8fc\\uc18c \\ud615\\uc2dd\", \"\\ud588\\ub294\\ub370\", \"\\ubd80\\ubd84\", \"\\uac19\\uc544\", \"\\uac19\\uc544 \\ud574\\uacb0\", \"\\ub2e4\\ub978\", \"\\ub2e4\\ub978 \\uac00\\uac8c\", \"\\ub418\\uc5c8\\ub2e4\", \"\\ub4dc\\ub838\\ub294\\ub370\", \"\\ub4dc\\ub838\\ub294\\ub370 \\uc694\\uae30\", \"\\ubb38\\uc758 \\ub4dc\\ub838\\ub294\\ub370\", \"\\ubb38\\uc81c\", \"\\ubb38\\uc81c \\uac19\\uc544\", \"\\uc0ac\\ud56d\", \"\\uc0ac\\ud56d \\ub300\\ud574\", \"\\uc694\\uae30 \\uc790\\uccb4\", \"\\uc790\\uccb4\", \"\\uc790\\uccb4 \\ubb38\\uc81c\", \"\\uc8fc\\ubb38 \\ud558\\uac8c\", \"\\ucc3e\\uc9c0\", \"\\ucc3e\\uc9c0 \\ub2e4\\ub978\", \"\\ud558\\uac8c\", \"\\ud558\\uac8c \\ub418\\uc5c8\\ub2e4\", \"\\uc8fc\\ubb38\", \"\\ub300\\ud574\", \"\\uc0ac\\uc6a9\", \"\\ud558\\uc9c0\", \"\\uc8fc\\uc18c\", \"\\ud558\\ub294\", \"\\ud558\\uc5ec\", \"\\ub85c\\ubd07\", \"\\ub420\\uae4c\", \"\\uadf8\\ub7f0\\uc9c0\", \"\\uc774\\uc804\", \"\\uc694\\uae30\", \"\\uc0ac\\uc6a9 \\ud558\\ub358\", \"\\ud558\\ub358 \\uc8fc\\ubb38\", \"\\ud558\\ub358\", \"\\uc54a\\uc558\\ub2e4\", \"\\ub418\\uc5b4\", \"\\ub9ac\\ube59\\ub7a9\", \"\\uacbd\\ud5d8\", \"\\ub4e4\\uc5c8\\ub2e4\"], \"Freq\": [6.0, 2.0, 2.0, 2.0, 1.0, 1.0, 1.0, 1.0, 1.0, 1.0, 1.0, 1.0, 2.0, 2.0, 2.0, 2.0, 2.0, 1.0, 1.0, 1.0, 1.0, 1.0, 1.0, 1.0, 1.0, 1.0, 1.0, 1.0, 1.0, 1.0, 2.621826989809216, 6.149635404943958, 2.0391787583827887, 2.039111890719046, 2.039111890719046, 2.0388442962844473, 2.0388010495817874, 1.4565367052230869, 1.4565367052230869, 1.4564716896922643, 1.456402640230701, 1.456402640230701, 1.4563562881966117, 1.4563562881966117, 1.4563482429694614, 1.4563319283482037, 1.4562497035850537, 1.4562497035850537, 1.4562497035850537, 1.4562497035850537, 1.4562497035850537, 1.4561207677614123, 0.8738266863262127, 0.8738266863262127, 0.8738266863262127, 0.8738266863262127, 0.8738266863262127, 0.8738266863262127, 0.8738266863262127, 0.8738266863262127, 2.6305978828900707, 7.8609128715211805, 3.223467083983063, 1.4746332191348055, 1.4646365802518444, 1.4587257229870696, 1.4577123092699555, 2.0436897509639436, 1.4568198981414973, 1.8856492368557243, 1.885511457292974, 1.3467989924109516, 1.3467989924109516, 1.3467881463529867, 1.3467881463529867, 1.346640380801008, 1.3465933767573492, 1.3465933767573492, 1.3461996285056537, 0.8079548811742215, 0.8079548811742215, 0.8079548811742215, 0.8079548811742215, 0.8079548811742215, 0.8079548811742215, 0.8079548811742215, 0.8079548811742215, 0.8079548811742215, 0.8079548811742215, 0.8079548811742215, 0.8079548811742215, 0.8079548811742215, 0.8079548811742215, 0.8079548811742215, 0.8079548811742215, 0.8079548811742215, 0.8079548811742215, 0.8079548811742215, 0.8079548811742215, 6.741955989562664, 1.3590503789632837, 1.3565752078397744, 1.3510675716026999, 2.4080969567731327, 1.882372059443552, 1.3472869983380689, 1.3396964753225151, 0.8145840342728591, 0.81236595945182, 0.8118574742406919, 0.8117874073698378, 0.811233733522955, 0.8112337335229439, 0.8112337335229346, 0.8107865095671771, 0.8096352277755317, 0.8093714277799596, 0.808886873183182, 0.8088807968988125], \"Total\": [6.0, 2.0, 2.0, 2.0, 1.0, 1.0, 1.0, 1.0, 1.0, 1.0, 1.0, 1.0, 2.0, 2.0, 2.0, 2.0, 2.0, 1.0, 1.0, 1.0, 1.0, 1.0, 1.0, 1.0, 1.0, 1.0, 1.0, 1.0, 1.0, 1.0, 2.891908085579431, 6.929821046431821, 2.3091339612256823, 2.3091289217195445, 2.3091289217195445, 2.309108754366296, 2.309105495062601, 1.7263603024992844, 1.7263603024992844, 1.7263554025798267, 1.7263501986416914, 1.7263501986416914, 1.7263467053035484, 1.7263467053035484, 1.7263460989720376, 1.7263448694145895, 1.7263386725149914, 1.7263386725149914, 1.7263386725149914, 1.7263386725149914, 1.7263386725149914, 1.7263289552190932, 1.1435815215100407, 1.1435815215100407, 1.1435815215100407, 1.1435815215100407, 1.1435815215100407, 1.1435815215100407, 1.1435815215100407, 1.1435815215100407, 3.970294358212586, 14.602868861083845, 5.631564040756196, 2.2665867784646956, 2.2658333780886792, 2.2653879041510887, 2.265311527852567, 3.9260618104074956, 2.804106896479566, 2.177441536342372, 2.1774527665161147, 1.6385779016614859, 1.6385779016614859, 1.6385787857049021, 1.6385787857049021, 1.6385908298193472, 1.638594661037609, 1.638594661037609, 1.6386267547762543, 1.0997137670734265, 1.0997137670734265, 1.0997137670734265, 1.0997137670734265, 1.0997137670734265, 1.0997137670734265, 1.0997137670734265, 1.0997137670734265, 1.0997137670734265, 1.0997137670734265, 1.0997137670734265, 1.0997137670734265, 1.0997137670734265, 1.0997137670734265, 1.0997137670734265, 1.0997137670734265, 1.0997137670734265, 1.0997137670734265, 1.0997137670734265, 1.0997137670734265, 14.602868861083845, 2.2203636980119863, 2.2205654449271783, 2.2210143628263395, 5.631564040756196, 3.9260618104074956, 2.804106896479566, 3.970294358212586, 1.6819578219439122, 1.6821386133843752, 1.6821800591340417, 1.6821857701634397, 1.682230899160611, 1.6822308991606119, 1.6822308991606123, 1.6822673516113593, 1.6823611905979976, 1.6823826924791518, 1.6824221876858525, 1.682422682953277], \"Category\": [\"Default\", \"Default\", \"Default\", \"Default\", \"Default\", \"Default\", \"Default\", \"Default\", \"Default\", \"Default\", \"Default\", \"Default\", \"Default\", \"Default\", \"Default\", \"Default\", \"Default\", \"Default\", \"Default\", \"Default\", \"Default\", \"Default\", \"Default\", \"Default\", \"Default\", \"Default\", \"Default\", \"Default\", \"Default\", \"Default\", \"Topic1\", \"Topic1\", \"Topic1\", \"Topic1\", \"Topic1\", \"Topic1\", \"Topic1\", \"Topic1\", \"Topic1\", \"Topic1\", \"Topic1\", \"Topic1\", \"Topic1\", \"Topic1\", \"Topic1\", \"Topic1\", \"Topic1\", \"Topic1\", \"Topic1\", \"Topic1\", \"Topic1\", \"Topic1\", \"Topic1\", \"Topic1\", \"Topic1\", \"Topic1\", \"Topic1\", \"Topic1\", \"Topic1\", \"Topic1\", \"Topic1\", \"Topic1\", \"Topic1\", \"Topic1\", \"Topic1\", \"Topic1\", \"Topic1\", \"Topic1\", \"Topic1\", \"Topic2\", \"Topic2\", \"Topic2\", \"Topic2\", \"Topic2\", \"Topic2\", \"Topic2\", \"Topic2\", \"Topic2\", \"Topic2\", \"Topic2\", \"Topic2\", \"Topic2\", \"Topic2\", \"Topic2\", \"Topic2\", \"Topic2\", \"Topic2\", \"Topic2\", \"Topic2\", \"Topic2\", \"Topic2\", \"Topic2\", \"Topic2\", \"Topic2\", \"Topic2\", \"Topic2\", \"Topic2\", \"Topic2\", \"Topic2\", \"Topic2\", \"Topic2\", \"Topic2\", \"Topic2\", \"Topic2\", \"Topic2\", \"Topic2\", \"Topic2\", \"Topic2\", \"Topic2\", \"Topic2\", \"Topic2\", \"Topic2\", \"Topic2\", \"Topic2\", \"Topic2\", \"Topic2\", \"Topic2\", \"Topic2\", \"Topic2\"], \"logprob\": [30.0, 29.0, 28.0, 27.0, 26.0, 25.0, 24.0, 23.0, 22.0, 21.0, 20.0, 19.0, 18.0, 17.0, 16.0, 15.0, 14.0, 13.0, 12.0, 11.0, 10.0, 9.0, 8.0, 7.0, 6.0, 5.0, 4.0, 3.0, 2.0, 1.0, -4.7952, -3.9426, -5.0465, -5.0465, -5.0465, -5.0466, -5.0467, -5.383, -5.383, -5.383, -5.3831, -5.3831, -5.3831, -5.3831, -5.3831, -5.3831, -5.3832, -5.3832, -5.3832, -5.3832, -5.3832, -5.3832, -5.8939, -5.8939, -5.8939, -5.8939, -5.8939, -5.8939, -5.8939, -5.8939, -4.7918, -3.6971, -4.5886, -5.3706, -5.3774, -5.3815, -5.3822, -5.0443, -5.3828, -4.9377, -4.9378, -5.2743, -5.2743, -5.2743, -5.2743, -5.2744, -5.2744, -5.2744, -5.2747, -5.7853, -5.7853, -5.7853, -5.7853, -5.7853, -5.7853, -5.7853, -5.7853, -5.7853, -5.7853, -5.7853, -5.7853, -5.7853, -5.7853, -5.7853, -5.7853, -5.7853, -5.7853, -5.7853, -5.7853, -3.6637, -5.2652, -5.267, -5.2711, -4.6932, -4.9395, -5.2739, -5.2796, -5.7771, -5.7798, -5.7804, -5.7805, -5.7812, -5.7812, -5.7812, -5.7818, -5.7832, -5.7835, -5.7841, -5.7841], \"loglift\": [30.0, 29.0, 28.0, 27.0, 26.0, 25.0, 24.0, 23.0, 22.0, 21.0, 20.0, 19.0, 18.0, 17.0, 16.0, 15.0, 14.0, 13.0, 12.0, 11.0, 10.0, 9.0, 8.0, 7.0, 6.0, 5.0, 4.0, 3.0, 2.0, 1.0, 0.506, 0.4846, 0.4797, 0.4796, 0.4796, 0.4795, 0.4795, 0.434, 0.434, 0.434, 0.434, 0.434, 0.4339, 0.4339, 0.4339, 0.4339, 0.4339, 0.4339, 0.4339, 0.4339, 0.4339, 0.4338, 0.335, 0.335, 0.335, 0.335, 0.335, 0.335, 0.335, 0.335, 0.1924, -0.0153, 0.0461, 0.1741, 0.1677, 0.1638, 0.1632, -0.0489, -0.0508, 0.6471, 0.6471, 0.5949, 0.5949, 0.5949, 0.5949, 0.5948, 0.5948, 0.5948, 0.5944, 0.4827, 0.4827, 0.4827, 0.4827, 0.4827, 0.4827, 0.4827, 0.4827, 0.4827, 0.4827, 0.4827, 0.4827, 0.4827, 0.4827, 0.4827, 0.4827, 0.4827, 0.4827, 0.4827, 0.4827, 0.0182, 0.3001, 0.2982, 0.294, -0.0585, 0.0559, 0.058, -0.2954, 0.066, 0.0632, 0.0625, 0.0624, 0.0617, 0.0617, 0.0617, 0.0611, 0.0597, 0.0593, 0.0587, 0.0587]}, \"token.table\": {\"Topic\": [2, 2, 2, 2, 1, 2, 1, 2, 1, 1, 1, 2, 2, 1, 1, 2, 2, 1, 1, 1, 2, 2, 1, 2, 2, 2, 1, 2, 1, 2, 1, 2, 1, 2, 2, 2, 2, 2, 1, 1, 1, 1, 1, 1, 2, 1, 1, 1, 2, 1, 2, 1, 2, 2, 2, 1, 1, 1, 2, 2, 1, 2, 1, 1, 1, 1, 2, 2, 1, 2, 1, 1, 1, 1, 1, 1, 1, 2, 2, 1, 1, 1, 2, 1, 2, 1, 2, 2, 2, 2, 2, 2, 1, 2, 1, 2, 1, 2, 1, 2, 1, 2, 2, 2, 1, 2, 1, 2, 2], \"Freq\": [0.6102849669018563, 0.6102849669018563, 0.9093275267992814, 0.9093275267992814, 0.5943811293736476, 0.5943811293736476, 0.594481329923253, 0.594481329923253, 0.5792567468563501, 0.8661274739526692, 0.8744457488955849, 0.9093275267992814, 0.9093275267992814, 0.579257919007739, 0.4503766661720127, 0.4503766661720127, 0.6102852961620071, 0.8744457488955849, 0.8744457488955849, 0.5944026797506834, 0.5944026797506834, 0.9093275267992814, 0.5945452299417688, 0.5945452299417688, 0.9093275267992814, 0.9093275267992814, 0.5943809544012022, 0.5943809544012022, 0.7556114809962329, 0.251870493665411, 0.441425505171809, 0.441425505171809, 0.5943950829204052, 0.5943950829204052, 0.6102852961620071, 0.9093275267992814, 0.9093275267992814, 0.9093275267992814, 0.8744457488955849, 0.8744457488955849, 0.8744457488955849, 0.8744457488955849, 0.8661350385590103, 0.86582322397624, 0.14430387066270667, 0.5792567468563501, 1.0373773685822076, 0.8744457488955849, 0.6102671014526091, 0.4503357477188853, 0.4503357477188853, 0.5944487171760867, 0.5944487171760867, 0.9093275267992814, 0.9093275267992814, 0.5792606143400383, 0.8661362611091007, 0.5944358362790256, 0.5944358362790256, 0.6102804811316128, 0.4414403880900053, 0.4414403880900053, 0.579257919007739, 0.5792638749276422, 0.5792550007406485, 0.5944646648050298, 0.5944646648050298, 0.9093275267992814, 0.5944666830224961, 0.5944666830224961, 0.579253356644196, 0.579253356644196, 0.8661255836964977, 0.5792581224561261, 0.5792585350220921, 0.5792606143400383, 0.5792606143400383, 0.9093275267992814, 0.9093275267992814, 0.5792606143400383, 0.5792606143400383, 0.5478375568597846, 0.4793578622523116, 0.8661274739526692, 0.9093275267992814, 0.5327116904449098, 0.3551411269632732, 0.6102790542273395, 0.9093275267992814, 0.9093275267992814, 0.9093275267992814, 0.9093275267992814, 0.5094163303028627, 0.5094163303028627, 0.5944487171760862, 0.5944487171760862, 0.5944487171760864, 0.5944487171760864, 0.35661978552082174, 0.35661978552082174, 0.4502447245444444, 0.4502447245444444, 0.9185091616097142, 0.6102790542273395, 0.4413387187558954, 0.4413387187558954, 0.44119202031054117, 0.44119202031054117, 0.9185044244151225], \"Term\": [\"\\uac00\\uac8c\", \"\\uac00\\uac8c \\uc8fc\\ubb38\", \"\\uac19\\uc544\", \"\\uac19\\uc544 \\ud574\\uacb0\", \"\\uacbd\\ud5d8\", \"\\uacbd\\ud5d8\", \"\\uadf8\\ub7f0\\uc9c0\", \"\\uadf8\\ub7f0\\uc9c0\", \"\\uae30\\uc0ac\", \"\\ub2e4\\ub974\\uc9c0\", \"\\ub2e4\\ub974\\uc9c0 \\uc54a\\uc558\\uc73c\\ub098\", \"\\ub2e4\\ub978\", \"\\ub2e4\\ub978 \\uac00\\uac8c\", \"\\ub300\\ud55c\", \"\\ub300\\ud574\", \"\\ub300\\ud574\", \"\\ub300\\ud574 \\ubb38\\uc758\", \"\\ub3c4\\ub85c\\uba85\", \"\\ub3c4\\ub85c\\uba85 \\uc8fc\\uc18c\", \"\\ub418\\uc5b4\", \"\\ub418\\uc5b4\", \"\\ub418\\uc5c8\\ub2e4\", \"\\ub420\\uae4c\", \"\\ub420\\uae4c\", \"\\ub4dc\\ub838\\ub294\\ub370\", \"\\ub4dc\\ub838\\ub294\\ub370 \\uc694\\uae30\", \"\\ub4e4\\uc5c8\\ub2e4\", \"\\ub4e4\\uc5c8\\ub2e4\", \"\\ub85c\\ubd07\", \"\\ub85c\\ubd07\", \"\\ub85c\\ubd07 \\ubc30\\ub2ec\", \"\\ub85c\\ubd07 \\ubc30\\ub2ec\", \"\\ub9ac\\ube59\\ub7a9\", \"\\ub9ac\\ube59\\ub7a9\", \"\\ubb38\\uc758\", \"\\ubb38\\uc758 \\ub4dc\\ub838\\ub294\\ub370\", \"\\ubb38\\uc81c\", \"\\ubb38\\uc81c \\uac19\\uc544\", \"\\ubb38\\uc81c\\uc810\", \"\\ubb38\\uc81c\\uc810 \\uc788\\uc5c8\\ub2e4\", \"\\ubc1c\\uc0dd\", \"\\ubc1c\\uc0dd \\ud558\\uc5ec\", \"\\ubc29\\uc2dd\", \"\\ubc30\\ub2ec\", \"\\ubc30\\ub2ec\", \"\\ubc30\\ub2ec \\uae30\\uc0ac\", \"\\ubc30\\ub2ec \\uc8fc\\ubb38\", \"\\ubd10\\uc57c\", \"\\ubd80\\ubd84\", \"\\uc0ac\\uc6a9\", \"\\uc0ac\\uc6a9\", \"\\uc0ac\\uc6a9 \\ud558\\ub358\", \"\\uc0ac\\uc6a9 \\ud558\\ub358\", \"\\uc0ac\\ud56d\", \"\\uc0ac\\ud56d \\ub300\\ud574\", \"\\uc0dd\\uac01\", \"\\uc2dc\\uac04\", \"\\uc54a\\uc558\\ub2e4\", \"\\uc54a\\uc558\\ub2e4\", \"\\uc5b4\\ub5bb\\uac8c\", \"\\uc5b4\\ud50c\", \"\\uc5b4\\ud50c\", \"\\uc5c5\\uccb4\", \"\\uc5c6\\uc5b4\", \"\\uc624\\ub294\", \"\\uc694\\uae30\", \"\\uc694\\uae30\", \"\\uc694\\uae30 \\uc790\\uccb4\", \"\\uc774\\uc804\", \"\\uc774\\uc804\", \"\\uc77c\\ubc18\", \"\\uc77c\\ubc18 \\ubc30\\ub2ec\", \"\\uc788\\ub294\", \"\\uc788\\ub294\\uc9c0\", \"\\uc788\\uc5c8\\ub2e4\", \"\\uc788\\uc73c\\uba74\", \"\\uc788\\uc73c\\uba74 \\uc88b\\uaca0\\ub2e4\\ub294\", \"\\uc790\\uccb4\", \"\\uc790\\uccb4 \\ubb38\\uc81c\", \"\\uc88b\\uaca0\\ub2e4\\ub294\", \"\\uc88b\\uaca0\\ub2e4\\ub294 \\uc0dd\\uac01\", \"\\uc8fc\\ubb38\", \"\\uc8fc\\ubb38\", \"\\uc8fc\\ubb38 \\ub2e4\\ub974\\uc9c0\", \"\\uc8fc\\ubb38 \\ud558\\uac8c\", \"\\uc8fc\\uc18c\", \"\\uc8fc\\uc18c\", \"\\uc8fc\\uc18c \\ud615\\uc2dd\", \"\\ucc3e\\uc9c0\", \"\\ucc3e\\uc9c0 \\ub2e4\\ub978\", \"\\ud558\\uac8c\", \"\\ud558\\uac8c \\ub418\\uc5c8\\ub2e4\", \"\\ud558\\ub294\", \"\\ud558\\ub294\", \"\\ud558\\ub358\", \"\\ud558\\ub358\", \"\\ud558\\ub358 \\uc8fc\\ubb38\", \"\\ud558\\ub358 \\uc8fc\\ubb38\", \"\\ud558\\uc5ec\", \"\\ud558\\uc5ec\", \"\\ud558\\uc9c0\", \"\\ud558\\uc9c0\", \"\\ud574\\ub2f9\", \"\\ud588\\ub294\\ub370\", \"\\ud588\\ub2e4\", \"\\ud588\\ub2e4\", \"\\ud5f7\\uac08\\ub838\\ub2e4\", \"\\ud5f7\\uac08\\ub838\\ub2e4\", \"\\ud615\\uc2dd\"]}, \"R\": 30, \"lambda.step\": 0.01, \"plot.opts\": {\"xlab\": \"PC1\", \"ylab\": \"PC2\"}, \"topic.order\": [2, 1]};\n",
              "\n",
              "function LDAvis_load_lib(url, callback){\n",
              "  var s = document.createElement('script');\n",
              "  s.src = url;\n",
              "  s.async = true;\n",
              "  s.onreadystatechange = s.onload = callback;\n",
              "  s.onerror = function(){console.warn(\"failed to load library \" + url);};\n",
              "  document.getElementsByTagName(\"head\")[0].appendChild(s);\n",
              "}\n",
              "\n",
              "if(typeof(LDAvis) !== \"undefined\"){\n",
              "   // already loaded: just create the visualization\n",
              "   !function(LDAvis){\n",
              "       new LDAvis(\"#\" + \"ldavis_el1691406285649429289667043340\", ldavis_el1691406285649429289667043340_data);\n",
              "   }(LDAvis);\n",
              "}else if(typeof define === \"function\" && define.amd){\n",
              "   // require.js is available: use it to load d3/LDAvis\n",
              "   require.config({paths: {d3: \"https://d3js.org/d3.v5\"}});\n",
              "   require([\"d3\"], function(d3){\n",
              "      window.d3 = d3;\n",
              "      LDAvis_load_lib(\"https://cdn.jsdelivr.net/gh/bmabey/pyLDAvis@3.3.1/pyLDAvis/js/ldavis.v3.0.0.js\", function(){\n",
              "        new LDAvis(\"#\" + \"ldavis_el1691406285649429289667043340\", ldavis_el1691406285649429289667043340_data);\n",
              "      });\n",
              "    });\n",
              "}else{\n",
              "    // require.js not available: dynamically load d3 & LDAvis\n",
              "    LDAvis_load_lib(\"https://d3js.org/d3.v5.js\", function(){\n",
              "         LDAvis_load_lib(\"https://cdn.jsdelivr.net/gh/bmabey/pyLDAvis@3.3.1/pyLDAvis/js/ldavis.v3.0.0.js\", function(){\n",
              "                 new LDAvis(\"#\" + \"ldavis_el1691406285649429289667043340\", ldavis_el1691406285649429289667043340_data);\n",
              "            })\n",
              "         });\n",
              "}\n",
              "</script>"
            ]
          },
          "metadata": {},
          "execution_count": 452
        }
      ]
    },
    {
      "cell_type": "code",
      "source": [
        "# html로 저장\n",
        "pyLDAvis.save_html(vis, '1팀 물품주문 토픽모델링.html')"
      ],
      "metadata": {
        "id": "jefzY4xxXbWK"
      },
      "execution_count": null,
      "outputs": []
    },
    {
      "cell_type": "code",
      "source": [
        "# 문서별로, 가장 확률이 높은 topic으로 할당해줌\n",
        "\n",
        "doc_topic = lda.transform(feat_vect)\n",
        "\n",
        "doc_per_topic_list = []\n",
        "for n in range(doc_topic.shape[0]):\n",
        "    topic_most_pr = doc_topic[n].argmax()\n",
        "    topic_pr = doc_topic[n].max()\n",
        "    doc_per_topic_list.append([n, topic_most_pr, topic_pr])\n",
        "\n",
        "doc_topic_df = pd.DataFrame(doc_per_topic_list, columns=['Doc_Num', 'Topic', 'Percentage'])\n",
        "\n",
        "doc_topic_df.head()"
      ],
      "metadata": {
        "colab": {
          "base_uri": "https://localhost:8080/",
          "height": 206
        },
        "id": "ZQ-sHJEEZBOJ",
        "outputId": "4adcfb25-afc5-44c8-f248-2e75a2a28b06"
      },
      "execution_count": null,
      "outputs": [
        {
          "output_type": "execute_result",
          "data": {
            "text/plain": [
              "   Doc_Num  Topic  Percentage\n",
              "0        0      1    0.988262\n",
              "1        1      1    0.979693\n",
              "2        2      1    0.967115\n",
              "3        3      1    0.953326\n",
              "4        4      1    0.965897"
            ],
            "text/html": [
              "\n",
              "  <div id=\"df-30a58554-935f-49b2-be3b-740c825db7f1\">\n",
              "    <div class=\"colab-df-container\">\n",
              "      <div>\n",
              "<style scoped>\n",
              "    .dataframe tbody tr th:only-of-type {\n",
              "        vertical-align: middle;\n",
              "    }\n",
              "\n",
              "    .dataframe tbody tr th {\n",
              "        vertical-align: top;\n",
              "    }\n",
              "\n",
              "    .dataframe thead th {\n",
              "        text-align: right;\n",
              "    }\n",
              "</style>\n",
              "<table border=\"1\" class=\"dataframe\">\n",
              "  <thead>\n",
              "    <tr style=\"text-align: right;\">\n",
              "      <th></th>\n",
              "      <th>Doc_Num</th>\n",
              "      <th>Topic</th>\n",
              "      <th>Percentage</th>\n",
              "    </tr>\n",
              "  </thead>\n",
              "  <tbody>\n",
              "    <tr>\n",
              "      <th>0</th>\n",
              "      <td>0</td>\n",
              "      <td>1</td>\n",
              "      <td>0.988262</td>\n",
              "    </tr>\n",
              "    <tr>\n",
              "      <th>1</th>\n",
              "      <td>1</td>\n",
              "      <td>1</td>\n",
              "      <td>0.979693</td>\n",
              "    </tr>\n",
              "    <tr>\n",
              "      <th>2</th>\n",
              "      <td>2</td>\n",
              "      <td>1</td>\n",
              "      <td>0.967115</td>\n",
              "    </tr>\n",
              "    <tr>\n",
              "      <th>3</th>\n",
              "      <td>3</td>\n",
              "      <td>1</td>\n",
              "      <td>0.953326</td>\n",
              "    </tr>\n",
              "    <tr>\n",
              "      <th>4</th>\n",
              "      <td>4</td>\n",
              "      <td>1</td>\n",
              "      <td>0.965897</td>\n",
              "    </tr>\n",
              "  </tbody>\n",
              "</table>\n",
              "</div>\n",
              "      <button class=\"colab-df-convert\" onclick=\"convertToInteractive('df-30a58554-935f-49b2-be3b-740c825db7f1')\"\n",
              "              title=\"Convert this dataframe to an interactive table.\"\n",
              "              style=\"display:none;\">\n",
              "        \n",
              "  <svg xmlns=\"http://www.w3.org/2000/svg\" height=\"24px\"viewBox=\"0 0 24 24\"\n",
              "       width=\"24px\">\n",
              "    <path d=\"M0 0h24v24H0V0z\" fill=\"none\"/>\n",
              "    <path d=\"M18.56 5.44l.94 2.06.94-2.06 2.06-.94-2.06-.94-.94-2.06-.94 2.06-2.06.94zm-11 1L8.5 8.5l.94-2.06 2.06-.94-2.06-.94L8.5 2.5l-.94 2.06-2.06.94zm10 10l.94 2.06.94-2.06 2.06-.94-2.06-.94-.94-2.06-.94 2.06-2.06.94z\"/><path d=\"M17.41 7.96l-1.37-1.37c-.4-.4-.92-.59-1.43-.59-.52 0-1.04.2-1.43.59L10.3 9.45l-7.72 7.72c-.78.78-.78 2.05 0 2.83L4 21.41c.39.39.9.59 1.41.59.51 0 1.02-.2 1.41-.59l7.78-7.78 2.81-2.81c.8-.78.8-2.07 0-2.86zM5.41 20L4 18.59l7.72-7.72 1.47 1.35L5.41 20z\"/>\n",
              "  </svg>\n",
              "      </button>\n",
              "      \n",
              "  <style>\n",
              "    .colab-df-container {\n",
              "      display:flex;\n",
              "      flex-wrap:wrap;\n",
              "      gap: 12px;\n",
              "    }\n",
              "\n",
              "    .colab-df-convert {\n",
              "      background-color: #E8F0FE;\n",
              "      border: none;\n",
              "      border-radius: 50%;\n",
              "      cursor: pointer;\n",
              "      display: none;\n",
              "      fill: #1967D2;\n",
              "      height: 32px;\n",
              "      padding: 0 0 0 0;\n",
              "      width: 32px;\n",
              "    }\n",
              "\n",
              "    .colab-df-convert:hover {\n",
              "      background-color: #E2EBFA;\n",
              "      box-shadow: 0px 1px 2px rgba(60, 64, 67, 0.3), 0px 1px 3px 1px rgba(60, 64, 67, 0.15);\n",
              "      fill: #174EA6;\n",
              "    }\n",
              "\n",
              "    [theme=dark] .colab-df-convert {\n",
              "      background-color: #3B4455;\n",
              "      fill: #D2E3FC;\n",
              "    }\n",
              "\n",
              "    [theme=dark] .colab-df-convert:hover {\n",
              "      background-color: #434B5C;\n",
              "      box-shadow: 0px 1px 3px 1px rgba(0, 0, 0, 0.15);\n",
              "      filter: drop-shadow(0px 1px 2px rgba(0, 0, 0, 0.3));\n",
              "      fill: #FFFFFF;\n",
              "    }\n",
              "  </style>\n",
              "\n",
              "      <script>\n",
              "        const buttonEl =\n",
              "          document.querySelector('#df-30a58554-935f-49b2-be3b-740c825db7f1 button.colab-df-convert');\n",
              "        buttonEl.style.display =\n",
              "          google.colab.kernel.accessAllowed ? 'block' : 'none';\n",
              "\n",
              "        async function convertToInteractive(key) {\n",
              "          const element = document.querySelector('#df-30a58554-935f-49b2-be3b-740c825db7f1');\n",
              "          const dataTable =\n",
              "            await google.colab.kernel.invokeFunction('convertToInteractive',\n",
              "                                                     [key], {});\n",
              "          if (!dataTable) return;\n",
              "\n",
              "          const docLinkHtml = 'Like what you see? Visit the ' +\n",
              "            '<a target=\"_blank\" href=https://colab.research.google.com/notebooks/data_table.ipynb>data table notebook</a>'\n",
              "            + ' to learn more about interactive tables.';\n",
              "          element.innerHTML = '';\n",
              "          dataTable['output_type'] = 'display_data';\n",
              "          await google.colab.output.renderOutput(dataTable, element);\n",
              "          const docLink = document.createElement('div');\n",
              "          docLink.innerHTML = docLinkHtml;\n",
              "          element.appendChild(docLink);\n",
              "        }\n",
              "      </script>\n",
              "    </div>\n",
              "  </div>\n",
              "  "
            ]
          },
          "metadata": {},
          "execution_count": 454
        }
      ]
    },
    {
      "cell_type": "code",
      "source": [
        "doc_topic_df = doc_topic_df.join(df)\n",
        "doc_topic_df"
      ],
      "metadata": {
        "colab": {
          "base_uri": "https://localhost:8080/",
          "height": 1000
        },
        "id": "u4Qsdfs1ZpMR",
        "outputId": "a4ba1a76-cf9b-4047-b119-2c2dae42cddf"
      },
      "execution_count": null,
      "outputs": [
        {
          "output_type": "execute_result",
          "data": {
            "text/plain": [
              "    Doc_Num  Topic  Percentage  index  \\\n",
              "0         0      1    0.988262    0.0   \n",
              "1         1      1    0.979693    1.0   \n",
              "2         2      1    0.967115   41.0   \n",
              "3         3      1    0.953326   42.0   \n",
              "4         4      1    0.965897   43.0   \n",
              "5         5      0    0.982314   48.0   \n",
              "6         6      1    0.978078   49.0   \n",
              "7         7      1    0.972788   50.0   \n",
              "8         8      1    0.970078   57.0   \n",
              "9         9      1    0.982031   58.0   \n",
              "10       10      0    0.982083   65.0   \n",
              "11       11      0    0.983505   66.0   \n",
              "12       12      0    0.966307   67.0   \n",
              "13       13      0    0.983137   69.0   \n",
              "14       14      0    0.976336   72.0   \n",
              "15       15      0    0.978938   78.0   \n",
              "16       16      1    0.971298   79.0   \n",
              "17       17      1    0.980285   80.0   \n",
              "18       18      1    0.983196   96.0   \n",
              "19       19      0    0.966394   97.0   \n",
              "20       20      1    0.978241   98.0   \n",
              "21       21      1    0.954423   99.0   \n",
              "22       22      0    0.975132  100.0   \n",
              "23       23      0    0.954439  103.0   \n",
              "24       24      0    0.946476  104.0   \n",
              "25       25      0    0.961353  109.0   \n",
              "\n",
              "                                                 물품주문  Unnamed: 3  \\\n",
              "0   주문은 일반 배달 앱 주문과 다르지 않았으나 주소를 입력하는 것에서 오류 ex 도로...        -1.0   \n",
              "1   그리고 배달 상점 리스트에 적혀 있는 업체들이 “리빙랩＂에 대한 인지가 있는 지도 ...        -1.0   \n",
              "2          어떤 방식으로 배달 주문이 되는지에 대해 첫 주문이라 그런지 아직은 헷갈렸다        -1.0   \n",
              "3                         내가 특정 장소로 가야 하는 것도 익숙지가 않았다        -1.0   \n",
              "4             또한 주문을 10개 이상할 수 없어 단체 주문을 하기는 힘들 것 같다​        -1.0   \n",
              "5   저번에는 어플 오류로 인해 로봇 배달을 경험하지 못했지만 오늘은 될 거라는 기대를 ...        -1.0   \n",
              "6   하지만 업체와 배달기사가 로봇 배달에 대한 내용을 숙지하고 있는지 알 수가 없어 불안했다        -1.0   \n",
              "7       가능하다면 어플 안에서 로봇 배달 주문 버튼이 따로 있으면 좋겠다는 생각을 했다​         1.0   \n",
              "8           요기요 어플을 카카오 연동으로 가입해두어서 편리하게 로그인을 할 수 있었다         1.0   \n",
              "9   주소에 리비아 랩을 꼭 적어야 해서 귀찮은 것은 아니지만 추후에는 직접 적지 않고도...         1.0   \n",
              "10  주소지를 리빙랩 형식으로 작성하여 주문을 하려고 보니 해당 가게에서 주문을 할 수 ...        -1.0   \n",
              "11  해당 사항에 대해 문의를 드렸는데 요기요 앱 자체의 문제인 것 같아 해결점을 찾지 ...        -1.0   \n",
              "12                     빠르게 주문을 하려 했는데 자꾸 주소 형식이 이상했다​        -1.0   \n",
              "13  분명 주소를 잘 기입했는데 첫 주문 때와 같은 주소 형식으로 자동으로 변환되어 해당...        -1.0   \n",
              "14       주문은 우리가 평소에 사용하던 주문 앱을 사용하여 했기 때문에 친숙하게 느껴졌다         1.0   \n",
              "15  이전에 잘못되었던 기억이 있어서 그런지 이번에도 어떻게 오게 될까 하는 걱정이 먼저...        -1.0   \n",
              "16          주문 방식은 이전에 사용하던 주문 앱과 다르지 않아서 전혀 어려움이 없었다         1.0   \n",
              "17  다만 지난번 경험에 의하면 로봇 배송이 잘 설정되어 있는지 확인할 수 있으면 좋겠다...         1.0   \n",
              "18  주문 과정은 일반 배달 주문과 다르지 않아 불편함이 없었으나 알림이 오는 것인지 배...        -1.0   \n",
              "19               점심시간에 주문하고 싶었으나 로봇 개수가 부족하여 주문하지 못했다        -1.0   \n",
              "20   저녁 시간에 주문을 했고 배달 냥이 증가하여 배달 시간이 늦어지는 점을 고려하지 못했다        -1.0   \n",
              "21                            로봇 운영 시간이 종료될까 봐 조마조마했다        -1.0   \n",
              "22     앱으로 주문하는 방법은 동일하여 어렵지 않았으나 이후 과정이 어떻게 되는지 궁금했다        -1.0   \n",
              "23                      할리스에서 커피를 주문 하기까지는 오래 걸리지 않았다         1.0   \n",
              "24                             다만 주소를 적어야 하는 부분이 헷갈렸다        -1.0   \n",
              "25                        한번 입력해놓으면 저장이 되니 수정할 일이 없었다         1.0   \n",
              "\n",
              "                                               tokens  \\\n",
              "0   [주문/NNG 은/JX 일반/NNG 배달/NNG 앱/NNG 주문/NNG 과/JC 다...   \n",
              "1   [그리고/MAJ 배달/NNG 상점/NNG 리스트/NNG 에/JKB 적히/VV 어/E...   \n",
              "2   [어떤/MM 방식/NNG 으로/JKB 배달/NNG 주문/NNG 이/JKS 되/VV ...   \n",
              "3   [내/NP 가/JKS 특정/NNG 장소/NNG 로/JKB 가/VV 아야/EC 하/V...   \n",
              "4   [또한/MAG 주문/NNG 을/JKO 10/SN 개/NNB 이상/NNG 하/XSV ...   \n",
              "5   [저번/NNG 에/JKB 는/JX 어프/NNP ㄹ/JKO 오류로/NNP 인하/VV ...   \n",
              "6   [하지만/MAJ 업체/NNG 와/JC 배달/NNG 기사/NNG 가/JKS 로봇/NN...   \n",
              "7   [가능/NNG 하/XSV 다면/EC 어프/NNP ㄹ/JKO 안/NNG 에서/JKB ...   \n",
              "8   [요기/NP 요/JX 어프/NNP ㄹ/JX 을/JKO 카카오/NNP 연동/NNG 으...   \n",
              "9   [주소/NNG 에/JKB 리비아/NNP 랩/NNG 을/JKO 꼭/MAG 작/VA 어...   \n",
              "10  [주소지/NNG 를/JKO 리빙/NNG 랩/NNG 형식/NNG 으로/JKB 작성/N...   \n",
              "11  [해당/NNG 사항/NNG 에/JKB 대하/VV 아/EC 문의/NNG 를/JKO 드...   \n",
              "12  [빠르/VA 게/EC 주문/NNG 을/JKO 하/VV 려/EC 하/VV 았/EP 는...   \n",
              "13  [분명/MAG 주소/NNG 를/JKO 잘/MAG 기입/NNG 하/XSV 았/EP 는...   \n",
              "14  [주문/NNG 은/JX 우리/NP 가/JKS 평소/NNG 에/JKB 사용/NNG 하...   \n",
              "15  [이전/NNG 에/JKB 잘못/NNG 되/XSV 었/EP 던/ETM 기억/NNG 이...   \n",
              "16  [주문/NNG 방식/NNG 은/JX 이전/NNG 에/JKB 사용/NNG 하/XSV ...   \n",
              "17  [다만/MAG 지난번/NNG 경험/NNG 에/JKB 의하/VV 면/EC 로봇/NNG...   \n",
              "18  [주문/NNG 과정/NNG 은/JX 일반/NNG 배달/NNG 주문/NNG 과/JC ...   \n",
              "19  [점심시간/NNG 에/JKB 주문/NNG 하/XSV 고/EC 싶/VX 었/EP 으나...   \n",
              "20  [저녁/NNG 시간/NNG 에/JKB 주문/NNG 을/JKO 하/VV 았/EP 고/...   \n",
              "21  [로봇/NNG 운영/NNG 시간/NNG 이/JKS 종료/NNG 되/XSV ㄹ까/EC...   \n",
              "22  [앱/NNG 으로/JKB 주문/NNG 하/XSV 는/ETM 방법/NNG 은/JX 동...   \n",
              "23  [하/VV ㄹ/ETM 리스/NNP 에서/JKB 커피/NNG 를/JKO 주문/NNG ...   \n",
              "24  [다만/MAG 주소/NNG 를/JKO 작/VA 어야/EC 하/VV 는/ETM 부분/...   \n",
              "25  [한번/MAG 입력/NNG 하/XSV 아/EC 놓/VX 으면/EC 저장/NNG 이/...   \n",
              "\n",
              "                                      specific_tokens  \n",
              "0   [주문, 일반, 배달, 앱, 주문, 다르, 주소, 입력, 오류, 도로명, 주소, 지...  \n",
              "1                [배달, 상점, 리스트, 업체, 리빙, 랩, 인지, 지도, 의문]  \n",
              "2                                [방식, 배달, 주문, 주문, 그렇]  \n",
              "3                                        [특정, 장소, 익숙]  \n",
              "4                          [주문, 이상, 없, 단체, 주문, 힘들, 같]  \n",
              "5   [저번, 어프, 오류로, 로봇, 배달, 경험, 오늘, 기대, 주문, 뒤, 사무실, ...  \n",
              "6                 [업체, 배달, 기사, 로봇, 배달, 내용, 숙지, 없, 불안]  \n",
              "7                  [가능, 어프, 안, 로봇, 배달, 주문, 버튼, 좋, 생각]  \n",
              "8                          [어프, 카카오, 연동, 가입, 편리, 로그인]  \n",
              "9               [주소, 리비아, 랩, 작, 귀찮, 추후, 적, 주문, 방식, 좋]  \n",
              "10        [주소지, 리빙, 랩, 형식, 작성, 주문, 해당, 가게, 주문, 없, 당황]  \n",
              "11            [해당, 사항, 문의, 앱, 자체, 문제, 같, 해결점, 가게, 주문]  \n",
              "12                               [빠르, 주문, 주소, 형식, 이상]  \n",
              "13     [주소, 기입, 주문, 때, 같, 주소, 형식, 자동, 변환, 해당, 부분, 문의]  \n",
              "14                        [주문, 평소, 사용, 주문, 앱, 사용, 친숙]  \n",
              "15                           [이전, 잘못, 기억, 그렇, 이번, 걱정]  \n",
              "16                [주문, 방식, 이전, 사용, 주문, 앱, 다르, 어려움, 없]  \n",
              "17                   [지난번, 경험, 로봇, 배송, 설정, 확인, 좋, 생각]  \n",
              "18        [주문, 과정, 일반, 배달, 주문, 다르, 불편, 없, 배달, 기사, 전화]  \n",
              "19                         [점심시간, 주문, 로봇, 개수, 부족, 주문]  \n",
              "20                [저녁, 시간, 주문, 배달, 증가, 배달, 시간, 점, 고려]  \n",
              "21                                   [로봇, 운영, 시간, 종료]  \n",
              "22                    [앱, 주문, 방법, 동일, 어렵, 이후, 과정, 궁금]  \n",
              "23                                       [리스, 커피, 주문]  \n",
              "24                                        [주소, 작, 부분]  \n",
              "25                                 [입력, 저장, 수정, 일, 없]  "
            ],
            "text/html": [
              "\n",
              "  <div id=\"df-cf777920-c275-491d-a0b2-8f7af7125f8e\">\n",
              "    <div class=\"colab-df-container\">\n",
              "      <div>\n",
              "<style scoped>\n",
              "    .dataframe tbody tr th:only-of-type {\n",
              "        vertical-align: middle;\n",
              "    }\n",
              "\n",
              "    .dataframe tbody tr th {\n",
              "        vertical-align: top;\n",
              "    }\n",
              "\n",
              "    .dataframe thead th {\n",
              "        text-align: right;\n",
              "    }\n",
              "</style>\n",
              "<table border=\"1\" class=\"dataframe\">\n",
              "  <thead>\n",
              "    <tr style=\"text-align: right;\">\n",
              "      <th></th>\n",
              "      <th>Doc_Num</th>\n",
              "      <th>Topic</th>\n",
              "      <th>Percentage</th>\n",
              "      <th>index</th>\n",
              "      <th>물품주문</th>\n",
              "      <th>Unnamed: 3</th>\n",
              "      <th>tokens</th>\n",
              "      <th>specific_tokens</th>\n",
              "    </tr>\n",
              "  </thead>\n",
              "  <tbody>\n",
              "    <tr>\n",
              "      <th>0</th>\n",
              "      <td>0</td>\n",
              "      <td>1</td>\n",
              "      <td>0.988262</td>\n",
              "      <td>0.0</td>\n",
              "      <td>주문은 일반 배달 앱 주문과 다르지 않았으나 주소를 입력하는 것에서 오류 ex 도로...</td>\n",
              "      <td>-1.0</td>\n",
              "      <td>[주문/NNG 은/JX 일반/NNG 배달/NNG 앱/NNG 주문/NNG 과/JC 다...</td>\n",
              "      <td>[주문, 일반, 배달, 앱, 주문, 다르, 주소, 입력, 오류, 도로명, 주소, 지...</td>\n",
              "    </tr>\n",
              "    <tr>\n",
              "      <th>1</th>\n",
              "      <td>1</td>\n",
              "      <td>1</td>\n",
              "      <td>0.979693</td>\n",
              "      <td>1.0</td>\n",
              "      <td>그리고 배달 상점 리스트에 적혀 있는 업체들이 “리빙랩＂에 대한 인지가 있는 지도 ...</td>\n",
              "      <td>-1.0</td>\n",
              "      <td>[그리고/MAJ 배달/NNG 상점/NNG 리스트/NNG 에/JKB 적히/VV 어/E...</td>\n",
              "      <td>[배달, 상점, 리스트, 업체, 리빙, 랩, 인지, 지도, 의문]</td>\n",
              "    </tr>\n",
              "    <tr>\n",
              "      <th>2</th>\n",
              "      <td>2</td>\n",
              "      <td>1</td>\n",
              "      <td>0.967115</td>\n",
              "      <td>41.0</td>\n",
              "      <td>어떤 방식으로 배달 주문이 되는지에 대해 첫 주문이라 그런지 아직은 헷갈렸다</td>\n",
              "      <td>-1.0</td>\n",
              "      <td>[어떤/MM 방식/NNG 으로/JKB 배달/NNG 주문/NNG 이/JKS 되/VV ...</td>\n",
              "      <td>[방식, 배달, 주문, 주문, 그렇]</td>\n",
              "    </tr>\n",
              "    <tr>\n",
              "      <th>3</th>\n",
              "      <td>3</td>\n",
              "      <td>1</td>\n",
              "      <td>0.953326</td>\n",
              "      <td>42.0</td>\n",
              "      <td>내가 특정 장소로 가야 하는 것도 익숙지가 않았다</td>\n",
              "      <td>-1.0</td>\n",
              "      <td>[내/NP 가/JKS 특정/NNG 장소/NNG 로/JKB 가/VV 아야/EC 하/V...</td>\n",
              "      <td>[특정, 장소, 익숙]</td>\n",
              "    </tr>\n",
              "    <tr>\n",
              "      <th>4</th>\n",
              "      <td>4</td>\n",
              "      <td>1</td>\n",
              "      <td>0.965897</td>\n",
              "      <td>43.0</td>\n",
              "      <td>또한 주문을 10개 이상할 수 없어 단체 주문을 하기는 힘들 것 같다​</td>\n",
              "      <td>-1.0</td>\n",
              "      <td>[또한/MAG 주문/NNG 을/JKO 10/SN 개/NNB 이상/NNG 하/XSV ...</td>\n",
              "      <td>[주문, 이상, 없, 단체, 주문, 힘들, 같]</td>\n",
              "    </tr>\n",
              "    <tr>\n",
              "      <th>5</th>\n",
              "      <td>5</td>\n",
              "      <td>0</td>\n",
              "      <td>0.982314</td>\n",
              "      <td>48.0</td>\n",
              "      <td>저번에는 어플 오류로 인해 로봇 배달을 경험하지 못했지만 오늘은 될 거라는 기대를 ...</td>\n",
              "      <td>-1.0</td>\n",
              "      <td>[저번/NNG 에/JKB 는/JX 어프/NNP ㄹ/JKO 오류로/NNP 인하/VV ...</td>\n",
              "      <td>[저번, 어프, 오류로, 로봇, 배달, 경험, 오늘, 기대, 주문, 뒤, 사무실, ...</td>\n",
              "    </tr>\n",
              "    <tr>\n",
              "      <th>6</th>\n",
              "      <td>6</td>\n",
              "      <td>1</td>\n",
              "      <td>0.978078</td>\n",
              "      <td>49.0</td>\n",
              "      <td>하지만 업체와 배달기사가 로봇 배달에 대한 내용을 숙지하고 있는지 알 수가 없어 불안했다</td>\n",
              "      <td>-1.0</td>\n",
              "      <td>[하지만/MAJ 업체/NNG 와/JC 배달/NNG 기사/NNG 가/JKS 로봇/NN...</td>\n",
              "      <td>[업체, 배달, 기사, 로봇, 배달, 내용, 숙지, 없, 불안]</td>\n",
              "    </tr>\n",
              "    <tr>\n",
              "      <th>7</th>\n",
              "      <td>7</td>\n",
              "      <td>1</td>\n",
              "      <td>0.972788</td>\n",
              "      <td>50.0</td>\n",
              "      <td>가능하다면 어플 안에서 로봇 배달 주문 버튼이 따로 있으면 좋겠다는 생각을 했다​</td>\n",
              "      <td>1.0</td>\n",
              "      <td>[가능/NNG 하/XSV 다면/EC 어프/NNP ㄹ/JKO 안/NNG 에서/JKB ...</td>\n",
              "      <td>[가능, 어프, 안, 로봇, 배달, 주문, 버튼, 좋, 생각]</td>\n",
              "    </tr>\n",
              "    <tr>\n",
              "      <th>8</th>\n",
              "      <td>8</td>\n",
              "      <td>1</td>\n",
              "      <td>0.970078</td>\n",
              "      <td>57.0</td>\n",
              "      <td>요기요 어플을 카카오 연동으로 가입해두어서 편리하게 로그인을 할 수 있었다</td>\n",
              "      <td>1.0</td>\n",
              "      <td>[요기/NP 요/JX 어프/NNP ㄹ/JX 을/JKO 카카오/NNP 연동/NNG 으...</td>\n",
              "      <td>[어프, 카카오, 연동, 가입, 편리, 로그인]</td>\n",
              "    </tr>\n",
              "    <tr>\n",
              "      <th>9</th>\n",
              "      <td>9</td>\n",
              "      <td>1</td>\n",
              "      <td>0.982031</td>\n",
              "      <td>58.0</td>\n",
              "      <td>주소에 리비아 랩을 꼭 적어야 해서 귀찮은 것은 아니지만 추후에는 직접 적지 않고도...</td>\n",
              "      <td>1.0</td>\n",
              "      <td>[주소/NNG 에/JKB 리비아/NNP 랩/NNG 을/JKO 꼭/MAG 작/VA 어...</td>\n",
              "      <td>[주소, 리비아, 랩, 작, 귀찮, 추후, 적, 주문, 방식, 좋]</td>\n",
              "    </tr>\n",
              "    <tr>\n",
              "      <th>10</th>\n",
              "      <td>10</td>\n",
              "      <td>0</td>\n",
              "      <td>0.982083</td>\n",
              "      <td>65.0</td>\n",
              "      <td>주소지를 리빙랩 형식으로 작성하여 주문을 하려고 보니 해당 가게에서 주문을 할 수 ...</td>\n",
              "      <td>-1.0</td>\n",
              "      <td>[주소지/NNG 를/JKO 리빙/NNG 랩/NNG 형식/NNG 으로/JKB 작성/N...</td>\n",
              "      <td>[주소지, 리빙, 랩, 형식, 작성, 주문, 해당, 가게, 주문, 없, 당황]</td>\n",
              "    </tr>\n",
              "    <tr>\n",
              "      <th>11</th>\n",
              "      <td>11</td>\n",
              "      <td>0</td>\n",
              "      <td>0.983505</td>\n",
              "      <td>66.0</td>\n",
              "      <td>해당 사항에 대해 문의를 드렸는데 요기요 앱 자체의 문제인 것 같아 해결점을 찾지 ...</td>\n",
              "      <td>-1.0</td>\n",
              "      <td>[해당/NNG 사항/NNG 에/JKB 대하/VV 아/EC 문의/NNG 를/JKO 드...</td>\n",
              "      <td>[해당, 사항, 문의, 앱, 자체, 문제, 같, 해결점, 가게, 주문]</td>\n",
              "    </tr>\n",
              "    <tr>\n",
              "      <th>12</th>\n",
              "      <td>12</td>\n",
              "      <td>0</td>\n",
              "      <td>0.966307</td>\n",
              "      <td>67.0</td>\n",
              "      <td>빠르게 주문을 하려 했는데 자꾸 주소 형식이 이상했다​</td>\n",
              "      <td>-1.0</td>\n",
              "      <td>[빠르/VA 게/EC 주문/NNG 을/JKO 하/VV 려/EC 하/VV 았/EP 는...</td>\n",
              "      <td>[빠르, 주문, 주소, 형식, 이상]</td>\n",
              "    </tr>\n",
              "    <tr>\n",
              "      <th>13</th>\n",
              "      <td>13</td>\n",
              "      <td>0</td>\n",
              "      <td>0.983137</td>\n",
              "      <td>69.0</td>\n",
              "      <td>분명 주소를 잘 기입했는데 첫 주문 때와 같은 주소 형식으로 자동으로 변환되어 해당...</td>\n",
              "      <td>-1.0</td>\n",
              "      <td>[분명/MAG 주소/NNG 를/JKO 잘/MAG 기입/NNG 하/XSV 았/EP 는...</td>\n",
              "      <td>[주소, 기입, 주문, 때, 같, 주소, 형식, 자동, 변환, 해당, 부분, 문의]</td>\n",
              "    </tr>\n",
              "    <tr>\n",
              "      <th>14</th>\n",
              "      <td>14</td>\n",
              "      <td>0</td>\n",
              "      <td>0.976336</td>\n",
              "      <td>72.0</td>\n",
              "      <td>주문은 우리가 평소에 사용하던 주문 앱을 사용하여 했기 때문에 친숙하게 느껴졌다</td>\n",
              "      <td>1.0</td>\n",
              "      <td>[주문/NNG 은/JX 우리/NP 가/JKS 평소/NNG 에/JKB 사용/NNG 하...</td>\n",
              "      <td>[주문, 평소, 사용, 주문, 앱, 사용, 친숙]</td>\n",
              "    </tr>\n",
              "    <tr>\n",
              "      <th>15</th>\n",
              "      <td>15</td>\n",
              "      <td>0</td>\n",
              "      <td>0.978938</td>\n",
              "      <td>78.0</td>\n",
              "      <td>이전에 잘못되었던 기억이 있어서 그런지 이번에도 어떻게 오게 될까 하는 걱정이 먼저...</td>\n",
              "      <td>-1.0</td>\n",
              "      <td>[이전/NNG 에/JKB 잘못/NNG 되/XSV 었/EP 던/ETM 기억/NNG 이...</td>\n",
              "      <td>[이전, 잘못, 기억, 그렇, 이번, 걱정]</td>\n",
              "    </tr>\n",
              "    <tr>\n",
              "      <th>16</th>\n",
              "      <td>16</td>\n",
              "      <td>1</td>\n",
              "      <td>0.971298</td>\n",
              "      <td>79.0</td>\n",
              "      <td>주문 방식은 이전에 사용하던 주문 앱과 다르지 않아서 전혀 어려움이 없었다</td>\n",
              "      <td>1.0</td>\n",
              "      <td>[주문/NNG 방식/NNG 은/JX 이전/NNG 에/JKB 사용/NNG 하/XSV ...</td>\n",
              "      <td>[주문, 방식, 이전, 사용, 주문, 앱, 다르, 어려움, 없]</td>\n",
              "    </tr>\n",
              "    <tr>\n",
              "      <th>17</th>\n",
              "      <td>17</td>\n",
              "      <td>1</td>\n",
              "      <td>0.980285</td>\n",
              "      <td>80.0</td>\n",
              "      <td>다만 지난번 경험에 의하면 로봇 배송이 잘 설정되어 있는지 확인할 수 있으면 좋겠다...</td>\n",
              "      <td>1.0</td>\n",
              "      <td>[다만/MAG 지난번/NNG 경험/NNG 에/JKB 의하/VV 면/EC 로봇/NNG...</td>\n",
              "      <td>[지난번, 경험, 로봇, 배송, 설정, 확인, 좋, 생각]</td>\n",
              "    </tr>\n",
              "    <tr>\n",
              "      <th>18</th>\n",
              "      <td>18</td>\n",
              "      <td>1</td>\n",
              "      <td>0.983196</td>\n",
              "      <td>96.0</td>\n",
              "      <td>주문 과정은 일반 배달 주문과 다르지 않아 불편함이 없었으나 알림이 오는 것인지 배...</td>\n",
              "      <td>-1.0</td>\n",
              "      <td>[주문/NNG 과정/NNG 은/JX 일반/NNG 배달/NNG 주문/NNG 과/JC ...</td>\n",
              "      <td>[주문, 과정, 일반, 배달, 주문, 다르, 불편, 없, 배달, 기사, 전화]</td>\n",
              "    </tr>\n",
              "    <tr>\n",
              "      <th>19</th>\n",
              "      <td>19</td>\n",
              "      <td>0</td>\n",
              "      <td>0.966394</td>\n",
              "      <td>97.0</td>\n",
              "      <td>점심시간에 주문하고 싶었으나 로봇 개수가 부족하여 주문하지 못했다</td>\n",
              "      <td>-1.0</td>\n",
              "      <td>[점심시간/NNG 에/JKB 주문/NNG 하/XSV 고/EC 싶/VX 었/EP 으나...</td>\n",
              "      <td>[점심시간, 주문, 로봇, 개수, 부족, 주문]</td>\n",
              "    </tr>\n",
              "    <tr>\n",
              "      <th>20</th>\n",
              "      <td>20</td>\n",
              "      <td>1</td>\n",
              "      <td>0.978241</td>\n",
              "      <td>98.0</td>\n",
              "      <td>저녁 시간에 주문을 했고 배달 냥이 증가하여 배달 시간이 늦어지는 점을 고려하지 못했다</td>\n",
              "      <td>-1.0</td>\n",
              "      <td>[저녁/NNG 시간/NNG 에/JKB 주문/NNG 을/JKO 하/VV 았/EP 고/...</td>\n",
              "      <td>[저녁, 시간, 주문, 배달, 증가, 배달, 시간, 점, 고려]</td>\n",
              "    </tr>\n",
              "    <tr>\n",
              "      <th>21</th>\n",
              "      <td>21</td>\n",
              "      <td>1</td>\n",
              "      <td>0.954423</td>\n",
              "      <td>99.0</td>\n",
              "      <td>로봇 운영 시간이 종료될까 봐 조마조마했다</td>\n",
              "      <td>-1.0</td>\n",
              "      <td>[로봇/NNG 운영/NNG 시간/NNG 이/JKS 종료/NNG 되/XSV ㄹ까/EC...</td>\n",
              "      <td>[로봇, 운영, 시간, 종료]</td>\n",
              "    </tr>\n",
              "    <tr>\n",
              "      <th>22</th>\n",
              "      <td>22</td>\n",
              "      <td>0</td>\n",
              "      <td>0.975132</td>\n",
              "      <td>100.0</td>\n",
              "      <td>앱으로 주문하는 방법은 동일하여 어렵지 않았으나 이후 과정이 어떻게 되는지 궁금했다</td>\n",
              "      <td>-1.0</td>\n",
              "      <td>[앱/NNG 으로/JKB 주문/NNG 하/XSV 는/ETM 방법/NNG 은/JX 동...</td>\n",
              "      <td>[앱, 주문, 방법, 동일, 어렵, 이후, 과정, 궁금]</td>\n",
              "    </tr>\n",
              "    <tr>\n",
              "      <th>23</th>\n",
              "      <td>23</td>\n",
              "      <td>0</td>\n",
              "      <td>0.954439</td>\n",
              "      <td>103.0</td>\n",
              "      <td>할리스에서 커피를 주문 하기까지는 오래 걸리지 않았다</td>\n",
              "      <td>1.0</td>\n",
              "      <td>[하/VV ㄹ/ETM 리스/NNP 에서/JKB 커피/NNG 를/JKO 주문/NNG ...</td>\n",
              "      <td>[리스, 커피, 주문]</td>\n",
              "    </tr>\n",
              "    <tr>\n",
              "      <th>24</th>\n",
              "      <td>24</td>\n",
              "      <td>0</td>\n",
              "      <td>0.946476</td>\n",
              "      <td>104.0</td>\n",
              "      <td>다만 주소를 적어야 하는 부분이 헷갈렸다</td>\n",
              "      <td>-1.0</td>\n",
              "      <td>[다만/MAG 주소/NNG 를/JKO 작/VA 어야/EC 하/VV 는/ETM 부분/...</td>\n",
              "      <td>[주소, 작, 부분]</td>\n",
              "    </tr>\n",
              "    <tr>\n",
              "      <th>25</th>\n",
              "      <td>25</td>\n",
              "      <td>0</td>\n",
              "      <td>0.961353</td>\n",
              "      <td>109.0</td>\n",
              "      <td>한번 입력해놓으면 저장이 되니 수정할 일이 없었다</td>\n",
              "      <td>1.0</td>\n",
              "      <td>[한번/MAG 입력/NNG 하/XSV 아/EC 놓/VX 으면/EC 저장/NNG 이/...</td>\n",
              "      <td>[입력, 저장, 수정, 일, 없]</td>\n",
              "    </tr>\n",
              "  </tbody>\n",
              "</table>\n",
              "</div>\n",
              "      <button class=\"colab-df-convert\" onclick=\"convertToInteractive('df-cf777920-c275-491d-a0b2-8f7af7125f8e')\"\n",
              "              title=\"Convert this dataframe to an interactive table.\"\n",
              "              style=\"display:none;\">\n",
              "        \n",
              "  <svg xmlns=\"http://www.w3.org/2000/svg\" height=\"24px\"viewBox=\"0 0 24 24\"\n",
              "       width=\"24px\">\n",
              "    <path d=\"M0 0h24v24H0V0z\" fill=\"none\"/>\n",
              "    <path d=\"M18.56 5.44l.94 2.06.94-2.06 2.06-.94-2.06-.94-.94-2.06-.94 2.06-2.06.94zm-11 1L8.5 8.5l.94-2.06 2.06-.94-2.06-.94L8.5 2.5l-.94 2.06-2.06.94zm10 10l.94 2.06.94-2.06 2.06-.94-2.06-.94-.94-2.06-.94 2.06-2.06.94z\"/><path d=\"M17.41 7.96l-1.37-1.37c-.4-.4-.92-.59-1.43-.59-.52 0-1.04.2-1.43.59L10.3 9.45l-7.72 7.72c-.78.78-.78 2.05 0 2.83L4 21.41c.39.39.9.59 1.41.59.51 0 1.02-.2 1.41-.59l7.78-7.78 2.81-2.81c.8-.78.8-2.07 0-2.86zM5.41 20L4 18.59l7.72-7.72 1.47 1.35L5.41 20z\"/>\n",
              "  </svg>\n",
              "      </button>\n",
              "      \n",
              "  <style>\n",
              "    .colab-df-container {\n",
              "      display:flex;\n",
              "      flex-wrap:wrap;\n",
              "      gap: 12px;\n",
              "    }\n",
              "\n",
              "    .colab-df-convert {\n",
              "      background-color: #E8F0FE;\n",
              "      border: none;\n",
              "      border-radius: 50%;\n",
              "      cursor: pointer;\n",
              "      display: none;\n",
              "      fill: #1967D2;\n",
              "      height: 32px;\n",
              "      padding: 0 0 0 0;\n",
              "      width: 32px;\n",
              "    }\n",
              "\n",
              "    .colab-df-convert:hover {\n",
              "      background-color: #E2EBFA;\n",
              "      box-shadow: 0px 1px 2px rgba(60, 64, 67, 0.3), 0px 1px 3px 1px rgba(60, 64, 67, 0.15);\n",
              "      fill: #174EA6;\n",
              "    }\n",
              "\n",
              "    [theme=dark] .colab-df-convert {\n",
              "      background-color: #3B4455;\n",
              "      fill: #D2E3FC;\n",
              "    }\n",
              "\n",
              "    [theme=dark] .colab-df-convert:hover {\n",
              "      background-color: #434B5C;\n",
              "      box-shadow: 0px 1px 3px 1px rgba(0, 0, 0, 0.15);\n",
              "      filter: drop-shadow(0px 1px 2px rgba(0, 0, 0, 0.3));\n",
              "      fill: #FFFFFF;\n",
              "    }\n",
              "  </style>\n",
              "\n",
              "      <script>\n",
              "        const buttonEl =\n",
              "          document.querySelector('#df-cf777920-c275-491d-a0b2-8f7af7125f8e button.colab-df-convert');\n",
              "        buttonEl.style.display =\n",
              "          google.colab.kernel.accessAllowed ? 'block' : 'none';\n",
              "\n",
              "        async function convertToInteractive(key) {\n",
              "          const element = document.querySelector('#df-cf777920-c275-491d-a0b2-8f7af7125f8e');\n",
              "          const dataTable =\n",
              "            await google.colab.kernel.invokeFunction('convertToInteractive',\n",
              "                                                     [key], {});\n",
              "          if (!dataTable) return;\n",
              "\n",
              "          const docLinkHtml = 'Like what you see? Visit the ' +\n",
              "            '<a target=\"_blank\" href=https://colab.research.google.com/notebooks/data_table.ipynb>data table notebook</a>'\n",
              "            + ' to learn more about interactive tables.';\n",
              "          element.innerHTML = '';\n",
              "          dataTable['output_type'] = 'display_data';\n",
              "          await google.colab.output.renderOutput(dataTable, element);\n",
              "          const docLink = document.createElement('div');\n",
              "          docLink.innerHTML = docLinkHtml;\n",
              "          element.appendChild(docLink);\n",
              "        }\n",
              "      </script>\n",
              "    </div>\n",
              "  </div>\n",
              "  "
            ]
          },
          "metadata": {},
          "execution_count": 455
        }
      ]
    },
    {
      "cell_type": "code",
      "source": [
        "# ⁣2. 토픽별 문서 수 계산\n",
        "doc_topic_df.groupby('Topic')[['Doc_Num']].count()"
      ],
      "metadata": {
        "colab": {
          "base_uri": "https://localhost:8080/",
          "height": 143
        },
        "id": "5Yjbt53TaTkr",
        "outputId": "f070183e-5090-4f6a-818a-7494b3e23b7c"
      },
      "execution_count": null,
      "outputs": [
        {
          "output_type": "execute_result",
          "data": {
            "text/plain": [
              "       Doc_Num\n",
              "Topic         \n",
              "0           12\n",
              "1           14"
            ],
            "text/html": [
              "\n",
              "  <div id=\"df-83333aa0-c2a3-46ff-865f-dbfdd7593971\">\n",
              "    <div class=\"colab-df-container\">\n",
              "      <div>\n",
              "<style scoped>\n",
              "    .dataframe tbody tr th:only-of-type {\n",
              "        vertical-align: middle;\n",
              "    }\n",
              "\n",
              "    .dataframe tbody tr th {\n",
              "        vertical-align: top;\n",
              "    }\n",
              "\n",
              "    .dataframe thead th {\n",
              "        text-align: right;\n",
              "    }\n",
              "</style>\n",
              "<table border=\"1\" class=\"dataframe\">\n",
              "  <thead>\n",
              "    <tr style=\"text-align: right;\">\n",
              "      <th></th>\n",
              "      <th>Doc_Num</th>\n",
              "    </tr>\n",
              "    <tr>\n",
              "      <th>Topic</th>\n",
              "      <th></th>\n",
              "    </tr>\n",
              "  </thead>\n",
              "  <tbody>\n",
              "    <tr>\n",
              "      <th>0</th>\n",
              "      <td>12</td>\n",
              "    </tr>\n",
              "    <tr>\n",
              "      <th>1</th>\n",
              "      <td>14</td>\n",
              "    </tr>\n",
              "  </tbody>\n",
              "</table>\n",
              "</div>\n",
              "      <button class=\"colab-df-convert\" onclick=\"convertToInteractive('df-83333aa0-c2a3-46ff-865f-dbfdd7593971')\"\n",
              "              title=\"Convert this dataframe to an interactive table.\"\n",
              "              style=\"display:none;\">\n",
              "        \n",
              "  <svg xmlns=\"http://www.w3.org/2000/svg\" height=\"24px\"viewBox=\"0 0 24 24\"\n",
              "       width=\"24px\">\n",
              "    <path d=\"M0 0h24v24H0V0z\" fill=\"none\"/>\n",
              "    <path d=\"M18.56 5.44l.94 2.06.94-2.06 2.06-.94-2.06-.94-.94-2.06-.94 2.06-2.06.94zm-11 1L8.5 8.5l.94-2.06 2.06-.94-2.06-.94L8.5 2.5l-.94 2.06-2.06.94zm10 10l.94 2.06.94-2.06 2.06-.94-2.06-.94-.94-2.06-.94 2.06-2.06.94z\"/><path d=\"M17.41 7.96l-1.37-1.37c-.4-.4-.92-.59-1.43-.59-.52 0-1.04.2-1.43.59L10.3 9.45l-7.72 7.72c-.78.78-.78 2.05 0 2.83L4 21.41c.39.39.9.59 1.41.59.51 0 1.02-.2 1.41-.59l7.78-7.78 2.81-2.81c.8-.78.8-2.07 0-2.86zM5.41 20L4 18.59l7.72-7.72 1.47 1.35L5.41 20z\"/>\n",
              "  </svg>\n",
              "      </button>\n",
              "      \n",
              "  <style>\n",
              "    .colab-df-container {\n",
              "      display:flex;\n",
              "      flex-wrap:wrap;\n",
              "      gap: 12px;\n",
              "    }\n",
              "\n",
              "    .colab-df-convert {\n",
              "      background-color: #E8F0FE;\n",
              "      border: none;\n",
              "      border-radius: 50%;\n",
              "      cursor: pointer;\n",
              "      display: none;\n",
              "      fill: #1967D2;\n",
              "      height: 32px;\n",
              "      padding: 0 0 0 0;\n",
              "      width: 32px;\n",
              "    }\n",
              "\n",
              "    .colab-df-convert:hover {\n",
              "      background-color: #E2EBFA;\n",
              "      box-shadow: 0px 1px 2px rgba(60, 64, 67, 0.3), 0px 1px 3px 1px rgba(60, 64, 67, 0.15);\n",
              "      fill: #174EA6;\n",
              "    }\n",
              "\n",
              "    [theme=dark] .colab-df-convert {\n",
              "      background-color: #3B4455;\n",
              "      fill: #D2E3FC;\n",
              "    }\n",
              "\n",
              "    [theme=dark] .colab-df-convert:hover {\n",
              "      background-color: #434B5C;\n",
              "      box-shadow: 0px 1px 3px 1px rgba(0, 0, 0, 0.15);\n",
              "      filter: drop-shadow(0px 1px 2px rgba(0, 0, 0, 0.3));\n",
              "      fill: #FFFFFF;\n",
              "    }\n",
              "  </style>\n",
              "\n",
              "      <script>\n",
              "        const buttonEl =\n",
              "          document.querySelector('#df-83333aa0-c2a3-46ff-865f-dbfdd7593971 button.colab-df-convert');\n",
              "        buttonEl.style.display =\n",
              "          google.colab.kernel.accessAllowed ? 'block' : 'none';\n",
              "\n",
              "        async function convertToInteractive(key) {\n",
              "          const element = document.querySelector('#df-83333aa0-c2a3-46ff-865f-dbfdd7593971');\n",
              "          const dataTable =\n",
              "            await google.colab.kernel.invokeFunction('convertToInteractive',\n",
              "                                                     [key], {});\n",
              "          if (!dataTable) return;\n",
              "\n",
              "          const docLinkHtml = 'Like what you see? Visit the ' +\n",
              "            '<a target=\"_blank\" href=https://colab.research.google.com/notebooks/data_table.ipynb>data table notebook</a>'\n",
              "            + ' to learn more about interactive tables.';\n",
              "          element.innerHTML = '';\n",
              "          dataTable['output_type'] = 'display_data';\n",
              "          await google.colab.output.renderOutput(dataTable, element);\n",
              "          const docLink = document.createElement('div');\n",
              "          docLink.innerHTML = docLinkHtml;\n",
              "          element.appendChild(docLink);\n",
              "        }\n",
              "      </script>\n",
              "    </div>\n",
              "  </div>\n",
              "  "
            ]
          },
          "metadata": {},
          "execution_count": 456
        }
      ]
    },
    {
      "cell_type": "code",
      "source": [
        "len(doc_topic_df['Topic'].unique())"
      ],
      "metadata": {
        "colab": {
          "base_uri": "https://localhost:8080/"
        },
        "id": "OohTbR9Ga2H9",
        "outputId": "63b6a9a2-116d-45f0-814d-db976c0b2007"
      },
      "execution_count": null,
      "outputs": [
        {
          "output_type": "execute_result",
          "data": {
            "text/plain": [
              "2"
            ]
          },
          "metadata": {},
          "execution_count": 457
        }
      ]
    },
    {
      "cell_type": "code",
      "source": [
        "# 토픽별로, 가장 높은 확률로 할당된 문서 top 3 확인\n",
        "for topic in range(len(doc_topic_df['Topic'].unique())):\n",
        "    print('Topic #', topic, '-----------------------------')\n",
        "    top_pr_topics = doc_topic_df[doc_topic_df['Topic'] == topic].sort_values(by='Percentage', ascending=False)\n",
        "    n = 0\n",
        "    for i in range(len(top_pr_topics[senario])):\n",
        "      print(top_pr_topics[senario].iloc[i])\n",
        "      n += 1\n",
        "      if n == 5 :\n",
        "        break;\n",
        "    print('\\n')"
      ],
      "metadata": {
        "colab": {
          "base_uri": "https://localhost:8080/"
        },
        "id": "QzYlvKULaaTh",
        "outputId": "f13c5485-5af4-4a6f-a6c0-3f346d466b2c"
      },
      "execution_count": null,
      "outputs": [
        {
          "output_type": "stream",
          "name": "stdout",
          "text": [
            "Topic # 0 -----------------------------\n",
            "해당 사항에 대해 문의를 드렸는데 요기요 앱 자체의 문제인 것 같아 해결점을 찾지 못하고 다른 가게에서 주문을 하게 되었다​\n",
            "분명 주소를 잘 기입했는데 첫 주문 때와 같은 주소 형식으로 자동으로 변환되어 해당 부분에 대해 문의를 드렸다\n",
            "저번에는 어플 오류로 인해 로봇 배달을 경험하지 못했지만 오늘은 될 거라는 기대를 안고 주문을 한 뒤 사무실에서 업무를 하며 음식을 기다렸다\n",
            "주소지를 리빙랩 형식으로 작성하여 주문을 하려고 보니 해당 가게에서 주문을 할 수 없다고 나와 당황스러웠다 ​\n",
            "이전에 잘못되었던 기억이 있어서 그런지 이번에도 어떻게 오게 될까 하는 걱정이 먼저 들었다\n",
            "\n",
            "\n",
            "Topic # 1 -----------------------------\n",
            "주문은 일반 배달 앱 주문과 다르지 않았으나 주소를 입력하는 것에서 오류 ex 도로명 주소와 지번 주소 인식 못함 등가 자주 발생하여 주소를 정확하게 봐야 하는 문제점이 있었다​\n",
            "주문 과정은 일반 배달 주문과 다르지 않아 불편함이 없었으나 알림이 오는 것인지 배달기사가 전화가 오는 것인지 헷갈렸다  ​\n",
            "주소에 리비아 랩을 꼭 적어야 해서 귀찮은 것은 아니지만 추후에는 직접 적지 않고도 주문할 수 있는 방식이 생기면 좋겠다 ​\n",
            "다만 지난번 경험에 의하면 로봇 배송이 잘 설정되어 있는지 확인할 수 있으면 좋겠다는 생각이 들었다\n",
            "그리고 배달 상점 리스트에 적혀 있는 업체들이 “리빙랩＂에 대한 인지가 있는 지도 의문이었다\n",
            "\n",
            "\n"
          ]
        }
      ]
    },
    {
      "cell_type": "markdown",
      "source": [],
      "metadata": {
        "id": "q4qhgYwZ2na7"
      }
    },
    {
      "cell_type": "code",
      "source": [],
      "metadata": {
        "id": "m08DTagH2TUu"
      },
      "execution_count": null,
      "outputs": []
    }
  ]
}