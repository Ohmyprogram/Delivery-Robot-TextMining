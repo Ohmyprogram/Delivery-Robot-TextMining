{
  "nbformat": 4,
  "nbformat_minor": 0,
  "metadata": {
    "colab": {
      "provenance": [],
      "authorship_tag": "ABX9TyNogdjvQakhDGV7iQTJrTPz",
      "include_colab_link": true
    },
    "kernelspec": {
      "name": "python3",
      "display_name": "Python 3"
    },
    "language_info": {
      "name": "python"
    }
  },
  "cells": [
    {
      "cell_type": "markdown",
      "metadata": {
        "id": "view-in-github",
        "colab_type": "text"
      },
      "source": [
        "<a href=\"https://colab.research.google.com/github/Ohmyprogram/Delivery-Robot-TextMining/blob/main/%EA%B0%90%EC%84%B1%EB%AC%B8%EC%9E%A5_WordCloud.ipynb\" target=\"_parent\"><img src=\"https://colab.research.google.com/assets/colab-badge.svg\" alt=\"Open In Colab\"/></a>"
      ]
    },
    {
      "cell_type": "markdown",
      "metadata": {
        "id": "__ABdyJIXtr_"
      },
      "source": [
        "# 1. 코랩 환경 설정"
      ]
    },
    {
      "cell_type": "code",
      "metadata": {
        "colab": {
          "base_uri": "https://localhost:8080/",
          "height": 329
        },
        "id": "uQNJGn8UUUtw",
        "outputId": "7e5dba46-006b-4f6c-aded-8f4f4bd1b648"
      },
      "source": [
        "from google.colab import drive\n",
        "drive.mount('/content/drive')"
      ],
      "execution_count": null,
      "outputs": [
        {
          "output_type": "error",
          "ename": "MessageError",
          "evalue": "ignored",
          "traceback": [
            "\u001b[0;31m---------------------------------------------------------------------------\u001b[0m",
            "\u001b[0;31mMessageError\u001b[0m                              Traceback (most recent call last)",
            "\u001b[0;32m<ipython-input-1-d5df0069828e>\u001b[0m in \u001b[0;36m<module>\u001b[0;34m\u001b[0m\n\u001b[1;32m      1\u001b[0m \u001b[0;32mfrom\u001b[0m \u001b[0mgoogle\u001b[0m\u001b[0;34m.\u001b[0m\u001b[0mcolab\u001b[0m \u001b[0;32mimport\u001b[0m \u001b[0mdrive\u001b[0m\u001b[0;34m\u001b[0m\u001b[0;34m\u001b[0m\u001b[0m\n\u001b[0;32m----> 2\u001b[0;31m \u001b[0mdrive\u001b[0m\u001b[0;34m.\u001b[0m\u001b[0mmount\u001b[0m\u001b[0;34m(\u001b[0m\u001b[0;34m'/content/drive'\u001b[0m\u001b[0;34m)\u001b[0m\u001b[0;34m\u001b[0m\u001b[0;34m\u001b[0m\u001b[0m\n\u001b[0m",
            "\u001b[0;32m/usr/local/lib/python3.7/dist-packages/google/colab/drive.py\u001b[0m in \u001b[0;36mmount\u001b[0;34m(mountpoint, force_remount, timeout_ms)\u001b[0m\n\u001b[1;32m    103\u001b[0m       \u001b[0mforce_remount\u001b[0m\u001b[0;34m=\u001b[0m\u001b[0mforce_remount\u001b[0m\u001b[0;34m,\u001b[0m\u001b[0;34m\u001b[0m\u001b[0;34m\u001b[0m\u001b[0m\n\u001b[1;32m    104\u001b[0m       \u001b[0mtimeout_ms\u001b[0m\u001b[0;34m=\u001b[0m\u001b[0mtimeout_ms\u001b[0m\u001b[0;34m,\u001b[0m\u001b[0;34m\u001b[0m\u001b[0;34m\u001b[0m\u001b[0m\n\u001b[0;32m--> 105\u001b[0;31m       ephemeral=True)\n\u001b[0m\u001b[1;32m    106\u001b[0m \u001b[0;34m\u001b[0m\u001b[0m\n\u001b[1;32m    107\u001b[0m \u001b[0;34m\u001b[0m\u001b[0m\n",
            "\u001b[0;32m/usr/local/lib/python3.7/dist-packages/google/colab/drive.py\u001b[0m in \u001b[0;36m_mount\u001b[0;34m(mountpoint, force_remount, timeout_ms, ephemeral)\u001b[0m\n\u001b[1;32m    118\u001b[0m   \u001b[0;32mif\u001b[0m \u001b[0mephemeral\u001b[0m\u001b[0;34m:\u001b[0m\u001b[0;34m\u001b[0m\u001b[0;34m\u001b[0m\u001b[0m\n\u001b[1;32m    119\u001b[0m     _message.blocking_request(\n\u001b[0;32m--> 120\u001b[0;31m         'request_auth', request={'authType': 'dfs_ephemeral'}, timeout_sec=None)\n\u001b[0m\u001b[1;32m    121\u001b[0m \u001b[0;34m\u001b[0m\u001b[0m\n\u001b[1;32m    122\u001b[0m   \u001b[0mmountpoint\u001b[0m \u001b[0;34m=\u001b[0m \u001b[0m_os\u001b[0m\u001b[0;34m.\u001b[0m\u001b[0mpath\u001b[0m\u001b[0;34m.\u001b[0m\u001b[0mexpanduser\u001b[0m\u001b[0;34m(\u001b[0m\u001b[0mmountpoint\u001b[0m\u001b[0;34m)\u001b[0m\u001b[0;34m\u001b[0m\u001b[0;34m\u001b[0m\u001b[0m\n",
            "\u001b[0;32m/usr/local/lib/python3.7/dist-packages/google/colab/_message.py\u001b[0m in \u001b[0;36mblocking_request\u001b[0;34m(request_type, request, timeout_sec, parent)\u001b[0m\n\u001b[1;32m    169\u001b[0m   request_id = send_request(\n\u001b[1;32m    170\u001b[0m       request_type, request, parent=parent, expect_reply=True)\n\u001b[0;32m--> 171\u001b[0;31m   \u001b[0;32mreturn\u001b[0m \u001b[0mread_reply_from_input\u001b[0m\u001b[0;34m(\u001b[0m\u001b[0mrequest_id\u001b[0m\u001b[0;34m,\u001b[0m \u001b[0mtimeout_sec\u001b[0m\u001b[0;34m)\u001b[0m\u001b[0;34m\u001b[0m\u001b[0;34m\u001b[0m\u001b[0m\n\u001b[0m",
            "\u001b[0;32m/usr/local/lib/python3.7/dist-packages/google/colab/_message.py\u001b[0m in \u001b[0;36mread_reply_from_input\u001b[0;34m(message_id, timeout_sec)\u001b[0m\n\u001b[1;32m    100\u001b[0m         reply.get('colab_msg_id') == message_id):\n\u001b[1;32m    101\u001b[0m       \u001b[0;32mif\u001b[0m \u001b[0;34m'error'\u001b[0m \u001b[0;32min\u001b[0m \u001b[0mreply\u001b[0m\u001b[0;34m:\u001b[0m\u001b[0;34m\u001b[0m\u001b[0;34m\u001b[0m\u001b[0m\n\u001b[0;32m--> 102\u001b[0;31m         \u001b[0;32mraise\u001b[0m \u001b[0mMessageError\u001b[0m\u001b[0;34m(\u001b[0m\u001b[0mreply\u001b[0m\u001b[0;34m[\u001b[0m\u001b[0;34m'error'\u001b[0m\u001b[0;34m]\u001b[0m\u001b[0;34m)\u001b[0m\u001b[0;34m\u001b[0m\u001b[0;34m\u001b[0m\u001b[0m\n\u001b[0m\u001b[1;32m    103\u001b[0m       \u001b[0;32mreturn\u001b[0m \u001b[0mreply\u001b[0m\u001b[0;34m.\u001b[0m\u001b[0mget\u001b[0m\u001b[0;34m(\u001b[0m\u001b[0;34m'data'\u001b[0m\u001b[0;34m,\u001b[0m \u001b[0;32mNone\u001b[0m\u001b[0;34m)\u001b[0m\u001b[0;34m\u001b[0m\u001b[0;34m\u001b[0m\u001b[0m\n\u001b[1;32m    104\u001b[0m \u001b[0;34m\u001b[0m\u001b[0m\n",
            "\u001b[0;31mMessageError\u001b[0m: Error: credential propagation was unsuccessful"
          ]
        }
      ]
    },
    {
      "cell_type": "code",
      "metadata": {
        "id": "quZmKjGAX7Zi"
      },
      "source": [
        "# 디렉토리 변경\n",
        "%cd drive/MyDrive/혁신기술텍스트마이닝"
      ],
      "execution_count": null,
      "outputs": []
    },
    {
      "cell_type": "code",
      "metadata": {
        "id": "vc7VOSxOX8Qb"
      },
      "source": [
        "# 현재 디렉토리 경로 확인\n",
        "!pwd"
      ],
      "execution_count": null,
      "outputs": []
    },
    {
      "cell_type": "markdown",
      "source": [
        "# 라이브러리"
      ],
      "metadata": {
        "id": "XLhm0M9DVJvG"
      }
    },
    {
      "cell_type": "code",
      "source": [
        "# !pip install konlpy"
      ],
      "metadata": {
        "colab": {
          "base_uri": "https://localhost:8080/"
        },
        "id": "TxJ6pMCtTg0r",
        "outputId": "06415339-9ca2-4378-a1de-b5e97d290e55"
      },
      "execution_count": null,
      "outputs": [
        {
          "output_type": "stream",
          "name": "stdout",
          "text": [
            "Looking in indexes: https://pypi.org/simple, https://us-python.pkg.dev/colab-wheels/public/simple/\n",
            "Collecting konlpy\n",
            "  Downloading konlpy-0.6.0-py2.py3-none-any.whl (19.4 MB)\n",
            "\u001b[K     |████████████████████████████████| 19.4 MB 1.2 MB/s \n",
            "\u001b[?25hRequirement already satisfied: numpy>=1.6 in /usr/local/lib/python3.7/dist-packages (from konlpy) (1.21.6)\n",
            "Requirement already satisfied: lxml>=4.1.0 in /usr/local/lib/python3.7/dist-packages (from konlpy) (4.9.1)\n",
            "Collecting JPype1>=0.7.0\n",
            "  Downloading JPype1-1.4.0-cp37-cp37m-manylinux_2_5_x86_64.manylinux1_x86_64.whl (453 kB)\n",
            "\u001b[K     |████████████████████████████████| 453 kB 72.3 MB/s \n",
            "\u001b[?25hRequirement already satisfied: typing-extensions in /usr/local/lib/python3.7/dist-packages (from JPype1>=0.7.0->konlpy) (4.1.1)\n",
            "Installing collected packages: JPype1, konlpy\n",
            "Successfully installed JPype1-1.4.0 konlpy-0.6.0\n"
          ]
        }
      ]
    },
    {
      "cell_type": "code",
      "source": [
        "# !pip install WordCloud"
      ],
      "metadata": {
        "colab": {
          "base_uri": "https://localhost:8080/"
        },
        "id": "SmWy5wp-TkBF",
        "outputId": "3a2ca53c-52a8-4b80-9d88-ee1071db4892"
      },
      "execution_count": null,
      "outputs": [
        {
          "output_type": "stream",
          "name": "stdout",
          "text": [
            "Looking in indexes: https://pypi.org/simple, https://us-python.pkg.dev/colab-wheels/public/simple/\n",
            "Requirement already satisfied: WordCloud in /usr/local/lib/python3.7/dist-packages (1.8.2.2)\n",
            "Requirement already satisfied: numpy>=1.6.1 in /usr/local/lib/python3.7/dist-packages (from WordCloud) (1.21.6)\n",
            "Requirement already satisfied: pillow in /usr/local/lib/python3.7/dist-packages (from WordCloud) (7.1.2)\n",
            "Requirement already satisfied: matplotlib in /usr/local/lib/python3.7/dist-packages (from WordCloud) (3.2.2)\n",
            "Requirement already satisfied: kiwisolver>=1.0.1 in /usr/local/lib/python3.7/dist-packages (from matplotlib->WordCloud) (1.4.4)\n",
            "Requirement already satisfied: pyparsing!=2.0.4,!=2.1.2,!=2.1.6,>=2.0.1 in /usr/local/lib/python3.7/dist-packages (from matplotlib->WordCloud) (3.0.9)\n",
            "Requirement already satisfied: python-dateutil>=2.1 in /usr/local/lib/python3.7/dist-packages (from matplotlib->WordCloud) (2.8.2)\n",
            "Requirement already satisfied: cycler>=0.10 in /usr/local/lib/python3.7/dist-packages (from matplotlib->WordCloud) (0.11.0)\n",
            "Requirement already satisfied: typing-extensions in /usr/local/lib/python3.7/dist-packages (from kiwisolver>=1.0.1->matplotlib->WordCloud) (4.1.1)\n",
            "Requirement already satisfied: six>=1.5 in /usr/local/lib/python3.7/dist-packages (from python-dateutil>=2.1->matplotlib->WordCloud) (1.15.0)\n"
          ]
        }
      ]
    },
    {
      "cell_type": "code",
      "source": [
        "# !pip install PyKomoran"
      ],
      "metadata": {
        "colab": {
          "base_uri": "https://localhost:8080/"
        },
        "id": "tQFMREXsikCt",
        "outputId": "bf44a650-f528-4fb2-9591-4ff8ec8b98c0"
      },
      "execution_count": null,
      "outputs": [
        {
          "output_type": "stream",
          "name": "stdout",
          "text": [
            "Looking in indexes: https://pypi.org/simple, https://us-python.pkg.dev/colab-wheels/public/simple/\n",
            "Collecting PyKomoran\n",
            "  Downloading PyKomoran-0.1.6.post1-py3-none-any.whl (6.4 MB)\n",
            "\u001b[K     |████████████████████████████████| 6.4 MB 35.7 MB/s \n",
            "\u001b[?25hCollecting py4j==0.10.9.2\n",
            "  Downloading py4j-0.10.9.2-py2.py3-none-any.whl (198 kB)\n",
            "\u001b[K     |████████████████████████████████| 198 kB 65.1 MB/s \n",
            "\u001b[?25hInstalling collected packages: py4j, PyKomoran\n",
            "Successfully installed PyKomoran-0.1.6.post1 py4j-0.10.9.2\n"
          ]
        }
      ]
    },
    {
      "cell_type": "code",
      "source": [
        "import pandas as pd\n",
        "from wordcloud import WordCloud\n",
        "from collections import Counter\n",
        "from PyKomoran import *\n",
        "import matplotlib.pyplot as plt\n",
        "from PIL import Image\n",
        "import numpy as np\n",
        "import regex\n",
        "import platform\n",
        "import matplotlib.font_manager as fm"
      ],
      "metadata": {
        "id": "LtzX0vp3TgyX"
      },
      "execution_count": null,
      "outputs": []
    },
    {
      "cell_type": "code",
      "source": [
        "# 필터 설정\n",
        "mask = '\\\\n|\\\\t|\\\\r,'\n",
        "\n",
        "#%% Komoran 작동\n",
        "komoran = Komoran(\"STABLE\")\n",
        "\n",
        "# # 사용자 사전 추가\n",
        "# komoran.set_user_dic(\"user_dictionary.txt\")\n",
        "\n",
        "# raw데이터 읽기 / 밑에는 예시인데, 4명에게 받은 물품 주문에 대한 감성일기 글이라고 가정\n",
        "documents=[\n",
        "    '점심을 주문하기 위해 요기요에 들어가서 메뉴를 보고 짜장면과 탕수육을 대연각에서 주문하였다. 대연각은 로봇과 연계 배송을 하는지 기존 주문 프로세스와 다르게 라이더 배정 및 로봇 배차 정보가 전송되었다. 로봇이 어떻게 배송을 해주는 것인지에 대해 자세한 설명이 없어 주문이 잘 된 것인지, 잘못 된 것인지 모호했고, 기존 프로세스와 조금 상이하여 음식이 잘못 올 수도 있겠다는 우려가 조금 있었다. 우선 처음 경험하는 로봇 배달이었기에 생소하여 이에 대한 자세한 설명과 프로세스에 대한 정보를 팝업 혹은 안내 형태로 알려주었으면 좋겠다는 생각이 들었다.',\n",
        "    '라이더가 물품을 픽업 후 배달을 시작했다는 알림을 받았고, 기존 주문 배달 프로세스와 동일하게 라이더의 배달 이동경로 확인이 가능하여 이 단계에서는 크게 불편한 부분을 느끼지 못하였다. 하지만 로봇 배송이 시작되었는지 로봇의 배송 도착 안내에 대한 문자를 받았을 때, 조금 불편함을 느꼈다. 라이더가 물품을 픽업하는 부분에 대해서는 카카오톡으로 알림이 오고 이것이 요기요 앱과 연동되어 버튼 하나로 바로 앱으로 연동되지만 로봇 배달에 대한 안내는 문자로 수신받아 카카오톡, 요기요, 문자 창까지 삼중으로 켜놓아야 했다. 로봇 배달에 대한 안내 또한 요기요 앱 혹은 카카오톡으로 수신받으면 좋을 듯 하다. 또한 로봇의 도착 소요시간과 이동경로 확인이 어려워 라이더가 배달하는 프로세스보다 훨씬 불편했다.',\n",
        "    '로봇이 도착했다는 전화가 왔었는데, 당시에 내가 화장실에 가있어 전화를 받지 못하였다. 로봇의 대략적인 도착시간 또한 안내 받지 못하였기 때문에 언제쯤 도착할 것이라는 시간대를 전혀 몰라 로봇의 도착 전화를 15분 후에 확인할 수 있었다. 물품을 수령하러 로봇 도착 포인트로 가 문자로 수신받았던 본인인증 번호를 입력하였고 로봇 물품칸이 열려 음식을 수령하였다.',\n",
        "    '전화를 못받았던 터라 음식이 다 식었고, 불어있었다. 로봇이 도착했다고 안내 전화가 왔었는데 내가 전화를 받지 못하여 음식 상태가 안좋은 것 같아 반품 요청을 하기가 애매하여 우선 수령완료를 로봇 터치패드에서 눌렀다. 주문 물품 및 음식에 대한 반품 기준이 필요할 듯 하였다. 과실이 누구인지가 애매하여 이러한 부분은 명확한 기준이 필요할 것으로 보인다. 또한, 로봇 배송의 이점은 배달 소요시간인 듯 한데, 소요시간이 오히려 오래걸린 듯 하고, 서비스 프로세스 자체가 너무 생소하여 이에 대한 정확한 안내가 필요해보인다. 로봇의 경로 표시 또한 해주어야 할 듯 하다.'\n",
        "]\n",
        "\n",
        "\n",
        "# raw데이터에서 감정 문장 포함한 문장 도출\n",
        "emo_dic = pd.read_excel('/content/drive/MyDrive/혁신기술텍스트마이닝/dic/emo_dic.xlsx')       #감성단어사전(emo_dic)불러오기\n",
        "emo_word = list(emo_dic['WORD'])\n",
        "\n",
        "sentences = []                                                                                #단문들 담을 리스트\n",
        "for doc in documents:\n",
        "  sen = doc.split('.')\n",
        "  sen.pop()\n",
        "  sentences = sentences+sen\n",
        "\n",
        "\n",
        "# 감성문장, 감성단어 데이터 프레임 만들기\n",
        "# emo_word(감성단어)를 단문이 포함하고 있는지 확인\n",
        "emo_sen = []                                                                                  #감성 문장 담을 리스트\n",
        "emo_word_ls = []                                                                              #감성 단어 리스트 담을 리스트\n",
        "\n",
        "for i in range(len(sentences)):\n",
        "  word_ls = []\n",
        "  for word in emo_word:\n",
        "    if word in komoran.get_morphes_by_tags(sentences[i]):\n",
        "      if sentences[i] not in emo_sen:\n",
        "        emo_sen.append(sentences[i])\n",
        "      word_ls.append(word)\n",
        "  if word_ls != []:\n",
        "    emo_word_ls.append(word_ls)"
      ],
      "metadata": {
        "id": "aY7zm0uLTgrv"
      },
      "execution_count": null,
      "outputs": []
    },
    {
      "cell_type": "code",
      "source": [
        "emo_df = pd.DataFrame({'emo_sen':emo_sen,\n",
        "                             'emo_word':emo_word_ls})\n",
        "emo_df"
      ],
      "metadata": {
        "colab": {
          "base_uri": "https://localhost:8080/",
          "height": 425
        },
        "id": "ZihiigYKV-YT",
        "outputId": "98d17e2f-65ff-41ff-d0da-ea17905c12d0"
      },
      "execution_count": null,
      "outputs": [
        {
          "output_type": "execute_result",
          "data": {
            "text/plain": [
              "                                              emo_sen             emo_word\n",
              "0    대연각은 로봇과 연계 배송을 하는지 기존 주문 프로세스와 다르게 라이더 배정 및 ...             [기존, 다르]\n",
              "1    로봇이 어떻게 배송을 해주는 것인지에 대해 자세한 설명이 없어 주문이 잘 된 것인...      [없, 기존, 우려, 모호]\n",
              "2    우선 처음 경험하는 로봇 배달이었기에 생소하여 이에 대한 자세한 설명과 프로세스에...          [좋, 경험, 생소]\n",
              "3   라이더가 물품을 픽업 후 배달을 시작했다는 알림을 받았고, 기존 주문 배달 프로세스...  [가능, 불편, 기존, 느끼, 크]\n",
              "4    하지만 로봇 배송이 시작되었는지 로봇의 배송 도착 안내에 대한 문자를 받았을 때,...             [불편, 느끼]\n",
              "5       로봇 배달에 대한 안내 또한 요기요 앱 혹은 카카오톡으로 수신받으면 좋을 듯 하다                  [좋]\n",
              "6    또한 로봇의 도착 소요시간과 이동경로 확인이 어려워 라이더가 배달하는 프로세스보다...             [불편, 어렵]\n",
              "7    로봇의 대략적인 도착시간 또한 안내 받지 못하였기 때문에 언제쯤 도착할 것이라는 ...                 [모르]\n",
              "8    로봇이 도착했다고 안내 전화가 왔었는데 내가 전화를 받지 못하여 음식 상태가 안좋...       [좋, 요청, 안, 애매]\n",
              "9                     주문 물품 및 음식에 대한 반품 기준이 필요할 듯 하였다                 [필요]\n",
              "10         과실이 누구인지가 애매하여 이러한 부분은 명확한 기준이 필요할 것으로 보인다             [필요, 애매]\n",
              "11   또한, 로봇 배송의 이점은 배달 소요시간인 듯 한데, 소요시간이 오히려 오래걸린 ...    [필요, 서비스, 정확, 생소]"
            ],
            "text/html": [
              "\n",
              "  <div id=\"df-1cf50e5c-db08-4352-88be-8edf51df8964\">\n",
              "    <div class=\"colab-df-container\">\n",
              "      <div>\n",
              "<style scoped>\n",
              "    .dataframe tbody tr th:only-of-type {\n",
              "        vertical-align: middle;\n",
              "    }\n",
              "\n",
              "    .dataframe tbody tr th {\n",
              "        vertical-align: top;\n",
              "    }\n",
              "\n",
              "    .dataframe thead th {\n",
              "        text-align: right;\n",
              "    }\n",
              "</style>\n",
              "<table border=\"1\" class=\"dataframe\">\n",
              "  <thead>\n",
              "    <tr style=\"text-align: right;\">\n",
              "      <th></th>\n",
              "      <th>emo_sen</th>\n",
              "      <th>emo_word</th>\n",
              "    </tr>\n",
              "  </thead>\n",
              "  <tbody>\n",
              "    <tr>\n",
              "      <th>0</th>\n",
              "      <td>대연각은 로봇과 연계 배송을 하는지 기존 주문 프로세스와 다르게 라이더 배정 및 ...</td>\n",
              "      <td>[기존, 다르]</td>\n",
              "    </tr>\n",
              "    <tr>\n",
              "      <th>1</th>\n",
              "      <td>로봇이 어떻게 배송을 해주는 것인지에 대해 자세한 설명이 없어 주문이 잘 된 것인...</td>\n",
              "      <td>[없, 기존, 우려, 모호]</td>\n",
              "    </tr>\n",
              "    <tr>\n",
              "      <th>2</th>\n",
              "      <td>우선 처음 경험하는 로봇 배달이었기에 생소하여 이에 대한 자세한 설명과 프로세스에...</td>\n",
              "      <td>[좋, 경험, 생소]</td>\n",
              "    </tr>\n",
              "    <tr>\n",
              "      <th>3</th>\n",
              "      <td>라이더가 물품을 픽업 후 배달을 시작했다는 알림을 받았고, 기존 주문 배달 프로세스...</td>\n",
              "      <td>[가능, 불편, 기존, 느끼, 크]</td>\n",
              "    </tr>\n",
              "    <tr>\n",
              "      <th>4</th>\n",
              "      <td>하지만 로봇 배송이 시작되었는지 로봇의 배송 도착 안내에 대한 문자를 받았을 때,...</td>\n",
              "      <td>[불편, 느끼]</td>\n",
              "    </tr>\n",
              "    <tr>\n",
              "      <th>5</th>\n",
              "      <td>로봇 배달에 대한 안내 또한 요기요 앱 혹은 카카오톡으로 수신받으면 좋을 듯 하다</td>\n",
              "      <td>[좋]</td>\n",
              "    </tr>\n",
              "    <tr>\n",
              "      <th>6</th>\n",
              "      <td>또한 로봇의 도착 소요시간과 이동경로 확인이 어려워 라이더가 배달하는 프로세스보다...</td>\n",
              "      <td>[불편, 어렵]</td>\n",
              "    </tr>\n",
              "    <tr>\n",
              "      <th>7</th>\n",
              "      <td>로봇의 대략적인 도착시간 또한 안내 받지 못하였기 때문에 언제쯤 도착할 것이라는 ...</td>\n",
              "      <td>[모르]</td>\n",
              "    </tr>\n",
              "    <tr>\n",
              "      <th>8</th>\n",
              "      <td>로봇이 도착했다고 안내 전화가 왔었는데 내가 전화를 받지 못하여 음식 상태가 안좋...</td>\n",
              "      <td>[좋, 요청, 안, 애매]</td>\n",
              "    </tr>\n",
              "    <tr>\n",
              "      <th>9</th>\n",
              "      <td>주문 물품 및 음식에 대한 반품 기준이 필요할 듯 하였다</td>\n",
              "      <td>[필요]</td>\n",
              "    </tr>\n",
              "    <tr>\n",
              "      <th>10</th>\n",
              "      <td>과실이 누구인지가 애매하여 이러한 부분은 명확한 기준이 필요할 것으로 보인다</td>\n",
              "      <td>[필요, 애매]</td>\n",
              "    </tr>\n",
              "    <tr>\n",
              "      <th>11</th>\n",
              "      <td>또한, 로봇 배송의 이점은 배달 소요시간인 듯 한데, 소요시간이 오히려 오래걸린 ...</td>\n",
              "      <td>[필요, 서비스, 정확, 생소]</td>\n",
              "    </tr>\n",
              "  </tbody>\n",
              "</table>\n",
              "</div>\n",
              "      <button class=\"colab-df-convert\" onclick=\"convertToInteractive('df-1cf50e5c-db08-4352-88be-8edf51df8964')\"\n",
              "              title=\"Convert this dataframe to an interactive table.\"\n",
              "              style=\"display:none;\">\n",
              "        \n",
              "  <svg xmlns=\"http://www.w3.org/2000/svg\" height=\"24px\"viewBox=\"0 0 24 24\"\n",
              "       width=\"24px\">\n",
              "    <path d=\"M0 0h24v24H0V0z\" fill=\"none\"/>\n",
              "    <path d=\"M18.56 5.44l.94 2.06.94-2.06 2.06-.94-2.06-.94-.94-2.06-.94 2.06-2.06.94zm-11 1L8.5 8.5l.94-2.06 2.06-.94-2.06-.94L8.5 2.5l-.94 2.06-2.06.94zm10 10l.94 2.06.94-2.06 2.06-.94-2.06-.94-.94-2.06-.94 2.06-2.06.94z\"/><path d=\"M17.41 7.96l-1.37-1.37c-.4-.4-.92-.59-1.43-.59-.52 0-1.04.2-1.43.59L10.3 9.45l-7.72 7.72c-.78.78-.78 2.05 0 2.83L4 21.41c.39.39.9.59 1.41.59.51 0 1.02-.2 1.41-.59l7.78-7.78 2.81-2.81c.8-.78.8-2.07 0-2.86zM5.41 20L4 18.59l7.72-7.72 1.47 1.35L5.41 20z\"/>\n",
              "  </svg>\n",
              "      </button>\n",
              "      \n",
              "  <style>\n",
              "    .colab-df-container {\n",
              "      display:flex;\n",
              "      flex-wrap:wrap;\n",
              "      gap: 12px;\n",
              "    }\n",
              "\n",
              "    .colab-df-convert {\n",
              "      background-color: #E8F0FE;\n",
              "      border: none;\n",
              "      border-radius: 50%;\n",
              "      cursor: pointer;\n",
              "      display: none;\n",
              "      fill: #1967D2;\n",
              "      height: 32px;\n",
              "      padding: 0 0 0 0;\n",
              "      width: 32px;\n",
              "    }\n",
              "\n",
              "    .colab-df-convert:hover {\n",
              "      background-color: #E2EBFA;\n",
              "      box-shadow: 0px 1px 2px rgba(60, 64, 67, 0.3), 0px 1px 3px 1px rgba(60, 64, 67, 0.15);\n",
              "      fill: #174EA6;\n",
              "    }\n",
              "\n",
              "    [theme=dark] .colab-df-convert {\n",
              "      background-color: #3B4455;\n",
              "      fill: #D2E3FC;\n",
              "    }\n",
              "\n",
              "    [theme=dark] .colab-df-convert:hover {\n",
              "      background-color: #434B5C;\n",
              "      box-shadow: 0px 1px 3px 1px rgba(0, 0, 0, 0.15);\n",
              "      filter: drop-shadow(0px 1px 2px rgba(0, 0, 0, 0.3));\n",
              "      fill: #FFFFFF;\n",
              "    }\n",
              "  </style>\n",
              "\n",
              "      <script>\n",
              "        const buttonEl =\n",
              "          document.querySelector('#df-1cf50e5c-db08-4352-88be-8edf51df8964 button.colab-df-convert');\n",
              "        buttonEl.style.display =\n",
              "          google.colab.kernel.accessAllowed ? 'block' : 'none';\n",
              "\n",
              "        async function convertToInteractive(key) {\n",
              "          const element = document.querySelector('#df-1cf50e5c-db08-4352-88be-8edf51df8964');\n",
              "          const dataTable =\n",
              "            await google.colab.kernel.invokeFunction('convertToInteractive',\n",
              "                                                     [key], {});\n",
              "          if (!dataTable) return;\n",
              "\n",
              "          const docLinkHtml = 'Like what you see? Visit the ' +\n",
              "            '<a target=\"_blank\" href=https://colab.research.google.com/notebooks/data_table.ipynb>data table notebook</a>'\n",
              "            + ' to learn more about interactive tables.';\n",
              "          element.innerHTML = '';\n",
              "          dataTable['output_type'] = 'display_data';\n",
              "          await google.colab.output.renderOutput(dataTable, element);\n",
              "          const docLink = document.createElement('div');\n",
              "          docLink.innerHTML = docLinkHtml;\n",
              "          element.appendChild(docLink);\n",
              "        }\n",
              "      </script>\n",
              "    </div>\n",
              "  </div>\n",
              "  "
            ]
          },
          "metadata": {},
          "execution_count": 4
        }
      ]
    },
    {
      "cell_type": "code",
      "source": [
        "import itertools\n",
        "\n",
        "list1 = list(emo_df['emo_word'])\n",
        "list2 = list(itertools.chain(*list1))\n",
        "print(list2)"
      ],
      "metadata": {
        "colab": {
          "base_uri": "https://localhost:8080/"
        },
        "id": "I7CnjRaaa73o",
        "outputId": "76a68917-da7d-450b-fe9a-32f1e1174078"
      },
      "execution_count": null,
      "outputs": [
        {
          "output_type": "stream",
          "name": "stdout",
          "text": [
            "['기존', '다르', '없', '기존', '우려', '모호', '좋', '경험', '생소', '가능', '불편', '기존', '느끼', '크', '불편', '느끼', '좋', '불편', '어렵', '모르', '좋', '요청', '안', '애매', '필요', '필요', '애매', '필요', '서비스', '정확', '생소']\n"
          ]
        }
      ]
    },
    {
      "cell_type": "code",
      "source": [
        "# 문장들에서 나온 감성 단어 리스트\n",
        "print(set(list2))"
      ],
      "metadata": {
        "colab": {
          "base_uri": "https://localhost:8080/"
        },
        "id": "fAadUe1udYDn",
        "outputId": "de8ea193-56bf-4c73-f375-d5f9811f6d9d"
      },
      "execution_count": null,
      "outputs": [
        {
          "output_type": "stream",
          "name": "stdout",
          "text": [
            "{'크', '애매', '생소', '어렵', '모호', '불편', '안', '모르', '우려', '다르', '요청', '없', '가능', '느끼', '기존', '경험', '서비스', '필요', '정확', '좋'}\n"
          ]
        }
      ]
    },
    {
      "cell_type": "code",
      "source": [],
      "metadata": {
        "id": "woaFyGzKfmpi"
      },
      "execution_count": null,
      "outputs": []
    },
    {
      "cell_type": "code",
      "source": [
        "# 그래프에서 한글표현을 위해 폰트를 설치합니다.\n",
        "%config InlineBackend.figure_format = 'retina'\n",
        "\n",
        "!apt -qq -y install fonts-nanum > /dev/null"
      ],
      "metadata": {
        "colab": {
          "base_uri": "https://localhost:8080/"
        },
        "id": "dGTX7VTGemrG",
        "outputId": "9df71d73-2eb6-489d-bf7f-543142ebf18e"
      },
      "execution_count": null,
      "outputs": [
        {
          "output_type": "stream",
          "name": "stdout",
          "text": [
            "\n",
            "WARNING: apt does not have a stable CLI interface. Use with caution in scripts.\n",
            "\n"
          ]
        }
      ]
    },
    {
      "cell_type": "code",
      "source": [
        "import matplotlib.font_manager as fm\n",
        "fontpath = '/usr/share/fonts/truetype/nanum/NanumBarunGothic.ttf'\n",
        "font = fm.FontProperties(fname=fontpath, size=9)"
      ],
      "metadata": {
        "id": "BHl7Wyl_dYA7"
      },
      "execution_count": null,
      "outputs": []
    },
    {
      "cell_type": "code",
      "source": [
        "# 기본 글꼴 변경\n",
        "import matplotlib as mpl\n",
        "mpl.font_manager._rebuild()\n",
        "mpl.pyplot.rc('font', family='NanumBarunGothic')"
      ],
      "metadata": {
        "id": "KUBMeIPYdz3P"
      },
      "execution_count": null,
      "outputs": []
    },
    {
      "cell_type": "code",
      "source": [
        "# 감성 단어 빈도수 출력\n",
        "count = Counter(list2)\n",
        "count.most_common()"
      ],
      "metadata": {
        "colab": {
          "base_uri": "https://localhost:8080/"
        },
        "id": "Q-iTB21pex12",
        "outputId": "7feec8d4-e540-43b8-dde9-bb11f36b885e"
      },
      "execution_count": null,
      "outputs": [
        {
          "output_type": "execute_result",
          "data": {
            "text/plain": [
              "[('기존', 3),\n",
              " ('좋', 3),\n",
              " ('불편', 3),\n",
              " ('필요', 3),\n",
              " ('생소', 2),\n",
              " ('느끼', 2),\n",
              " ('애매', 2),\n",
              " ('다르', 1),\n",
              " ('없', 1),\n",
              " ('우려', 1),\n",
              " ('모호', 1),\n",
              " ('경험', 1),\n",
              " ('가능', 1),\n",
              " ('크', 1),\n",
              " ('어렵', 1),\n",
              " ('모르', 1),\n",
              " ('요청', 1),\n",
              " ('안', 1),\n",
              " ('서비스', 1),\n",
              " ('정확', 1)]"
            ]
          },
          "metadata": {},
          "execution_count": 9
        }
      ]
    },
    {
      "cell_type": "code",
      "source": [
        "idx = [i for i in range(len(emo_df)) if \"좋\" in emo_df[\"emo_word\"][i]]\n",
        "lines = list(emo_df.iloc[idx,0])\n",
        "lines"
      ],
      "metadata": {
        "colab": {
          "base_uri": "https://localhost:8080/"
        },
        "id": "JuHVLuQWex0f",
        "outputId": "6aacf14a-1314-4f50-970d-de9c0f5fa2dc"
      },
      "execution_count": null,
      "outputs": [
        {
          "output_type": "execute_result",
          "data": {
            "text/plain": [
              "[' 우선 처음 경험하는 로봇 배달이었기에 생소하여 이에 대한 자세한 설명과 프로세스에 대한 정보를 팝업 혹은 안내 형태로 알려주었으면 좋겠다는 생각이 들었다',\n",
              " ' 로봇 배달에 대한 안내 또한 요기요 앱 혹은 카카오톡으로 수신받으면 좋을 듯 하다',\n",
              " ' 로봇이 도착했다고 안내 전화가 왔었는데 내가 전화를 받지 못하여 음식 상태가 안좋은 것 같아 반품 요청을 하기가 애매하여 우선 수령완료를 로봇 터치패드에서 눌렀다']"
            ]
          },
          "metadata": {},
          "execution_count": 10
        }
      ]
    },
    {
      "cell_type": "code",
      "source": [
        "# 읽은 라인을 한 줄로 만들기\n",
        "one_line = \"\".join(lines)\n",
        "one_line = regex.sub(mask, '', one_line)\n",
        "\n",
        "slash_line = komoran.get_list(one_line)"
      ],
      "metadata": {
        "id": "B7I_sqsRUdAn"
      },
      "execution_count": null,
      "outputs": []
    },
    {
      "cell_type": "code",
      "source": [
        "#%% (단어,품사) 형태로 만들기\n",
        "tagged_list = []\n",
        "for i in range(len(slash_line)):\n",
        "    a = str(slash_line[i]).split('/')\n",
        "    tagged_list.append(a)\n",
        "\n",
        "for j in tagged_list:\n",
        "    if len(j) != 2:\n",
        "        tagged_list.remove(j)"
      ],
      "metadata": {
        "id": "9IgvDOTAiB1h"
      },
      "execution_count": null,
      "outputs": []
    },
    {
      "cell_type": "code",
      "source": [
        "# #%% STOPWORDS LIST 생성\n",
        "# f = open(\"stopwords.txt\", 'r', encoding=\"euc-kr\")\n",
        "# lines = f.readlines()\n",
        "# f.close()\n",
        "\n",
        "# stop_words = []\n",
        "# for i in range(len(lines)):\n",
        "#     stop_words.append(regex.sub(mask, '', lines[i]))\n",
        "\n",
        "# print(stop_words)\n",
        "\n",
        "# #stopwords 제거\n",
        "# sw_removed_list = []\n",
        "# for i in range(len(tagged_list)):\n",
        "#     if tagged_list[i][0] not in stop_words:\n",
        "#         sw_removed_list.append(tagged_list[i])"
      ],
      "metadata": {
        "id": "awwUZp3ciBzW"
      },
      "execution_count": null,
      "outputs": []
    },
    {
      "cell_type": "code",
      "source": [
        "#%% 분석 대상에 포함된 품사 단어만 추출\n",
        "tag_list = ['NNG', 'NNP', 'VA', 'XR']\n",
        "\n",
        "target_list = []\n",
        "\n",
        "for k in range(len(tagged_list)):\n",
        "    if tagged_list[k][1] in tag_list:\n",
        "        target_list.append(tagged_list[k])\n",
        "    else:\n",
        "        continue"
      ],
      "metadata": {
        "id": "KBDpUA_MiBwv"
      },
      "execution_count": null,
      "outputs": []
    },
    {
      "cell_type": "code",
      "source": [
        "#%% 품사를 제거하고 단어만 남김\n",
        "word_list = []\n",
        "for i in range(len(target_list)):\n",
        "    word_list.append(target_list[i][0])\n",
        "\n",
        "print(word_list)"
      ],
      "metadata": {
        "colab": {
          "base_uri": "https://localhost:8080/"
        },
        "id": "TcSuuvBoUelT",
        "outputId": "754c9e1f-3d66-4256-98b8-47c08c711a47"
      },
      "execution_count": null,
      "outputs": [
        {
          "output_type": "stream",
          "name": "stdout",
          "text": [
            "['처음', '경험', '로봇', '배달', '생소', '자세', '설명', '프로세스', '정보', '팝업', '안내', '형태', '좋', '생각', '로봇', '배달', '안내', '앱', '카카오', '수신', '좋', '로봇', '도착', '안내', '전화', '전화', '음식', '상태', '안', '좋', '같', '반품', '요청', '애매', '수령', '완료', '로봇', '터치', '패드']\n"
          ]
        }
      ]
    },
    {
      "cell_type": "code",
      "source": [
        "# 감성 단어 아닌 한글자 단어 빼기 & stopwords 빼기 & VV 중에 감성단어 아닌 VV 찾기\n",
        "word_list = [i for i in word_list if (len(i) > 1 or i in emo_word) and i != '로봇' ]"
      ],
      "metadata": {
        "id": "FFCSQ8A-mAvT"
      },
      "execution_count": null,
      "outputs": []
    },
    {
      "cell_type": "code",
      "source": [
        "## stopwords로 로봇, 대하"
      ],
      "metadata": {
        "id": "28IHMgP7tz7L"
      },
      "execution_count": null,
      "outputs": []
    },
    {
      "cell_type": "code",
      "source": [
        "#%% 워드 클라우드 생성\n",
        "font_path = '/usr/share/fonts/truetype/nanum/NanumBarunGothic.ttf'\n",
        "wordcloud = WordCloud(\n",
        "    font_path = font_path,\n",
        "    width = 800,\n",
        "    height = 800,\n",
        "    background_color=\"white\"\n",
        ")\n",
        "\n",
        "count = Counter(word_list)\n",
        "wordcloud = wordcloud.generate_from_frequencies(count)\n",
        "array = wordcloud.to_array()\n",
        "\n",
        "plt.rc('font', family=font_path)\n",
        "fig = plt.figure(figsize=(10, 10))\n",
        "plt.imshow(array, interpolation=\"bilinear\")\n",
        "plt.show()"
      ],
      "metadata": {
        "colab": {
          "base_uri": "https://localhost:8080/",
          "height": 595
        },
        "id": "JSYp1zs9UUOz",
        "outputId": "cb39acb0-1edc-4bfb-e80e-caddf2c15797"
      },
      "execution_count": null,
      "outputs": [
        {
          "output_type": "display_data",
          "data": {
            "text/plain": [
              "<Figure size 720x720 with 1 Axes>"
            ],
            "image/png": "[encoded data removed]"
          },
          "metadata": {
            "needs_background": "light"
          }
        }
      ]
    },
    {
      "cell_type": "code",
      "source": [
        "emo_df"
      ],
      "metadata": {
        "colab": {
          "base_uri": "https://localhost:8080/",
          "height": 457
        },
        "id": "H9mi5NL-mUJb",
        "outputId": "03471ed1-0d07-4f93-8ed5-a9f1fb1066fc"
      },
      "execution_count": null,
      "outputs": [
        {
          "output_type": "execute_result",
          "data": {
            "text/plain": [
              "                                              emo_sen              emo_word\n",
              "0    대연각은 로봇과 연계 배송을 하는지 기존 주문 프로세스와 다르게 라이더 배정 및 ...              [기존, 다르]\n",
              "1    로봇이 어떻게 배송을 해주는 것인지에 대해 자세한 설명이 없어 주문이 잘 된 것인...   [없, 기존, 없어, 우려, 모호]\n",
              "2    우선 처음 경험하는 로봇 배달이었기에 생소하여 이에 대한 자세한 설명과 프로세스에...        [좋, 경험, 안, 생소]\n",
              "3   라이더가 물품을 픽업 후 배달을 시작했다는 알림을 받았고, 기존 주문 배달 프로세스...   [가능, 불편, 기존, 느끼, 크]\n",
              "4    하지만 로봇 배송이 시작되었는지 로봇의 배송 도착 안내에 대한 문자를 받았을 때,...               [불편, 안]\n",
              "5    라이더가 물품을 픽업하는 부분에 대해서는 카카오톡으로 알림이 오고 이것이 요기요 ...                   [안]\n",
              "6       로봇 배달에 대한 안내 또한 요기요 앱 혹은 카카오톡으로 수신받으면 좋을 듯 하다                [좋, 안]\n",
              "7    또한 로봇의 도착 소요시간과 이동경로 확인이 어려워 라이더가 배달하는 프로세스보다...                  [불편]\n",
              "8    로봇의 대략적인 도착시간 또한 안내 받지 못하였기 때문에 언제쯤 도착할 것이라는 ...                   [안]\n",
              "9    로봇이 도착했다고 안내 전화가 왔었는데 내가 전화를 받지 못하여 음식 상태가 안좋...        [좋, 요청, 안, 애매]\n",
              "10                    주문 물품 및 음식에 대한 반품 기준이 필요할 듯 하였다                  [필요]\n",
              "11         과실이 누구인지가 애매하여 이러한 부분은 명확한 기준이 필요할 것으로 보인다              [필요, 애매]\n",
              "12   또한, 로봇 배송의 이점은 배달 소요시간인 듯 한데, 소요시간이 오히려 오래걸린 ...  [필요, 서비스, 정확, 안, 생소]"
            ],
            "text/html": [
              "\n",
              "  <div id=\"df-210024d8-b4e8-427b-a80e-dc2c907473ba\">\n",
              "    <div class=\"colab-df-container\">\n",
              "      <div>\n",
              "<style scoped>\n",
              "    .dataframe tbody tr th:only-of-type {\n",
              "        vertical-align: middle;\n",
              "    }\n",
              "\n",
              "    .dataframe tbody tr th {\n",
              "        vertical-align: top;\n",
              "    }\n",
              "\n",
              "    .dataframe thead th {\n",
              "        text-align: right;\n",
              "    }\n",
              "</style>\n",
              "<table border=\"1\" class=\"dataframe\">\n",
              "  <thead>\n",
              "    <tr style=\"text-align: right;\">\n",
              "      <th></th>\n",
              "      <th>emo_sen</th>\n",
              "      <th>emo_word</th>\n",
              "    </tr>\n",
              "  </thead>\n",
              "  <tbody>\n",
              "    <tr>\n",
              "      <th>0</th>\n",
              "      <td>대연각은 로봇과 연계 배송을 하는지 기존 주문 프로세스와 다르게 라이더 배정 및 ...</td>\n",
              "      <td>[기존, 다르]</td>\n",
              "    </tr>\n",
              "    <tr>\n",
              "      <th>1</th>\n",
              "      <td>로봇이 어떻게 배송을 해주는 것인지에 대해 자세한 설명이 없어 주문이 잘 된 것인...</td>\n",
              "      <td>[없, 기존, 없어, 우려, 모호]</td>\n",
              "    </tr>\n",
              "    <tr>\n",
              "      <th>2</th>\n",
              "      <td>우선 처음 경험하는 로봇 배달이었기에 생소하여 이에 대한 자세한 설명과 프로세스에...</td>\n",
              "      <td>[좋, 경험, 안, 생소]</td>\n",
              "    </tr>\n",
              "    <tr>\n",
              "      <th>3</th>\n",
              "      <td>라이더가 물품을 픽업 후 배달을 시작했다는 알림을 받았고, 기존 주문 배달 프로세스...</td>\n",
              "      <td>[가능, 불편, 기존, 느끼, 크]</td>\n",
              "    </tr>\n",
              "    <tr>\n",
              "      <th>4</th>\n",
              "      <td>하지만 로봇 배송이 시작되었는지 로봇의 배송 도착 안내에 대한 문자를 받았을 때,...</td>\n",
              "      <td>[불편, 안]</td>\n",
              "    </tr>\n",
              "    <tr>\n",
              "      <th>5</th>\n",
              "      <td>라이더가 물품을 픽업하는 부분에 대해서는 카카오톡으로 알림이 오고 이것이 요기요 ...</td>\n",
              "      <td>[안]</td>\n",
              "    </tr>\n",
              "    <tr>\n",
              "      <th>6</th>\n",
              "      <td>로봇 배달에 대한 안내 또한 요기요 앱 혹은 카카오톡으로 수신받으면 좋을 듯 하다</td>\n",
              "      <td>[좋, 안]</td>\n",
              "    </tr>\n",
              "    <tr>\n",
              "      <th>7</th>\n",
              "      <td>또한 로봇의 도착 소요시간과 이동경로 확인이 어려워 라이더가 배달하는 프로세스보다...</td>\n",
              "      <td>[불편]</td>\n",
              "    </tr>\n",
              "    <tr>\n",
              "      <th>8</th>\n",
              "      <td>로봇의 대략적인 도착시간 또한 안내 받지 못하였기 때문에 언제쯤 도착할 것이라는 ...</td>\n",
              "      <td>[안]</td>\n",
              "    </tr>\n",
              "    <tr>\n",
              "      <th>9</th>\n",
              "      <td>로봇이 도착했다고 안내 전화가 왔었는데 내가 전화를 받지 못하여 음식 상태가 안좋...</td>\n",
              "      <td>[좋, 요청, 안, 애매]</td>\n",
              "    </tr>\n",
              "    <tr>\n",
              "      <th>10</th>\n",
              "      <td>주문 물품 및 음식에 대한 반품 기준이 필요할 듯 하였다</td>\n",
              "      <td>[필요]</td>\n",
              "    </tr>\n",
              "    <tr>\n",
              "      <th>11</th>\n",
              "      <td>과실이 누구인지가 애매하여 이러한 부분은 명확한 기준이 필요할 것으로 보인다</td>\n",
              "      <td>[필요, 애매]</td>\n",
              "    </tr>\n",
              "    <tr>\n",
              "      <th>12</th>\n",
              "      <td>또한, 로봇 배송의 이점은 배달 소요시간인 듯 한데, 소요시간이 오히려 오래걸린 ...</td>\n",
              "      <td>[필요, 서비스, 정확, 안, 생소]</td>\n",
              "    </tr>\n",
              "  </tbody>\n",
              "</table>\n",
              "</div>\n",
              "      <button class=\"colab-df-convert\" onclick=\"convertToInteractive('df-210024d8-b4e8-427b-a80e-dc2c907473ba')\"\n",
              "              title=\"Convert this dataframe to an interactive table.\"\n",
              "              style=\"display:none;\">\n",
              "        \n",
              "  <svg xmlns=\"http://www.w3.org/2000/svg\" height=\"24px\"viewBox=\"0 0 24 24\"\n",
              "       width=\"24px\">\n",
              "    <path d=\"M0 0h24v24H0V0z\" fill=\"none\"/>\n",
              "    <path d=\"M18.56 5.44l.94 2.06.94-2.06 2.06-.94-2.06-.94-.94-2.06-.94 2.06-2.06.94zm-11 1L8.5 8.5l.94-2.06 2.06-.94-2.06-.94L8.5 2.5l-.94 2.06-2.06.94zm10 10l.94 2.06.94-2.06 2.06-.94-2.06-.94-.94-2.06-.94 2.06-2.06.94z\"/><path d=\"M17.41 7.96l-1.37-1.37c-.4-.4-.92-.59-1.43-.59-.52 0-1.04.2-1.43.59L10.3 9.45l-7.72 7.72c-.78.78-.78 2.05 0 2.83L4 21.41c.39.39.9.59 1.41.59.51 0 1.02-.2 1.41-.59l7.78-7.78 2.81-2.81c.8-.78.8-2.07 0-2.86zM5.41 20L4 18.59l7.72-7.72 1.47 1.35L5.41 20z\"/>\n",
              "  </svg>\n",
              "      </button>\n",
              "      \n",
              "  <style>\n",
              "    .colab-df-container {\n",
              "      display:flex;\n",
              "      flex-wrap:wrap;\n",
              "      gap: 12px;\n",
              "    }\n",
              "\n",
              "    .colab-df-convert {\n",
              "      background-color: #E8F0FE;\n",
              "      border: none;\n",
              "      border-radius: 50%;\n",
              "      cursor: pointer;\n",
              "      display: none;\n",
              "      fill: #1967D2;\n",
              "      height: 32px;\n",
              "      padding: 0 0 0 0;\n",
              "      width: 32px;\n",
              "    }\n",
              "\n",
              "    .colab-df-convert:hover {\n",
              "      background-color: #E2EBFA;\n",
              "      box-shadow: 0px 1px 2px rgba(60, 64, 67, 0.3), 0px 1px 3px 1px rgba(60, 64, 67, 0.15);\n",
              "      fill: #174EA6;\n",
              "    }\n",
              "\n",
              "    [theme=dark] .colab-df-convert {\n",
              "      background-color: #3B4455;\n",
              "      fill: #D2E3FC;\n",
              "    }\n",
              "\n",
              "    [theme=dark] .colab-df-convert:hover {\n",
              "      background-color: #434B5C;\n",
              "      box-shadow: 0px 1px 3px 1px rgba(0, 0, 0, 0.15);\n",
              "      filter: drop-shadow(0px 1px 2px rgba(0, 0, 0, 0.3));\n",
              "      fill: #FFFFFF;\n",
              "    }\n",
              "  </style>\n",
              "\n",
              "      <script>\n",
              "        const buttonEl =\n",
              "          document.querySelector('#df-210024d8-b4e8-427b-a80e-dc2c907473ba button.colab-df-convert');\n",
              "        buttonEl.style.display =\n",
              "          google.colab.kernel.accessAllowed ? 'block' : 'none';\n",
              "\n",
              "        async function convertToInteractive(key) {\n",
              "          const element = document.querySelector('#df-210024d8-b4e8-427b-a80e-dc2c907473ba');\n",
              "          const dataTable =\n",
              "            await google.colab.kernel.invokeFunction('convertToInteractive',\n",
              "                                                     [key], {});\n",
              "          if (!dataTable) return;\n",
              "\n",
              "          const docLinkHtml = 'Like what you see? Visit the ' +\n",
              "            '<a target=\"_blank\" href=https://colab.research.google.com/notebooks/data_table.ipynb>data table notebook</a>'\n",
              "            + ' to learn more about interactive tables.';\n",
              "          element.innerHTML = '';\n",
              "          dataTable['output_type'] = 'display_data';\n",
              "          await google.colab.output.renderOutput(dataTable, element);\n",
              "          const docLink = document.createElement('div');\n",
              "          docLink.innerHTML = docLinkHtml;\n",
              "          element.appendChild(docLink);\n",
              "        }\n",
              "      </script>\n",
              "    </div>\n",
              "  </div>\n",
              "  "
            ]
          },
          "metadata": {},
          "execution_count": 56
        }
      ]
    },
    {
      "cell_type": "code",
      "source": [
        "emo_df['emo_sen'][4]"
      ],
      "metadata": {
        "colab": {
          "base_uri": "https://localhost:8080/",
          "height": 35
        },
        "id": "XPPJfgGYnzZ5",
        "outputId": "55401ae1-ee9c-46cf-df52-7367c6475168"
      },
      "execution_count": null,
      "outputs": [
        {
          "output_type": "execute_result",
          "data": {
            "text/plain": [
              "' 하지만 로봇 배송이 시작되었는지 로봇의 배송 도착 안내에 대한 문자를 받았을 때, 조금 불편함을 느꼈다'"
            ],
            "application/vnd.google.colaboratory.intrinsic+json": {
              "type": "string"
            }
          },
          "metadata": {},
          "execution_count": 62
        }
      ]
    },
    {
      "cell_type": "code",
      "source": [
        "komoran.get_list('좋았었다')"
      ],
      "metadata": {
        "colab": {
          "base_uri": "https://localhost:8080/"
        },
        "id": "2TNpqfEEpXj8",
        "outputId": "c0e6ead5-f3bf-4e56-9a48-8eda2501ec38"
      },
      "execution_count": null,
      "outputs": [
        {
          "output_type": "execute_result",
          "data": {
            "text/plain": [
              "[좋/VA, 았었/EP, 다/EC]"
            ]
          },
          "metadata": {},
          "execution_count": 28
        }
      ]
    },
    {
      "cell_type": "code",
      "source": [
        "# 안 좋, 좋지 않, 안좋, 좋지않, 좋겠, 좋다, 좋았다, 좋았었다. 좋은,\n"
      ],
      "metadata": {
        "id": "H9i7vKUpn8d9"
      },
      "execution_count": null,
      "outputs": []
    }
  ]
}